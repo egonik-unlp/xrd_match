{
 "cells": [
  {
   "cell_type": "code",
   "execution_count": 2,
   "metadata": {},
   "outputs": [
    {
     "data": {
      "text/plain": [
       "Plots.GRBackend()"
      ]
     },
     "execution_count": 2,
     "metadata": {},
     "output_type": "execute_result"
    }
   ],
   "source": [
    "using Plots, JSON, Peaks, OrderedCollections, DataFrames, StatsPlots, LaTeXStrings, StatsBase, MultivariateStats, Clustering, CSV, Distances, PGFPlotsX\n",
    "gr()\n",
    "# pgfplotsx()"
   ]
  },
  {
   "cell_type": "code",
   "execution_count": 3,
   "metadata": {},
   "outputs": [],
   "source": [
    "master_df = CSV.File(\"2019-07-01-FSR-public_7061.csv\") |> DataFrame;"
   ]
  },
  {
   "cell_type": "code",
   "execution_count": 4,
   "metadata": {},
   "outputs": [],
   "source": [
    "data = JSON.parsefile(\"patterns_540.json\", \n",
    "    dicttype=Dict,\n",
    "    inttype=Int64,\n",
    "    );"
   ]
  },
  {
   "cell_type": "code",
   "execution_count": 5,
   "metadata": {},
   "outputs": [
    {
     "data": {
      "text/plain": [
       "([4.03, 4.056, 4.082, 4.108, 4.134, 4.16, 4.186, 4.212, 4.238, 4.264  …  39.728, 39.754, 39.78, 39.806, 39.832, 39.858, 39.884, 39.91, 39.936, 39.962], [0.14756460269550806, 0.07593756420866207, 0.027872626154214694, 0.003647348112032414, -0.008179140405098737, -0.007941941816776639, -0.014447410095475977, -0.00993850187553682, -0.0038827067287750417, 0.0  …  -0.006898650506501704, -0.005080942691783007, -0.005544639228656973, -0.0067733170466287304, -0.005287326778580806, -0.0042312153720347224, -0.0030532485401810142, -0.002616568878948663, -0.003175041857728548, 0.0])"
      ]
     },
     "execution_count": 5,
     "metadata": {},
     "output_type": "execute_result"
    }
   ],
   "source": [
    "tgt = CSV.File(\"xe.dat\") |> DataFrame\n",
    "data[\"target.cif\"] = tgt.theta,tgt.int"
   ]
  },
  {
   "cell_type": "code",
   "execution_count": 29,
   "metadata": {},
   "outputs": [],
   "source": [
    "\n",
    "len = 50\n",
    "loc_valor = map(data |> values) do (x,y)\n",
    "    pks, vals = findmaxima(y)\n",
    "    pks, proms = peakproms(pks, y)\n",
    "    # rt = sort(vals, rev = :true) |> vals -> length(vals) > len ? vals[begin:len] : nothing\n",
    "    rt = sort(proms, rev = :true) |> proms -> length(proms) > len ? proms[begin:len] : nothing #Ordeno por promincencia\n",
    "    rtl = isnothing(rt) ? 0 : length(rt)\n",
    "    rtl > 0 ? (x[begin:rtl], rt) : nothing #Retorno nothing si no hay numero suficiente de picos\n",
    "end;"
   ]
  },
  {
   "cell_type": "code",
   "execution_count": 30,
   "metadata": {},
   "outputs": [
    {
     "name": "stdout",
     "output_type": "stream",
     "text": [
      "6619\n"
     ]
    }
   ],
   "source": [
    "idx = findall(!isnothing, loc_valor);\n",
    "loc_valor = loc_valor[idx];\n",
    "labels = (data |> keys |> collect)[idx];\n",
    "println(length(loc_valor))"
   ]
  },
  {
   "cell_type": "code",
   "execution_count": 31,
   "metadata": {},
   "outputs": [],
   "source": [
    "@assert \"target.cif\" ∈ labels"
   ]
  },
  {
   "cell_type": "code",
   "execution_count": 32,
   "metadata": {},
   "outputs": [
    {
     "data": {
      "text/plain": [
       "1743"
      ]
     },
     "execution_count": 32,
     "metadata": {},
     "output_type": "execute_result"
    }
   ],
   "source": [
    "key = keys(data) |> collect |> sample\n",
    "key = \"target.cif\" \n",
    "x,y = data[key]\n",
    "pos = findall(x -> x == key, data |> keys |> collect ) |> first\n",
    "# \n",
    "# df = DataFrame(x = x, y=y)\n",
    "# p = @df df Plots.plot(:x, :y,\n",
    "    # title=key,\n",
    "    # xlabel=L\"2\\theta\",\n",
    "    # ylabel=\"Intensity\",\n",
    "# ) \n",
    "# \n",
    "# locs = loc_valor[pos][1]\n",
    "# \n",
    "# for pk ∈ locs\n",
    "    # vline!([pk], label = :false, color = :green)\n",
    "# end\n",
    "# p"
   ]
  },
  {
   "cell_type": "code",
   "execution_count": 33,
   "metadata": {},
   "outputs": [],
   "source": [
    "data_pc = map(loc_valor) do (x,y)\n",
    "    vcat(x,y)' |> Array{Float64}\n",
    "end #|> x -> vcat(x...)\n",
    "pca_raw_data = vcat(data_pc...) ;\n"
   ]
  },
  {
   "cell_type": "code",
   "execution_count": 34,
   "metadata": {},
   "outputs": [
    {
     "data": {
      "text/plain": [
       "PCA(indim = 100, outdim = 4, principalratio = 0.9773745101855209)\n",
       "\n",
       "Pattern matrix (unstandardized loadings):\n",
       "──────────────────────────────────────────────────────\n",
       "            PC1        PC2            PC3          PC4\n",
       "──────────────────────────────────────────────────────\n",
       "1      0.97561    0.843066    0.152732      0.198899\n",
       "2      1.40557    1.10394     0.230913      0.287072\n",
       "3      1.75044    1.31012     0.20774       0.242953\n",
       "4      1.9986     1.48775     0.177895      0.22099\n",
       "5      2.26959    1.66754     0.150567      0.241895\n",
       "6      2.4454     1.80716     0.128433      0.206289\n",
       "7      2.62495    1.92553     0.115422      0.19371\n",
       "8      2.78051    2.04091     0.0970458     0.206463\n",
       "9      2.92542    2.16147     0.0955265     0.195714\n",
       "10     3.05182    2.2767      0.090576      0.184702\n",
       "11     3.22331    2.41137     0.0941625     0.14049\n",
       "12     3.3641     2.50893     0.0886864     0.127386\n",
       "13     3.47438    2.59496     0.0701881     0.125403\n",
       "14     3.57315    2.67135     0.0667879     0.11344\n",
       "15     3.66872    2.76263     0.0625634     0.102002\n",
       "16     3.77564    2.83657     0.0612621     0.105973\n",
       "17     3.86151    2.89893     0.0392022     0.0893249\n",
       "18     3.9433     2.97407     0.0391773     0.0724277\n",
       "19     4.02917    3.0402      0.0349131     0.0692718\n",
       "20     4.10644    3.12073     0.021568      0.0643798\n",
       "21     4.20585    3.20393     0.0197305     0.0586861\n",
       "22     4.29239    3.27763     0.00920447    0.0405162\n",
       "23     4.37992    3.3449      0.00746803    0.0322928\n",
       "24     4.47655    3.41505    -0.000191667   0.0356449\n",
       "25     4.55817    3.4718     -0.00798255    0.0236288\n",
       "26     4.61634    3.53726    -0.0125278     0.00508407\n",
       "27     4.68389    3.59855    -0.0191517     0.00241364\n",
       "28     4.74885    3.64905    -0.0254626    -0.00376076\n",
       "29     4.82671    3.70795    -0.0249747    -0.0171397\n",
       "30     4.91194    3.75611    -0.0272235    -0.0181695\n",
       "31     4.97704    3.81562    -0.0327279    -0.0243112\n",
       "32     5.03305    3.86457    -0.036134     -0.0315622\n",
       "33     5.11786    3.9396     -0.046205     -0.0461334\n",
       "34     5.17908    3.99298    -0.0545142    -0.0500207\n",
       "35     5.23813    4.0391     -0.0605944    -0.0553731\n",
       "36     5.30748    4.10223    -0.0647022    -0.0628082\n",
       "37     5.37152    4.15515    -0.0755145    -0.0610785\n",
       "38     5.44706    4.20269    -0.0795654    -0.0641371\n",
       "39     5.50797    4.25404    -0.0870113    -0.0913556\n",
       "40     5.56299    4.29939    -0.0955205    -0.0921764\n",
       "41     5.61746    4.34812    -0.100372     -0.104108\n",
       "42     5.67053    4.39559    -0.105733     -0.109681\n",
       "43     5.72863    4.44787    -0.110449     -0.123264\n",
       "44     5.78435    4.48813    -0.112767     -0.124628\n",
       "45     5.85047    4.53236    -0.115779     -0.129485\n",
       "46     5.91723    4.57788    -0.120257     -0.138071\n",
       "47     5.978      4.62718    -0.128244     -0.148939\n",
       "48     6.03494    4.66872    -0.128134     -0.153925\n",
       "49     6.09817    4.72346    -0.131478     -0.162471\n",
       "50     6.15846    4.76791    -0.134835     -0.166959\n",
       "51   -26.7147    18.9416    -12.7541        1.12311\n",
       "52   -14.489     10.4566     10.2847       -8.4229\n",
       "53    -8.41612    5.90542     8.10839       1.84931\n",
       "54    -5.69381    4.15624     6.09242       3.13726\n",
       "55    -4.32935    3.21377     4.87059       2.94748\n",
       "56    -3.40199    2.62591     3.90776       2.58923\n",
       "57    -2.75875    2.167       3.19455       2.19772\n",
       "58    -2.31757    1.86412     2.71729       1.92952\n",
       "59    -1.97912    1.62962     2.34469       1.68803\n",
       "60    -1.7507     1.45815     2.10922       1.53317\n",
       "61    -1.56723    1.31853     1.90451       1.39284\n",
       "62    -1.42023    1.19058     1.73642       1.2701\n",
       "63    -1.29131    1.08435     1.58295       1.15562\n",
       "64    -1.19437    0.993995    1.44709       1.05838\n",
       "65    -1.1073     0.922434    1.34117       0.974681\n",
       "66    -1.02434    0.859683    1.24648       0.904761\n",
       "67    -0.95691    0.804529    1.17251       0.848224\n",
       "68    -0.897117   0.752986    1.10122       0.796323\n",
       "69    -0.849094   0.712515    1.04379       0.75436\n",
       "70    -0.803135   0.673805    0.987946      0.717592\n",
       "71    -0.764741   0.640561    0.937524      0.681674\n",
       "72    -0.730121   0.60959     0.891118      0.648249\n",
       "73    -0.701745   0.583461    0.854732      0.621562\n",
       "74    -0.674671   0.557179    0.821512      0.596007\n",
       "75    -0.649383   0.531236    0.789677      0.572793\n",
       "76    -0.626446   0.508861    0.760187      0.553715\n",
       "77    -0.603777   0.488546    0.733192      0.531861\n",
       "78    -0.582833   0.470292    0.706665      0.515301\n",
       "79    -0.563645   0.452542    0.683997      0.499256\n",
       "80    -0.545998   0.435275    0.660134      0.483969\n",
       "81    -0.530596   0.419363    0.639829      0.469133\n",
       "82    -0.515459   0.404642    0.620344      0.455333\n",
       "83    -0.501527   0.389209    0.601074      0.442402\n",
       "84    -0.487686   0.375118    0.583057      0.427777\n",
       "85    -0.474285   0.361256    0.564721      0.415386\n",
       "86    -0.46308    0.348995    0.548863      0.405719\n",
       "87    -0.451842   0.337434    0.534744      0.394942\n",
       "88    -0.442398   0.326615    0.520834      0.384975\n",
       "89    -0.432513   0.316339    0.506411      0.375159\n",
       "90    -0.423536   0.306021    0.494391      0.366933\n",
       "91    -0.414727   0.296388    0.482793      0.358622\n",
       "92    -0.406576   0.286852    0.471687      0.351298\n",
       "93    -0.39774    0.278021    0.459993      0.342821\n",
       "94    -0.390402   0.270414    0.45105       0.337193\n",
       "95    -0.382798   0.261051    0.439834      0.329432\n",
       "96    -0.375615   0.252542    0.429114      0.322087\n",
       "97    -0.369337   0.244895    0.420528      0.315099\n",
       "98    -0.362675   0.23783     0.41083       0.307894\n",
       "99    -0.357263   0.231092    0.402889      0.302132\n",
       "100   -0.351792   0.2245      0.394688      0.296091\n",
       "──────────────────────────────────────────────────────\n",
       "\n",
       "Importance of components:\n",
       "────────────────────────────────────────────────────────────────────────────\n",
       "                                   PC1          PC2         PC3          PC4\n",
       "────────────────────────────────────────────────────────────────────────────\n",
       "SS Loadings (Eigenvalues)  2123.77      1167.92      468.847     131.741\n",
       "Variance explained            0.533291     0.293272    0.11773     0.0330811\n",
       "Cumulative variance           0.533291     0.826563    0.944293    0.977375\n",
       "Proportion explained          0.545636     0.300061    0.120456    0.0338469\n",
       "Cumulative proportion         0.545636     0.845697    0.966153    1.0\n",
       "────────────────────────────────────────────────────────────────────────────"
      ]
     },
     "execution_count": 34,
     "metadata": {},
     "output_type": "execute_result"
    }
   ],
   "source": [
    "M = fit(PCA, pca_raw_data', maxoutdim = 4) "
   ]
  },
  {
   "cell_type": "code",
   "execution_count": 35,
   "metadata": {},
   "outputs": [
    {
     "data": {
      "text/plain": [
       "4×6619 Matrix{Float64}:\n",
       " 107.62     -47.7369  95.8376   86.1547    …  -49.3776   -48.5536   -23.2863\n",
       "  70.7388    32.5896  17.4879    6.26651      -26.6644    38.6341    -6.77023\n",
       " -22.1569   -21.4667   2.26346  -5.26265       35.5399   -45.6371    44.3646\n",
       "   1.15991   16.939   -1.79546   0.970245       9.62613    3.13043    7.4305"
      ]
     },
     "execution_count": 35,
     "metadata": {},
     "output_type": "execute_result"
    }
   ],
   "source": [
    "reconstructed = predict(M, pca_raw_data')"
   ]
  },
  {
   "cell_type": "code",
   "execution_count": 36,
   "metadata": {},
   "outputs": [
    {
     "name": "stdout",
     "output_type": "stream",
     "text": [
      "  Iters               objv        objv-change | affected \n",
      "-------------------------------------------------------------\n",
      "      0       7.955309e+06\n",
      "      1       5.376741e+06      -2.578568e+06 |       10\n",
      "      2       4.990688e+06      -3.860525e+05 |       10\n",
      "      3       4.880497e+06      -1.101919e+05 |       10\n",
      "      4       4.816402e+06      -6.409446e+04 |       10\n",
      "      5       4.765614e+06      -5.078844e+04 |       10\n",
      "      6       4.723247e+06      -4.236671e+04 |       10\n",
      "      7       4.695339e+06      -2.790790e+04 |        9\n",
      "      8       4.681254e+06      -1.408509e+04 |       10\n",
      "      9       4.673943e+06      -7.311118e+03 |       10\n",
      "     10       4.668800e+06      -5.142611e+03 |       10\n",
      "     11       4.665126e+06      -3.674231e+03 |        9\n",
      "     12       4.661421e+06      -3.705412e+03 |        9\n",
      "     13       4.657965e+06      -3.455483e+03 |        8\n",
      "     14       4.654543e+06      -3.422447e+03 |        7\n",
      "     15       4.652633e+06      -1.909342e+03 |        9\n",
      "     16       4.651070e+06      -1.562997e+03 |        8\n",
      "     17       4.649689e+06      -1.380881e+03 |        8\n",
      "     18       4.648280e+06      -1.409126e+03 |        8\n",
      "     19       4.647179e+06      -1.101405e+03 |        8\n",
      "     20       4.646504e+06      -6.746692e+02 |        8\n",
      "     21       4.646092e+06      -4.122483e+02 |        8\n",
      "     22       4.645837e+06      -2.545284e+02 |        7\n",
      "     23       4.645704e+06      -1.335386e+02 |        5\n",
      "     24       4.645667e+06      -3.720390e+01 |        6\n",
      "     25       4.645625e+06      -4.155788e+01 |        4\n",
      "     26       4.645609e+06      -1.608937e+01 |        3\n",
      "     27       4.645596e+06      -1.290800e+01 |        4\n",
      "     28       4.645547e+06      -4.886254e+01 |        4\n",
      "     29       4.645513e+06      -3.473422e+01 |        4\n",
      "     30       4.645489e+06      -2.324516e+01 |        3\n",
      "     31       4.645468e+06      -2.151680e+01 |        2\n",
      "     32       4.645464e+06      -4.258041e+00 |        2\n",
      "     33       4.645456e+06      -7.384001e+00 |        0\n",
      "     34       4.645456e+06       0.000000e+00 |        0\n",
      "K-means converged with 34 iterations (objv = 4.64545613649523e6)\n"
     ]
    },
    {
     "data": {
      "text/plain": [
       "KmeansResult{Matrix{Float64}, Float64, Int64}([-11.401447808170914 9.359330724023266 … -59.9652248626699 33.56937713315612; 16.7346709026752 -54.216544468800876 … 4.232388140841427 61.09905848212459; 24.637602624642195 -7.10693752724702 … -8.83108253250619 17.55915615793277; 4.151627037534456 -1.0130685652689224 … -9.947283802013315 -0.3275332711205928], [7, 6, 7, 7, 7, 3, 3, 3, 8, 4  …  3, 1, 5, 5, 10, 1, 6, 5, 8, 5], [3135.5430297233142, 1093.9888015808592, 208.06520471969634, 254.82711893690066, 817.1328803296637, 569.2472759967708, 237.92733835484472, 52.3215083258861, 2314.2563279905844, 281.6810665789335  …  402.88185723195954, 384.9535663050865, 1200.4408645929425, 236.72787637831516, 412.034172032043, 262.42765406285525, 251.54303856845854, 268.8854645621259, 1030.1300207057284, 863.0722545822036], [826, 753, 673, 1006, 864, 628, 531, 237, 664, 437], [826, 753, 673, 1006, 864, 628, 531, 237, 664, 437], 4.64545613649523e6, 34, true)"
      ]
     },
     "execution_count": 36,
     "metadata": {},
     "output_type": "execute_result"
    }
   ],
   "source": [
    "R = kmeans(reconstructed, 10, display=:iter)"
   ]
  },
  {
   "cell_type": "code",
   "execution_count": 37,
   "metadata": {},
   "outputs": [
    {
     "data": {
      "text/plain": [
       "4×10 Matrix{Float64}:\n",
       " -11.4014     9.35933   4.88073  …  -76.1594  -59.9652   33.5694\n",
       "  16.7347   -54.2165   -7.73029      31.8536    4.23239  61.0991\n",
       "  24.6376    -7.10694  -8.74583     -51.5508   -8.83108  17.5592\n",
       "   4.15163   -1.01307   1.28597      16.809    -9.94728  -0.327533"
      ]
     },
     "execution_count": 37,
     "metadata": {},
     "output_type": "execute_result"
    }
   ],
   "source": [
    "R.centers"
   ]
  },
  {
   "cell_type": "code",
   "execution_count": 172,
   "metadata": {},
   "outputs": [],
   "source": [
    "p = scatter(reconstructed[1,:], reconstructed[2,:], reconstructed[3,:], marker_z = R.assignments, label = \"Instances\", size = (1920,1080))\n",
    "scatter!([reconstructed[1,pos]],[ reconstructed[2,pos]], [reconstructed[3,pos]], marker_z = R.assignments, markersize = 11, marker=:octagon,color=:blue, label = \"PerMOF\")\n",
    "scatter!(R.centers[1,:], R.centers[2,:], R.centers[3,:], marker = :diamond, markersize = 9, label = \"Centers\")\n",
    "savefig(\"clustels.png\")"
   ]
  },
  {
   "cell_type": "code",
   "execution_count": 38,
   "metadata": {},
   "outputs": [],
   "source": [
    "lbls = [ lbl[begin:end-4] for lbl in labels]\n",
    "mapping = Dict(k => v for (k,v) in zip(lbls,R.assignments));"
   ]
  },
  {
   "cell_type": "code",
   "execution_count": 39,
   "metadata": {},
   "outputs": [
    {
     "name": "stdout",
     "output_type": "stream",
     "text": [
      "La referencia está en el cluster 2\n"
     ]
    }
   ],
   "source": [
    "println(\"La referencia está en el cluster $(R.assignments[pos])\")"
   ]
  },
  {
   "cell_type": "code",
   "execution_count": 40,
   "metadata": {},
   "outputs": [],
   "source": [
    "df_fsr = filter(\n",
    "    x -> x.filename ∈ labels .|> label -> label[begin:end - 4] ,\n",
    "    master_df\n",
    ")\n",
    "df_fsr.\"cluster_assignment\" = map(filename -> mapping[filename], df_fsr.filename);"
   ]
  },
  {
   "cell_type": "code",
   "execution_count": 41,
   "metadata": {},
   "outputs": [],
   "source": [
    "dist = Euclidean()\n",
    "pwdist = pairwise(dist,reconstructed, dims=2)\n",
    "idx10masparecidos = partialsortperm(pwdist[pos,2:end], 1:10); \n"
   ]
  },
  {
   "cell_type": "code",
   "execution_count": 42,
   "metadata": {},
   "outputs": [],
   "source": [
    "idx100masparecidos = partialsortperm(pwdist[pos,2:end], 1:100) \n",
    "los100masconref = hcat(reconstructed[:,idx100masparecidos], reconstructed[:,pos])\n",
    "pw100 = pairwise(dist,los100masconref,dims=2)\n",
    "\n",
    "hc = hclust(pw100)\n",
    "plot(hc, size = (6000,3000))\n",
    "savefig(\"hclust.png\")"
   ]
  },
  {
   "cell_type": "code",
   "execution_count": 43,
   "metadata": {},
   "outputs": [
    {
     "data": {
      "text/plain": [
       "hierarchical_clustering (generic function with 1 method)"
      ]
     },
     "execution_count": 43,
     "metadata": {},
     "output_type": "execute_result"
    }
   ],
   "source": [
    "function hierarchical_clustering(pca_otp::Any, n::Union{Bool,T}, pos_ref::T, labels ) where {T <: Int, S}\n",
    "    dist = Euclidean()\n",
    "    pairwise_distance = pairwise(dist, pca_otp, dims = 2)\n",
    "    if n != :false\n",
    "        indeces = partialsortperm(pairwise_distance[pos_ref,2:end], 1:n)\n",
    "        ipt = hcat(pca_otp[:,indeces], pca_otp[:,pos_ref])\n",
    "        # ipt = pca_otp[:,indeces]\n",
    "        pairwise_distance = pairwise(dist, ipt, dims = 2)\n",
    "        for (n,idx) in enumerate(indeces)\n",
    "            println(\"Indice $n es $(labels[idx])\")\n",
    "        end\n",
    "    end\n",
    "    pos_ref = n + 1\n",
    "    println(\"Ref es el nro $pos_ref\")\n",
    "    hclust(pairwise_distance)\n",
    "end"
   ]
  },
  {
   "cell_type": "code",
   "execution_count": 44,
   "metadata": {},
   "outputs": [
    {
     "name": "stdout",
     "output_type": "stream",
     "text": [
      "Indice 1 es ANUGOG_freeONLY.cif\n",
      "Indice 2 es OKAYIK_freeONLY.cif\n",
      "Indice 3 es VIWLAQ_freeONLY.cif\n",
      "Indice 4 es OLOPOW_freeONLY.cif\n",
      "Indice 5 es GERWIL_charged.cif\n",
      "Indice 6 es HAJMEL_freeONLY.cif\n",
      "Indice 7 es OKIKAV_charged.cif\n",
      "Indice 8 es ISIYUF01_freeONLY.cif\n",
      "Indice 9 es HETZUC_charged.cif\n",
      "Indice 10 es REZJIR_freeONLY.cif\n",
      "Indice 11 es PUZLUS_freeONLY.cif\n",
      "Indice 12 es NISPEL_charged.cif\n",
      "Indice 13 es FOQNIK_freeONLY.cif\n",
      "Indice 14 es IYOVOI_freeONLY.cif\n",
      "Indice 15 es ENEQOF_freeONLY.cif\n",
      "Indice 16 es IFEQIV_SL.cif\n",
      "Indice 17 es PAQDAP_freeONLY.cif\n",
      "Indice 18 es QUSRUT_freeONLY.cif\n",
      "Indice 19 es SOVLEW_freeONLY.cif\n",
      "Indice 20 es LAJLEP_charged.cif\n",
      "Indice 21 es KEYMUY_freeONLY.cif\n",
      "Indice 22 es DUFKAS_freeONLY.cif\n",
      "Indice 23 es LIRFIB_freeONLY.cif\n",
      "Indice 24 es YUBFOR_freeONLY.cif\n",
      "Indice 25 es KOHLIE_freeONLY.cif\n",
      "Indice 26 es MAKFIQ_freeONLY.cif\n",
      "Indice 27 es cm503311x_alf290K_freeONLY.cif\n",
      "Indice 28 es BUSQUC_freeONLY.cif\n",
      "Indice 29 es NAXLII_freeONLY.cif\n",
      "Indice 30 es GEZZAO_freeONLY.cif\n",
      "Ref es el nro 31\n"
     ]
    },
    {
     "data": {
      "image/svg+xml": "<?xml version=\"1.0\" encoding=\"utf-8\"?>\n<svg xmlns=\"http://www.w3.org/2000/svg\" xmlns:xlink=\"http://www.w3.org/1999/xlink\" width=\"960\" height=\"540\" viewBox=\"0 0 3840 2160\">\n<defs>\n  <clipPath id=\"clip510\">\n    <rect x=\"0\" y=\"0\" width=\"3840\" height=\"2160\"/>\n  </clipPath>\n</defs>\n<path clip-path=\"url(#clip510)\" d=\"\nM0 2160 L3840 2160 L3840 0 L0 0  Z\n  \" fill=\"#ffffff\" fill-rule=\"evenodd\" fill-opacity=\"1\"/>\n<defs>\n  <clipPath id=\"clip511\">\n    <rect x=\"768\" y=\"0\" width=\"2689\" height=\"2160\"/>\n  </clipPath>\n</defs>\n<path clip-path=\"url(#clip510)\" d=\"\nM156.253 2046.25 L3792.76 2046.25 L3792.76 47.2441 L156.253 47.2441  Z\n  \" fill=\"#ffffff\" fill-rule=\"evenodd\" fill-opacity=\"1\"/>\n<defs>\n  <clipPath id=\"clip512\">\n    <rect x=\"156\" y=\"47\" width=\"3638\" height=\"2000\"/>\n  </clipPath>\n</defs>\n<polyline clip-path=\"url(#clip510)\" style=\"stroke:#000000; stroke-linecap:butt; stroke-linejoin:round; stroke-width:4; stroke-opacity:1; fill:none\" points=\"\n  156.253,2046.25 3792.76,2046.25 \n  \"/>\n<polyline clip-path=\"url(#clip510)\" style=\"stroke:#ffffff; stroke-linecap:butt; stroke-linejoin:round; stroke-width:4; stroke-opacity:1; fill:none\" points=\"\n  214.906,2046.25 214.906,2027.35 \n  \"/>\n<polyline clip-path=\"url(#clip510)\" style=\"stroke:#ffffff; stroke-linecap:butt; stroke-linejoin:round; stroke-width:4; stroke-opacity:1; fill:none\" points=\"\n  332.213,2046.25 332.213,2027.35 \n  \"/>\n<polyline clip-path=\"url(#clip510)\" style=\"stroke:#ffffff; stroke-linecap:butt; stroke-linejoin:round; stroke-width:4; stroke-opacity:1; fill:none\" points=\"\n  449.519,2046.25 449.519,2027.35 \n  \"/>\n<polyline clip-path=\"url(#clip510)\" style=\"stroke:#ffffff; stroke-linecap:butt; stroke-linejoin:round; stroke-width:4; stroke-opacity:1; fill:none\" points=\"\n  566.826,2046.25 566.826,2027.35 \n  \"/>\n<polyline clip-path=\"url(#clip510)\" style=\"stroke:#ffffff; stroke-linecap:butt; stroke-linejoin:round; stroke-width:4; stroke-opacity:1; fill:none\" points=\"\n  684.132,2046.25 684.132,2027.35 \n  \"/>\n<polyline clip-path=\"url(#clip510)\" style=\"stroke:#ffffff; stroke-linecap:butt; stroke-linejoin:round; stroke-width:4; stroke-opacity:1; fill:none\" points=\"\n  801.439,2046.25 801.439,2027.35 \n  \"/>\n<polyline clip-path=\"url(#clip510)\" style=\"stroke:#ffffff; stroke-linecap:butt; stroke-linejoin:round; stroke-width:4; stroke-opacity:1; fill:none\" points=\"\n  918.745,2046.25 918.745,2027.35 \n  \"/>\n<polyline clip-path=\"url(#clip510)\" style=\"stroke:#ffffff; stroke-linecap:butt; stroke-linejoin:round; stroke-width:4; stroke-opacity:1; fill:none\" points=\"\n  1036.05,2046.25 1036.05,2027.35 \n  \"/>\n<polyline clip-path=\"url(#clip510)\" style=\"stroke:#ffffff; stroke-linecap:butt; stroke-linejoin:round; stroke-width:4; stroke-opacity:1; fill:none\" points=\"\n  1153.36,2046.25 1153.36,2027.35 \n  \"/>\n<polyline clip-path=\"url(#clip510)\" style=\"stroke:#ffffff; stroke-linecap:butt; stroke-linejoin:round; stroke-width:4; stroke-opacity:1; fill:none\" points=\"\n  1270.67,2046.25 1270.67,2027.35 \n  \"/>\n<polyline clip-path=\"url(#clip510)\" style=\"stroke:#ffffff; stroke-linecap:butt; stroke-linejoin:round; stroke-width:4; stroke-opacity:1; fill:none\" points=\"\n  1387.97,2046.25 1387.97,2027.35 \n  \"/>\n<polyline clip-path=\"url(#clip510)\" style=\"stroke:#ffffff; stroke-linecap:butt; stroke-linejoin:round; stroke-width:4; stroke-opacity:1; fill:none\" points=\"\n  1505.28,2046.25 1505.28,2027.35 \n  \"/>\n<polyline clip-path=\"url(#clip510)\" style=\"stroke:#ffffff; stroke-linecap:butt; stroke-linejoin:round; stroke-width:4; stroke-opacity:1; fill:none\" points=\"\n  1622.58,2046.25 1622.58,2027.35 \n  \"/>\n<polyline clip-path=\"url(#clip510)\" style=\"stroke:#ffffff; stroke-linecap:butt; stroke-linejoin:round; stroke-width:4; stroke-opacity:1; fill:none\" points=\"\n  1739.89,2046.25 1739.89,2027.35 \n  \"/>\n<polyline clip-path=\"url(#clip510)\" style=\"stroke:#ffffff; stroke-linecap:butt; stroke-linejoin:round; stroke-width:4; stroke-opacity:1; fill:none\" points=\"\n  1857.2,2046.25 1857.2,2027.35 \n  \"/>\n<polyline clip-path=\"url(#clip510)\" style=\"stroke:#ffffff; stroke-linecap:butt; stroke-linejoin:round; stroke-width:4; stroke-opacity:1; fill:none\" points=\"\n  1974.5,2046.25 1974.5,2027.35 \n  \"/>\n<polyline clip-path=\"url(#clip510)\" style=\"stroke:#ffffff; stroke-linecap:butt; stroke-linejoin:round; stroke-width:4; stroke-opacity:1; fill:none\" points=\"\n  2091.81,2046.25 2091.81,2027.35 \n  \"/>\n<polyline clip-path=\"url(#clip510)\" style=\"stroke:#ffffff; stroke-linecap:butt; stroke-linejoin:round; stroke-width:4; stroke-opacity:1; fill:none\" points=\"\n  2209.12,2046.25 2209.12,2027.35 \n  \"/>\n<polyline clip-path=\"url(#clip510)\" style=\"stroke:#ffffff; stroke-linecap:butt; stroke-linejoin:round; stroke-width:4; stroke-opacity:1; fill:none\" points=\"\n  2326.42,2046.25 2326.42,2027.35 \n  \"/>\n<polyline clip-path=\"url(#clip510)\" style=\"stroke:#ffffff; stroke-linecap:butt; stroke-linejoin:round; stroke-width:4; stroke-opacity:1; fill:none\" points=\"\n  2443.73,2046.25 2443.73,2027.35 \n  \"/>\n<polyline clip-path=\"url(#clip510)\" style=\"stroke:#ffffff; stroke-linecap:butt; stroke-linejoin:round; stroke-width:4; stroke-opacity:1; fill:none\" points=\"\n  2561.04,2046.25 2561.04,2027.35 \n  \"/>\n<polyline clip-path=\"url(#clip510)\" style=\"stroke:#ffffff; stroke-linecap:butt; stroke-linejoin:round; stroke-width:4; stroke-opacity:1; fill:none\" points=\"\n  2678.34,2046.25 2678.34,2027.35 \n  \"/>\n<polyline clip-path=\"url(#clip510)\" style=\"stroke:#ffffff; stroke-linecap:butt; stroke-linejoin:round; stroke-width:4; stroke-opacity:1; fill:none\" points=\"\n  2795.65,2046.25 2795.65,2027.35 \n  \"/>\n<polyline clip-path=\"url(#clip510)\" style=\"stroke:#ffffff; stroke-linecap:butt; stroke-linejoin:round; stroke-width:4; stroke-opacity:1; fill:none\" points=\"\n  2912.96,2046.25 2912.96,2027.35 \n  \"/>\n<polyline clip-path=\"url(#clip510)\" style=\"stroke:#ffffff; stroke-linecap:butt; stroke-linejoin:round; stroke-width:4; stroke-opacity:1; fill:none\" points=\"\n  3030.26,2046.25 3030.26,2027.35 \n  \"/>\n<polyline clip-path=\"url(#clip510)\" style=\"stroke:#ffffff; stroke-linecap:butt; stroke-linejoin:round; stroke-width:4; stroke-opacity:1; fill:none\" points=\"\n  3147.57,2046.25 3147.57,2027.35 \n  \"/>\n<polyline clip-path=\"url(#clip510)\" style=\"stroke:#ffffff; stroke-linecap:butt; stroke-linejoin:round; stroke-width:4; stroke-opacity:1; fill:none\" points=\"\n  3264.88,2046.25 3264.88,2027.35 \n  \"/>\n<polyline clip-path=\"url(#clip510)\" style=\"stroke:#ffffff; stroke-linecap:butt; stroke-linejoin:round; stroke-width:4; stroke-opacity:1; fill:none\" points=\"\n  3382.18,2046.25 3382.18,2027.35 \n  \"/>\n<polyline clip-path=\"url(#clip510)\" style=\"stroke:#ffffff; stroke-linecap:butt; stroke-linejoin:round; stroke-width:4; stroke-opacity:1; fill:none\" points=\"\n  3499.49,2046.25 3499.49,2027.35 \n  \"/>\n<polyline clip-path=\"url(#clip510)\" style=\"stroke:#ffffff; stroke-linecap:butt; stroke-linejoin:round; stroke-width:4; stroke-opacity:1; fill:none\" points=\"\n  3616.8,2046.25 3616.8,2027.35 \n  \"/>\n<polyline clip-path=\"url(#clip510)\" style=\"stroke:#ffffff; stroke-linecap:butt; stroke-linejoin:round; stroke-width:4; stroke-opacity:1; fill:none\" points=\"\n  3734.1,2046.25 3734.1,2027.35 \n  \"/>\n<path clip-path=\"url(#clip510)\" d=\"M194.004 2116.23 L210.323 2116.23 L210.323 2120.17 L188.379 2120.17 L188.379 2116.23 Q191.041 2113.48 195.624 2108.85 Q200.23 2104.2 201.411 2102.85 Q203.656 2100.33 204.536 2098.59 Q205.439 2096.83 205.439 2095.14 Q205.439 2092.39 203.494 2090.65 Q201.573 2088.92 198.471 2088.92 Q196.272 2088.92 193.818 2089.68 Q191.388 2090.45 188.61 2092 L188.61 2087.27 Q191.434 2086.14 193.888 2085.56 Q196.342 2084.98 198.379 2084.98 Q203.749 2084.98 206.943 2087.67 Q210.138 2090.35 210.138 2094.84 Q210.138 2096.97 209.328 2098.89 Q208.541 2100.79 206.434 2103.39 Q205.855 2104.06 202.754 2107.27 Q199.652 2110.47 194.004 2116.23 Z\" fill=\"#000000\" fill-rule=\"evenodd\" fill-opacity=\"1\" /><path clip-path=\"url(#clip510)\" d=\"M234.304 2101.53 Q237.661 2102.25 239.536 2104.52 Q241.434 2106.79 241.434 2110.12 Q241.434 2115.24 237.915 2118.04 Q234.397 2120.84 227.915 2120.84 Q225.739 2120.84 223.425 2120.4 Q221.133 2119.98 218.679 2119.13 L218.679 2114.61 Q220.624 2115.75 222.939 2116.33 Q225.253 2116.9 227.777 2116.9 Q232.175 2116.9 234.466 2115.17 Q236.781 2113.43 236.781 2110.12 Q236.781 2107.07 234.628 2105.35 Q232.499 2103.62 228.679 2103.62 L224.652 2103.62 L224.652 2099.77 L228.864 2099.77 Q232.314 2099.77 234.142 2098.41 Q235.971 2097.02 235.971 2094.43 Q235.971 2091.77 234.073 2090.35 Q232.198 2088.92 228.679 2088.92 Q226.758 2088.92 224.559 2089.33 Q222.36 2089.75 219.721 2090.63 L219.721 2086.46 Q222.383 2085.72 224.698 2085.35 Q227.036 2084.98 229.096 2084.98 Q234.42 2084.98 237.522 2087.41 Q240.624 2089.82 240.624 2093.94 Q240.624 2096.81 238.98 2098.8 Q237.337 2100.77 234.304 2101.53 Z\" fill=\"#000000\" fill-rule=\"evenodd\" fill-opacity=\"1\" /><path clip-path=\"url(#clip510)\" d=\"M311.437 2116.23 L327.757 2116.23 L327.757 2120.17 L305.812 2120.17 L305.812 2116.23 Q308.474 2113.48 313.058 2108.85 Q317.664 2104.2 318.845 2102.85 Q321.09 2100.33 321.97 2098.59 Q322.873 2096.83 322.873 2095.14 Q322.873 2092.39 320.928 2090.65 Q319.007 2088.92 315.905 2088.92 Q313.706 2088.92 311.252 2089.68 Q308.822 2090.45 306.044 2092 L306.044 2087.27 Q308.868 2086.14 311.322 2085.56 Q313.775 2084.98 315.812 2084.98 Q321.183 2084.98 324.377 2087.67 Q327.572 2090.35 327.572 2094.84 Q327.572 2096.97 326.761 2098.89 Q325.974 2100.79 323.868 2103.39 Q323.289 2104.06 320.187 2107.27 Q317.086 2110.47 311.437 2116.23 Z\" fill=\"#000000\" fill-rule=\"evenodd\" fill-opacity=\"1\" /><path clip-path=\"url(#clip510)\" d=\"M336.391 2085.61 L358.613 2085.61 L358.613 2087.6 L346.067 2120.17 L341.183 2120.17 L352.988 2089.54 L336.391 2089.54 L336.391 2085.61 Z\" fill=\"#000000\" fill-rule=\"evenodd\" fill-opacity=\"1\" /><path clip-path=\"url(#clip510)\" d=\"M424.207 2116.23 L431.846 2116.23 L431.846 2089.87 L423.536 2091.53 L423.536 2087.27 L431.799 2085.61 L436.475 2085.61 L436.475 2116.23 L444.114 2116.23 L444.114 2120.17 L424.207 2120.17 L424.207 2116.23 Z\" fill=\"#000000\" fill-rule=\"evenodd\" fill-opacity=\"1\" /><path clip-path=\"url(#clip510)\" d=\"M463.559 2088.69 Q459.947 2088.69 458.119 2092.25 Q456.313 2095.79 456.313 2102.92 Q456.313 2110.03 458.119 2113.59 Q459.947 2117.14 463.559 2117.14 Q467.193 2117.14 468.998 2113.59 Q470.827 2110.03 470.827 2102.92 Q470.827 2095.79 468.998 2092.25 Q467.193 2088.69 463.559 2088.69 M463.559 2084.98 Q469.369 2084.98 472.424 2089.59 Q475.503 2094.17 475.503 2102.92 Q475.503 2111.65 472.424 2116.26 Q469.369 2120.84 463.559 2120.84 Q457.748 2120.84 454.67 2116.26 Q451.614 2111.65 451.614 2102.92 Q451.614 2094.17 454.67 2089.59 Q457.748 2084.98 463.559 2084.98 Z\" fill=\"#000000\" fill-rule=\"evenodd\" fill-opacity=\"1\" /><path clip-path=\"url(#clip510)\" d=\"M541.27 2116.23 L548.909 2116.23 L548.909 2089.87 L540.599 2091.53 L540.599 2087.27 L548.863 2085.61 L553.539 2085.61 L553.539 2116.23 L561.178 2116.23 L561.178 2120.17 L541.27 2120.17 L541.27 2116.23 Z\" fill=\"#000000\" fill-rule=\"evenodd\" fill-opacity=\"1\" /><path clip-path=\"url(#clip510)\" d=\"M583.469 2089.68 L571.664 2108.13 L583.469 2108.13 L583.469 2089.68 M582.242 2085.61 L588.122 2085.61 L588.122 2108.13 L593.053 2108.13 L593.053 2112.02 L588.122 2112.02 L588.122 2120.17 L583.469 2120.17 L583.469 2112.02 L567.868 2112.02 L567.868 2107.51 L582.242 2085.61 Z\" fill=\"#000000\" fill-rule=\"evenodd\" fill-opacity=\"1\" /><path clip-path=\"url(#clip510)\" d=\"M687.142 2089.68 L675.336 2108.13 L687.142 2108.13 L687.142 2089.68 M685.915 2085.61 L691.794 2085.61 L691.794 2108.13 L696.725 2108.13 L696.725 2112.02 L691.794 2112.02 L691.794 2120.17 L687.142 2120.17 L687.142 2112.02 L671.54 2112.02 L671.54 2107.51 L685.915 2085.61 Z\" fill=\"#000000\" fill-rule=\"evenodd\" fill-opacity=\"1\" /><path clip-path=\"url(#clip510)\" d=\"M790.328 2085.61 L812.55 2085.61 L812.55 2087.6 L800.004 2120.17 L795.12 2120.17 L806.925 2089.54 L790.328 2089.54 L790.328 2085.61 Z\" fill=\"#000000\" fill-rule=\"evenodd\" fill-opacity=\"1\" /><path clip-path=\"url(#clip510)\" d=\"M897.565 2116.23 L913.884 2116.23 L913.884 2120.17 L891.94 2120.17 L891.94 2116.23 Q894.602 2113.48 899.185 2108.85 Q903.792 2104.2 904.972 2102.85 Q907.218 2100.33 908.097 2098.59 Q909 2096.83 909 2095.14 Q909 2092.39 907.056 2090.65 Q905.134 2088.92 902.033 2088.92 Q899.834 2088.92 897.38 2089.68 Q894.949 2090.45 892.172 2092 L892.172 2087.27 Q894.996 2086.14 897.449 2085.56 Q899.903 2084.98 901.94 2084.98 Q907.31 2084.98 910.505 2087.67 Q913.699 2090.35 913.699 2094.84 Q913.699 2096.97 912.889 2098.89 Q912.102 2100.79 909.996 2103.39 Q909.417 2104.06 906.315 2107.27 Q903.213 2110.47 897.565 2116.23 Z\" fill=\"#000000\" fill-rule=\"evenodd\" fill-opacity=\"1\" /><path clip-path=\"url(#clip510)\" d=\"M933.699 2103.76 Q930.366 2103.76 928.445 2105.54 Q926.546 2107.32 926.546 2110.45 Q926.546 2113.57 928.445 2115.35 Q930.366 2117.14 933.699 2117.14 Q937.032 2117.14 938.954 2115.35 Q940.875 2113.55 940.875 2110.45 Q940.875 2107.32 938.954 2105.54 Q937.056 2103.76 933.699 2103.76 M929.023 2101.77 Q926.014 2101.02 924.324 2098.96 Q922.658 2096.9 922.658 2093.94 Q922.658 2089.8 925.597 2087.39 Q928.56 2084.98 933.699 2084.98 Q938.861 2084.98 941.801 2087.39 Q944.741 2089.8 944.741 2093.94 Q944.741 2096.9 943.051 2098.96 Q941.384 2101.02 938.398 2101.77 Q941.778 2102.55 943.653 2104.84 Q945.551 2107.14 945.551 2110.45 Q945.551 2115.47 942.472 2118.15 Q939.417 2120.84 933.699 2120.84 Q927.982 2120.84 924.903 2118.15 Q921.847 2115.47 921.847 2110.45 Q921.847 2107.14 923.745 2104.84 Q925.644 2102.55 929.023 2101.77 M927.31 2094.38 Q927.31 2097.07 928.977 2098.57 Q930.667 2100.08 933.699 2100.08 Q936.708 2100.08 938.398 2098.57 Q940.111 2097.07 940.111 2094.38 Q940.111 2091.7 938.398 2090.19 Q936.708 2088.69 933.699 2088.69 Q930.667 2088.69 928.977 2090.19 Q927.31 2091.7 927.31 2094.38 Z\" fill=\"#000000\" fill-rule=\"evenodd\" fill-opacity=\"1\" /><path clip-path=\"url(#clip510)\" d=\"M1015.62 2116.23 L1031.94 2116.23 L1031.94 2120.17 L1010 2120.17 L1010 2116.23 Q1012.66 2113.48 1017.24 2108.85 Q1021.85 2104.2 1023.03 2102.85 Q1025.28 2100.33 1026.16 2098.59 Q1027.06 2096.83 1027.06 2095.14 Q1027.06 2092.39 1025.11 2090.65 Q1023.19 2088.92 1020.09 2088.92 Q1017.89 2088.92 1015.44 2089.68 Q1013.01 2090.45 1010.23 2092 L1010.23 2087.27 Q1013.05 2086.14 1015.51 2085.56 Q1017.96 2084.98 1020 2084.98 Q1025.37 2084.98 1028.56 2087.67 Q1031.76 2090.35 1031.76 2094.84 Q1031.76 2096.97 1030.95 2098.89 Q1030.16 2100.79 1028.05 2103.39 Q1027.48 2104.06 1024.37 2107.27 Q1021.27 2110.47 1015.62 2116.23 Z\" fill=\"#000000\" fill-rule=\"evenodd\" fill-opacity=\"1\" /><path clip-path=\"url(#clip510)\" d=\"M1045.79 2116.23 L1062.11 2116.23 L1062.11 2120.17 L1040.16 2120.17 L1040.16 2116.23 Q1042.82 2113.48 1047.41 2108.85 Q1052.01 2104.2 1053.19 2102.85 Q1055.44 2100.33 1056.32 2098.59 Q1057.22 2096.83 1057.22 2095.14 Q1057.22 2092.39 1055.28 2090.65 Q1053.36 2088.92 1050.25 2088.92 Q1048.05 2088.92 1045.6 2089.68 Q1043.17 2090.45 1040.39 2092 L1040.39 2087.27 Q1043.22 2086.14 1045.67 2085.56 Q1048.12 2084.98 1050.16 2084.98 Q1055.53 2084.98 1058.73 2087.67 Q1061.92 2090.35 1061.92 2094.84 Q1061.92 2096.97 1061.11 2098.89 Q1060.32 2100.79 1058.22 2103.39 Q1057.64 2104.06 1054.54 2107.27 Q1051.43 2110.47 1045.79 2116.23 Z\" fill=\"#000000\" fill-rule=\"evenodd\" fill-opacity=\"1\" /><path clip-path=\"url(#clip510)\" d=\"M1127.97 2116.23 L1135.6 2116.23 L1135.6 2089.87 L1127.29 2091.53 L1127.29 2087.27 L1135.56 2085.61 L1140.23 2085.61 L1140.23 2116.23 L1147.87 2116.23 L1147.87 2120.17 L1127.97 2120.17 L1127.97 2116.23 Z\" fill=\"#000000\" fill-rule=\"evenodd\" fill-opacity=\"1\" /><path clip-path=\"url(#clip510)\" d=\"M1167.9 2101.02 Q1164.75 2101.02 1162.9 2103.18 Q1161.07 2105.33 1161.07 2109.08 Q1161.07 2112.81 1162.9 2114.98 Q1164.75 2117.14 1167.9 2117.14 Q1171.04 2117.14 1172.87 2114.98 Q1174.72 2112.81 1174.72 2109.08 Q1174.72 2105.33 1172.87 2103.18 Q1171.04 2101.02 1167.9 2101.02 M1177.18 2086.37 L1177.18 2090.63 Q1175.42 2089.8 1173.61 2089.36 Q1171.83 2088.92 1170.07 2088.92 Q1165.44 2088.92 1162.99 2092.04 Q1160.56 2095.17 1160.21 2101.49 Q1161.58 2099.47 1163.64 2098.41 Q1165.7 2097.32 1168.17 2097.32 Q1173.38 2097.32 1176.39 2100.49 Q1179.42 2103.64 1179.42 2109.08 Q1179.42 2114.4 1176.28 2117.62 Q1173.13 2120.84 1167.9 2120.84 Q1161.9 2120.84 1158.73 2116.26 Q1155.56 2111.65 1155.56 2102.92 Q1155.56 2094.73 1159.45 2089.87 Q1163.34 2084.98 1169.89 2084.98 Q1171.65 2084.98 1173.43 2085.33 Q1175.23 2085.68 1177.18 2086.37 Z\" fill=\"#000000\" fill-rule=\"evenodd\" fill-opacity=\"1\" /><path clip-path=\"url(#clip510)\" d=\"M1259.51 2101.53 Q1262.86 2102.25 1264.74 2104.52 Q1266.64 2106.79 1266.64 2110.12 Q1266.64 2115.24 1263.12 2118.04 Q1259.6 2120.84 1253.12 2120.84 Q1250.94 2120.84 1248.63 2120.4 Q1246.34 2119.98 1243.88 2119.13 L1243.88 2114.61 Q1245.83 2115.75 1248.14 2116.33 Q1250.46 2116.9 1252.98 2116.9 Q1257.38 2116.9 1259.67 2115.17 Q1261.98 2113.43 1261.98 2110.12 Q1261.98 2107.07 1259.83 2105.35 Q1257.7 2103.62 1253.88 2103.62 L1249.86 2103.62 L1249.86 2099.77 L1254.07 2099.77 Q1257.52 2099.77 1259.35 2098.41 Q1261.17 2097.02 1261.17 2094.43 Q1261.17 2091.77 1259.28 2090.35 Q1257.4 2088.92 1253.88 2088.92 Q1251.96 2088.92 1249.76 2089.33 Q1247.56 2089.75 1244.92 2090.63 L1244.92 2086.46 Q1247.59 2085.72 1249.9 2085.35 Q1252.24 2084.98 1254.3 2084.98 Q1259.62 2084.98 1262.73 2087.41 Q1265.83 2089.82 1265.83 2093.94 Q1265.83 2096.81 1264.18 2098.8 Q1262.54 2100.77 1259.51 2101.53 Z\" fill=\"#000000\" fill-rule=\"evenodd\" fill-opacity=\"1\" /><path clip-path=\"url(#clip510)\" d=\"M1285.5 2088.69 Q1281.89 2088.69 1280.06 2092.25 Q1278.26 2095.79 1278.26 2102.92 Q1278.26 2110.03 1280.06 2113.59 Q1281.89 2117.14 1285.5 2117.14 Q1289.14 2117.14 1290.94 2113.59 Q1292.77 2110.03 1292.77 2102.92 Q1292.77 2095.79 1290.94 2092.25 Q1289.14 2088.69 1285.5 2088.69 M1285.5 2084.98 Q1291.31 2084.98 1294.37 2089.59 Q1297.45 2094.17 1297.45 2102.92 Q1297.45 2111.65 1294.37 2116.26 Q1291.31 2120.84 1285.5 2120.84 Q1279.69 2120.84 1276.61 2116.26 Q1273.56 2111.65 1273.56 2102.92 Q1273.56 2094.17 1276.61 2089.59 Q1279.69 2084.98 1285.5 2084.98 Z\" fill=\"#000000\" fill-rule=\"evenodd\" fill-opacity=\"1\" /><path clip-path=\"url(#clip510)\" d=\"M1378.27 2119.45 L1378.27 2115.19 Q1380.03 2116.02 1381.84 2116.46 Q1383.64 2116.9 1385.38 2116.9 Q1390.01 2116.9 1392.44 2113.8 Q1394.89 2110.68 1395.24 2104.33 Q1393.9 2106.33 1391.84 2107.39 Q1389.78 2108.45 1387.28 2108.45 Q1382.09 2108.45 1379.06 2105.33 Q1376.05 2102.18 1376.05 2096.74 Q1376.05 2091.42 1379.2 2088.2 Q1382.35 2084.98 1387.58 2084.98 Q1393.57 2084.98 1396.72 2089.59 Q1399.89 2094.17 1399.89 2102.92 Q1399.89 2111.09 1396 2115.98 Q1392.14 2120.84 1385.59 2120.84 Q1383.83 2120.84 1382.02 2120.49 Q1380.22 2120.14 1378.27 2119.45 M1387.58 2104.8 Q1390.73 2104.8 1392.55 2102.64 Q1394.41 2100.49 1394.41 2096.74 Q1394.41 2093.02 1392.55 2090.86 Q1390.73 2088.69 1387.58 2088.69 Q1384.43 2088.69 1382.58 2090.86 Q1380.75 2093.02 1380.75 2096.74 Q1380.75 2100.49 1382.58 2102.64 Q1384.43 2104.8 1387.58 2104.8 Z\" fill=\"#000000\" fill-rule=\"evenodd\" fill-opacity=\"1\" /><path clip-path=\"url(#clip510)\" d=\"M1499.93 2116.23 L1516.25 2116.23 L1516.25 2120.17 L1494.31 2120.17 L1494.31 2116.23 Q1496.97 2113.48 1501.55 2108.85 Q1506.16 2104.2 1507.34 2102.85 Q1509.58 2100.33 1510.46 2098.59 Q1511.37 2096.83 1511.37 2095.14 Q1511.37 2092.39 1509.42 2090.65 Q1507.5 2088.92 1504.4 2088.92 Q1502.2 2088.92 1499.75 2089.68 Q1497.32 2090.45 1494.54 2092 L1494.54 2087.27 Q1497.36 2086.14 1499.82 2085.56 Q1502.27 2084.98 1504.31 2084.98 Q1509.68 2084.98 1512.87 2087.67 Q1516.07 2090.35 1516.07 2094.84 Q1516.07 2096.97 1515.26 2098.89 Q1514.47 2100.79 1512.36 2103.39 Q1511.78 2104.06 1508.68 2107.27 Q1505.58 2110.47 1499.93 2116.23 Z\" fill=\"#000000\" fill-rule=\"evenodd\" fill-opacity=\"1\" /><path clip-path=\"url(#clip510)\" d=\"M1601.97 2116.23 L1618.29 2116.23 L1618.29 2120.17 L1596.35 2120.17 L1596.35 2116.23 Q1599.01 2113.48 1603.59 2108.85 Q1608.2 2104.2 1609.38 2102.85 Q1611.62 2100.33 1612.5 2098.59 Q1613.41 2096.83 1613.41 2095.14 Q1613.41 2092.39 1611.46 2090.65 Q1609.54 2088.92 1606.44 2088.92 Q1604.24 2088.92 1601.79 2089.68 Q1599.36 2090.45 1596.58 2092 L1596.58 2087.27 Q1599.4 2086.14 1601.86 2085.56 Q1604.31 2084.98 1606.35 2084.98 Q1611.72 2084.98 1614.91 2087.67 Q1618.11 2090.35 1618.11 2094.84 Q1618.11 2096.97 1617.3 2098.89 Q1616.51 2100.79 1614.4 2103.39 Q1613.82 2104.06 1610.72 2107.27 Q1607.62 2110.47 1601.97 2116.23 Z\" fill=\"#000000\" fill-rule=\"evenodd\" fill-opacity=\"1\" /><path clip-path=\"url(#clip510)\" d=\"M1628.92 2116.23 L1636.55 2116.23 L1636.55 2089.87 L1628.24 2091.53 L1628.24 2087.27 L1636.51 2085.61 L1641.18 2085.61 L1641.18 2116.23 L1648.82 2116.23 L1648.82 2120.17 L1628.92 2120.17 L1628.92 2116.23 Z\" fill=\"#000000\" fill-rule=\"evenodd\" fill-opacity=\"1\" /><path clip-path=\"url(#clip510)\" d=\"M1718.42 2116.23 L1734.74 2116.23 L1734.74 2120.17 L1712.8 2120.17 L1712.8 2116.23 Q1715.46 2113.48 1720.04 2108.85 Q1724.65 2104.2 1725.83 2102.85 Q1728.07 2100.33 1728.95 2098.59 Q1729.86 2096.83 1729.86 2095.14 Q1729.86 2092.39 1727.91 2090.65 Q1725.99 2088.92 1722.89 2088.92 Q1720.69 2088.92 1718.24 2089.68 Q1715.81 2090.45 1713.03 2092 L1713.03 2087.27 Q1715.85 2086.14 1718.31 2085.56 Q1720.76 2084.98 1722.8 2084.98 Q1728.17 2084.98 1731.36 2087.67 Q1734.56 2090.35 1734.56 2094.84 Q1734.56 2096.97 1733.75 2098.89 Q1732.96 2100.79 1730.85 2103.39 Q1730.27 2104.06 1727.17 2107.27 Q1724.07 2110.47 1718.42 2116.23 Z\" fill=\"#000000\" fill-rule=\"evenodd\" fill-opacity=\"1\" /><path clip-path=\"url(#clip510)\" d=\"M1757.4 2089.68 L1745.6 2108.13 L1757.4 2108.13 L1757.4 2089.68 M1756.18 2085.61 L1762.06 2085.61 L1762.06 2108.13 L1766.99 2108.13 L1766.99 2112.02 L1762.06 2112.02 L1762.06 2120.17 L1757.4 2120.17 L1757.4 2112.02 L1741.8 2112.02 L1741.8 2107.51 L1756.18 2085.61 Z\" fill=\"#000000\" fill-rule=\"evenodd\" fill-opacity=\"1\" /><path clip-path=\"url(#clip510)\" d=\"M1831.98 2116.23 L1839.62 2116.23 L1839.62 2089.87 L1831.31 2091.53 L1831.31 2087.27 L1839.57 2085.61 L1844.25 2085.61 L1844.25 2116.23 L1851.89 2116.23 L1851.89 2120.17 L1831.98 2120.17 L1831.98 2116.23 Z\" fill=\"#000000\" fill-rule=\"evenodd\" fill-opacity=\"1\" /><path clip-path=\"url(#clip510)\" d=\"M1861.47 2119.45 L1861.47 2115.19 Q1863.23 2116.02 1865.03 2116.46 Q1866.84 2116.9 1868.58 2116.9 Q1873.2 2116.9 1875.64 2113.8 Q1878.09 2110.68 1878.44 2104.33 Q1877.09 2106.33 1875.03 2107.39 Q1872.97 2108.45 1870.47 2108.45 Q1865.29 2108.45 1862.26 2105.33 Q1859.25 2102.18 1859.25 2096.74 Q1859.25 2091.42 1862.39 2088.2 Q1865.54 2084.98 1870.77 2084.98 Q1876.77 2084.98 1879.92 2089.59 Q1883.09 2094.17 1883.09 2102.92 Q1883.09 2111.09 1879.2 2115.98 Q1875.33 2120.84 1868.78 2120.84 Q1867.02 2120.84 1865.22 2120.49 Q1863.41 2120.14 1861.47 2119.45 M1870.77 2104.8 Q1873.92 2104.8 1875.75 2102.64 Q1877.6 2100.49 1877.6 2096.74 Q1877.6 2093.02 1875.75 2090.86 Q1873.92 2088.69 1870.77 2088.69 Q1867.63 2088.69 1865.77 2090.86 Q1863.95 2093.02 1863.95 2096.74 Q1863.95 2100.49 1865.77 2102.64 Q1867.63 2104.8 1870.77 2104.8 Z\" fill=\"#000000\" fill-rule=\"evenodd\" fill-opacity=\"1\" /><path clip-path=\"url(#clip510)\" d=\"M1953.28 2116.23 L1969.6 2116.23 L1969.6 2120.17 L1947.65 2120.17 L1947.65 2116.23 Q1950.31 2113.48 1954.9 2108.85 Q1959.5 2104.2 1960.69 2102.85 Q1962.93 2100.33 1963.81 2098.59 Q1964.71 2096.83 1964.71 2095.14 Q1964.71 2092.39 1962.77 2090.65 Q1960.85 2088.92 1957.75 2088.92 Q1955.55 2088.92 1953.09 2089.68 Q1950.66 2090.45 1947.88 2092 L1947.88 2087.27 Q1950.71 2086.14 1953.16 2085.56 Q1955.62 2084.98 1957.65 2084.98 Q1963.02 2084.98 1966.22 2087.67 Q1969.41 2090.35 1969.41 2094.84 Q1969.41 2096.97 1968.6 2098.89 Q1967.81 2100.79 1965.71 2103.39 Q1965.13 2104.06 1962.03 2107.27 Q1958.93 2110.47 1953.28 2116.23 Z\" fill=\"#000000\" fill-rule=\"evenodd\" fill-opacity=\"1\" /><path clip-path=\"url(#clip510)\" d=\"M1989.41 2088.69 Q1985.8 2088.69 1983.97 2092.25 Q1982.17 2095.79 1982.17 2102.92 Q1982.17 2110.03 1983.97 2113.59 Q1985.8 2117.14 1989.41 2117.14 Q1993.05 2117.14 1994.85 2113.59 Q1996.68 2110.03 1996.68 2102.92 Q1996.68 2095.79 1994.85 2092.25 Q1993.05 2088.69 1989.41 2088.69 M1989.41 2084.98 Q1995.22 2084.98 1998.28 2089.59 Q2001.36 2094.17 2001.36 2102.92 Q2001.36 2111.65 1998.28 2116.26 Q1995.22 2120.84 1989.41 2120.84 Q1983.6 2120.84 1980.52 2116.26 Q1977.47 2111.65 1977.47 2102.92 Q1977.47 2094.17 1980.52 2089.59 Q1983.6 2084.98 1989.41 2084.98 Z\" fill=\"#000000\" fill-rule=\"evenodd\" fill-opacity=\"1\" /><path clip-path=\"url(#clip510)\" d=\"M2066.82 2116.23 L2074.46 2116.23 L2074.46 2089.87 L2066.15 2091.53 L2066.15 2087.27 L2074.42 2085.61 L2079.09 2085.61 L2079.09 2116.23 L2086.73 2116.23 L2086.73 2120.17 L2066.82 2120.17 L2066.82 2116.23 Z\" fill=\"#000000\" fill-rule=\"evenodd\" fill-opacity=\"1\" /><path clip-path=\"url(#clip510)\" d=\"M2110.34 2101.53 Q2113.7 2102.25 2115.57 2104.52 Q2117.47 2106.79 2117.47 2110.12 Q2117.47 2115.24 2113.95 2118.04 Q2110.43 2120.84 2103.95 2120.84 Q2101.78 2120.84 2099.46 2120.4 Q2097.17 2119.98 2094.72 2119.13 L2094.72 2114.61 Q2096.66 2115.75 2098.98 2116.33 Q2101.29 2116.9 2103.81 2116.9 Q2108.21 2116.9 2110.5 2115.17 Q2112.82 2113.43 2112.82 2110.12 Q2112.82 2107.07 2110.67 2105.35 Q2108.54 2103.62 2104.72 2103.62 L2100.69 2103.62 L2100.69 2099.77 L2104.9 2099.77 Q2108.35 2099.77 2110.18 2098.41 Q2112.01 2097.02 2112.01 2094.43 Q2112.01 2091.77 2110.11 2090.35 Q2108.23 2088.92 2104.72 2088.92 Q2102.79 2088.92 2100.6 2089.33 Q2098.4 2089.75 2095.76 2090.63 L2095.76 2086.46 Q2098.42 2085.72 2100.73 2085.35 Q2103.07 2084.98 2105.13 2084.98 Q2110.46 2084.98 2113.56 2087.41 Q2116.66 2089.82 2116.66 2093.94 Q2116.66 2096.81 2115.02 2098.8 Q2113.37 2100.77 2110.34 2101.53 Z\" fill=\"#000000\" fill-rule=\"evenodd\" fill-opacity=\"1\" /><path clip-path=\"url(#clip510)\" d=\"M2184.6 2116.23 L2192.24 2116.23 L2192.24 2089.87 L2183.93 2091.53 L2183.93 2087.27 L2192.2 2085.61 L2196.87 2085.61 L2196.87 2116.23 L2204.51 2116.23 L2204.51 2120.17 L2184.6 2120.17 L2184.6 2116.23 Z\" fill=\"#000000\" fill-rule=\"evenodd\" fill-opacity=\"1\" /><path clip-path=\"url(#clip510)\" d=\"M2217.98 2116.23 L2234.3 2116.23 L2234.3 2120.17 L2212.36 2120.17 L2212.36 2116.23 Q2215.02 2113.48 2219.6 2108.85 Q2224.21 2104.2 2225.39 2102.85 Q2227.64 2100.33 2228.52 2098.59 Q2229.42 2096.83 2229.42 2095.14 Q2229.42 2092.39 2227.47 2090.65 Q2225.55 2088.92 2222.45 2088.92 Q2220.25 2088.92 2217.8 2089.68 Q2215.37 2090.45 2212.59 2092 L2212.59 2087.27 Q2215.41 2086.14 2217.87 2085.56 Q2220.32 2084.98 2222.36 2084.98 Q2227.73 2084.98 2230.92 2087.67 Q2234.12 2090.35 2234.12 2094.84 Q2234.12 2096.97 2233.31 2098.89 Q2232.52 2100.79 2230.41 2103.39 Q2229.84 2104.06 2226.73 2107.27 Q2223.63 2110.47 2217.98 2116.23 Z\" fill=\"#000000\" fill-rule=\"evenodd\" fill-opacity=\"1\" /><path clip-path=\"url(#clip510)\" d=\"M2326.83 2101.02 Q2323.68 2101.02 2321.83 2103.18 Q2320 2105.33 2320 2109.08 Q2320 2112.81 2321.83 2114.98 Q2323.68 2117.14 2326.83 2117.14 Q2329.98 2117.14 2331.81 2114.98 Q2333.66 2112.81 2333.66 2109.08 Q2333.66 2105.33 2331.81 2103.18 Q2329.98 2101.02 2326.83 2101.02 M2336.11 2086.37 L2336.11 2090.63 Q2334.35 2089.8 2332.55 2089.36 Q2330.76 2088.92 2329.01 2088.92 Q2324.38 2088.92 2321.92 2092.04 Q2319.49 2095.17 2319.14 2101.49 Q2320.51 2099.47 2322.57 2098.41 Q2324.63 2097.32 2327.11 2097.32 Q2332.32 2097.32 2335.32 2100.49 Q2338.36 2103.64 2338.36 2109.08 Q2338.36 2114.4 2335.21 2117.62 Q2332.06 2120.84 2326.83 2120.84 Q2320.83 2120.84 2317.66 2116.26 Q2314.49 2111.65 2314.49 2102.92 Q2314.49 2094.73 2318.38 2089.87 Q2322.27 2084.98 2328.82 2084.98 Q2330.58 2084.98 2332.36 2085.33 Q2334.17 2085.68 2336.11 2086.37 Z\" fill=\"#000000\" fill-rule=\"evenodd\" fill-opacity=\"1\" /><path clip-path=\"url(#clip510)\" d=\"M2422.6 2116.23 L2438.92 2116.23 L2438.92 2120.17 L2416.97 2120.17 L2416.97 2116.23 Q2419.63 2113.48 2424.22 2108.85 Q2428.82 2104.2 2430 2102.85 Q2432.25 2100.33 2433.13 2098.59 Q2434.03 2096.83 2434.03 2095.14 Q2434.03 2092.39 2432.09 2090.65 Q2430.17 2088.92 2427.06 2088.92 Q2424.86 2088.92 2422.41 2089.68 Q2419.98 2090.45 2417.2 2092 L2417.2 2087.27 Q2420.03 2086.14 2422.48 2085.56 Q2424.93 2084.98 2426.97 2084.98 Q2432.34 2084.98 2435.54 2087.67 Q2438.73 2090.35 2438.73 2094.84 Q2438.73 2096.97 2437.92 2098.89 Q2437.13 2100.79 2435.03 2103.39 Q2434.45 2104.06 2431.35 2107.27 Q2428.24 2110.47 2422.6 2116.23 Z\" fill=\"#000000\" fill-rule=\"evenodd\" fill-opacity=\"1\" /><path clip-path=\"url(#clip510)\" d=\"M2448.87 2119.45 L2448.87 2115.19 Q2450.63 2116.02 2452.43 2116.46 Q2454.24 2116.9 2455.98 2116.9 Q2460.61 2116.9 2463.04 2113.8 Q2465.49 2110.68 2465.84 2104.33 Q2464.49 2106.33 2462.43 2107.39 Q2460.37 2108.45 2457.87 2108.45 Q2452.69 2108.45 2449.66 2105.33 Q2446.65 2102.18 2446.65 2096.74 Q2446.65 2091.42 2449.8 2088.2 Q2452.94 2084.98 2458.17 2084.98 Q2464.17 2084.98 2467.32 2089.59 Q2470.49 2094.17 2470.49 2102.92 Q2470.49 2111.09 2466.6 2115.98 Q2462.74 2120.84 2456.18 2120.84 Q2454.43 2120.84 2452.62 2120.49 Q2450.81 2120.14 2448.87 2119.45 M2458.17 2104.8 Q2461.32 2104.8 2463.15 2102.64 Q2465 2100.49 2465 2096.74 Q2465 2093.02 2463.15 2090.86 Q2461.32 2088.69 2458.17 2088.69 Q2455.03 2088.69 2453.18 2090.86 Q2451.35 2093.02 2451.35 2096.74 Q2451.35 2100.49 2453.18 2102.64 Q2455.03 2104.8 2458.17 2104.8 Z\" fill=\"#000000\" fill-rule=\"evenodd\" fill-opacity=\"1\" /><path clip-path=\"url(#clip510)\" d=\"M2550.49 2101.53 Q2553.85 2102.25 2555.72 2104.52 Q2557.62 2106.79 2557.62 2110.12 Q2557.62 2115.24 2554.1 2118.04 Q2550.59 2120.84 2544.1 2120.84 Q2541.93 2120.84 2539.61 2120.4 Q2537.32 2119.98 2534.87 2119.13 L2534.87 2114.61 Q2536.81 2115.75 2539.13 2116.33 Q2541.44 2116.9 2543.97 2116.9 Q2548.36 2116.9 2550.66 2115.17 Q2552.97 2113.43 2552.97 2110.12 Q2552.97 2107.07 2550.82 2105.35 Q2548.69 2103.62 2544.87 2103.62 L2540.84 2103.62 L2540.84 2099.77 L2545.05 2099.77 Q2548.5 2099.77 2550.33 2098.41 Q2552.16 2097.02 2552.16 2094.43 Q2552.16 2091.77 2550.26 2090.35 Q2548.39 2088.92 2544.87 2088.92 Q2542.95 2088.92 2540.75 2089.33 Q2538.55 2089.75 2535.91 2090.63 L2535.91 2086.46 Q2538.57 2085.72 2540.89 2085.35 Q2543.22 2084.98 2545.28 2084.98 Q2550.61 2084.98 2553.71 2087.41 Q2556.81 2089.82 2556.81 2093.94 Q2556.81 2096.81 2555.17 2098.8 Q2553.53 2100.77 2550.49 2101.53 Z\" fill=\"#000000\" fill-rule=\"evenodd\" fill-opacity=\"1\" /><path clip-path=\"url(#clip510)\" d=\"M2567.3 2116.23 L2574.94 2116.23 L2574.94 2089.87 L2566.63 2091.53 L2566.63 2087.27 L2574.89 2085.61 L2579.57 2085.61 L2579.57 2116.23 L2587.21 2116.23 L2587.21 2120.17 L2567.3 2120.17 L2567.3 2116.23 Z\" fill=\"#000000\" fill-rule=\"evenodd\" fill-opacity=\"1\" /><path clip-path=\"url(#clip510)\" d=\"M2657.04 2116.23 L2673.36 2116.23 L2673.36 2120.17 L2651.41 2120.17 L2651.41 2116.23 Q2654.07 2113.48 2658.66 2108.85 Q2663.26 2104.2 2664.44 2102.85 Q2666.69 2100.33 2667.57 2098.59 Q2668.47 2096.83 2668.47 2095.14 Q2668.47 2092.39 2666.53 2090.65 Q2664.61 2088.92 2661.5 2088.92 Q2659.3 2088.92 2656.85 2089.68 Q2654.42 2090.45 2651.64 2092 L2651.64 2087.27 Q2654.47 2086.14 2656.92 2085.56 Q2659.37 2084.98 2661.41 2084.98 Q2666.78 2084.98 2669.98 2087.67 Q2673.17 2090.35 2673.17 2094.84 Q2673.17 2096.97 2672.36 2098.89 Q2671.57 2100.79 2669.47 2103.39 Q2668.89 2104.06 2665.79 2107.27 Q2662.68 2110.47 2657.04 2116.23 Z\" fill=\"#000000\" fill-rule=\"evenodd\" fill-opacity=\"1\" /><path clip-path=\"url(#clip510)\" d=\"M2693.75 2101.02 Q2690.6 2101.02 2688.75 2103.18 Q2686.92 2105.33 2686.92 2109.08 Q2686.92 2112.81 2688.75 2114.98 Q2690.6 2117.14 2693.75 2117.14 Q2696.9 2117.14 2698.73 2114.98 Q2700.58 2112.81 2700.58 2109.08 Q2700.58 2105.33 2698.73 2103.18 Q2696.9 2101.02 2693.75 2101.02 M2703.03 2086.37 L2703.03 2090.63 Q2701.27 2089.8 2699.47 2089.36 Q2697.68 2088.92 2695.92 2088.92 Q2691.3 2088.92 2688.84 2092.04 Q2686.41 2095.17 2686.06 2101.49 Q2687.43 2099.47 2689.49 2098.41 Q2691.55 2097.32 2694.03 2097.32 Q2699.23 2097.32 2702.24 2100.49 Q2705.28 2103.64 2705.28 2109.08 Q2705.28 2114.4 2702.13 2117.62 Q2698.98 2120.84 2693.75 2120.84 Q2687.75 2120.84 2684.58 2116.26 Q2681.41 2111.65 2681.41 2102.92 Q2681.41 2094.73 2685.3 2089.87 Q2689.19 2084.98 2695.74 2084.98 Q2697.5 2084.98 2699.28 2085.33 Q2701.09 2085.68 2703.03 2086.37 Z\" fill=\"#000000\" fill-rule=\"evenodd\" fill-opacity=\"1\" /><path clip-path=\"url(#clip510)\" d=\"M2770.79 2116.23 L2778.43 2116.23 L2778.43 2089.87 L2770.12 2091.53 L2770.12 2087.27 L2778.38 2085.61 L2783.06 2085.61 L2783.06 2116.23 L2790.7 2116.23 L2790.7 2120.17 L2770.79 2120.17 L2770.79 2116.23 Z\" fill=\"#000000\" fill-rule=\"evenodd\" fill-opacity=\"1\" /><path clip-path=\"url(#clip510)\" d=\"M2798.96 2085.61 L2821.18 2085.61 L2821.18 2087.6 L2808.64 2120.17 L2803.75 2120.17 L2815.56 2089.54 L2798.96 2089.54 L2798.96 2085.61 Z\" fill=\"#000000\" fill-rule=\"evenodd\" fill-opacity=\"1\" /><path clip-path=\"url(#clip510)\" d=\"M2888.26 2116.23 L2895.9 2116.23 L2895.9 2089.87 L2887.59 2091.53 L2887.59 2087.27 L2895.85 2085.61 L2900.53 2085.61 L2900.53 2116.23 L2908.17 2116.23 L2908.17 2120.17 L2888.26 2120.17 L2888.26 2116.23 Z\" fill=\"#000000\" fill-rule=\"evenodd\" fill-opacity=\"1\" /><path clip-path=\"url(#clip510)\" d=\"M2918.42 2116.23 L2926.06 2116.23 L2926.06 2089.87 L2917.75 2091.53 L2917.75 2087.27 L2926.01 2085.61 L2930.69 2085.61 L2930.69 2116.23 L2938.33 2116.23 L2938.33 2120.17 L2918.42 2120.17 L2918.42 2116.23 Z\" fill=\"#000000\" fill-rule=\"evenodd\" fill-opacity=\"1\" /><path clip-path=\"url(#clip510)\" d=\"M3030.26 2103.76 Q3026.93 2103.76 3025.01 2105.54 Q3023.11 2107.32 3023.11 2110.45 Q3023.11 2113.57 3025.01 2115.35 Q3026.93 2117.14 3030.26 2117.14 Q3033.6 2117.14 3035.52 2115.35 Q3037.44 2113.55 3037.44 2110.45 Q3037.44 2107.32 3035.52 2105.54 Q3033.62 2103.76 3030.26 2103.76 M3025.59 2101.77 Q3022.58 2101.02 3020.89 2098.96 Q3019.22 2096.9 3019.22 2093.94 Q3019.22 2089.8 3022.16 2087.39 Q3025.12 2084.98 3030.26 2084.98 Q3035.43 2084.98 3038.37 2087.39 Q3041.3 2089.8 3041.3 2093.94 Q3041.3 2096.9 3039.62 2098.96 Q3037.95 2101.02 3034.96 2101.77 Q3038.34 2102.55 3040.22 2104.84 Q3042.12 2107.14 3042.12 2110.45 Q3042.12 2115.47 3039.04 2118.15 Q3035.98 2120.84 3030.26 2120.84 Q3024.55 2120.84 3021.47 2118.15 Q3018.41 2115.47 3018.41 2110.45 Q3018.41 2107.14 3020.31 2104.84 Q3022.21 2102.55 3025.59 2101.77 M3023.87 2094.38 Q3023.87 2097.07 3025.54 2098.57 Q3027.23 2100.08 3030.26 2100.08 Q3033.27 2100.08 3034.96 2098.57 Q3036.68 2097.07 3036.68 2094.38 Q3036.68 2091.7 3034.96 2090.19 Q3033.27 2088.69 3030.26 2088.69 Q3027.23 2088.69 3025.54 2090.19 Q3023.87 2091.7 3023.87 2094.38 Z\" fill=\"#000000\" fill-rule=\"evenodd\" fill-opacity=\"1\" /><path clip-path=\"url(#clip510)\" d=\"M3126.84 2116.23 L3143.16 2116.23 L3143.16 2120.17 L3121.22 2120.17 L3121.22 2116.23 Q3123.88 2113.48 3128.46 2108.85 Q3133.07 2104.2 3134.25 2102.85 Q3136.49 2100.33 3137.37 2098.59 Q3138.28 2096.83 3138.28 2095.14 Q3138.28 2092.39 3136.33 2090.65 Q3134.41 2088.92 3131.31 2088.92 Q3129.11 2088.92 3126.66 2089.68 Q3124.23 2090.45 3121.45 2092 L3121.45 2087.27 Q3124.27 2086.14 3126.73 2085.56 Q3129.18 2084.98 3131.22 2084.98 Q3136.59 2084.98 3139.78 2087.67 Q3142.98 2090.35 3142.98 2094.84 Q3142.98 2096.97 3142.16 2098.89 Q3141.38 2100.79 3139.27 2103.39 Q3138.69 2104.06 3135.59 2107.27 Q3132.49 2110.47 3126.84 2116.23 Z\" fill=\"#000000\" fill-rule=\"evenodd\" fill-opacity=\"1\" /><path clip-path=\"url(#clip510)\" d=\"M3153.02 2085.61 L3171.38 2085.61 L3171.38 2089.54 L3157.3 2089.54 L3157.3 2098.02 Q3158.32 2097.67 3159.34 2097.51 Q3160.36 2097.32 3161.38 2097.32 Q3167.16 2097.32 3170.54 2100.49 Q3173.92 2103.66 3173.92 2109.08 Q3173.92 2114.66 3170.45 2117.76 Q3166.98 2120.84 3160.66 2120.84 Q3158.48 2120.84 3156.22 2120.47 Q3153.97 2120.1 3151.56 2119.36 L3151.56 2114.66 Q3153.65 2115.79 3155.87 2116.35 Q3158.09 2116.9 3160.57 2116.9 Q3164.57 2116.9 3166.91 2114.8 Q3169.25 2112.69 3169.25 2109.08 Q3169.25 2105.47 3166.91 2103.36 Q3164.57 2101.26 3160.57 2101.26 Q3158.69 2101.26 3156.82 2101.67 Q3154.97 2102.09 3153.02 2102.97 L3153.02 2085.61 Z\" fill=\"#000000\" fill-rule=\"evenodd\" fill-opacity=\"1\" /><path clip-path=\"url(#clip510)\" d=\"M3269.12 2101.53 Q3272.48 2102.25 3274.36 2104.52 Q3276.25 2106.79 3276.25 2110.12 Q3276.25 2115.24 3272.74 2118.04 Q3269.22 2120.84 3262.74 2120.84 Q3260.56 2120.84 3258.24 2120.4 Q3255.95 2119.98 3253.5 2119.13 L3253.5 2114.61 Q3255.44 2115.75 3257.76 2116.33 Q3260.07 2116.9 3262.6 2116.9 Q3266.99 2116.9 3269.29 2115.17 Q3271.6 2113.43 3271.6 2110.12 Q3271.6 2107.07 3269.45 2105.35 Q3267.32 2103.62 3263.5 2103.62 L3259.47 2103.62 L3259.47 2099.77 L3263.68 2099.77 Q3267.13 2099.77 3268.96 2098.41 Q3270.79 2097.02 3270.79 2094.43 Q3270.79 2091.77 3268.89 2090.35 Q3267.02 2088.92 3263.5 2088.92 Q3261.58 2088.92 3259.38 2089.33 Q3257.18 2089.75 3254.54 2090.63 L3254.54 2086.46 Q3257.2 2085.72 3259.52 2085.35 Q3261.86 2084.98 3263.92 2084.98 Q3269.24 2084.98 3272.34 2087.41 Q3275.44 2089.82 3275.44 2093.94 Q3275.44 2096.81 3273.8 2098.8 Q3272.16 2100.77 3269.12 2101.53 Z\" fill=\"#000000\" fill-rule=\"evenodd\" fill-opacity=\"1\" /><path clip-path=\"url(#clip510)\" d=\"M3372.56 2116.23 L3380.2 2116.23 L3380.2 2089.87 L3371.89 2091.53 L3371.89 2087.27 L3380.16 2085.61 L3384.83 2085.61 L3384.83 2116.23 L3392.47 2116.23 L3392.47 2120.17 L3372.56 2120.17 L3372.56 2116.23 Z\" fill=\"#000000\" fill-rule=\"evenodd\" fill-opacity=\"1\" /><path clip-path=\"url(#clip510)\" d=\"M3474.67 2116.23 L3482.31 2116.23 L3482.31 2089.87 L3474 2091.53 L3474 2087.27 L3482.27 2085.61 L3486.94 2085.61 L3486.94 2116.23 L3494.58 2116.23 L3494.58 2120.17 L3474.67 2120.17 L3474.67 2116.23 Z\" fill=\"#000000\" fill-rule=\"evenodd\" fill-opacity=\"1\" /><path clip-path=\"url(#clip510)\" d=\"M3504.07 2085.61 L3522.43 2085.61 L3522.43 2089.54 L3508.36 2089.54 L3508.36 2098.02 Q3509.37 2097.67 3510.39 2097.51 Q3511.41 2097.32 3512.43 2097.32 Q3518.22 2097.32 3521.6 2100.49 Q3524.98 2103.66 3524.98 2109.08 Q3524.98 2114.66 3521.5 2117.76 Q3518.03 2120.84 3511.71 2120.84 Q3509.54 2120.84 3507.27 2120.47 Q3505.02 2120.1 3502.61 2119.36 L3502.61 2114.66 Q3504.7 2115.79 3506.92 2116.35 Q3509.14 2116.9 3511.62 2116.9 Q3515.62 2116.9 3517.96 2114.8 Q3520.3 2112.69 3520.3 2109.08 Q3520.3 2105.47 3517.96 2103.36 Q3515.62 2101.26 3511.62 2101.26 Q3509.74 2101.26 3507.87 2101.67 Q3506.02 2102.09 3504.07 2102.97 L3504.07 2085.61 Z\" fill=\"#000000\" fill-rule=\"evenodd\" fill-opacity=\"1\" /><path clip-path=\"url(#clip510)\" d=\"M3607.07 2085.61 L3625.43 2085.61 L3625.43 2089.54 L3611.36 2089.54 L3611.36 2098.02 Q3612.37 2097.67 3613.39 2097.51 Q3614.41 2097.32 3615.43 2097.32 Q3621.22 2097.32 3624.6 2100.49 Q3627.98 2103.66 3627.98 2109.08 Q3627.98 2114.66 3624.5 2117.76 Q3621.03 2120.84 3614.71 2120.84 Q3612.54 2120.84 3610.27 2120.47 Q3608.02 2120.1 3605.62 2119.36 L3605.62 2114.66 Q3607.7 2115.79 3609.92 2116.35 Q3612.14 2116.9 3614.62 2116.9 Q3618.62 2116.9 3620.96 2114.8 Q3623.3 2112.69 3623.3 2109.08 Q3623.3 2105.47 3620.96 2103.36 Q3618.62 2101.26 3614.62 2101.26 Q3612.75 2101.26 3610.87 2101.67 Q3609.02 2102.09 3607.07 2102.97 L3607.07 2085.61 Z\" fill=\"#000000\" fill-rule=\"evenodd\" fill-opacity=\"1\" /><path clip-path=\"url(#clip510)\" d=\"M3708.84 2116.23 L3716.48 2116.23 L3716.48 2089.87 L3708.17 2091.53 L3708.17 2087.27 L3716.43 2085.61 L3721.11 2085.61 L3721.11 2116.23 L3728.74 2116.23 L3728.74 2120.17 L3708.84 2120.17 L3708.84 2116.23 Z\" fill=\"#000000\" fill-rule=\"evenodd\" fill-opacity=\"1\" /><path clip-path=\"url(#clip510)\" d=\"M3748.19 2103.76 Q3744.85 2103.76 3742.93 2105.54 Q3741.04 2107.32 3741.04 2110.45 Q3741.04 2113.57 3742.93 2115.35 Q3744.85 2117.14 3748.19 2117.14 Q3751.52 2117.14 3753.44 2115.35 Q3755.36 2113.55 3755.36 2110.45 Q3755.36 2107.32 3753.44 2105.54 Q3751.54 2103.76 3748.19 2103.76 M3743.51 2101.77 Q3740.5 2101.02 3738.81 2098.96 Q3737.15 2096.9 3737.15 2093.94 Q3737.15 2089.8 3740.09 2087.39 Q3743.05 2084.98 3748.19 2084.98 Q3753.35 2084.98 3756.29 2087.39 Q3759.23 2089.8 3759.23 2093.94 Q3759.23 2096.9 3757.54 2098.96 Q3755.87 2101.02 3752.89 2101.77 Q3756.27 2102.55 3758.14 2104.84 Q3760.04 2107.14 3760.04 2110.45 Q3760.04 2115.47 3756.96 2118.15 Q3753.91 2120.84 3748.19 2120.84 Q3742.47 2120.84 3739.39 2118.15 Q3736.34 2115.47 3736.34 2110.45 Q3736.34 2107.14 3738.23 2104.84 Q3740.13 2102.55 3743.51 2101.77 M3741.8 2094.38 Q3741.8 2097.07 3743.47 2098.57 Q3745.16 2100.08 3748.19 2100.08 Q3751.2 2100.08 3752.89 2098.57 Q3754.6 2097.07 3754.6 2094.38 Q3754.6 2091.7 3752.89 2090.19 Q3751.2 2088.69 3748.19 2088.69 Q3745.16 2088.69 3743.47 2090.19 Q3741.8 2091.7 3741.8 2094.38 Z\" fill=\"#000000\" fill-rule=\"evenodd\" fill-opacity=\"1\" /><polyline clip-path=\"url(#clip512)\" style=\"stroke:#000000; stroke-linecap:butt; stroke-linejoin:round; stroke-width:2; stroke-opacity:0.1; fill:none\" points=\"\n  156.253,2046.25 3792.76,2046.25 \n  \"/>\n<polyline clip-path=\"url(#clip512)\" style=\"stroke:#000000; stroke-linecap:butt; stroke-linejoin:round; stroke-width:2; stroke-opacity:0.1; fill:none\" points=\"\n  156.253,1488.11 3792.76,1488.11 \n  \"/>\n<polyline clip-path=\"url(#clip512)\" style=\"stroke:#000000; stroke-linecap:butt; stroke-linejoin:round; stroke-width:2; stroke-opacity:0.1; fill:none\" points=\"\n  156.253,929.979 3792.76,929.979 \n  \"/>\n<polyline clip-path=\"url(#clip512)\" style=\"stroke:#000000; stroke-linecap:butt; stroke-linejoin:round; stroke-width:2; stroke-opacity:0.1; fill:none\" points=\"\n  156.253,371.844 3792.76,371.844 \n  \"/>\n<polyline clip-path=\"url(#clip510)\" style=\"stroke:#000000; stroke-linecap:butt; stroke-linejoin:round; stroke-width:4; stroke-opacity:1; fill:none\" points=\"\n  156.253,2046.25 156.253,47.2441 \n  \"/>\n<polyline clip-path=\"url(#clip510)\" style=\"stroke:#000000; stroke-linecap:butt; stroke-linejoin:round; stroke-width:4; stroke-opacity:1; fill:none\" points=\"\n  156.253,2046.25 175.151,2046.25 \n  \"/>\n<polyline clip-path=\"url(#clip510)\" style=\"stroke:#000000; stroke-linecap:butt; stroke-linejoin:round; stroke-width:4; stroke-opacity:1; fill:none\" points=\"\n  156.253,1488.11 175.151,1488.11 \n  \"/>\n<polyline clip-path=\"url(#clip510)\" style=\"stroke:#000000; stroke-linecap:butt; stroke-linejoin:round; stroke-width:4; stroke-opacity:1; fill:none\" points=\"\n  156.253,929.979 175.151,929.979 \n  \"/>\n<polyline clip-path=\"url(#clip510)\" style=\"stroke:#000000; stroke-linecap:butt; stroke-linejoin:round; stroke-width:4; stroke-opacity:1; fill:none\" points=\"\n  156.253,371.844 175.151,371.844 \n  \"/>\n<path clip-path=\"url(#clip510)\" d=\"M86.7086 2032.05 Q83.0975 2032.05 81.2688 2035.61 Q79.4632 2039.15 79.4632 2046.28 Q79.4632 2053.39 81.2688 2056.95 Q83.0975 2060.5 86.7086 2060.5 Q90.3428 2060.5 92.1483 2056.95 Q93.977 2053.39 93.977 2046.28 Q93.977 2039.15 92.1483 2035.61 Q90.3428 2032.05 86.7086 2032.05 M86.7086 2028.34 Q92.5187 2028.34 95.5743 2032.95 Q98.6529 2037.53 98.6529 2046.28 Q98.6529 2055.01 95.5743 2059.62 Q92.5187 2064.2 86.7086 2064.2 Q80.8984 2064.2 77.8197 2059.62 Q74.7642 2055.01 74.7642 2046.28 Q74.7642 2037.53 77.8197 2032.95 Q80.8984 2028.34 86.7086 2028.34 Z\" fill=\"#000000\" fill-rule=\"evenodd\" fill-opacity=\"1\" /><path clip-path=\"url(#clip510)\" d=\"M50.5745 1501.46 L66.8939 1501.46 L66.8939 1505.39 L44.9495 1505.39 L44.9495 1501.46 Q47.6115 1498.7 52.1949 1494.07 Q56.8013 1489.42 57.9819 1488.08 Q60.2272 1485.56 61.1068 1483.82 Q62.0096 1482.06 62.0096 1480.37 Q62.0096 1477.62 60.0652 1475.88 Q58.1439 1474.14 55.0421 1474.14 Q52.843 1474.14 50.3893 1474.91 Q47.9588 1475.67 45.181 1477.22 L45.181 1472.5 Q48.0051 1471.37 50.4588 1470.79 Q52.9124 1470.21 54.9495 1470.21 Q60.3198 1470.21 63.5142 1472.89 Q66.7087 1475.58 66.7087 1480.07 Q66.7087 1482.2 65.8985 1484.12 Q65.1115 1486.02 63.005 1488.61 Q62.4263 1489.28 59.3245 1492.5 Q56.2226 1495.69 50.5745 1501.46 Z\" fill=\"#000000\" fill-rule=\"evenodd\" fill-opacity=\"1\" /><path clip-path=\"url(#clip510)\" d=\"M86.7086 1473.91 Q83.0975 1473.91 81.2688 1477.48 Q79.4632 1481.02 79.4632 1488.15 Q79.4632 1495.25 81.2688 1498.82 Q83.0975 1502.36 86.7086 1502.36 Q90.3428 1502.36 92.1483 1498.82 Q93.977 1495.25 93.977 1488.15 Q93.977 1481.02 92.1483 1477.48 Q90.3428 1473.91 86.7086 1473.91 M86.7086 1470.21 Q92.5187 1470.21 95.5743 1474.81 Q98.6529 1479.4 98.6529 1488.15 Q98.6529 1496.87 95.5743 1501.48 Q92.5187 1506.06 86.7086 1506.06 Q80.8984 1506.06 77.8197 1501.48 Q74.7642 1496.87 74.7642 1488.15 Q74.7642 1479.4 77.8197 1474.81 Q80.8984 1470.21 86.7086 1470.21 Z\" fill=\"#000000\" fill-rule=\"evenodd\" fill-opacity=\"1\" /><path clip-path=\"url(#clip510)\" d=\"M59.3939 916.773 L47.5884 935.222 L59.3939 935.222 L59.3939 916.773 M58.167 912.699 L64.0466 912.699 L64.0466 935.222 L68.9772 935.222 L68.9772 939.111 L64.0466 939.111 L64.0466 947.259 L59.3939 947.259 L59.3939 939.111 L43.7921 939.111 L43.7921 934.597 L58.167 912.699 Z\" fill=\"#000000\" fill-rule=\"evenodd\" fill-opacity=\"1\" /><path clip-path=\"url(#clip510)\" d=\"M86.7086 915.777 Q83.0975 915.777 81.2688 919.342 Q79.4632 922.884 79.4632 930.013 Q79.4632 937.12 81.2688 940.685 Q83.0975 944.226 86.7086 944.226 Q90.3428 944.226 92.1483 940.685 Q93.977 937.12 93.977 930.013 Q93.977 922.884 92.1483 919.342 Q90.3428 915.777 86.7086 915.777 M86.7086 912.074 Q92.5187 912.074 95.5743 916.68 Q98.6529 921.264 98.6529 930.013 Q98.6529 938.74 95.5743 943.347 Q92.5187 947.93 86.7086 947.93 Q80.8984 947.93 77.8197 943.347 Q74.7642 938.74 74.7642 930.013 Q74.7642 921.264 77.8197 916.68 Q80.8984 912.074 86.7086 912.074 Z\" fill=\"#000000\" fill-rule=\"evenodd\" fill-opacity=\"1\" /><path clip-path=\"url(#clip510)\" d=\"M57.1254 369.981 Q53.9773 369.981 52.1254 372.134 Q50.2967 374.286 50.2967 378.036 Q50.2967 381.763 52.1254 383.939 Q53.9773 386.092 57.1254 386.092 Q60.2735 386.092 62.1022 383.939 Q63.9541 381.763 63.9541 378.036 Q63.9541 374.286 62.1022 372.134 Q60.2735 369.981 57.1254 369.981 M66.4077 355.328 L66.4077 359.587 Q64.6485 358.754 62.8429 358.314 Q61.0606 357.874 59.3013 357.874 Q54.6717 357.874 52.218 360.999 Q49.7875 364.124 49.4402 370.444 Q50.806 368.43 52.8662 367.365 Q54.9263 366.277 57.4032 366.277 Q62.6115 366.277 65.6207 369.448 Q68.6531 372.596 68.6531 378.036 Q68.6531 383.36 65.505 386.578 Q62.3568 389.795 57.1254 389.795 Q51.13 389.795 47.9588 385.212 Q44.7875 380.606 44.7875 371.879 Q44.7875 363.684 48.6764 358.823 Q52.5652 353.939 59.1161 353.939 Q60.8754 353.939 62.6578 354.286 Q64.4633 354.634 66.4077 355.328 Z\" fill=\"#000000\" fill-rule=\"evenodd\" fill-opacity=\"1\" /><path clip-path=\"url(#clip510)\" d=\"M86.7086 357.643 Q83.0975 357.643 81.2688 361.208 Q79.4632 364.749 79.4632 371.879 Q79.4632 378.985 81.2688 382.55 Q83.0975 386.092 86.7086 386.092 Q90.3428 386.092 92.1483 382.55 Q93.977 378.985 93.977 371.879 Q93.977 364.749 92.1483 361.208 Q90.3428 357.643 86.7086 357.643 M86.7086 353.939 Q92.5187 353.939 95.5743 358.546 Q98.6529 363.129 98.6529 371.879 Q98.6529 380.606 95.5743 385.212 Q92.5187 389.795 86.7086 389.795 Q80.8984 389.795 77.8197 385.212 Q74.7642 380.606 74.7642 371.879 Q74.7642 363.129 77.8197 358.546 Q80.8984 353.939 86.7086 353.939 Z\" fill=\"#000000\" fill-rule=\"evenodd\" fill-opacity=\"1\" /><polyline clip-path=\"url(#clip512)\" style=\"stroke:#000000; stroke-linecap:butt; stroke-linejoin:round; stroke-width:4; stroke-opacity:1; fill:none\" points=\"\n  214.906,2046.25 214.906,1798.58 332.213,1798.58 332.213,2046.25 \n  \"/>\n<polyline clip-path=\"url(#clip512)\" style=\"stroke:#000000; stroke-linecap:butt; stroke-linejoin:round; stroke-width:4; stroke-opacity:1; fill:none\" points=\"\n  2443.73,2046.25 2443.73,1722.12 2561.04,1722.12 2561.04,2046.25 \n  \"/>\n<polyline clip-path=\"url(#clip512)\" style=\"stroke:#000000; stroke-linecap:butt; stroke-linejoin:round; stroke-width:4; stroke-opacity:1; fill:none\" points=\"\n  1505.28,2046.25 1505.28,1719.94 1622.58,1719.94 1622.58,2046.25 \n  \"/>\n<polyline clip-path=\"url(#clip512)\" style=\"stroke:#000000; stroke-linecap:butt; stroke-linejoin:round; stroke-width:4; stroke-opacity:1; fill:none\" points=\"\n  1387.97,2046.25 1387.97,1707 1563.93,1707 1563.93,1719.94 \n  \"/>\n<polyline clip-path=\"url(#clip512)\" style=\"stroke:#000000; stroke-linecap:butt; stroke-linejoin:round; stroke-width:4; stroke-opacity:1; fill:none\" points=\"\n  2326.42,2046.25 2326.42,1692.29 2502.38,1692.29 2502.38,1722.12 \n  \"/>\n<polyline clip-path=\"url(#clip512)\" style=\"stroke:#000000; stroke-linecap:butt; stroke-linejoin:round; stroke-width:4; stroke-opacity:1; fill:none\" points=\"\n  2209.12,2046.25 2209.12,1674.44 2414.4,1674.44 2414.4,1692.29 \n  \"/>\n<polyline clip-path=\"url(#clip512)\" style=\"stroke:#000000; stroke-linecap:butt; stroke-linejoin:round; stroke-width:4; stroke-opacity:1; fill:none\" points=\"\n  3382.18,2046.25 3382.18,1593.78 3499.49,1593.78 3499.49,2046.25 \n  \"/>\n<polyline clip-path=\"url(#clip512)\" style=\"stroke:#000000; stroke-linecap:butt; stroke-linejoin:round; stroke-width:4; stroke-opacity:1; fill:none\" points=\"\n  1270.67,2046.25 1270.67,1572.44 1475.95,1572.44 1475.95,1707 \n  \"/>\n<polyline clip-path=\"url(#clip512)\" style=\"stroke:#000000; stroke-linecap:butt; stroke-linejoin:round; stroke-width:4; stroke-opacity:1; fill:none\" points=\"\n  3030.26,2046.25 3030.26,1525.14 3147.57,1525.14 3147.57,2046.25 \n  \"/>\n<polyline clip-path=\"url(#clip512)\" style=\"stroke:#000000; stroke-linecap:butt; stroke-linejoin:round; stroke-width:4; stroke-opacity:1; fill:none\" points=\"\n  449.519,2046.25 449.519,1511.26 566.826,1511.26 566.826,2046.25 \n  \"/>\n<polyline clip-path=\"url(#clip512)\" style=\"stroke:#000000; stroke-linecap:butt; stroke-linejoin:round; stroke-width:4; stroke-opacity:1; fill:none\" points=\"\n  1153.36,2046.25 1153.36,1493.49 1373.31,1493.49 1373.31,1572.44 \n  \"/>\n<polyline clip-path=\"url(#clip512)\" style=\"stroke:#000000; stroke-linecap:butt; stroke-linejoin:round; stroke-width:4; stroke-opacity:1; fill:none\" points=\"\n  801.439,2046.25 801.439,1459.13 918.745,1459.13 918.745,2046.25 \n  \"/>\n<polyline clip-path=\"url(#clip512)\" style=\"stroke:#000000; stroke-linecap:butt; stroke-linejoin:round; stroke-width:4; stroke-opacity:1; fill:none\" points=\"\n  2091.81,2046.25 2091.81,1426.27 2311.76,1426.27 2311.76,1674.44 \n  \"/>\n<polyline clip-path=\"url(#clip512)\" style=\"stroke:#000000; stroke-linecap:butt; stroke-linejoin:round; stroke-width:4; stroke-opacity:1; fill:none\" points=\"\n  1974.5,2046.25 1974.5,1397.99 2201.79,1397.99 2201.79,1426.27 \n  \"/>\n<polyline clip-path=\"url(#clip512)\" style=\"stroke:#000000; stroke-linecap:butt; stroke-linejoin:round; stroke-width:4; stroke-opacity:1; fill:none\" points=\"\n  3264.88,2046.25 3264.88,1341.58 3440.84,1341.58 3440.84,1593.78 \n  \"/>\n<polyline clip-path=\"url(#clip512)\" style=\"stroke:#000000; stroke-linecap:butt; stroke-linejoin:round; stroke-width:4; stroke-opacity:1; fill:none\" points=\"\n  1857.2,2046.25 1857.2,1317.47 2088.15,1317.47 2088.15,1397.99 \n  \"/>\n<polyline clip-path=\"url(#clip512)\" style=\"stroke:#000000; stroke-linecap:butt; stroke-linejoin:round; stroke-width:4; stroke-opacity:1; fill:none\" points=\"\n  1739.89,2046.25 1739.89,1304.29 1972.67,1304.29 1972.67,1317.47 \n  \"/>\n<polyline clip-path=\"url(#clip512)\" style=\"stroke:#000000; stroke-linecap:butt; stroke-linejoin:round; stroke-width:4; stroke-opacity:1; fill:none\" points=\"\n  1263.33,1493.49 1263.33,1228.67 1856.28,1228.67 1856.28,1304.29 \n  \"/>\n<polyline clip-path=\"url(#clip512)\" style=\"stroke:#000000; stroke-linecap:butt; stroke-linejoin:round; stroke-width:4; stroke-opacity:1; fill:none\" points=\"\n  3088.92,1525.14 3088.92,1209.61 3352.86,1209.61 3352.86,1341.58 \n  \"/>\n<polyline clip-path=\"url(#clip512)\" style=\"stroke:#000000; stroke-linecap:butt; stroke-linejoin:round; stroke-width:4; stroke-opacity:1; fill:none\" points=\"\n  2912.96,2046.25 2912.96,1153.22 3220.89,1153.22 3220.89,1209.61 \n  \"/>\n<polyline clip-path=\"url(#clip512)\" style=\"stroke:#000000; stroke-linecap:butt; stroke-linejoin:round; stroke-width:4; stroke-opacity:1; fill:none\" points=\"\n  684.132,2046.25 684.132,1141.23 860.092,1141.23 860.092,1459.13 \n  \"/>\n<polyline clip-path=\"url(#clip512)\" style=\"stroke:#000000; stroke-linecap:butt; stroke-linejoin:round; stroke-width:4; stroke-opacity:1; fill:none\" points=\"\n  1036.05,2046.25 1036.05,1138.38 1559.81,1138.38 1559.81,1228.67 \n  \"/>\n<polyline clip-path=\"url(#clip512)\" style=\"stroke:#000000; stroke-linecap:butt; stroke-linejoin:round; stroke-width:4; stroke-opacity:1; fill:none\" points=\"\n  772.112,1141.23 772.112,1112.62 1297.93,1112.62 1297.93,1138.38 \n  \"/>\n<polyline clip-path=\"url(#clip512)\" style=\"stroke:#000000; stroke-linecap:butt; stroke-linejoin:round; stroke-width:4; stroke-opacity:1; fill:none\" points=\"\n  2795.65,2046.25 2795.65,1107.51 3066.92,1107.51 3066.92,1153.22 \n  \"/>\n<polyline clip-path=\"url(#clip512)\" style=\"stroke:#000000; stroke-linecap:butt; stroke-linejoin:round; stroke-width:4; stroke-opacity:1; fill:none\" points=\"\n  2678.34,2046.25 2678.34,1099.79 2931.29,1099.79 2931.29,1107.51 \n  \"/>\n<polyline clip-path=\"url(#clip512)\" style=\"stroke:#000000; stroke-linecap:butt; stroke-linejoin:round; stroke-width:4; stroke-opacity:1; fill:none\" points=\"\n  1035.02,1112.62 1035.02,1085.96 2804.81,1085.96 2804.81,1099.79 \n  \"/>\n<polyline clip-path=\"url(#clip512)\" style=\"stroke:#000000; stroke-linecap:butt; stroke-linejoin:round; stroke-width:4; stroke-opacity:1; fill:none\" points=\"\n  508.173,1511.26 508.173,1079.02 1919.92,1079.02 1919.92,1085.96 \n  \"/>\n<polyline clip-path=\"url(#clip512)\" style=\"stroke:#000000; stroke-linecap:butt; stroke-linejoin:round; stroke-width:4; stroke-opacity:1; fill:none\" points=\"\n  3616.8,2046.25 3616.8,1044.51 3734.1,1044.51 3734.1,2046.25 \n  \"/>\n<polyline clip-path=\"url(#clip512)\" style=\"stroke:#000000; stroke-linecap:butt; stroke-linejoin:round; stroke-width:4; stroke-opacity:1; fill:none\" points=\"\n  1214.05,1079.02 1214.05,94.0956 3675.45,94.0956 3675.45,1044.51 \n  \"/>\n<polyline clip-path=\"url(#clip512)\" style=\"stroke:#000000; stroke-linecap:butt; stroke-linejoin:round; stroke-width:4; stroke-opacity:1; fill:none\" points=\"\n  273.559,1798.58 273.559,47.2441 2444.75,47.2441 2444.75,94.0956 \n  \"/>\n</svg>\n"
     },
     "execution_count": 44,
     "metadata": {},
     "output_type": "execute_result"
    }
   ],
   "source": [
    "hc10 = hierarchical_clustering(reconstructed, 30, pos, labels)\n",
    "plot(hc10, size = (1920/2, 1080/2))"
   ]
  },
  {
   "cell_type": "code",
   "execution_count": 45,
   "metadata": {},
   "outputs": [],
   "source": [
    "plots_db = []\n",
    "ref = Plots.plot(data[\"target.cif\"], label = \"referencia\")\n",
    "ylabel!(L\"\\textrm{Transmitancia}\")\n",
    "xlabel!(L\"\\textrm{Nro de onda} (cm^-1)\")\n",
    "for label in labels[idx10masparecidos]\n",
    "    x,y = data[label]\n",
    "    pi = plot(ref)\n",
    "    title!(label)\n",
    "    push!(plots_db,plot!(pi,x,y./100, legend = false))\n",
    "end\n",
    "plot(plots_db..., size = (8000,3000))\n",
    "savefig(\"to2.png\")"
   ]
  },
  {
   "cell_type": "code",
   "execution_count": 46,
   "metadata": {},
   "outputs": [
    {
     "data": {
      "text/plain": [
       "10-element Vector{String}:\n",
       " \"ANUGOG_freeONLY\"\n",
       " \"OKAYIK_freeONLY\"\n",
       " \"VIWLAQ_freeONLY\"\n",
       " \"OLOPOW_freeONLY\"\n",
       " \"GERWIL_charged\"\n",
       " \"HAJMEL_freeONLY\"\n",
       " \"OKIKAV_charged\"\n",
       " \"ISIYUF01_freeONLY\"\n",
       " \"HETZUC_charged\"\n",
       " \"REZJIR_freeONLY\""
      ]
     },
     "execution_count": 46,
     "metadata": {},
     "output_type": "execute_result"
    }
   ],
   "source": [
    "mtch = labels[idx10masparecidos] .|> x -> x[begin:end-4]"
   ]
  },
  {
   "cell_type": "code",
   "execution_count": 47,
   "metadata": {},
   "outputs": [],
   "source": [
    "diezmasparecidos = filter(:filename => filename -> filename ∈ mtch , df_fsr)\n",
    "CSV.write(\"10masparecidos.csv\", diezmasparecidos)"
   ]
  },
  {
   "cell_type": "code",
   "execution_count": null,
   "metadata": {},
   "outputs": [
    {
     "data": {
      "text/plain": [
       "\"same_cluster.csv\""
      ]
     },
     "execution_count": 28,
     "metadata": {},
     "output_type": "execute_result"
    }
   ],
   "source": [
    "same_cluster = filter(:cluster_assignment =>  x -> x == 4, df_fsr)\n",
    "CSV.write(\"same_cluster.csv\", same_cluster)"
   ]
  }
 ],
 "metadata": {
  "kernelspec": {
   "display_name": "Julia 1.7.1",
   "language": "julia",
   "name": "julia-1.7"
  },
  "language_info": {
   "file_extension": ".jl",
   "mimetype": "application/julia",
   "name": "julia",
   "version": "1.7.1"
  }
 },
 "nbformat": 4,
 "nbformat_minor": 2
}
