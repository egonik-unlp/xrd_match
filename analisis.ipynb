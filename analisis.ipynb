{
 "cells": [
  {
   "cell_type": "code",
   "execution_count": 1,
   "metadata": {},
   "outputs": [
    {
     "ename": "ErrorException",
     "evalue": "Failed to precompile Plots [91a5bcdd-55d7-5caf-9e0b-520d859cae80] to /home/gonik/.julia/compiled/v1.7/Plots/jl_t1k8Aq.",
     "output_type": "error",
     "traceback": [
      "Failed to precompile Plots [91a5bcdd-55d7-5caf-9e0b-520d859cae80] to /home/gonik/.julia/compiled/v1.7/Plots/jl_t1k8Aq.\n",
      "\n",
      "Stacktrace:\n",
      "  [1] error(s::String)\n",
      "    @ Base ./error.jl:33\n",
      "  [2] compilecache(pkg::Base.PkgId, path::String, internal_stderr::IO, internal_stdout::IO, ignore_loaded_modules::Bool)\n",
      "    @ Base ./loading.jl:1466\n",
      "  [3] compilecache(pkg::Base.PkgId, path::String)\n",
      "    @ Base ./loading.jl:1410\n",
      "  [4] _require(pkg::Base.PkgId)\n",
      "    @ Base ./loading.jl:1120\n",
      "  [5] require(uuidkey::Base.PkgId)\n",
      "    @ Base ./loading.jl:1013\n",
      "  [6] require(into::Module, mod::Symbol)\n",
      "    @ Base ./loading.jl:997\n",
      "  [7] eval\n",
      "    @ ./boot.jl:373 [inlined]\n",
      "  [8] include_string(mapexpr::typeof(REPL.softscope), mod::Module, code::String, filename::String)\n",
      "    @ Base ./loading.jl:1196\n",
      "  [9] #invokelatest#2\n",
      "    @ ./essentials.jl:716 [inlined]\n",
      " [10] invokelatest\n",
      "    @ ./essentials.jl:714 [inlined]\n",
      " [11] (::VSCodeServer.var\"#164#165\"{VSCodeServer.NotebookRunCellArguments, String})()\n",
      "    @ VSCodeServer ~/.vscode-server/extensions/julialang.language-julia-1.6.17/scripts/packages/VSCodeServer/src/serve_notebook.jl:19\n",
      " [12] withpath(f::VSCodeServer.var\"#164#165\"{VSCodeServer.NotebookRunCellArguments, String}, path::String)\n",
      "    @ VSCodeServer ~/.vscode-server/extensions/julialang.language-julia-1.6.17/scripts/packages/VSCodeServer/src/repl.jl:184\n",
      " [13] notebook_runcell_request(conn::VSCodeServer.JSONRPC.JSONRPCEndpoint{Base.PipeEndpoint, Base.PipeEndpoint}, params::VSCodeServer.NotebookRunCellArguments)\n",
      "    @ VSCodeServer ~/.vscode-server/extensions/julialang.language-julia-1.6.17/scripts/packages/VSCodeServer/src/serve_notebook.jl:13\n",
      " [14] dispatch_msg(x::VSCodeServer.JSONRPC.JSONRPCEndpoint{Base.PipeEndpoint, Base.PipeEndpoint}, dispatcher::VSCodeServer.JSONRPC.MsgDispatcher, msg::Dict{String, Any})\n",
      "    @ VSCodeServer.JSONRPC ~/.vscode-server/extensions/julialang.language-julia-1.6.17/scripts/packages/JSONRPC/src/typed.jl:67\n",
      " [15] serve_notebook(pipename::String, outputchannel_logger::Base.CoreLogging.SimpleLogger; crashreporting_pipename::String)\n",
      "    @ VSCodeServer ~/.vscode-server/extensions/julialang.language-julia-1.6.17/scripts/packages/VSCodeServer/src/serve_notebook.jl:136\n",
      " [16] top-level scope\n",
      "    @ ~/.vscode-server/extensions/julialang.language-julia-1.6.17/scripts/notebook/notebook.jl:32\n",
      " [17] include(mod::Module, _path::String)\n",
      "    @ Base ./Base.jl:418\n",
      " [18] exec_options(opts::Base.JLOptions)\n",
      "    @ Base ./client.jl:292\n",
      " [19] _start()\n",
      "    @ Base ./client.jl:495"
     ]
    }
   ],
   "source": [
    "using Plots, JSON, Peaks, OrderedCollections, DataFrames, StatsPlots, LaTeXStrings, StatsBase, MultivariateStats, Clustering, CSV, Distances, PGFPlotsX\n",
    "gr()"
   ]
  },
  {
   "cell_type": "code",
   "execution_count": 2,
   "metadata": {},
   "outputs": [
    {
     "ename": "UndefVarError",
     "evalue": "UndefVarError: CSV not defined",
     "output_type": "error",
     "traceback": [
      "UndefVarError: CSV not defined\n",
      "\n",
      "Stacktrace:\n",
      "  [1] top-level scope\n",
      "    @ ~/Documents/git/xrd_match/analisis.ipynb:1\n",
      "  [2] eval\n",
      "    @ ./boot.jl:373 [inlined]\n",
      "  [3] include_string(mapexpr::typeof(REPL.softscope), mod::Module, code::String, filename::String)\n",
      "    @ Base ./loading.jl:1196\n",
      "  [4] #invokelatest#2\n",
      "    @ ./essentials.jl:716 [inlined]\n",
      "  [5] invokelatest\n",
      "    @ ./essentials.jl:714 [inlined]\n",
      "  [6] (::VSCodeServer.var\"#164#165\"{VSCodeServer.NotebookRunCellArguments, String})()\n",
      "    @ VSCodeServer ~/.vscode-server/extensions/julialang.language-julia-1.6.17/scripts/packages/VSCodeServer/src/serve_notebook.jl:19\n",
      "  [7] withpath(f::VSCodeServer.var\"#164#165\"{VSCodeServer.NotebookRunCellArguments, String}, path::String)\n",
      "    @ VSCodeServer ~/.vscode-server/extensions/julialang.language-julia-1.6.17/scripts/packages/VSCodeServer/src/repl.jl:184\n",
      "  [8] notebook_runcell_request(conn::VSCodeServer.JSONRPC.JSONRPCEndpoint{Base.PipeEndpoint, Base.PipeEndpoint}, params::VSCodeServer.NotebookRunCellArguments)\n",
      "    @ VSCodeServer ~/.vscode-server/extensions/julialang.language-julia-1.6.17/scripts/packages/VSCodeServer/src/serve_notebook.jl:13\n",
      "  [9] dispatch_msg(x::VSCodeServer.JSONRPC.JSONRPCEndpoint{Base.PipeEndpoint, Base.PipeEndpoint}, dispatcher::VSCodeServer.JSONRPC.MsgDispatcher, msg::Dict{String, Any})\n",
      "    @ VSCodeServer.JSONRPC ~/.vscode-server/extensions/julialang.language-julia-1.6.17/scripts/packages/JSONRPC/src/typed.jl:67\n",
      " [10] serve_notebook(pipename::String, outputchannel_logger::Base.CoreLogging.SimpleLogger; crashreporting_pipename::String)\n",
      "    @ VSCodeServer ~/.vscode-server/extensions/julialang.language-julia-1.6.17/scripts/packages/VSCodeServer/src/serve_notebook.jl:136\n",
      " [11] top-level scope\n",
      "    @ ~/.vscode-server/extensions/julialang.language-julia-1.6.17/scripts/notebook/notebook.jl:32\n",
      " [12] include(mod::Module, _path::String)\n",
      "    @ Base ./Base.jl:418\n",
      " [13] exec_options(opts::Base.JLOptions)\n",
      "    @ Base ./client.jl:292\n",
      " [14] _start()\n",
      "    @ Base ./client.jl:495"
     ]
    }
   ],
   "source": [
    "master_df = CSV.File(\"2019-07-01-FSR-public_7061.csv\") |> DataFrame;"
   ]
  },
  {
   "cell_type": "code",
   "execution_count": 3,
   "metadata": {},
   "outputs": [],
   "source": [
    "filename = \"patterns_540.json\"\n",
    "if !isfile(filename)\n",
    "\tfilename = download(\"https://transfer.sh/wel5mB/patterns_540.json\")\n",
    "end"
   ]
  },
  {
   "cell_type": "code",
   "execution_count": null,
   "metadata": {},
   "outputs": [],
   "source": [
    "data = JSON.parsefile(filename, \n",
    "    dicttype=Dict,\n",
    "    inttype=Int64,\n",
    "    );"
   ]
  },
  {
   "cell_type": "code",
   "execution_count": null,
   "metadata": {},
   "outputs": [],
   "source": [
    "tgt = CSV.File(\"xe.dat\") |> DataFrame\n",
    "data[\"target.cif\"] = tgt.theta,tgt.int"
   ]
  },
  {
   "cell_type": "code",
   "execution_count": null,
   "metadata": {},
   "outputs": [],
   "source": [
    "\n",
    "len = 10\n",
    "loc_valor = map(data |> values) do (x,y)\n",
    "    pks, vals = findmaxima(y)\n",
    "    pks, proms = peakproms(pks, y)\n",
    "    # rt = sort(vals, rev = :true) |> vals -> length(vals) > len ? vals[begin:len] : nothing\n",
    "    rt = sort(proms, rev = :true) |> proms -> length(proms) > len ? proms[begin:len] : nothing #Ordeno por promincencia\n",
    "    rtl = isnothing(rt) ? 0 : length(rt)\n",
    "    rtl > 0 ? (x[begin:rtl], rt) : nothing #Retorno nothing si no hay numero suficiente de picos\n",
    "end;"
   ]
  },
  {
   "cell_type": "code",
   "execution_count": null,
   "metadata": {},
   "outputs": [],
   "source": [
    "idx = findall(!isnothing, loc_valor);\n",
    "loc_valor = loc_valor[idx];\n",
    "labels = (data |> keys |> collect)[idx];\n",
    "println(length(loc_valor))"
   ]
  },
  {
   "cell_type": "code",
   "execution_count": null,
   "metadata": {},
   "outputs": [],
   "source": [
    "@assert \"target.cif\" ∈ labels"
   ]
  },
  {
   "cell_type": "code",
   "execution_count": null,
   "metadata": {},
   "outputs": [],
   "source": [
    "key = keys(data) |> collect |> sample\n",
    "key = \"target.cif\" \n",
    "x,y = data[key]\n",
    "pos = findall(x -> x == key, data |> keys |> collect ) |> first\n",
    "# \n",
    "# df = DataFrame(x = x, y=y)\n",
    "# p = @df df Plots.plot(:x, :y,\n",
    "    # title=key,\n",
    "    # xlabel=L\"2\\theta\",\n",
    "    # ylabel=\"Intensity\",\n",
    "# ) \n",
    "# \n",
    "# locs = loc_valor[pos][1]\n",
    "# \n",
    "# for pk ∈ locs\n",
    "    # vline!([pk], label = :false, color = :green)\n",
    "# end\n",
    "# p"
   ]
  },
  {
   "cell_type": "code",
   "execution_count": null,
   "metadata": {},
   "outputs": [],
   "source": [
    "data_pc = map(loc_valor) do (x,y)\n",
    "    vcat(x,y)' |> Array{Float64}\n",
    "end #|> x -> vcat(x...)\n",
    "pca_raw_data = vcat(data_pc...) ;\n"
   ]
  },
  {
   "cell_type": "code",
   "execution_count": 54,
   "metadata": {},
   "outputs": [
    {
     "data": {
      "text/plain": [
       "PCA(indim = 20, outdim = 4, principalratio = 0.9787833269804972)\n",
       "\n",
       "Pattern matrix (unstandardized loadings):\n",
       "───────────────────────────────────────────────\n",
       "          PC1          PC2       PC3        PC4\n",
       "───────────────────────────────────────────────\n",
       "1   -0.374159    0.134616    1.11275   1.17401\n",
       "2   -0.610492    0.216652    1.48745   1.50153\n",
       "3   -0.807258    0.202155    1.72896   1.88233\n",
       "4   -0.918656    0.171877    1.91591   2.14886\n",
       "5   -1.0461      0.140371    2.14299   2.39857\n",
       "6   -1.13142     0.122775    2.2677    2.62428\n",
       "7   -1.23126     0.114974    2.40782   2.81963\n",
       "8   -1.30249     0.0994621   2.5436    2.974\n",
       "9   -1.37451     0.104825    2.68137   3.17077\n",
       "10  -1.42292     0.102723    2.79514   3.33346\n",
       "11  33.19      -11.671       1.17679   0.157218\n",
       "12  17.4612     11.3032     -5.74397   4.77673\n",
       "13   9.92174     8.32        2.30759  -1.87947\n",
       "14   6.76029     6.08705     3.02734  -2.29429\n",
       "15   5.14933     4.79748     2.72095  -1.96636\n",
       "16   4.0872      3.80942     2.36355  -1.55578\n",
       "17   3.33106     3.09112     1.95382  -1.26814\n",
       "18   2.81779     2.60814     1.66908  -1.07501\n",
       "19   2.42593     2.23488     1.43327  -0.909888\n",
       "20   2.15169     1.99902     1.27638  -0.812603\n",
       "───────────────────────────────────────────────\n",
       "\n",
       "Importance of components:\n",
       "────────────────────────────────────────────────────────────────────────────\n",
       "                                   PC1         PC2          PC3          PC4\n",
       "────────────────────────────────────────────────────────────────────────────\n",
       "SS Loadings (Eigenvalues)  1634.9       433.34      119.26       104.571\n",
       "Variance explained            0.698151    0.185049    0.0509277    0.0446552\n",
       "Cumulative variance           0.698151    0.8832      0.934128     0.978783\n",
       "Proportion explained          0.713285    0.18906     0.0520316    0.0456232\n",
       "Cumulative proportion         0.713285    0.902345    0.954377     1.0\n",
       "────────────────────────────────────────────────────────────────────────────"
      ]
     },
     "execution_count": 54,
     "metadata": {},
     "output_type": "execute_result"
    }
   ],
   "source": [
    "M = fit(PCA, pca_raw_data', maxoutdim = 4) "
   ]
  },
  {
   "cell_type": "code",
   "execution_count": 55,
   "metadata": {},
   "outputs": [
    {
     "data": {
      "text/plain": [
       "4×6810 Matrix{Float64}:\n",
       "  30.4759  -55.0102   56.3279   58.0345   …  -20.0279   -58.5983   -15.0652\n",
       " -22.7406  -20.2703    2.02487  -4.26704      35.8636   -44.7481    43.9096\n",
       " -16.7349  -14.5135   -6.53756  -8.53226       1.66007   -4.02849   -1.61992\n",
       "  14.3176   -9.90353   9.47116   9.31531     -13.6428    -2.53518   -5.52756"
      ]
     },
     "execution_count": 55,
     "metadata": {},
     "output_type": "execute_result"
    }
   ],
   "source": [
    "reconstructed = predict(M, pca_raw_data')"
   ]
  },
  {
   "cell_type": "code",
   "execution_count": 56,
   "metadata": {},
   "outputs": [
    {
     "name": "stdout",
     "output_type": "stream",
     "text": [
      "  Iters               objv        objv-change | affected \n",
      "-------------------------------------------------------------\n",
      "      0       3.402017e+06\n",
      "      1       2.134388e+06      -1.267629e+06 |       10\n",
      "      2       2.056019e+06      -7.836843e+04 |       10\n",
      "      3       2.028959e+06      -2.706042e+04 |       10\n",
      "      4       2.014698e+06      -1.426112e+04 |       10\n",
      "      5       2.004874e+06      -9.823667e+03 |        9\n",
      "      6       1.997717e+06      -7.157159e+03 |        9\n",
      "      7       1.988266e+06      -9.450971e+03 |       10\n",
      "      8       1.975032e+06      -1.323380e+04 |       10\n",
      "      9       1.963249e+06      -1.178289e+04 |        9\n",
      "     10       1.954188e+06      -9.061034e+03 |        9\n",
      "     11       1.947768e+06      -6.420021e+03 |       10\n",
      "     12       1.943465e+06      -4.303386e+03 |       10\n",
      "     13       1.940712e+06      -2.753223e+03 |       10\n",
      "     14       1.938751e+06      -1.960359e+03 |        9\n",
      "     15       1.935657e+06      -3.093877e+03 |       10\n",
      "     16       1.933913e+06      -1.744691e+03 |       10\n",
      "     17       1.933122e+06      -7.911311e+02 |       10\n",
      "     18       1.932886e+06      -2.354630e+02 |        9\n",
      "     19       1.932792e+06      -9.405569e+01 |        7\n",
      "     20       1.932743e+06      -4.865985e+01 |        5\n",
      "     21       1.932731e+06      -1.241554e+01 |        3\n",
      "     22       1.932717e+06      -1.403594e+01 |        3\n",
      "     23       1.932696e+06      -2.096985e+01 |        6\n",
      "     24       1.932649e+06      -4.739802e+01 |        5\n",
      "     25       1.932613e+06      -3.532681e+01 |        4\n",
      "     26       1.932554e+06      -5.910352e+01 |        2\n",
      "     27       1.932545e+06      -8.687308e+00 |        2\n",
      "     28       1.932519e+06      -2.670591e+01 |        3\n",
      "     29       1.932508e+06      -1.053045e+01 |        2\n",
      "     30       1.932502e+06      -6.708150e+00 |        2\n",
      "     31       1.932499e+06      -2.168463e+00 |        2\n",
      "     32       1.932497e+06      -2.435254e+00 |        0\n",
      "     33       1.932497e+06       0.000000e+00 |        0\n",
      "K-means converged with 33 iterations (objv = 1.9324969401808314e6)\n"
     ]
    },
    {
     "data": {
      "text/plain": [
       "KmeansResult{Matrix{Float64}, Float64, Int64}([6.093133210723201 -15.99178708998514 … -19.056441962787215 -12.166887977395207; 7.116706069426416 20.64382231014958 … 31.81597044050878 -20.491131954186457; 1.1969242022977749 -16.064707652401683 … -0.8276648101465911 -0.5154743306187779; -1.9762718888441126 11.985723896855076 … -5.236259133278503 0.27980991043790127], [8, 6, 5, 5, 8, 8, 1, 1, 4, 5  …  1, 9, 1, 9, 2, 9, 6, 9, 6, 9], [700.8318905906622, 193.8558625306141, 204.47190484578732, 177.21156361225167, 330.39651603304424, 26.665593135896415, 265.8415208275677, 250.51523680836283, 742.1598336444513, 47.49009146012213  …  120.84655007702602, 169.2106028150356, 260.29682112067417, 72.83543130264252, 221.2573701758181, 42.865905456164455, 359.61510711944356, 94.18609502377831, 310.8946964296356, 162.89869433294416], [553, 349, 380, 121, 1575, 442, 933, 963, 1072, 422], [553, 349, 380, 121, 1575, 442, 933, 963, 1072, 422], 1.9324969401808314e6, 33, true)"
      ]
     },
     "execution_count": 56,
     "metadata": {},
     "output_type": "execute_result"
    }
   ],
   "source": [
    "R = kmeans(reconstructed, 10, display=:iter)"
   ]
  },
  {
   "cell_type": "code",
   "execution_count": 57,
   "metadata": {},
   "outputs": [
    {
     "data": {
      "text/plain": [
       "4×10 Matrix{Float64}:\n",
       "  6.09313  -15.9918  -52.2668  -83.0296  …  30.7026    -19.0564    -12.1669\n",
       "  7.11671   20.6438  -11.9514  -62.5554     -8.74763    31.816     -20.4911\n",
       "  1.19692  -16.0647   21.9857  -16.105      -0.147575   -0.827665   -0.515474\n",
       " -1.97627   11.9857   15.6759  -16.0375     -0.842764   -5.23626     0.27981"
      ]
     },
     "execution_count": 57,
     "metadata": {},
     "output_type": "execute_result"
    }
   ],
   "source": [
    "R.centers"
   ]
  },
  {
   "cell_type": "code",
   "execution_count": 172,
   "metadata": {},
   "outputs": [],
   "source": [
    "PM = fit(PCA, pca_raw_data' ,maxoutdim = 3)\n",
    "reconstructed_p = predict(M, pca_raw_data')\n",
    "R = kmeans(reconstructed_p, 10, display=:iter)\n",
    "p = scatter(reconstructed_p[1,:], reconstructed_p[2,:], reconstructed_p[3,:], marker_z = R.assignments, label = \"Instances\", size = (1920,1080))\n",
    "scatter!([reconstructed_p[1,pos]],[ reconstructed_p[2,pos]], [reconstructed_p[3,pos]], marker_z = R.assignments, markersize = 11, marker=:octagon,color=:blue, label = \"PerMOF\")\n",
    "scatter!(R.centers[1,:], R.centers[2,:], R.centers[3,:], marker = :diamond, markersize = 9, label = \"Centers\")\n",
    "savefig(\"clustels.png\")"
   ]
  },
  {
   "cell_type": "code",
   "execution_count": 58,
   "metadata": {},
   "outputs": [],
   "source": [
    "lbls = [ lbl[begin:end-4] for lbl in labels]\n",
    "mapping = Dict(k => v for (k,v) in zip(lbls,R.assignments));"
   ]
  },
  {
   "cell_type": "code",
   "execution_count": 59,
   "metadata": {},
   "outputs": [
    {
     "name": "stdout",
     "output_type": "stream",
     "text": [
      "La referencia está en el cluster 5\n"
     ]
    }
   ],
   "source": [
    "println(\"La referencia está en el cluster $(R.assignments[pos])\")"
   ]
  },
  {
   "cell_type": "code",
   "execution_count": 60,
   "metadata": {},
   "outputs": [],
   "source": [
    "df_fsr = filter(\n",
    "    x -> x.filename ∈ labels .|> label -> label[begin:end - 4] ,\n",
    "    master_df\n",
    ")\n",
    "df_fsr.\"cluster_assignment\" = map(filename -> mapping[filename], df_fsr.filename);"
   ]
  },
  {
   "cell_type": "code",
   "execution_count": 61,
   "metadata": {},
   "outputs": [],
   "source": [
    "dist = Euclidean()\n",
    "pwdist = pairwise(dist,reconstructed, dims=2)\n",
    "idx10masparecidos = partialsortperm(pwdist[pos,2:end], 1:10); \n"
   ]
  },
  {
   "cell_type": "code",
   "execution_count": 62,
   "metadata": {},
   "outputs": [],
   "source": [
    "idx100masparecidos = partialsortperm(pwdist[pos,2:end], 1:100) \n",
    "los100masconref = hcat(reconstructed[:,idx100masparecidos], reconstructed[:,pos])\n",
    "pw100 = pairwise(dist,los100masconref,dims=2)\n",
    "\n",
    "hc = hclust(pw100)\n",
    "plot(hc, size = (6000,3000))\n",
    "savefig(\"hclust.png\")"
   ]
  },
  {
   "cell_type": "code",
   "execution_count": 63,
   "metadata": {},
   "outputs": [
    {
     "data": {
      "text/plain": [
       "hierarchical_clustering (generic function with 1 method)"
      ]
     },
     "execution_count": 63,
     "metadata": {},
     "output_type": "execute_result"
    }
   ],
   "source": [
    "function hierarchical_clustering(pca_otp::Any, n::Union{Bool,T}, pos_ref::T, labels ) where {T <: Int, S}\n",
    "    dist = Euclidean()\n",
    "    pairwise_distance = pairwise(dist, pca_otp, dims = 2)\n",
    "    if n != :false\n",
    "        indeces = partialsortperm(pairwise_distance[pos_ref,2:end], 1:n)\n",
    "        ipt = hcat(pca_otp[:,indeces], pca_otp[:,pos_ref])\n",
    "        # ipt = pca_otp[:,indeces]\n",
    "        pairwise_distance = pairwise(dist, ipt, dims = 2)\n",
    "        for (n,idx) in enumerate(indeces)\n",
    "            println(\"Indice $n es $(labels[idx])\")\n",
    "        end\n",
    "    end\n",
    "    pos_ref = n + 1\n",
    "    println(\"Ref es el nro $pos_ref\")\n",
    "    hclust(pairwise_distance)\n",
    "end"
   ]
  },
  {
   "cell_type": "code",
   "execution_count": 64,
   "metadata": {},
   "outputs": [
    {
     "name": "stdout",
     "output_type": "stream",
     "text": [
      "Indice 1 es REXFIL_freeONLY.cif\n",
      "Indice 2 es FUVDEH10_freeONLY.cif\n",
      "Indice 3 es KISVEO_freeONLY.cif\n",
      "Indice 4 es IFEPUG07_freeONLY.cif\n",
      "Indice 5 es CIFMAH_freeONLY.cif\n",
      "Indice 6 es JEYXOB_freeONLY.cif\n",
      "Indice 7 es XUYDIF_freeONLY.cif\n",
      "Indice 8 es KONFIE_freeONLY.cif\n",
      "Indice 9 es QEZZEC_freeONLY.cif\n",
      "Indice 10 es OFEZIJ_freeONLY.cif\n",
      "Indice 11 es EDAGAT_freeONLY.cif\n",
      "Indice 12 es MULXUO_freeONLY.cif\n",
      "Indice 13 es MUVGUG_freeONLY.cif\n",
      "Indice 14 es IHAJEH_freeONLY.cif\n",
      "Indice 15 es GOYYIE_freeONLY.cif\n",
      "Indice 16 es DAFSOV_freeONLY.cif\n",
      "Indice 17 es NODKUN_freeONLY.cif\n",
      "Indice 18 es UBUMAH_freeONLY.cif\n",
      "Indice 19 es HIHGEM_manual.cif\n",
      "Indice 20 es UZUNAF01_freeONLY.cif\n",
      "Indice 21 es KULMEK_freeONLY.cif\n",
      "Indice 22 es LETVUB_freeONLY.cif\n",
      "Indice 23 es OCAWAT_freeONLY.cif\n",
      "Indice 24 es SUJREV_freeONLY.cif\n",
      "Indice 25 es OBENAL02_freeONLY.cif\n",
      "Indice 26 es NIHBAI01_freeONLY.cif\n",
      "Indice 27 es CESYEF01_freeONLY.cif\n",
      "Indice 28 es YUMFES_freeONLY.cif\n",
      "Indice 29 es ic7014034-file001_freeONLY.cif\n",
      "Indice 30 es HEGPAL_freeONLY.cif\n",
      "Ref es el nro 31\n"
     ]
    },
    {
     "data": {
      "image/svg+xml": "<?xml version=\"1.0\" encoding=\"utf-8\"?>\n<svg xmlns=\"http://www.w3.org/2000/svg\" xmlns:xlink=\"http://www.w3.org/1999/xlink\" width=\"960\" height=\"540\" viewBox=\"0 0 3840 2160\">\n<defs>\n  <clipPath id=\"clip570\">\n    <rect x=\"0\" y=\"0\" width=\"3840\" height=\"2160\"/>\n  </clipPath>\n</defs>\n<path clip-path=\"url(#clip570)\" d=\"\nM0 2160 L3840 2160 L3840 0 L0 0  Z\n  \" fill=\"#ffffff\" fill-rule=\"evenodd\" fill-opacity=\"1\"/>\n<defs>\n  <clipPath id=\"clip571\">\n    <rect x=\"768\" y=\"0\" width=\"2689\" height=\"2160\"/>\n  </clipPath>\n</defs>\n<path clip-path=\"url(#clip570)\" d=\"\nM156.253 2046.25 L3792.76 2046.25 L3792.76 47.2441 L156.253 47.2441  Z\n  \" fill=\"#ffffff\" fill-rule=\"evenodd\" fill-opacity=\"1\"/>\n<defs>\n  <clipPath id=\"clip572\">\n    <rect x=\"156\" y=\"47\" width=\"3638\" height=\"2000\"/>\n  </clipPath>\n</defs>\n<polyline clip-path=\"url(#clip570)\" style=\"stroke:#000000; stroke-linecap:butt; stroke-linejoin:round; stroke-width:4; stroke-opacity:1; fill:none\" points=\"\n  156.253,2046.25 3792.76,2046.25 \n  \"/>\n<polyline clip-path=\"url(#clip570)\" style=\"stroke:#ffffff; stroke-linecap:butt; stroke-linejoin:round; stroke-width:4; stroke-opacity:1; fill:none\" points=\"\n  214.906,2046.25 214.906,2027.35 \n  \"/>\n<polyline clip-path=\"url(#clip570)\" style=\"stroke:#ffffff; stroke-linecap:butt; stroke-linejoin:round; stroke-width:4; stroke-opacity:1; fill:none\" points=\"\n  332.213,2046.25 332.213,2027.35 \n  \"/>\n<polyline clip-path=\"url(#clip570)\" style=\"stroke:#ffffff; stroke-linecap:butt; stroke-linejoin:round; stroke-width:4; stroke-opacity:1; fill:none\" points=\"\n  449.519,2046.25 449.519,2027.35 \n  \"/>\n<polyline clip-path=\"url(#clip570)\" style=\"stroke:#ffffff; stroke-linecap:butt; stroke-linejoin:round; stroke-width:4; stroke-opacity:1; fill:none\" points=\"\n  566.826,2046.25 566.826,2027.35 \n  \"/>\n<polyline clip-path=\"url(#clip570)\" style=\"stroke:#ffffff; stroke-linecap:butt; stroke-linejoin:round; stroke-width:4; stroke-opacity:1; fill:none\" points=\"\n  684.132,2046.25 684.132,2027.35 \n  \"/>\n<polyline clip-path=\"url(#clip570)\" style=\"stroke:#ffffff; stroke-linecap:butt; stroke-linejoin:round; stroke-width:4; stroke-opacity:1; fill:none\" points=\"\n  801.439,2046.25 801.439,2027.35 \n  \"/>\n<polyline clip-path=\"url(#clip570)\" style=\"stroke:#ffffff; stroke-linecap:butt; stroke-linejoin:round; stroke-width:4; stroke-opacity:1; fill:none\" points=\"\n  918.745,2046.25 918.745,2027.35 \n  \"/>\n<polyline clip-path=\"url(#clip570)\" style=\"stroke:#ffffff; stroke-linecap:butt; stroke-linejoin:round; stroke-width:4; stroke-opacity:1; fill:none\" points=\"\n  1036.05,2046.25 1036.05,2027.35 \n  \"/>\n<polyline clip-path=\"url(#clip570)\" style=\"stroke:#ffffff; stroke-linecap:butt; stroke-linejoin:round; stroke-width:4; stroke-opacity:1; fill:none\" points=\"\n  1153.36,2046.25 1153.36,2027.35 \n  \"/>\n<polyline clip-path=\"url(#clip570)\" style=\"stroke:#ffffff; stroke-linecap:butt; stroke-linejoin:round; stroke-width:4; stroke-opacity:1; fill:none\" points=\"\n  1270.67,2046.25 1270.67,2027.35 \n  \"/>\n<polyline clip-path=\"url(#clip570)\" style=\"stroke:#ffffff; stroke-linecap:butt; stroke-linejoin:round; stroke-width:4; stroke-opacity:1; fill:none\" points=\"\n  1387.97,2046.25 1387.97,2027.35 \n  \"/>\n<polyline clip-path=\"url(#clip570)\" style=\"stroke:#ffffff; stroke-linecap:butt; stroke-linejoin:round; stroke-width:4; stroke-opacity:1; fill:none\" points=\"\n  1505.28,2046.25 1505.28,2027.35 \n  \"/>\n<polyline clip-path=\"url(#clip570)\" style=\"stroke:#ffffff; stroke-linecap:butt; stroke-linejoin:round; stroke-width:4; stroke-opacity:1; fill:none\" points=\"\n  1622.58,2046.25 1622.58,2027.35 \n  \"/>\n<polyline clip-path=\"url(#clip570)\" style=\"stroke:#ffffff; stroke-linecap:butt; stroke-linejoin:round; stroke-width:4; stroke-opacity:1; fill:none\" points=\"\n  1739.89,2046.25 1739.89,2027.35 \n  \"/>\n<polyline clip-path=\"url(#clip570)\" style=\"stroke:#ffffff; stroke-linecap:butt; stroke-linejoin:round; stroke-width:4; stroke-opacity:1; fill:none\" points=\"\n  1857.2,2046.25 1857.2,2027.35 \n  \"/>\n<polyline clip-path=\"url(#clip570)\" style=\"stroke:#ffffff; stroke-linecap:butt; stroke-linejoin:round; stroke-width:4; stroke-opacity:1; fill:none\" points=\"\n  1974.5,2046.25 1974.5,2027.35 \n  \"/>\n<polyline clip-path=\"url(#clip570)\" style=\"stroke:#ffffff; stroke-linecap:butt; stroke-linejoin:round; stroke-width:4; stroke-opacity:1; fill:none\" points=\"\n  2091.81,2046.25 2091.81,2027.35 \n  \"/>\n<polyline clip-path=\"url(#clip570)\" style=\"stroke:#ffffff; stroke-linecap:butt; stroke-linejoin:round; stroke-width:4; stroke-opacity:1; fill:none\" points=\"\n  2209.12,2046.25 2209.12,2027.35 \n  \"/>\n<polyline clip-path=\"url(#clip570)\" style=\"stroke:#ffffff; stroke-linecap:butt; stroke-linejoin:round; stroke-width:4; stroke-opacity:1; fill:none\" points=\"\n  2326.42,2046.25 2326.42,2027.35 \n  \"/>\n<polyline clip-path=\"url(#clip570)\" style=\"stroke:#ffffff; stroke-linecap:butt; stroke-linejoin:round; stroke-width:4; stroke-opacity:1; fill:none\" points=\"\n  2443.73,2046.25 2443.73,2027.35 \n  \"/>\n<polyline clip-path=\"url(#clip570)\" style=\"stroke:#ffffff; stroke-linecap:butt; stroke-linejoin:round; stroke-width:4; stroke-opacity:1; fill:none\" points=\"\n  2561.04,2046.25 2561.04,2027.35 \n  \"/>\n<polyline clip-path=\"url(#clip570)\" style=\"stroke:#ffffff; stroke-linecap:butt; stroke-linejoin:round; stroke-width:4; stroke-opacity:1; fill:none\" points=\"\n  2678.34,2046.25 2678.34,2027.35 \n  \"/>\n<polyline clip-path=\"url(#clip570)\" style=\"stroke:#ffffff; stroke-linecap:butt; stroke-linejoin:round; stroke-width:4; stroke-opacity:1; fill:none\" points=\"\n  2795.65,2046.25 2795.65,2027.35 \n  \"/>\n<polyline clip-path=\"url(#clip570)\" style=\"stroke:#ffffff; stroke-linecap:butt; stroke-linejoin:round; stroke-width:4; stroke-opacity:1; fill:none\" points=\"\n  2912.96,2046.25 2912.96,2027.35 \n  \"/>\n<polyline clip-path=\"url(#clip570)\" style=\"stroke:#ffffff; stroke-linecap:butt; stroke-linejoin:round; stroke-width:4; stroke-opacity:1; fill:none\" points=\"\n  3030.26,2046.25 3030.26,2027.35 \n  \"/>\n<polyline clip-path=\"url(#clip570)\" style=\"stroke:#ffffff; stroke-linecap:butt; stroke-linejoin:round; stroke-width:4; stroke-opacity:1; fill:none\" points=\"\n  3147.57,2046.25 3147.57,2027.35 \n  \"/>\n<polyline clip-path=\"url(#clip570)\" style=\"stroke:#ffffff; stroke-linecap:butt; stroke-linejoin:round; stroke-width:4; stroke-opacity:1; fill:none\" points=\"\n  3264.88,2046.25 3264.88,2027.35 \n  \"/>\n<polyline clip-path=\"url(#clip570)\" style=\"stroke:#ffffff; stroke-linecap:butt; stroke-linejoin:round; stroke-width:4; stroke-opacity:1; fill:none\" points=\"\n  3382.18,2046.25 3382.18,2027.35 \n  \"/>\n<polyline clip-path=\"url(#clip570)\" style=\"stroke:#ffffff; stroke-linecap:butt; stroke-linejoin:round; stroke-width:4; stroke-opacity:1; fill:none\" points=\"\n  3499.49,2046.25 3499.49,2027.35 \n  \"/>\n<polyline clip-path=\"url(#clip570)\" style=\"stroke:#ffffff; stroke-linecap:butt; stroke-linejoin:round; stroke-width:4; stroke-opacity:1; fill:none\" points=\"\n  3616.8,2046.25 3616.8,2027.35 \n  \"/>\n<polyline clip-path=\"url(#clip570)\" style=\"stroke:#ffffff; stroke-linecap:butt; stroke-linejoin:round; stroke-width:4; stroke-opacity:1; fill:none\" points=\"\n  3734.1,2046.25 3734.1,2027.35 \n  \"/>\n<path clip-path=\"url(#clip570)\" d=\"M214.906 2103.76 Q211.573 2103.76 209.652 2105.54 Q207.753 2107.32 207.753 2110.45 Q207.753 2113.57 209.652 2115.35 Q211.573 2117.14 214.906 2117.14 Q218.24 2117.14 220.161 2115.35 Q222.082 2113.55 222.082 2110.45 Q222.082 2107.32 220.161 2105.54 Q218.263 2103.76 214.906 2103.76 M210.23 2101.77 Q207.221 2101.02 205.531 2098.96 Q203.865 2096.9 203.865 2093.94 Q203.865 2089.8 206.804 2087.39 Q209.767 2084.98 214.906 2084.98 Q220.068 2084.98 223.008 2087.39 Q225.948 2089.8 225.948 2093.94 Q225.948 2096.9 224.258 2098.96 Q222.591 2101.02 219.605 2101.77 Q222.985 2102.55 224.86 2104.84 Q226.758 2107.14 226.758 2110.45 Q226.758 2115.47 223.679 2118.15 Q220.624 2120.84 214.906 2120.84 Q209.189 2120.84 206.11 2118.15 Q203.054 2115.47 203.054 2110.45 Q203.054 2107.14 204.953 2104.84 Q206.851 2102.55 210.23 2101.77 M208.517 2094.38 Q208.517 2097.07 210.184 2098.57 Q211.874 2100.08 214.906 2100.08 Q217.915 2100.08 219.605 2098.57 Q221.318 2097.07 221.318 2094.38 Q221.318 2091.7 219.605 2090.19 Q217.915 2088.69 214.906 2088.69 Q211.874 2088.69 210.184 2090.19 Q208.517 2091.7 208.517 2094.38 Z\" fill=\"#000000\" fill-rule=\"evenodd\" fill-opacity=\"1\" /><path clip-path=\"url(#clip570)\" d=\"M307.224 2116.23 L314.863 2116.23 L314.863 2089.87 L306.553 2091.53 L306.553 2087.27 L314.817 2085.61 L319.493 2085.61 L319.493 2116.23 L327.132 2116.23 L327.132 2120.17 L307.224 2120.17 L307.224 2116.23 Z\" fill=\"#000000\" fill-rule=\"evenodd\" fill-opacity=\"1\" /><path clip-path=\"url(#clip570)\" d=\"M350.743 2101.53 Q354.099 2102.25 355.974 2104.52 Q357.872 2106.79 357.872 2110.12 Q357.872 2115.24 354.354 2118.04 Q350.835 2120.84 344.354 2120.84 Q342.178 2120.84 339.863 2120.4 Q337.572 2119.98 335.118 2119.13 L335.118 2114.61 Q337.062 2115.75 339.377 2116.33 Q341.692 2116.9 344.215 2116.9 Q348.613 2116.9 350.905 2115.17 Q353.22 2113.43 353.22 2110.12 Q353.22 2107.07 351.067 2105.35 Q348.937 2103.62 345.118 2103.62 L341.09 2103.62 L341.09 2099.77 L345.303 2099.77 Q348.752 2099.77 350.581 2098.41 Q352.409 2097.02 352.409 2094.43 Q352.409 2091.77 350.511 2090.35 Q348.636 2088.92 345.118 2088.92 Q343.197 2088.92 340.997 2089.33 Q338.798 2089.75 336.16 2090.63 L336.16 2086.46 Q338.822 2085.72 341.136 2085.35 Q343.474 2084.98 345.534 2084.98 Q350.858 2084.98 353.96 2087.41 Q357.062 2089.82 357.062 2093.94 Q357.062 2096.81 355.419 2098.8 Q353.775 2100.77 350.743 2101.53 Z\" fill=\"#000000\" fill-rule=\"evenodd\" fill-opacity=\"1\" /><path clip-path=\"url(#clip570)\" d=\"M438.975 2101.53 Q442.332 2102.25 444.207 2104.52 Q446.105 2106.79 446.105 2110.12 Q446.105 2115.24 442.586 2118.04 Q439.068 2120.84 432.587 2120.84 Q430.411 2120.84 428.096 2120.4 Q425.804 2119.98 423.35 2119.13 L423.35 2114.61 Q425.295 2115.75 427.61 2116.33 Q429.925 2116.9 432.448 2116.9 Q436.846 2116.9 439.137 2115.17 Q441.452 2113.43 441.452 2110.12 Q441.452 2107.07 439.299 2105.35 Q437.17 2103.62 433.35 2103.62 L429.323 2103.62 L429.323 2099.77 L433.536 2099.77 Q436.985 2099.77 438.813 2098.41 Q440.642 2097.02 440.642 2094.43 Q440.642 2091.77 438.744 2090.35 Q436.869 2088.92 433.35 2088.92 Q431.429 2088.92 429.23 2089.33 Q427.031 2089.75 424.392 2090.63 L424.392 2086.46 Q427.054 2085.72 429.369 2085.35 Q431.707 2084.98 433.767 2084.98 Q439.091 2084.98 442.193 2087.41 Q445.295 2089.82 445.295 2093.94 Q445.295 2096.81 443.651 2098.8 Q442.008 2100.77 438.975 2101.53 Z\" fill=\"#000000\" fill-rule=\"evenodd\" fill-opacity=\"1\" /><path clip-path=\"url(#clip570)\" d=\"M455.781 2116.23 L463.42 2116.23 L463.42 2089.87 L455.11 2091.53 L455.11 2087.27 L463.373 2085.61 L468.049 2085.61 L468.049 2116.23 L475.688 2116.23 L475.688 2120.17 L455.781 2120.17 L455.781 2116.23 Z\" fill=\"#000000\" fill-rule=\"evenodd\" fill-opacity=\"1\" /><path clip-path=\"url(#clip570)\" d=\"M555.715 2085.61 L577.937 2085.61 L577.937 2087.6 L565.391 2120.17 L560.506 2120.17 L572.312 2089.54 L555.715 2089.54 L555.715 2085.61 Z\" fill=\"#000000\" fill-rule=\"evenodd\" fill-opacity=\"1\" /><path clip-path=\"url(#clip570)\" d=\"M659.318 2116.23 L666.957 2116.23 L666.957 2089.87 L658.646 2091.53 L658.646 2087.27 L666.91 2085.61 L671.586 2085.61 L671.586 2116.23 L679.225 2116.23 L679.225 2120.17 L659.318 2120.17 L659.318 2116.23 Z\" fill=\"#000000\" fill-rule=\"evenodd\" fill-opacity=\"1\" /><path clip-path=\"url(#clip570)\" d=\"M688.716 2085.61 L707.072 2085.61 L707.072 2089.54 L692.998 2089.54 L692.998 2098.02 Q694.017 2097.67 695.035 2097.51 Q696.054 2097.32 697.072 2097.32 Q702.859 2097.32 706.239 2100.49 Q709.618 2103.66 709.618 2109.08 Q709.618 2114.66 706.146 2117.76 Q702.674 2120.84 696.355 2120.84 Q694.179 2120.84 691.91 2120.47 Q689.665 2120.1 687.257 2119.36 L687.257 2114.66 Q689.341 2115.79 691.563 2116.35 Q693.785 2116.9 696.262 2116.9 Q700.267 2116.9 702.605 2114.8 Q704.942 2112.69 704.942 2109.08 Q704.942 2105.47 702.605 2103.36 Q700.267 2101.26 696.262 2101.26 Q694.387 2101.26 692.512 2101.67 Q690.66 2102.09 688.716 2102.97 L688.716 2085.61 Z\" fill=\"#000000\" fill-rule=\"evenodd\" fill-opacity=\"1\" /><path clip-path=\"url(#clip570)\" d=\"M796.092 2116.23 L812.411 2116.23 L812.411 2120.17 L790.467 2120.17 L790.467 2116.23 Q793.129 2113.48 797.712 2108.85 Q802.319 2104.2 803.499 2102.85 Q805.744 2100.33 806.624 2098.59 Q807.527 2096.83 807.527 2095.14 Q807.527 2092.39 805.582 2090.65 Q803.661 2088.92 800.559 2088.92 Q798.36 2088.92 795.907 2089.68 Q793.476 2090.45 790.698 2092 L790.698 2087.27 Q793.522 2086.14 795.976 2085.56 Q798.43 2084.98 800.467 2084.98 Q805.837 2084.98 809.032 2087.67 Q812.226 2090.35 812.226 2094.84 Q812.226 2096.97 811.416 2098.89 Q810.629 2100.79 808.522 2103.39 Q807.944 2104.06 804.842 2107.27 Q801.74 2110.47 796.092 2116.23 Z\" fill=\"#000000\" fill-rule=\"evenodd\" fill-opacity=\"1\" /><path clip-path=\"url(#clip570)\" d=\"M921.755 2089.68 L909.949 2108.13 L921.755 2108.13 L921.755 2089.68 M920.528 2085.61 L926.407 2085.61 L926.407 2108.13 L931.338 2108.13 L931.338 2112.02 L926.407 2112.02 L926.407 2120.17 L921.755 2120.17 L921.755 2112.02 L906.153 2112.02 L906.153 2107.51 L920.528 2085.61 Z\" fill=\"#000000\" fill-rule=\"evenodd\" fill-opacity=\"1\" /><path clip-path=\"url(#clip570)\" d=\"M1040.3 2101.53 Q1043.66 2102.25 1045.53 2104.52 Q1047.43 2106.79 1047.43 2110.12 Q1047.43 2115.24 1043.91 2118.04 Q1040.39 2120.84 1033.91 2120.84 Q1031.73 2120.84 1029.42 2120.4 Q1027.13 2119.98 1024.67 2119.13 L1024.67 2114.61 Q1026.62 2115.75 1028.93 2116.33 Q1031.25 2116.9 1033.77 2116.9 Q1038.17 2116.9 1040.46 2115.17 Q1042.78 2113.43 1042.78 2110.12 Q1042.78 2107.07 1040.62 2105.35 Q1038.49 2103.62 1034.67 2103.62 L1030.65 2103.62 L1030.65 2099.77 L1034.86 2099.77 Q1038.31 2099.77 1040.14 2098.41 Q1041.97 2097.02 1041.97 2094.43 Q1041.97 2091.77 1040.07 2090.35 Q1038.19 2088.92 1034.67 2088.92 Q1032.75 2088.92 1030.55 2089.33 Q1028.36 2089.75 1025.72 2090.63 L1025.72 2086.46 Q1028.38 2085.72 1030.69 2085.35 Q1033.03 2084.98 1035.09 2084.98 Q1040.42 2084.98 1043.52 2087.41 Q1046.62 2089.82 1046.62 2093.94 Q1046.62 2096.81 1044.98 2098.8 Q1043.33 2100.77 1040.3 2101.53 Z\" fill=\"#000000\" fill-rule=\"evenodd\" fill-opacity=\"1\" /><path clip-path=\"url(#clip570)\" d=\"M1132.93 2116.23 L1149.25 2116.23 L1149.25 2120.17 L1127.31 2120.17 L1127.31 2116.23 Q1129.97 2113.48 1134.55 2108.85 Q1139.16 2104.2 1140.34 2102.85 Q1142.58 2100.33 1143.46 2098.59 Q1144.37 2096.83 1144.37 2095.14 Q1144.37 2092.39 1142.42 2090.65 Q1140.5 2088.92 1137.4 2088.92 Q1135.2 2088.92 1132.75 2089.68 Q1130.31 2090.45 1127.54 2092 L1127.54 2087.27 Q1130.36 2086.14 1132.81 2085.56 Q1135.27 2084.98 1137.31 2084.98 Q1142.68 2084.98 1145.87 2087.67 Q1149.06 2090.35 1149.06 2094.84 Q1149.06 2096.97 1148.25 2098.89 Q1147.47 2100.79 1145.36 2103.39 Q1144.78 2104.06 1141.68 2107.27 Q1138.58 2110.47 1132.93 2116.23 Z\" fill=\"#000000\" fill-rule=\"evenodd\" fill-opacity=\"1\" /><path clip-path=\"url(#clip570)\" d=\"M1163.09 2116.23 L1179.41 2116.23 L1179.41 2120.17 L1157.47 2120.17 L1157.47 2116.23 Q1160.13 2113.48 1164.71 2108.85 Q1169.32 2104.2 1170.5 2102.85 Q1172.75 2100.33 1173.62 2098.59 Q1174.53 2096.83 1174.53 2095.14 Q1174.53 2092.39 1172.58 2090.65 Q1170.66 2088.92 1167.56 2088.92 Q1165.36 2088.92 1162.91 2089.68 Q1160.48 2090.45 1157.7 2092 L1157.7 2087.27 Q1160.52 2086.14 1162.98 2085.56 Q1165.43 2084.98 1167.47 2084.98 Q1172.84 2084.98 1176.03 2087.67 Q1179.23 2090.35 1179.23 2094.84 Q1179.23 2096.97 1178.42 2098.89 Q1177.63 2100.79 1175.52 2103.39 Q1174.94 2104.06 1171.84 2107.27 Q1168.74 2110.47 1163.09 2116.23 Z\" fill=\"#000000\" fill-rule=\"evenodd\" fill-opacity=\"1\" /><path clip-path=\"url(#clip570)\" d=\"M1245.11 2116.23 L1252.75 2116.23 L1252.75 2089.87 L1244.44 2091.53 L1244.44 2087.27 L1252.7 2085.61 L1257.38 2085.61 L1257.38 2116.23 L1265.02 2116.23 L1265.02 2120.17 L1245.11 2120.17 L1245.11 2116.23 Z\" fill=\"#000000\" fill-rule=\"evenodd\" fill-opacity=\"1\" /><path clip-path=\"url(#clip570)\" d=\"M1287.31 2089.68 L1275.5 2108.13 L1287.31 2108.13 L1287.31 2089.68 M1286.08 2085.61 L1291.96 2085.61 L1291.96 2108.13 L1296.89 2108.13 L1296.89 2112.02 L1291.96 2112.02 L1291.96 2120.17 L1287.31 2120.17 L1287.31 2112.02 L1271.71 2112.02 L1271.71 2107.51 L1286.08 2085.61 Z\" fill=\"#000000\" fill-rule=\"evenodd\" fill-opacity=\"1\" /><path clip-path=\"url(#clip570)\" d=\"M1367.24 2116.23 L1383.56 2116.23 L1383.56 2120.17 L1361.62 2120.17 L1361.62 2116.23 Q1364.28 2113.48 1368.86 2108.85 Q1373.47 2104.2 1374.65 2102.85 Q1376.9 2100.33 1377.77 2098.59 Q1378.68 2096.83 1378.68 2095.14 Q1378.68 2092.39 1376.73 2090.65 Q1374.81 2088.92 1371.71 2088.92 Q1369.51 2088.92 1367.06 2089.68 Q1364.63 2090.45 1361.85 2092 L1361.85 2087.27 Q1364.67 2086.14 1367.13 2085.56 Q1369.58 2084.98 1371.62 2084.98 Q1376.99 2084.98 1380.18 2087.67 Q1383.38 2090.35 1383.38 2094.84 Q1383.38 2096.97 1382.57 2098.89 Q1381.78 2100.79 1379.67 2103.39 Q1379.09 2104.06 1375.99 2107.27 Q1372.89 2110.47 1367.24 2116.23 Z\" fill=\"#000000\" fill-rule=\"evenodd\" fill-opacity=\"1\" /><path clip-path=\"url(#clip570)\" d=\"M1393.42 2085.61 L1411.78 2085.61 L1411.78 2089.54 L1397.71 2089.54 L1397.71 2098.02 Q1398.72 2097.67 1399.74 2097.51 Q1400.76 2097.32 1401.78 2097.32 Q1407.57 2097.32 1410.95 2100.49 Q1414.33 2103.66 1414.33 2109.08 Q1414.33 2114.66 1410.85 2117.76 Q1407.38 2120.84 1401.06 2120.84 Q1398.89 2120.84 1396.62 2120.47 Q1394.37 2120.1 1391.96 2119.36 L1391.96 2114.66 Q1394.05 2115.79 1396.27 2116.35 Q1398.49 2116.9 1400.97 2116.9 Q1404.97 2116.9 1407.31 2114.8 Q1409.65 2112.69 1409.65 2109.08 Q1409.65 2105.47 1407.31 2103.36 Q1404.97 2101.26 1400.97 2101.26 Q1399.09 2101.26 1397.22 2101.67 Q1395.37 2102.09 1393.42 2102.97 L1393.42 2085.61 Z\" fill=\"#000000\" fill-rule=\"evenodd\" fill-opacity=\"1\" /><path clip-path=\"url(#clip570)\" d=\"M1494.12 2101.53 Q1497.48 2102.25 1499.35 2104.52 Q1501.25 2106.79 1501.25 2110.12 Q1501.25 2115.24 1497.73 2118.04 Q1494.21 2120.84 1487.73 2120.84 Q1485.56 2120.84 1483.24 2120.4 Q1480.95 2119.98 1478.5 2119.13 L1478.5 2114.61 Q1480.44 2115.75 1482.76 2116.33 Q1485.07 2116.9 1487.59 2116.9 Q1491.99 2116.9 1494.28 2115.17 Q1496.6 2113.43 1496.6 2110.12 Q1496.6 2107.07 1494.44 2105.35 Q1492.32 2103.62 1488.5 2103.62 L1484.47 2103.62 L1484.47 2099.77 L1488.68 2099.77 Q1492.13 2099.77 1493.96 2098.41 Q1495.79 2097.02 1495.79 2094.43 Q1495.79 2091.77 1493.89 2090.35 Q1492.01 2088.92 1488.5 2088.92 Q1486.57 2088.92 1484.38 2089.33 Q1482.18 2089.75 1479.54 2090.63 L1479.54 2086.46 Q1482.2 2085.72 1484.51 2085.35 Q1486.85 2084.98 1488.91 2084.98 Q1494.24 2084.98 1497.34 2087.41 Q1500.44 2089.82 1500.44 2093.94 Q1500.44 2096.81 1498.8 2098.8 Q1497.15 2100.77 1494.12 2101.53 Z\" fill=\"#000000\" fill-rule=\"evenodd\" fill-opacity=\"1\" /><path clip-path=\"url(#clip570)\" d=\"M1520.12 2088.69 Q1516.51 2088.69 1514.68 2092.25 Q1512.87 2095.79 1512.87 2102.92 Q1512.87 2110.03 1514.68 2113.59 Q1516.51 2117.14 1520.12 2117.14 Q1523.75 2117.14 1525.56 2113.59 Q1527.38 2110.03 1527.38 2102.92 Q1527.38 2095.79 1525.56 2092.25 Q1523.75 2088.69 1520.12 2088.69 M1520.12 2084.98 Q1525.93 2084.98 1528.98 2089.59 Q1532.06 2094.17 1532.06 2102.92 Q1532.06 2111.65 1528.98 2116.26 Q1525.93 2120.84 1520.12 2120.84 Q1514.31 2120.84 1511.23 2116.26 Q1508.17 2111.65 1508.17 2102.92 Q1508.17 2094.17 1511.23 2089.59 Q1514.31 2084.98 1520.12 2084.98 Z\" fill=\"#000000\" fill-rule=\"evenodd\" fill-opacity=\"1\" /><path clip-path=\"url(#clip570)\" d=\"M1597.89 2116.23 L1605.52 2116.23 L1605.52 2089.87 L1597.21 2091.53 L1597.21 2087.27 L1605.48 2085.61 L1610.15 2085.61 L1610.15 2116.23 L1617.79 2116.23 L1617.79 2120.17 L1597.89 2120.17 L1597.89 2116.23 Z\" fill=\"#000000\" fill-rule=\"evenodd\" fill-opacity=\"1\" /><path clip-path=\"url(#clip570)\" d=\"M1628.05 2116.23 L1635.69 2116.23 L1635.69 2089.87 L1627.38 2091.53 L1627.38 2087.27 L1635.64 2085.61 L1640.32 2085.61 L1640.32 2116.23 L1647.96 2116.23 L1647.96 2120.17 L1628.05 2120.17 L1628.05 2116.23 Z\" fill=\"#000000\" fill-rule=\"evenodd\" fill-opacity=\"1\" /><path clip-path=\"url(#clip570)\" d=\"M1718.58 2116.23 L1734.9 2116.23 L1734.9 2120.17 L1712.96 2120.17 L1712.96 2116.23 Q1715.62 2113.48 1720.2 2108.85 Q1724.81 2104.2 1725.99 2102.85 Q1728.24 2100.33 1729.12 2098.59 Q1730.02 2096.83 1730.02 2095.14 Q1730.02 2092.39 1728.07 2090.65 Q1726.15 2088.92 1723.05 2088.92 Q1720.85 2088.92 1718.4 2089.68 Q1715.97 2090.45 1713.19 2092 L1713.19 2087.27 Q1716.01 2086.14 1718.47 2085.56 Q1720.92 2084.98 1722.96 2084.98 Q1728.33 2084.98 1731.52 2087.67 Q1734.72 2090.35 1734.72 2094.84 Q1734.72 2096.97 1733.91 2098.89 Q1733.12 2100.79 1731.01 2103.39 Q1730.44 2104.06 1727.33 2107.27 Q1724.23 2110.47 1718.58 2116.23 Z\" fill=\"#000000\" fill-rule=\"evenodd\" fill-opacity=\"1\" /><path clip-path=\"url(#clip570)\" d=\"M1755.3 2101.02 Q1752.15 2101.02 1750.3 2103.18 Q1748.47 2105.33 1748.47 2109.08 Q1748.47 2112.81 1750.3 2114.98 Q1752.15 2117.14 1755.3 2117.14 Q1758.44 2117.14 1760.27 2114.98 Q1762.13 2112.81 1762.13 2109.08 Q1762.13 2105.33 1760.27 2103.18 Q1758.44 2101.02 1755.3 2101.02 M1764.58 2086.37 L1764.58 2090.63 Q1762.82 2089.8 1761.01 2089.36 Q1759.23 2088.92 1757.47 2088.92 Q1752.84 2088.92 1750.39 2092.04 Q1747.96 2095.17 1747.61 2101.49 Q1748.98 2099.47 1751.04 2098.41 Q1753.1 2097.32 1755.57 2097.32 Q1760.78 2097.32 1763.79 2100.49 Q1766.82 2103.64 1766.82 2109.08 Q1766.82 2114.4 1763.68 2117.62 Q1760.53 2120.84 1755.3 2120.84 Q1749.3 2120.84 1746.13 2116.26 Q1742.96 2111.65 1742.96 2102.92 Q1742.96 2094.73 1746.85 2089.87 Q1750.74 2084.98 1757.29 2084.98 Q1759.05 2084.98 1760.83 2085.33 Q1762.63 2085.68 1764.58 2086.37 Z\" fill=\"#000000\" fill-rule=\"evenodd\" fill-opacity=\"1\" /><path clip-path=\"url(#clip570)\" d=\"M1835.97 2116.23 L1852.29 2116.23 L1852.29 2120.17 L1830.35 2120.17 L1830.35 2116.23 Q1833.01 2113.48 1837.59 2108.85 Q1842.2 2104.2 1843.38 2102.85 Q1845.62 2100.33 1846.5 2098.59 Q1847.41 2096.83 1847.41 2095.14 Q1847.41 2092.39 1845.46 2090.65 Q1843.54 2088.92 1840.44 2088.92 Q1838.24 2088.92 1835.79 2089.68 Q1833.36 2090.45 1830.58 2092 L1830.58 2087.27 Q1833.4 2086.14 1835.86 2085.56 Q1838.31 2084.98 1840.35 2084.98 Q1845.72 2084.98 1848.91 2087.67 Q1852.11 2090.35 1852.11 2094.84 Q1852.11 2096.97 1851.3 2098.89 Q1850.51 2100.79 1848.4 2103.39 Q1847.82 2104.06 1844.72 2107.27 Q1841.62 2110.47 1835.97 2116.23 Z\" fill=\"#000000\" fill-rule=\"evenodd\" fill-opacity=\"1\" /><path clip-path=\"url(#clip570)\" d=\"M1872.11 2088.69 Q1868.49 2088.69 1866.67 2092.25 Q1864.86 2095.79 1864.86 2102.92 Q1864.86 2110.03 1866.67 2113.59 Q1868.49 2117.14 1872.11 2117.14 Q1875.74 2117.14 1877.54 2113.59 Q1879.37 2110.03 1879.37 2102.92 Q1879.37 2095.79 1877.54 2092.25 Q1875.74 2088.69 1872.11 2088.69 M1872.11 2084.98 Q1877.92 2084.98 1880.97 2089.59 Q1884.05 2094.17 1884.05 2102.92 Q1884.05 2111.65 1880.97 2116.26 Q1877.92 2120.84 1872.11 2120.84 Q1866.3 2120.84 1863.22 2116.26 Q1860.16 2111.65 1860.16 2102.92 Q1860.16 2094.17 1863.22 2089.59 Q1866.3 2084.98 1872.11 2084.98 Z\" fill=\"#000000\" fill-rule=\"evenodd\" fill-opacity=\"1\" /><path clip-path=\"url(#clip570)\" d=\"M1949.64 2116.23 L1957.28 2116.23 L1957.28 2089.87 L1948.97 2091.53 L1948.97 2087.27 L1957.24 2085.61 L1961.91 2085.61 L1961.91 2116.23 L1969.55 2116.23 L1969.55 2120.17 L1949.64 2120.17 L1949.64 2116.23 Z\" fill=\"#000000\" fill-rule=\"evenodd\" fill-opacity=\"1\" /><path clip-path=\"url(#clip570)\" d=\"M1977.81 2085.61 L2000.04 2085.61 L2000.04 2087.6 L1987.49 2120.17 L1982.61 2120.17 L1994.41 2089.54 L1977.81 2089.54 L1977.81 2085.61 Z\" fill=\"#000000\" fill-rule=\"evenodd\" fill-opacity=\"1\" /><path clip-path=\"url(#clip570)\" d=\"M2082.09 2085.61 L2100.45 2085.61 L2100.45 2089.54 L2086.37 2089.54 L2086.37 2098.02 Q2087.39 2097.67 2088.41 2097.51 Q2089.43 2097.32 2090.45 2097.32 Q2096.23 2097.32 2099.61 2100.49 Q2102.99 2103.66 2102.99 2109.08 Q2102.99 2114.66 2099.52 2117.76 Q2096.05 2120.84 2089.73 2120.84 Q2087.55 2120.84 2085.28 2120.47 Q2083.04 2120.1 2080.63 2119.36 L2080.63 2114.66 Q2082.71 2115.79 2084.94 2116.35 Q2087.16 2116.9 2089.64 2116.9 Q2093.64 2116.9 2095.98 2114.8 Q2098.32 2112.69 2098.32 2109.08 Q2098.32 2105.47 2095.98 2103.36 Q2093.64 2101.26 2089.64 2101.26 Q2087.76 2101.26 2085.89 2101.67 Q2084.03 2102.09 2082.09 2102.97 L2082.09 2085.61 Z\" fill=\"#000000\" fill-rule=\"evenodd\" fill-opacity=\"1\" /><path clip-path=\"url(#clip570)\" d=\"M2188.5 2116.23 L2204.82 2116.23 L2204.82 2120.17 L2182.88 2120.17 L2182.88 2116.23 Q2185.54 2113.48 2190.12 2108.85 Q2194.73 2104.2 2195.91 2102.85 Q2198.16 2100.33 2199.04 2098.59 Q2199.94 2096.83 2199.94 2095.14 Q2199.94 2092.39 2197.99 2090.65 Q2196.07 2088.92 2192.97 2088.92 Q2190.77 2088.92 2188.32 2089.68 Q2185.89 2090.45 2183.11 2092 L2183.11 2087.27 Q2185.93 2086.14 2188.39 2085.56 Q2190.84 2084.98 2192.88 2084.98 Q2198.25 2084.98 2201.44 2087.67 Q2204.64 2090.35 2204.64 2094.84 Q2204.64 2096.97 2203.83 2098.89 Q2203.04 2100.79 2200.93 2103.39 Q2200.36 2104.06 2197.25 2107.27 Q2194.15 2110.47 2188.5 2116.23 Z\" fill=\"#000000\" fill-rule=\"evenodd\" fill-opacity=\"1\" /><path clip-path=\"url(#clip570)\" d=\"M2215.45 2116.23 L2223.09 2116.23 L2223.09 2089.87 L2214.78 2091.53 L2214.78 2087.27 L2223.04 2085.61 L2227.72 2085.61 L2227.72 2116.23 L2235.36 2116.23 L2235.36 2120.17 L2215.45 2120.17 L2215.45 2116.23 Z\" fill=\"#000000\" fill-rule=\"evenodd\" fill-opacity=\"1\" /><path clip-path=\"url(#clip570)\" d=\"M2301.11 2116.23 L2308.75 2116.23 L2308.75 2089.87 L2300.44 2091.53 L2300.44 2087.27 L2308.7 2085.61 L2313.38 2085.61 L2313.38 2116.23 L2321.02 2116.23 L2321.02 2120.17 L2301.11 2120.17 L2301.11 2116.23 Z\" fill=\"#000000\" fill-rule=\"evenodd\" fill-opacity=\"1\" /><path clip-path=\"url(#clip570)\" d=\"M2340.46 2088.69 Q2336.85 2088.69 2335.02 2092.25 Q2333.22 2095.79 2333.22 2102.92 Q2333.22 2110.03 2335.02 2113.59 Q2336.85 2117.14 2340.46 2117.14 Q2344.1 2117.14 2345.9 2113.59 Q2347.73 2110.03 2347.73 2102.92 Q2347.73 2095.79 2345.9 2092.25 Q2344.1 2088.69 2340.46 2088.69 M2340.46 2084.98 Q2346.27 2084.98 2349.33 2089.59 Q2352.41 2094.17 2352.41 2102.92 Q2352.41 2111.65 2349.33 2116.26 Q2346.27 2120.84 2340.46 2120.84 Q2334.65 2120.84 2331.57 2116.26 Q2328.52 2111.65 2328.52 2102.92 Q2328.52 2094.17 2331.57 2089.59 Q2334.65 2084.98 2340.46 2084.98 Z\" fill=\"#000000\" fill-rule=\"evenodd\" fill-opacity=\"1\" /><path clip-path=\"url(#clip570)\" d=\"M2422.96 2116.23 L2439.27 2116.23 L2439.27 2120.17 L2417.33 2120.17 L2417.33 2116.23 Q2419.99 2113.48 2424.58 2108.85 Q2429.18 2104.2 2430.36 2102.85 Q2432.61 2100.33 2433.49 2098.59 Q2434.39 2096.83 2434.39 2095.14 Q2434.39 2092.39 2432.45 2090.65 Q2430.52 2088.92 2427.42 2088.92 Q2425.22 2088.92 2422.77 2089.68 Q2420.34 2090.45 2417.56 2092 L2417.56 2087.27 Q2420.39 2086.14 2422.84 2085.56 Q2425.29 2084.98 2427.33 2084.98 Q2432.7 2084.98 2435.9 2087.67 Q2439.09 2090.35 2439.09 2094.84 Q2439.09 2096.97 2438.28 2098.89 Q2437.49 2100.79 2435.39 2103.39 Q2434.81 2104.06 2431.71 2107.27 Q2428.6 2110.47 2422.96 2116.23 Z\" fill=\"#000000\" fill-rule=\"evenodd\" fill-opacity=\"1\" /><path clip-path=\"url(#clip570)\" d=\"M2447.91 2085.61 L2470.13 2085.61 L2470.13 2087.6 L2457.58 2120.17 L2452.7 2120.17 L2464.51 2089.54 L2447.91 2089.54 L2447.91 2085.61 Z\" fill=\"#000000\" fill-rule=\"evenodd\" fill-opacity=\"1\" /><path clip-path=\"url(#clip570)\" d=\"M2551.34 2119.45 L2551.34 2115.19 Q2553.1 2116.02 2554.9 2116.46 Q2556.71 2116.9 2558.44 2116.9 Q2563.07 2116.9 2565.5 2113.8 Q2567.96 2110.68 2568.31 2104.33 Q2566.96 2106.33 2564.9 2107.39 Q2562.84 2108.45 2560.34 2108.45 Q2555.16 2108.45 2552.13 2105.33 Q2549.12 2102.18 2549.12 2096.74 Q2549.12 2091.42 2552.26 2088.2 Q2555.41 2084.98 2560.64 2084.98 Q2566.64 2084.98 2569.79 2089.59 Q2572.96 2094.17 2572.96 2102.92 Q2572.96 2111.09 2569.07 2115.98 Q2565.2 2120.84 2558.65 2120.84 Q2556.89 2120.84 2555.09 2120.49 Q2553.28 2120.14 2551.34 2119.45 M2560.64 2104.8 Q2563.79 2104.8 2565.62 2102.64 Q2567.47 2100.49 2567.47 2096.74 Q2567.47 2093.02 2565.62 2090.86 Q2563.79 2088.69 2560.64 2088.69 Q2557.5 2088.69 2555.64 2090.86 Q2553.81 2093.02 2553.81 2096.74 Q2553.81 2100.49 2555.64 2102.64 Q2557.5 2104.8 2560.64 2104.8 Z\" fill=\"#000000\" fill-rule=\"evenodd\" fill-opacity=\"1\" /><path clip-path=\"url(#clip570)\" d=\"M2656.87 2116.23 L2673.19 2116.23 L2673.19 2120.17 L2651.25 2120.17 L2651.25 2116.23 Q2653.91 2113.48 2658.49 2108.85 Q2663.1 2104.2 2664.28 2102.85 Q2666.53 2100.33 2667.41 2098.59 Q2668.31 2096.83 2668.31 2095.14 Q2668.31 2092.39 2666.36 2090.65 Q2664.44 2088.92 2661.34 2088.92 Q2659.14 2088.92 2656.69 2089.68 Q2654.26 2090.45 2651.48 2092 L2651.48 2087.27 Q2654.3 2086.14 2656.76 2085.56 Q2659.21 2084.98 2661.25 2084.98 Q2666.62 2084.98 2669.81 2087.67 Q2673.01 2090.35 2673.01 2094.84 Q2673.01 2096.97 2672.2 2098.89 Q2671.41 2100.79 2669.3 2103.39 Q2668.73 2104.06 2665.62 2107.27 Q2662.52 2110.47 2656.87 2116.23 Z\" fill=\"#000000\" fill-rule=\"evenodd\" fill-opacity=\"1\" /><path clip-path=\"url(#clip570)\" d=\"M2695.86 2089.68 L2684.05 2108.13 L2695.86 2108.13 L2695.86 2089.68 M2694.63 2085.61 L2700.51 2085.61 L2700.51 2108.13 L2705.44 2108.13 L2705.44 2112.02 L2700.51 2112.02 L2700.51 2120.17 L2695.86 2120.17 L2695.86 2112.02 L2680.25 2112.02 L2680.25 2107.51 L2694.63 2085.61 Z\" fill=\"#000000\" fill-rule=\"evenodd\" fill-opacity=\"1\" /><path clip-path=\"url(#clip570)\" d=\"M2796.06 2101.02 Q2792.91 2101.02 2791.06 2103.18 Q2789.23 2105.33 2789.23 2109.08 Q2789.23 2112.81 2791.06 2114.98 Q2792.91 2117.14 2796.06 2117.14 Q2799.2 2117.14 2801.03 2114.98 Q2802.88 2112.81 2802.88 2109.08 Q2802.88 2105.33 2801.03 2103.18 Q2799.2 2101.02 2796.06 2101.02 M2805.34 2086.37 L2805.34 2090.63 Q2803.58 2089.8 2801.77 2089.36 Q2799.99 2088.92 2798.23 2088.92 Q2793.6 2088.92 2791.15 2092.04 Q2788.72 2095.17 2788.37 2101.49 Q2789.74 2099.47 2791.8 2098.41 Q2793.86 2097.32 2796.33 2097.32 Q2801.54 2097.32 2804.55 2100.49 Q2807.58 2103.64 2807.58 2109.08 Q2807.58 2114.4 2804.43 2117.62 Q2801.29 2120.84 2796.06 2120.84 Q2790.06 2120.84 2786.89 2116.26 Q2783.72 2111.65 2783.72 2102.92 Q2783.72 2094.73 2787.61 2089.87 Q2791.5 2084.98 2798.05 2084.98 Q2799.81 2084.98 2801.59 2085.33 Q2803.39 2085.68 2805.34 2086.37 Z\" fill=\"#000000\" fill-rule=\"evenodd\" fill-opacity=\"1\" /><path clip-path=\"url(#clip570)\" d=\"M2887.56 2116.23 L2895.2 2116.23 L2895.2 2089.87 L2886.89 2091.53 L2886.89 2087.27 L2895.16 2085.61 L2899.83 2085.61 L2899.83 2116.23 L2907.47 2116.23 L2907.47 2120.17 L2887.56 2120.17 L2887.56 2116.23 Z\" fill=\"#000000\" fill-rule=\"evenodd\" fill-opacity=\"1\" /><path clip-path=\"url(#clip570)\" d=\"M2927.49 2101.02 Q2924.35 2101.02 2922.49 2103.18 Q2920.67 2105.33 2920.67 2109.08 Q2920.67 2112.81 2922.49 2114.98 Q2924.35 2117.14 2927.49 2117.14 Q2930.64 2117.14 2932.47 2114.98 Q2934.32 2112.81 2934.32 2109.08 Q2934.32 2105.33 2932.47 2103.18 Q2930.64 2101.02 2927.49 2101.02 M2936.78 2086.37 L2936.78 2090.63 Q2935.02 2089.8 2933.21 2089.36 Q2931.43 2088.92 2929.67 2088.92 Q2925.04 2088.92 2922.59 2092.04 Q2920.16 2095.17 2919.81 2101.49 Q2921.17 2099.47 2923.23 2098.41 Q2925.29 2097.32 2927.77 2097.32 Q2932.98 2097.32 2935.99 2100.49 Q2939.02 2103.64 2939.02 2109.08 Q2939.02 2114.4 2935.87 2117.62 Q2932.73 2120.84 2927.49 2120.84 Q2921.5 2120.84 2918.33 2116.26 Q2915.16 2111.65 2915.16 2102.92 Q2915.16 2094.73 2919.04 2089.87 Q2922.93 2084.98 2929.48 2084.98 Q2931.24 2084.98 2933.03 2085.33 Q2934.83 2085.68 2936.78 2086.37 Z\" fill=\"#000000\" fill-rule=\"evenodd\" fill-opacity=\"1\" /><path clip-path=\"url(#clip570)\" d=\"M3020.65 2116.23 L3028.28 2116.23 L3028.28 2089.87 L3019.97 2091.53 L3019.97 2087.27 L3028.24 2085.61 L3032.91 2085.61 L3032.91 2116.23 L3040.55 2116.23 L3040.55 2120.17 L3020.65 2120.17 L3020.65 2116.23 Z\" fill=\"#000000\" fill-rule=\"evenodd\" fill-opacity=\"1\" /><path clip-path=\"url(#clip570)\" d=\"M3122.3 2116.23 L3129.94 2116.23 L3129.94 2089.87 L3121.63 2091.53 L3121.63 2087.27 L3129.9 2085.61 L3134.57 2085.61 L3134.57 2116.23 L3142.21 2116.23 L3142.21 2120.17 L3122.3 2120.17 L3122.3 2116.23 Z\" fill=\"#000000\" fill-rule=\"evenodd\" fill-opacity=\"1\" /><path clip-path=\"url(#clip570)\" d=\"M3161.66 2103.76 Q3158.32 2103.76 3156.4 2105.54 Q3154.5 2107.32 3154.5 2110.45 Q3154.5 2113.57 3156.4 2115.35 Q3158.32 2117.14 3161.66 2117.14 Q3164.99 2117.14 3166.91 2115.35 Q3168.83 2113.55 3168.83 2110.45 Q3168.83 2107.32 3166.91 2105.54 Q3165.01 2103.76 3161.66 2103.76 M3156.98 2101.77 Q3153.97 2101.02 3152.28 2098.96 Q3150.61 2096.9 3150.61 2093.94 Q3150.61 2089.8 3153.55 2087.39 Q3156.52 2084.98 3161.66 2084.98 Q3166.82 2084.98 3169.76 2087.39 Q3172.7 2089.8 3172.7 2093.94 Q3172.7 2096.9 3171.01 2098.96 Q3169.34 2101.02 3166.35 2101.77 Q3169.73 2102.55 3171.61 2104.84 Q3173.51 2107.14 3173.51 2110.45 Q3173.51 2115.47 3170.43 2118.15 Q3167.37 2120.84 3161.66 2120.84 Q3155.94 2120.84 3152.86 2118.15 Q3149.8 2115.47 3149.8 2110.45 Q3149.8 2107.14 3151.7 2104.84 Q3153.6 2102.55 3156.98 2101.77 M3155.27 2094.38 Q3155.27 2097.07 3156.93 2098.57 Q3158.62 2100.08 3161.66 2100.08 Q3164.66 2100.08 3166.35 2098.57 Q3168.07 2097.07 3168.07 2094.38 Q3168.07 2091.7 3166.35 2090.19 Q3164.66 2088.69 3161.66 2088.69 Q3158.62 2088.69 3156.93 2090.19 Q3155.27 2091.7 3155.27 2094.38 Z\" fill=\"#000000\" fill-rule=\"evenodd\" fill-opacity=\"1\" /><path clip-path=\"url(#clip570)\" d=\"M3239.66 2116.23 L3247.3 2116.23 L3247.3 2089.87 L3238.99 2091.53 L3238.99 2087.27 L3247.25 2085.61 L3251.93 2085.61 L3251.93 2116.23 L3259.56 2116.23 L3259.56 2120.17 L3239.66 2120.17 L3239.66 2116.23 Z\" fill=\"#000000\" fill-rule=\"evenodd\" fill-opacity=\"1\" /><path clip-path=\"url(#clip570)\" d=\"M3269.15 2119.45 L3269.15 2115.19 Q3270.91 2116.02 3272.71 2116.46 Q3274.52 2116.9 3276.25 2116.9 Q3280.88 2116.9 3283.31 2113.8 Q3285.77 2110.68 3286.11 2104.33 Q3284.77 2106.33 3282.71 2107.39 Q3280.65 2108.45 3278.15 2108.45 Q3272.97 2108.45 3269.93 2105.33 Q3266.93 2102.18 3266.93 2096.74 Q3266.93 2091.42 3270.07 2088.2 Q3273.22 2084.98 3278.45 2084.98 Q3284.45 2084.98 3287.6 2089.59 Q3290.77 2094.17 3290.77 2102.92 Q3290.77 2111.09 3286.88 2115.98 Q3283.01 2120.84 3276.46 2120.84 Q3274.7 2120.84 3272.9 2120.49 Q3271.09 2120.14 3269.15 2119.45 M3278.45 2104.8 Q3281.6 2104.8 3283.43 2102.64 Q3285.28 2100.49 3285.28 2096.74 Q3285.28 2093.02 3283.43 2090.86 Q3281.6 2088.69 3278.45 2088.69 Q3275.3 2088.69 3273.45 2090.86 Q3271.62 2093.02 3271.62 2096.74 Q3271.62 2100.49 3273.45 2102.64 Q3275.3 2104.8 3278.45 2104.8 Z\" fill=\"#000000\" fill-rule=\"evenodd\" fill-opacity=\"1\" /><path clip-path=\"url(#clip570)\" d=\"M3361.28 2116.23 L3377.6 2116.23 L3377.6 2120.17 L3355.66 2120.17 L3355.66 2116.23 Q3358.32 2113.48 3362.9 2108.85 Q3367.51 2104.2 3368.69 2102.85 Q3370.93 2100.33 3371.81 2098.59 Q3372.72 2096.83 3372.72 2095.14 Q3372.72 2092.39 3370.77 2090.65 Q3368.85 2088.92 3365.75 2088.92 Q3363.55 2088.92 3361.1 2089.68 Q3358.66 2090.45 3355.89 2092 L3355.89 2087.27 Q3358.71 2086.14 3361.16 2085.56 Q3363.62 2084.98 3365.66 2084.98 Q3371.03 2084.98 3374.22 2087.67 Q3377.41 2090.35 3377.41 2094.84 Q3377.41 2096.97 3376.6 2098.89 Q3375.82 2100.79 3373.71 2103.39 Q3373.13 2104.06 3370.03 2107.27 Q3366.93 2110.47 3361.28 2116.23 Z\" fill=\"#000000\" fill-rule=\"evenodd\" fill-opacity=\"1\" /><path clip-path=\"url(#clip570)\" d=\"M3401.58 2101.53 Q3404.94 2102.25 3406.81 2104.52 Q3408.71 2106.79 3408.71 2110.12 Q3408.71 2115.24 3405.19 2118.04 Q3401.67 2120.84 3395.19 2120.84 Q3393.02 2120.84 3390.7 2120.4 Q3388.41 2119.98 3385.96 2119.13 L3385.96 2114.61 Q3387.9 2115.75 3390.22 2116.33 Q3392.53 2116.9 3395.05 2116.9 Q3399.45 2116.9 3401.74 2115.17 Q3404.06 2113.43 3404.06 2110.12 Q3404.06 2107.07 3401.91 2105.35 Q3399.78 2103.62 3395.96 2103.62 L3391.93 2103.62 L3391.93 2099.77 L3396.14 2099.77 Q3399.59 2099.77 3401.42 2098.41 Q3403.25 2097.02 3403.25 2094.43 Q3403.25 2091.77 3401.35 2090.35 Q3399.47 2088.92 3395.96 2088.92 Q3394.03 2088.92 3391.84 2089.33 Q3389.64 2089.75 3387 2090.63 L3387 2086.46 Q3389.66 2085.72 3391.97 2085.35 Q3394.31 2084.98 3396.37 2084.98 Q3401.7 2084.98 3404.8 2087.41 Q3407.9 2089.82 3407.9 2093.94 Q3407.9 2096.81 3406.26 2098.8 Q3404.61 2100.77 3401.58 2101.53 Z\" fill=\"#000000\" fill-rule=\"evenodd\" fill-opacity=\"1\" /><path clip-path=\"url(#clip570)\" d=\"M3478.36 2116.23 L3494.67 2116.23 L3494.67 2120.17 L3472.73 2120.17 L3472.73 2116.23 Q3475.39 2113.48 3479.98 2108.85 Q3484.58 2104.2 3485.76 2102.85 Q3488.01 2100.33 3488.89 2098.59 Q3489.79 2096.83 3489.79 2095.14 Q3489.79 2092.39 3487.85 2090.65 Q3485.92 2088.92 3482.82 2088.92 Q3480.62 2088.92 3478.17 2089.68 Q3475.74 2090.45 3472.96 2092 L3472.96 2087.27 Q3475.79 2086.14 3478.24 2085.56 Q3480.69 2084.98 3482.73 2084.98 Q3488.1 2084.98 3491.3 2087.67 Q3494.49 2090.35 3494.49 2094.84 Q3494.49 2096.97 3493.68 2098.89 Q3492.89 2100.79 3490.79 2103.39 Q3490.21 2104.06 3487.11 2107.27 Q3484 2110.47 3478.36 2116.23 Z\" fill=\"#000000\" fill-rule=\"evenodd\" fill-opacity=\"1\" /><path clip-path=\"url(#clip570)\" d=\"M3504.63 2119.45 L3504.63 2115.19 Q3506.39 2116.02 3508.19 2116.46 Q3510 2116.9 3511.73 2116.9 Q3516.36 2116.9 3518.79 2113.8 Q3521.25 2110.68 3521.6 2104.33 Q3520.25 2106.33 3518.19 2107.39 Q3516.13 2108.45 3513.63 2108.45 Q3508.45 2108.45 3505.42 2105.33 Q3502.41 2102.18 3502.41 2096.74 Q3502.41 2091.42 3505.55 2088.2 Q3508.7 2084.98 3513.93 2084.98 Q3519.93 2084.98 3523.08 2089.59 Q3526.25 2094.17 3526.25 2102.92 Q3526.25 2111.09 3522.36 2115.98 Q3518.49 2120.84 3511.94 2120.84 Q3510.18 2120.84 3508.38 2120.49 Q3506.57 2120.14 3504.63 2119.45 M3513.93 2104.8 Q3517.08 2104.8 3518.91 2102.64 Q3520.76 2100.49 3520.76 2096.74 Q3520.76 2093.02 3518.91 2090.86 Q3517.08 2088.69 3513.93 2088.69 Q3510.79 2088.69 3508.93 2090.86 Q3507.11 2093.02 3507.11 2096.74 Q3507.11 2100.49 3508.93 2102.64 Q3510.79 2104.8 3513.93 2104.8 Z\" fill=\"#000000\" fill-rule=\"evenodd\" fill-opacity=\"1\" /><path clip-path=\"url(#clip570)\" d=\"M3592.28 2116.23 L3599.92 2116.23 L3599.92 2089.87 L3591.61 2091.53 L3591.61 2087.27 L3599.87 2085.61 L3604.55 2085.61 L3604.55 2116.23 L3612.19 2116.23 L3612.19 2120.17 L3592.28 2120.17 L3592.28 2116.23 Z\" fill=\"#000000\" fill-rule=\"evenodd\" fill-opacity=\"1\" /><path clip-path=\"url(#clip570)\" d=\"M3625.66 2116.23 L3641.98 2116.23 L3641.98 2120.17 L3620.04 2120.17 L3620.04 2116.23 Q3622.7 2113.48 3627.28 2108.85 Q3631.89 2104.2 3633.07 2102.85 Q3635.31 2100.33 3636.19 2098.59 Q3637.1 2096.83 3637.1 2095.14 Q3637.1 2092.39 3635.15 2090.65 Q3633.23 2088.92 3630.13 2088.92 Q3627.93 2088.92 3625.48 2089.68 Q3623.05 2090.45 3620.27 2092 L3620.27 2087.27 Q3623.09 2086.14 3625.55 2085.56 Q3628 2084.98 3630.04 2084.98 Q3635.41 2084.98 3638.6 2087.67 Q3641.8 2090.35 3641.8 2094.84 Q3641.8 2096.97 3640.99 2098.89 Q3640.2 2100.79 3638.09 2103.39 Q3637.51 2104.06 3634.41 2107.27 Q3631.31 2110.47 3625.66 2116.23 Z\" fill=\"#000000\" fill-rule=\"evenodd\" fill-opacity=\"1\" /><path clip-path=\"url(#clip570)\" d=\"M3712.92 2116.23 L3729.24 2116.23 L3729.24 2120.17 L3707.3 2120.17 L3707.3 2116.23 Q3709.96 2113.48 3714.54 2108.85 Q3719.15 2104.2 3720.33 2102.85 Q3722.57 2100.33 3723.45 2098.59 Q3724.36 2096.83 3724.36 2095.14 Q3724.36 2092.39 3722.41 2090.65 Q3720.49 2088.92 3717.39 2088.92 Q3715.19 2088.92 3712.74 2089.68 Q3710.31 2090.45 3707.53 2092 L3707.53 2087.27 Q3710.35 2086.14 3712.81 2085.56 Q3715.26 2084.98 3717.3 2084.98 Q3722.67 2084.98 3725.86 2087.67 Q3729.06 2090.35 3729.06 2094.84 Q3729.06 2096.97 3728.25 2098.89 Q3727.46 2100.79 3725.35 2103.39 Q3724.77 2104.06 3721.67 2107.27 Q3718.57 2110.47 3712.92 2116.23 Z\" fill=\"#000000\" fill-rule=\"evenodd\" fill-opacity=\"1\" /><path clip-path=\"url(#clip570)\" d=\"M3749.06 2103.76 Q3745.72 2103.76 3743.8 2105.54 Q3741.9 2107.32 3741.9 2110.45 Q3741.9 2113.57 3743.8 2115.35 Q3745.72 2117.14 3749.06 2117.14 Q3752.39 2117.14 3754.31 2115.35 Q3756.23 2113.55 3756.23 2110.45 Q3756.23 2107.32 3754.31 2105.54 Q3752.41 2103.76 3749.06 2103.76 M3744.38 2101.77 Q3741.37 2101.02 3739.68 2098.96 Q3738.01 2096.9 3738.01 2093.94 Q3738.01 2089.8 3740.95 2087.39 Q3743.92 2084.98 3749.06 2084.98 Q3754.22 2084.98 3757.16 2087.39 Q3760.1 2089.8 3760.1 2093.94 Q3760.1 2096.9 3758.41 2098.96 Q3756.74 2101.02 3753.76 2101.77 Q3757.13 2102.55 3759.01 2104.84 Q3760.91 2107.14 3760.91 2110.45 Q3760.91 2115.47 3757.83 2118.15 Q3754.77 2120.84 3749.06 2120.84 Q3743.34 2120.84 3740.26 2118.15 Q3737.2 2115.47 3737.2 2110.45 Q3737.2 2107.14 3739.1 2104.84 Q3741 2102.55 3744.38 2101.77 M3742.67 2094.38 Q3742.67 2097.07 3744.33 2098.57 Q3746.02 2100.08 3749.06 2100.08 Q3752.07 2100.08 3753.76 2098.57 Q3755.47 2097.07 3755.47 2094.38 Q3755.47 2091.7 3753.76 2090.19 Q3752.07 2088.69 3749.06 2088.69 Q3746.02 2088.69 3744.33 2090.19 Q3742.67 2091.7 3742.67 2094.38 Z\" fill=\"#000000\" fill-rule=\"evenodd\" fill-opacity=\"1\" /><polyline clip-path=\"url(#clip572)\" style=\"stroke:#000000; stroke-linecap:butt; stroke-linejoin:round; stroke-width:2; stroke-opacity:0.1; fill:none\" points=\"\n  156.253,2046.25 3792.76,2046.25 \n  \"/>\n<polyline clip-path=\"url(#clip572)\" style=\"stroke:#000000; stroke-linecap:butt; stroke-linejoin:round; stroke-width:2; stroke-opacity:0.1; fill:none\" points=\"\n  156.253,1597.77 3792.76,1597.77 \n  \"/>\n<polyline clip-path=\"url(#clip572)\" style=\"stroke:#000000; stroke-linecap:butt; stroke-linejoin:round; stroke-width:2; stroke-opacity:0.1; fill:none\" points=\"\n  156.253,1149.29 3792.76,1149.29 \n  \"/>\n<polyline clip-path=\"url(#clip572)\" style=\"stroke:#000000; stroke-linecap:butt; stroke-linejoin:round; stroke-width:2; stroke-opacity:0.1; fill:none\" points=\"\n  156.253,700.814 3792.76,700.814 \n  \"/>\n<polyline clip-path=\"url(#clip572)\" style=\"stroke:#000000; stroke-linecap:butt; stroke-linejoin:round; stroke-width:2; stroke-opacity:0.1; fill:none\" points=\"\n  156.253,252.336 3792.76,252.336 \n  \"/>\n<polyline clip-path=\"url(#clip570)\" style=\"stroke:#000000; stroke-linecap:butt; stroke-linejoin:round; stroke-width:4; stroke-opacity:1; fill:none\" points=\"\n  156.253,2046.25 156.253,47.2441 \n  \"/>\n<polyline clip-path=\"url(#clip570)\" style=\"stroke:#000000; stroke-linecap:butt; stroke-linejoin:round; stroke-width:4; stroke-opacity:1; fill:none\" points=\"\n  156.253,2046.25 175.151,2046.25 \n  \"/>\n<polyline clip-path=\"url(#clip570)\" style=\"stroke:#000000; stroke-linecap:butt; stroke-linejoin:round; stroke-width:4; stroke-opacity:1; fill:none\" points=\"\n  156.253,1597.77 175.151,1597.77 \n  \"/>\n<polyline clip-path=\"url(#clip570)\" style=\"stroke:#000000; stroke-linecap:butt; stroke-linejoin:round; stroke-width:4; stroke-opacity:1; fill:none\" points=\"\n  156.253,1149.29 175.151,1149.29 \n  \"/>\n<polyline clip-path=\"url(#clip570)\" style=\"stroke:#000000; stroke-linecap:butt; stroke-linejoin:round; stroke-width:4; stroke-opacity:1; fill:none\" points=\"\n  156.253,700.814 175.151,700.814 \n  \"/>\n<polyline clip-path=\"url(#clip570)\" style=\"stroke:#000000; stroke-linecap:butt; stroke-linejoin:round; stroke-width:4; stroke-opacity:1; fill:none\" points=\"\n  156.253,252.336 175.151,252.336 \n  \"/>\n<path clip-path=\"url(#clip570)\" d=\"M86.7086 2032.05 Q83.0975 2032.05 81.2688 2035.61 Q79.4632 2039.15 79.4632 2046.28 Q79.4632 2053.39 81.2688 2056.95 Q83.0975 2060.5 86.7086 2060.5 Q90.3428 2060.5 92.1483 2056.95 Q93.977 2053.39 93.977 2046.28 Q93.977 2039.15 92.1483 2035.61 Q90.3428 2032.05 86.7086 2032.05 M86.7086 2028.34 Q92.5187 2028.34 95.5743 2032.95 Q98.6529 2037.53 98.6529 2046.28 Q98.6529 2055.01 95.5743 2059.62 Q92.5187 2064.2 86.7086 2064.2 Q80.8984 2064.2 77.8197 2059.62 Q74.7642 2055.01 74.7642 2046.28 Q74.7642 2037.53 77.8197 2032.95 Q80.8984 2028.34 86.7086 2028.34 Z\" fill=\"#000000\" fill-rule=\"evenodd\" fill-opacity=\"1\" /><path clip-path=\"url(#clip570)\" d=\"M47.3569 1611.11 L54.9958 1611.11 L54.9958 1584.75 L46.6856 1586.42 L46.6856 1582.16 L54.9495 1580.49 L59.6254 1580.49 L59.6254 1611.11 L67.2642 1611.11 L67.2642 1615.05 L47.3569 1615.05 L47.3569 1611.11 Z\" fill=\"#000000\" fill-rule=\"evenodd\" fill-opacity=\"1\" /><path clip-path=\"url(#clip570)\" d=\"M86.7086 1583.57 Q83.0975 1583.57 81.2688 1587.13 Q79.4632 1590.67 79.4632 1597.8 Q79.4632 1604.91 81.2688 1608.48 Q83.0975 1612.02 86.7086 1612.02 Q90.3428 1612.02 92.1483 1608.48 Q93.977 1604.91 93.977 1597.8 Q93.977 1590.67 92.1483 1587.13 Q90.3428 1583.57 86.7086 1583.57 M86.7086 1579.86 Q92.5187 1579.86 95.5743 1584.47 Q98.6529 1589.05 98.6529 1597.8 Q98.6529 1606.53 95.5743 1611.14 Q92.5187 1615.72 86.7086 1615.72 Q80.8984 1615.72 77.8197 1611.14 Q74.7642 1606.53 74.7642 1597.8 Q74.7642 1589.05 77.8197 1584.47 Q80.8984 1579.86 86.7086 1579.86 Z\" fill=\"#000000\" fill-rule=\"evenodd\" fill-opacity=\"1\" /><path clip-path=\"url(#clip570)\" d=\"M50.5745 1162.64 L66.8939 1162.64 L66.8939 1166.57 L44.9495 1166.57 L44.9495 1162.64 Q47.6115 1159.88 52.1949 1155.25 Q56.8013 1150.6 57.9819 1149.26 Q60.2272 1146.73 61.1068 1145 Q62.0096 1143.24 62.0096 1141.55 Q62.0096 1138.79 60.0652 1137.06 Q58.1439 1135.32 55.0421 1135.32 Q52.843 1135.32 50.3893 1136.09 Q47.9588 1136.85 45.181 1138.4 L45.181 1133.68 Q48.0051 1132.54 50.4588 1131.97 Q52.9124 1131.39 54.9495 1131.39 Q60.3198 1131.39 63.5142 1134.07 Q66.7087 1136.76 66.7087 1141.25 Q66.7087 1143.38 65.8985 1145.3 Q65.1115 1147.2 63.005 1149.79 Q62.4263 1150.46 59.3245 1153.68 Q56.2226 1156.87 50.5745 1162.64 Z\" fill=\"#000000\" fill-rule=\"evenodd\" fill-opacity=\"1\" /><path clip-path=\"url(#clip570)\" d=\"M86.7086 1135.09 Q83.0975 1135.09 81.2688 1138.66 Q79.4632 1142.2 79.4632 1149.33 Q79.4632 1156.43 81.2688 1160 Q83.0975 1163.54 86.7086 1163.54 Q90.3428 1163.54 92.1483 1160 Q93.977 1156.43 93.977 1149.33 Q93.977 1142.2 92.1483 1138.66 Q90.3428 1135.09 86.7086 1135.09 M86.7086 1131.39 Q92.5187 1131.39 95.5743 1135.99 Q98.6529 1140.58 98.6529 1149.33 Q98.6529 1158.05 95.5743 1162.66 Q92.5187 1167.24 86.7086 1167.24 Q80.8984 1167.24 77.8197 1162.66 Q74.7642 1158.05 74.7642 1149.33 Q74.7642 1140.58 77.8197 1135.99 Q80.8984 1131.39 86.7086 1131.39 Z\" fill=\"#000000\" fill-rule=\"evenodd\" fill-opacity=\"1\" /><path clip-path=\"url(#clip570)\" d=\"M60.7133 699.46 Q64.0698 700.177 65.9448 702.446 Q67.8429 704.714 67.8429 708.047 Q67.8429 713.163 64.3244 715.964 Q60.8059 718.765 54.3245 718.765 Q52.1486 718.765 49.8338 718.325 Q47.5421 717.909 45.0884 717.052 L45.0884 712.538 Q47.0328 713.672 49.3477 714.251 Q51.6625 714.83 54.1856 714.83 Q58.5837 714.83 60.8754 713.094 Q63.1902 711.358 63.1902 708.047 Q63.1902 704.992 61.0374 703.279 Q58.9078 701.543 55.0884 701.543 L51.0606 701.543 L51.0606 697.7 L55.2735 697.7 Q58.7226 697.7 60.5513 696.335 Q62.38 694.946 62.38 692.353 Q62.38 689.691 60.4819 688.279 Q58.6069 686.844 55.0884 686.844 Q53.1671 686.844 50.968 687.261 Q48.769 687.677 46.1301 688.557 L46.1301 684.39 Q48.7921 683.649 51.1069 683.279 Q53.4449 682.909 55.505 682.909 Q60.8291 682.909 63.9309 685.339 Q67.0327 687.747 67.0327 691.867 Q67.0327 694.737 65.3892 696.728 Q63.7457 698.696 60.7133 699.46 Z\" fill=\"#000000\" fill-rule=\"evenodd\" fill-opacity=\"1\" /><path clip-path=\"url(#clip570)\" d=\"M86.7086 686.612 Q83.0975 686.612 81.2688 690.177 Q79.4632 693.719 79.4632 700.848 Q79.4632 707.955 81.2688 711.52 Q83.0975 715.061 86.7086 715.061 Q90.3428 715.061 92.1483 711.52 Q93.977 707.955 93.977 700.848 Q93.977 693.719 92.1483 690.177 Q90.3428 686.612 86.7086 686.612 M86.7086 682.909 Q92.5187 682.909 95.5743 687.515 Q98.6529 692.098 98.6529 700.848 Q98.6529 709.575 95.5743 714.182 Q92.5187 718.765 86.7086 718.765 Q80.8984 718.765 77.8197 714.182 Q74.7642 709.575 74.7642 700.848 Q74.7642 692.098 77.8197 687.515 Q80.8984 682.909 86.7086 682.909 Z\" fill=\"#000000\" fill-rule=\"evenodd\" fill-opacity=\"1\" /><path clip-path=\"url(#clip570)\" d=\"M59.3939 239.13 L47.5884 257.579 L59.3939 257.579 L59.3939 239.13 M58.167 235.056 L64.0466 235.056 L64.0466 257.579 L68.9772 257.579 L68.9772 261.468 L64.0466 261.468 L64.0466 269.616 L59.3939 269.616 L59.3939 261.468 L43.7921 261.468 L43.7921 256.954 L58.167 235.056 Z\" fill=\"#000000\" fill-rule=\"evenodd\" fill-opacity=\"1\" /><path clip-path=\"url(#clip570)\" d=\"M86.7086 238.134 Q83.0975 238.134 81.2688 241.699 Q79.4632 245.241 79.4632 252.37 Q79.4632 259.477 81.2688 263.042 Q83.0975 266.583 86.7086 266.583 Q90.3428 266.583 92.1483 263.042 Q93.977 259.477 93.977 252.37 Q93.977 245.241 92.1483 241.699 Q90.3428 238.134 86.7086 238.134 M86.7086 234.431 Q92.5187 234.431 95.5743 239.037 Q98.6529 243.62 98.6529 252.37 Q98.6529 261.097 95.5743 265.704 Q92.5187 270.287 86.7086 270.287 Q80.8984 270.287 77.8197 265.704 Q74.7642 261.097 74.7642 252.37 Q74.7642 243.62 77.8197 239.037 Q80.8984 234.431 86.7086 234.431 Z\" fill=\"#000000\" fill-rule=\"evenodd\" fill-opacity=\"1\" /><polyline clip-path=\"url(#clip572)\" style=\"stroke:#000000; stroke-linecap:butt; stroke-linejoin:round; stroke-width:4; stroke-opacity:1; fill:none\" points=\"\n  1622.58,2046.25 1622.58,2014.09 1739.89,2014.09 1739.89,2046.25 \n  \"/>\n<polyline clip-path=\"url(#clip572)\" style=\"stroke:#000000; stroke-linecap:butt; stroke-linejoin:round; stroke-width:4; stroke-opacity:1; fill:none\" points=\"\n  2091.81,2046.25 2091.81,1754.1 2209.12,1754.1 2209.12,2046.25 \n  \"/>\n<polyline clip-path=\"url(#clip572)\" style=\"stroke:#000000; stroke-linecap:butt; stroke-linejoin:round; stroke-width:4; stroke-opacity:1; fill:none\" points=\"\n  1974.5,2046.25 1974.5,1686.88 2150.46,1686.88 2150.46,1754.1 \n  \"/>\n<polyline clip-path=\"url(#clip572)\" style=\"stroke:#000000; stroke-linecap:butt; stroke-linejoin:round; stroke-width:4; stroke-opacity:1; fill:none\" points=\"\n  2795.65,2046.25 2795.65,1671.39 2912.96,1671.39 2912.96,2046.25 \n  \"/>\n<polyline clip-path=\"url(#clip572)\" style=\"stroke:#000000; stroke-linecap:butt; stroke-linejoin:round; stroke-width:4; stroke-opacity:1; fill:none\" points=\"\n  1857.2,2046.25 1857.2,1662.47 2062.48,1662.47 2062.48,1686.88 \n  \"/>\n<polyline clip-path=\"url(#clip572)\" style=\"stroke:#000000; stroke-linecap:butt; stroke-linejoin:round; stroke-width:4; stroke-opacity:1; fill:none\" points=\"\n  1681.24,2014.09 1681.24,1659.5 1959.84,1659.5 1959.84,1662.47 \n  \"/>\n<polyline clip-path=\"url(#clip572)\" style=\"stroke:#000000; stroke-linecap:butt; stroke-linejoin:round; stroke-width:4; stroke-opacity:1; fill:none\" points=\"\n  1505.28,2046.25 1505.28,1649.22 1820.54,1649.22 1820.54,1659.5 \n  \"/>\n<polyline clip-path=\"url(#clip572)\" style=\"stroke:#000000; stroke-linecap:butt; stroke-linejoin:round; stroke-width:4; stroke-opacity:1; fill:none\" points=\"\n  1387.97,2046.25 1387.97,1552.97 1662.91,1552.97 1662.91,1649.22 \n  \"/>\n<polyline clip-path=\"url(#clip572)\" style=\"stroke:#000000; stroke-linecap:butt; stroke-linejoin:round; stroke-width:4; stroke-opacity:1; fill:none\" points=\"\n  2326.42,2046.25 2326.42,1519.5 2443.73,1519.5 2443.73,2046.25 \n  \"/>\n<polyline clip-path=\"url(#clip572)\" style=\"stroke:#000000; stroke-linecap:butt; stroke-linejoin:round; stroke-width:4; stroke-opacity:1; fill:none\" points=\"\n  2678.34,2046.25 2678.34,1516.94 2854.3,1516.94 2854.3,1671.39 \n  \"/>\n<polyline clip-path=\"url(#clip572)\" style=\"stroke:#000000; stroke-linecap:butt; stroke-linejoin:round; stroke-width:4; stroke-opacity:1; fill:none\" points=\"\n  3264.88,2046.25 3264.88,1497.72 3382.18,1497.72 3382.18,2046.25 \n  \"/>\n<polyline clip-path=\"url(#clip572)\" style=\"stroke:#000000; stroke-linecap:butt; stroke-linejoin:round; stroke-width:4; stroke-opacity:1; fill:none\" points=\"\n  566.826,2046.25 566.826,1460.95 684.132,1460.95 684.132,2046.25 \n  \"/>\n<polyline clip-path=\"url(#clip572)\" style=\"stroke:#000000; stroke-linecap:butt; stroke-linejoin:round; stroke-width:4; stroke-opacity:1; fill:none\" points=\"\n  1525.44,1552.97 1525.44,1398.47 2385.08,1398.47 2385.08,1519.5 \n  \"/>\n<polyline clip-path=\"url(#clip572)\" style=\"stroke:#000000; stroke-linecap:butt; stroke-linejoin:round; stroke-width:4; stroke-opacity:1; fill:none\" points=\"\n  2561.04,2046.25 2561.04,1395.28 2766.32,1395.28 2766.32,1516.94 \n  \"/>\n<polyline clip-path=\"url(#clip572)\" style=\"stroke:#000000; stroke-linecap:butt; stroke-linejoin:round; stroke-width:4; stroke-opacity:1; fill:none\" points=\"\n  1955.26,1398.47 1955.26,1341.17 2663.68,1341.17 2663.68,1395.28 \n  \"/>\n<polyline clip-path=\"url(#clip572)\" style=\"stroke:#000000; stroke-linecap:butt; stroke-linejoin:round; stroke-width:4; stroke-opacity:1; fill:none\" points=\"\n  1270.67,2046.25 1270.67,1254.02 2309.47,1254.02 2309.47,1341.17 \n  \"/>\n<polyline clip-path=\"url(#clip572)\" style=\"stroke:#000000; stroke-linecap:butt; stroke-linejoin:round; stroke-width:4; stroke-opacity:1; fill:none\" points=\"\n  1153.36,2046.25 1153.36,1221.35 1790.07,1221.35 1790.07,1254.02 \n  \"/>\n<polyline clip-path=\"url(#clip572)\" style=\"stroke:#000000; stroke-linecap:butt; stroke-linejoin:round; stroke-width:4; stroke-opacity:1; fill:none\" points=\"\n  1036.05,2046.25 1036.05,1220.41 1471.71,1220.41 1471.71,1221.35 \n  \"/>\n<polyline clip-path=\"url(#clip572)\" style=\"stroke:#000000; stroke-linecap:butt; stroke-linejoin:round; stroke-width:4; stroke-opacity:1; fill:none\" points=\"\n  918.745,2046.25 918.745,1195.21 1253.88,1195.21 1253.88,1220.41 \n  \"/>\n<polyline clip-path=\"url(#clip572)\" style=\"stroke:#000000; stroke-linecap:butt; stroke-linejoin:round; stroke-width:4; stroke-opacity:1; fill:none\" points=\"\n  3616.8,2046.25 3616.8,1192.51 3734.1,1192.51 3734.1,2046.25 \n  \"/>\n<polyline clip-path=\"url(#clip572)\" style=\"stroke:#000000; stroke-linecap:butt; stroke-linejoin:round; stroke-width:4; stroke-opacity:1; fill:none\" points=\"\n  3147.57,2046.25 3147.57,1188.54 3323.53,1188.54 3323.53,1497.72 \n  \"/>\n<polyline clip-path=\"url(#clip572)\" style=\"stroke:#000000; stroke-linecap:butt; stroke-linejoin:round; stroke-width:4; stroke-opacity:1; fill:none\" points=\"\n  3499.49,2046.25 3499.49,1154.3 3675.45,1154.3 3675.45,1192.51 \n  \"/>\n<polyline clip-path=\"url(#clip572)\" style=\"stroke:#000000; stroke-linecap:butt; stroke-linejoin:round; stroke-width:4; stroke-opacity:1; fill:none\" points=\"\n  801.439,2046.25 801.439,1112.04 1086.31,1112.04 1086.31,1195.21 \n  \"/>\n<polyline clip-path=\"url(#clip572)\" style=\"stroke:#000000; stroke-linecap:butt; stroke-linejoin:round; stroke-width:4; stroke-opacity:1; fill:none\" points=\"\n  625.479,1460.95 625.479,1105.21 943.876,1105.21 943.876,1112.04 \n  \"/>\n<polyline clip-path=\"url(#clip572)\" style=\"stroke:#000000; stroke-linecap:butt; stroke-linejoin:round; stroke-width:4; stroke-opacity:1; fill:none\" points=\"\n  3235.55,1188.54 3235.55,1022.17 3587.47,1022.17 3587.47,1154.3 \n  \"/>\n<polyline clip-path=\"url(#clip572)\" style=\"stroke:#000000; stroke-linecap:butt; stroke-linejoin:round; stroke-width:4; stroke-opacity:1; fill:none\" points=\"\n  3030.26,2046.25 3030.26,1000.1 3411.51,1000.1 3411.51,1022.17 \n  \"/>\n<polyline clip-path=\"url(#clip572)\" style=\"stroke:#000000; stroke-linecap:butt; stroke-linejoin:round; stroke-width:4; stroke-opacity:1; fill:none\" points=\"\n  784.678,1105.21 784.678,908.741 3220.89,908.741 3220.89,1000.1 \n  \"/>\n<polyline clip-path=\"url(#clip572)\" style=\"stroke:#000000; stroke-linecap:butt; stroke-linejoin:round; stroke-width:4; stroke-opacity:1; fill:none\" points=\"\n  449.519,2046.25 449.519,595.472 2002.78,595.472 2002.78,908.741 \n  \"/>\n<polyline clip-path=\"url(#clip572)\" style=\"stroke:#000000; stroke-linecap:butt; stroke-linejoin:round; stroke-width:4; stroke-opacity:1; fill:none\" points=\"\n  332.213,2046.25 332.213,441.624 1226.15,441.624 1226.15,595.472 \n  \"/>\n<polyline clip-path=\"url(#clip572)\" style=\"stroke:#000000; stroke-linecap:butt; stroke-linejoin:round; stroke-width:4; stroke-opacity:1; fill:none\" points=\"\n  214.906,2046.25 214.906,47.2441 779.182,47.2441 779.182,441.624 \n  \"/>\n</svg>\n"
     },
     "execution_count": 64,
     "metadata": {},
     "output_type": "execute_result"
    }
   ],
   "source": [
    "hc10 = hierarchical_clustering(reconstructed, 30, pos, labels)\n",
    "plot(hc10, size = (1920/2, 1080/2))"
   ]
  },
  {
   "cell_type": "code",
   "execution_count": 65,
   "metadata": {},
   "outputs": [],
   "source": [
    "plots_db = []\n",
    "ref = Plots.plot(data[\"target.cif\"], label = \"referencia\")\n",
    "ylabel!(L\"\\textrm{Transmitancia}\")\n",
    "xlabel!(L\"\\textrm{Nro de onda} (cm^-1)\")\n",
    "for label in labels[idx10masparecidos]\n",
    "    x,y = data[label]\n",
    "    pi = plot(ref)\n",
    "    title!(label)\n",
    "    push!(plots_db,plot!(pi,x,y./100, legend = false))\n",
    "end\n",
    "plot(plots_db..., size = (8000,3000))\n",
    "savefig(\"to2.png\")"
   ]
  },
  {
   "cell_type": "code",
   "execution_count": 66,
   "metadata": {},
   "outputs": [
    {
     "data": {
      "text/plain": [
       "10-element Vector{String}:\n",
       " \"REXFIL_freeONLY\"\n",
       " \"FUVDEH10_freeONLY\"\n",
       " \"KISVEO_freeONLY\"\n",
       " \"IFEPUG07_freeONLY\"\n",
       " \"CIFMAH_freeONLY\"\n",
       " \"JEYXOB_freeONLY\"\n",
       " \"XUYDIF_freeONLY\"\n",
       " \"KONFIE_freeONLY\"\n",
       " \"QEZZEC_freeONLY\"\n",
       " \"OFEZIJ_freeONLY\""
      ]
     },
     "execution_count": 66,
     "metadata": {},
     "output_type": "execute_result"
    }
   ],
   "source": [
    "mtch = labels[idx10masparecidos] .|> x -> x[begin:end-4]"
   ]
  },
  {
   "cell_type": "code",
   "execution_count": 67,
   "metadata": {},
   "outputs": [
    {
     "data": {
      "text/plain": [
       "\"10masparecidos.csv\""
      ]
     },
     "execution_count": 67,
     "metadata": {},
     "output_type": "execute_result"
    }
   ],
   "source": [
    "diezmasparecidos = filter(:filename => filename -> filename ∈ mtch , df_fsr)\n",
    "CSV.write(\"10masparecidos.csv\", diezmasparecidos)"
   ]
  },
  {
   "cell_type": "code",
   "execution_count": 68,
   "metadata": {},
   "outputs": [
    {
     "data": {
      "text/plain": [
       "\"same_cluster.csv\""
      ]
     },
     "execution_count": 68,
     "metadata": {},
     "output_type": "execute_result"
    }
   ],
   "source": [
    "same_cluster = filter(:cluster_assignment =>  x -> x == 4, df_fsr)\n",
    "CSV.write(\"same_cluster.csv\", same_cluster)"
   ]
  }
 ],
 "metadata": {
  "kernelspec": {
   "display_name": "Julia 1.7.1",
   "language": "julia",
   "name": "julia-1.7"
  },
  "language_info": {
   "file_extension": ".jl",
   "mimetype": "application/julia",
   "name": "julia",
   "version": "1.7.1"
  }
 },
 "nbformat": 4,
 "nbformat_minor": 2
}
