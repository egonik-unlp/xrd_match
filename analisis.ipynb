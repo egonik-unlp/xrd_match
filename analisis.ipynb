{
 "cells": [
  {
   "cell_type": "code",
   "execution_count": 10,
   "metadata": {},
   "outputs": [
    {
     "data": {
      "text/plain": [
       "Plots.GRBackend()"
      ]
     },
     "metadata": {},
     "output_type": "display_data"
    }
   ],
   "source": [
    "using Plots, JSON, Peaks, OrderedCollections, DataFrames, StatsPlots, LaTeXStrings, StatsBase, MultivariateStats, Clustering, CSV, Distances\n",
    "gr()"
   ]
  },
  {
   "cell_type": "code",
   "execution_count": 11,
   "metadata": {},
   "outputs": [],
   "source": [
    "master_df = CSV.File(\"2019-07-01-FSR-public_7061.csv\") |> DataFrame;"
   ]
  },
  {
   "cell_type": "code",
   "execution_count": 12,
   "metadata": {},
   "outputs": [],
   "source": [
    "filename = \"patterns_540.json\"\n",
    "if !isfile(filename)\n",
    "\tfilename = download(\"https://transfer.sh/wel5mB/patterns_540.json\")\n",
    "end"
   ]
  },
  {
   "cell_type": "code",
   "execution_count": 13,
   "metadata": {},
   "outputs": [],
   "source": [
    "data = JSON.parsefile(filename, \n",
    "    dicttype=Dict,\n",
    "    inttype=Int64,\n",
    "    );"
   ]
  },
  {
   "cell_type": "code",
   "execution_count": 14,
   "metadata": {},
   "outputs": [
    {
     "data": {
      "text/plain": [
       "([4.03, 4.056, 4.082, 4.108, 4.134, 4.16, 4.186, 4.212, 4.238, 4.264  …  39.728, 39.754, 39.78, 39.806, 39.832, 39.858, 39.884, 39.91, 39.936, 39.962], [0.14756460269550806, 0.07593756420866207, 0.027872626154214694, 0.003647348112032414, -0.008179140405098737, -0.007941941816776639, -0.014447410095475977, -0.00993850187553682, -0.0038827067287750417, 0.0  …  -0.006898650506501704, -0.005080942691783007, -0.005544639228656973, -0.0067733170466287304, -0.005287326778580806, -0.0042312153720347224, -0.0030532485401810142, -0.002616568878948663, -0.003175041857728548, 0.0])"
      ]
     },
     "metadata": {},
     "output_type": "display_data"
    }
   ],
   "source": [
    "tgt = CSV.File(\"xe.dat\") |> DataFrame\n",
    "data[\"target.cif\"] = tgt.theta,tgt.int"
   ]
  },
  {
   "cell_type": "code",
   "execution_count": 15,
   "metadata": {},
   "outputs": [],
   "source": [
    "\n",
    "len = 2\n",
    "loc_valor = map(data |> values) do (x,y)\n",
    "    pks, vals = findmaxima(y)\n",
    "    pks, proms = peakproms(pks, y)\n",
    "    # rt = sort(vals, rev = :true) |> vals -> length(vals) > len ? vals[begin:len] : nothing\n",
    "    rt = sort(proms, rev = :true) |> proms -> length(proms) > len ? proms[begin:len] : nothing #Ordeno por promincencia\n",
    "    rtl = isnothing(rt) ? 0 : length(rt)\n",
    "    rtl > 0 ? (x[begin:rtl], rt) : nothing #Retorno nothing si no hay numero suficiente de picos\n",
    "end;"
   ]
  },
  {
   "cell_type": "code",
   "execution_count": 16,
   "metadata": {},
   "outputs": [
    {
     "name": "stdout",
     "output_type": "stream",
     "text": [
      "6811\n"
     ]
    }
   ],
   "source": [
    "idx = findall(!isnothing, loc_valor);\n",
    "loc_valor = loc_valor[idx];\n",
    "labels = (data |> keys |> collect)[idx];\n",
    "println(length(loc_valor))"
   ]
  },
  {
   "cell_type": "code",
   "execution_count": 17,
   "metadata": {},
   "outputs": [],
   "source": [
    "@assert \"target.cif\" ∈ labels"
   ]
  },
  {
   "cell_type": "code",
   "execution_count": 18,
   "metadata": {},
   "outputs": [
    {
     "data": {
      "text/plain": [
       "1743"
      ]
     },
     "metadata": {},
     "output_type": "display_data"
    }
   ],
   "source": [
    "key = keys(data) |> collect |> sample\n",
    "key = \"target.cif\" \n",
    "x,y = data[key]\n",
    "pos = findall(x -> x == key, data |> keys |> collect ) |> first\n",
    "# \n",
    "# df = DataFrame(x = x, y=y)\n",
    "# p = @df df Plots.plot(:x, :y,\n",
    "    # title=key,\n",
    "    # xlabel=L\"2\\theta\",\n",
    "    # ylabel=\"Intensity\",\n",
    "# ) \n",
    "# \n",
    "# locs = loc_valor[pos][1]\n",
    "# \n",
    "# for pk ∈ locs\n",
    "    # vline!([pk], label = :false, color = :green)\n",
    "# end\n",
    "# p"
   ]
  },
  {
   "cell_type": "code",
   "execution_count": 19,
   "metadata": {},
   "outputs": [],
   "source": [
    "data_pc = map(loc_valor) do (x,y)\n",
    "    vcat(x,y)' |> Array{Float64}\n",
    "end #|> x -> vcat(x...)\n",
    "pca_raw_data = vcat(data_pc...) ;\n"
   ]
  },
  {
   "cell_type": "code",
   "execution_count": 20,
   "metadata": {},
   "outputs": [
    {
     "data": {
      "text/plain": [
       "PCA(indim = 2, outdim = 1, principalratio = 0.9965792632286274)\n",
       "\n",
       "Pattern matrix (unstandardized loadings):\n",
       "───────────\n",
       "        PC1\n",
       "───────────\n",
       "1  -0.35734\n",
       "2  35.2033\n",
       "───────────\n",
       "\n",
       "Importance of components:\n",
       "──────────────────────────────────────\n",
       "                                   PC1\n",
       "──────────────────────────────────────\n",
       "SS Loadings (Eigenvalues)  1239.4\n",
       "Variance explained            0.996579\n",
       "Cumulative variance           0.996579\n",
       "Proportion explained          1.0\n",
       "Cumulative proportion         1.0\n",
       "──────────────────────────────────────"
      ]
     },
     "metadata": {},
     "output_type": "display_data"
    }
   ],
   "source": [
    "M = fit(PCA, pca_raw_data', maxoutdim = 4) "
   ]
  },
  {
   "cell_type": "code",
   "execution_count": 21,
   "metadata": {},
   "outputs": [
    {
     "data": {
      "text/plain": [
       "1×6811 Matrix{Float64}:\n",
       " -35.7637  35.2319  -44.2561  -48.998  …  31.6502  36.1868  23.4592  37.0733"
      ]
     },
     "metadata": {},
     "output_type": "display_data"
    }
   ],
   "source": [
    "reconstructed = predict(M, pca_raw_data')"
   ]
  },
  {
   "cell_type": "code",
   "execution_count": 22,
   "metadata": {},
   "outputs": [
    {
     "name": "stdout",
     "output_type": "stream",
     "text": [
      "  Iters               objv        objv-change | affected \n",
      "-------------------------------------------------------------\n",
      "      0       8.724713e+04\n"
     ]
    },
    {
     "name": "stdout",
     "output_type": "stream",
     "text": [
      "      1       5.702779e+04      -3.021934e+04 |       10\n",
      "      2       5.191059e+04      -5.117196e+03 |       10\n",
      "      3       4.962335e+04      -2.287239e+03 |       10\n",
      "      4       4.834003e+04      -1.283322e+03 |       10\n",
      "      5       4.746370e+04      -8.763277e+02 |       10\n",
      "      6       4.680653e+04      -6.571702e+02 |       10\n",
      "      7       4.603024e+04      -7.762869e+02 |       10\n",
      "      8       4.538562e+04      -6.446235e+02 |       10\n",
      "      9       4.475001e+04      -6.356093e+02 |       10\n",
      "     10       4.402709e+04      -7.229240e+02 |       10\n",
      "     11       4.335903e+04      -6.680550e+02 |        9\n",
      "     12       4.283014e+04      -5.288963e+02 |       10\n",
      "     13       4.245121e+04      -3.789242e+02 |       10\n",
      "     14       4.217429e+04      -2.769250e+02 |       10\n",
      "     15       4.196637e+04      -2.079185e+02 |       10\n",
      "     16       4.172493e+04      -2.414368e+02 |       10\n",
      "     17       4.155576e+04      -1.691691e+02 |       10\n",
      "     18       4.145167e+04      -1.040883e+02 |       10\n",
      "     19       4.138068e+04      -7.099921e+01 |       10\n",
      "     20       4.132488e+04      -5.579079e+01 |       10\n",
      "     21       4.125114e+04      -7.374728e+01 |        9\n",
      "     22       4.116030e+04      -9.083268e+01 |        9\n",
      "     23       4.103722e+04      -1.230869e+02 |        9\n",
      "     24       4.095673e+04      -8.048309e+01 |       10\n",
      "     25       4.090164e+04      -5.509216e+01 |       10\n",
      "     26       4.084194e+04      -5.969975e+01 |        8\n",
      "     27       4.082402e+04      -1.792174e+01 |       10\n",
      "     28       4.081269e+04      -1.132998e+01 |       10\n",
      "     29       4.079567e+04      -1.702489e+01 |        7\n",
      "     30       4.078797e+04      -7.694915e+00 |        7\n"
     ]
    },
    {
     "name": "stdout",
     "output_type": "stream",
     "text": [
      "     31       4.077837e+04      -9.597446e+00 |        6\n",
      "     32       4.076379e+04      -1.458680e+01 |        7\n",
      "     33       4.074819e+04      -1.560123e+01 |        6\n",
      "     34       4.073281e+04      -1.537991e+01 |        9\n",
      "     35       4.072175e+04      -1.105213e+01 |        8\n",
      "     36       4.071544e+04      -6.312472e+00 |        7\n",
      "     37       4.070805e+04      -7.390588e+00 |        5\n",
      "     38       4.070549e+04      -2.560947e+00 |        4\n",
      "     39       4.070521e+04      -2.841038e-01 |        4\n",
      "     40       4.070482e+04      -3.902621e-01 |        4\n",
      "     41       4.070414e+04      -6.716101e-01 |        2\n",
      "     42       4.070406e+04      -8.109379e-02 |        0\n",
      "     43       4.070406e+04       0.000000e+00 |        0\n",
      "K-means converged with 43 iterations (objv = 40704.06283906844)\n"
     ]
    },
    {
     "data": {
      "text/plain": [
       "KmeansResult{Matrix{Float64}, Float64, Int64}([15.919161186178348 -32.821010878563314 … -55.93209013090716 -42.33349670520453], [2, 3, 10, 6, 8, 2, 4, 4, 3, 6  …  4, 3, 5, 3, 1, 3, 3, 3, 7, 3], [8.659589536809563, 0.7416996907659268, 3.696245307999561, 0.23005462649689434, 3.039376584140655, 0.05949149101797957, 1.3331322020214316, 23.079912223401095, 8.41984046359994, 7.637612092817108  …  0.10594197298726726, 15.028996707139868, 25.514106106608676, 0.9478928940052356, 0.008252493425118246, 0.6329997385596471, 19.739552377767723, 0.008777311456015013, 12.966798196846867, 0.9608217118393441], [484, 476, 2407, 389, 445, 610, 524, 380, 422, 674], [484, 476, 2407, 389, 445, 610, 524, 380, 422, 674], 40704.06283906844, 43, true)"
      ]
     },
     "metadata": {},
     "output_type": "display_data"
    }
   ],
   "source": [
    "R = kmeans(reconstructed, 10, display=:iter)"
   ]
  },
  {
   "cell_type": "code",
   "execution_count": 23,
   "metadata": {},
   "outputs": [
    {
     "data": {
      "text/plain": [
       "1×10 Matrix{Float64}:\n",
       " 15.9192  -32.821  36.0931  -10.2834  3.1537  …  -21.6403  -55.9321  -42.3335"
      ]
     },
     "metadata": {},
     "output_type": "display_data"
    }
   ],
   "source": [
    "R.centers"
   ]
  },
  {
   "cell_type": "code",
   "execution_count": 24,
   "metadata": {},
   "outputs": [
    {
     "ename": "BoundsError",
     "evalue": "BoundsError: attempt to access 1×6811 Matrix{Float64} at index [2, 1:6811]",
     "output_type": "error",
     "traceback": [
      "BoundsError: attempt to access 1×6811 Matrix{Float64} at index [2, 1:6811]\n",
      "\n",
      "Stacktrace:\n",
      "  [1] throw_boundserror(A::Matrix{Float64}, I::Tuple{Int64, Base.Slice{Base.OneTo{Int64}}})\n",
      "    @ Base ./abstractarray.jl:691\n",
      "  [2] checkbounds\n",
      "    @ ./abstractarray.jl:656 [inlined]\n",
      "  [3] _getindex\n",
      "    @ ./multidimensional.jl:838 [inlined]\n",
      "  [4] getindex(::Matrix{Float64}, ::Int64, ::Function)\n",
      "    @ Base ./abstractarray.jl:1218\n",
      "  [5] top-level scope\n",
      "    @ ~/Documents/git/xrd_match/analisis.ipynb:4\n",
      "  [6] eval\n",
      "    @ ./boot.jl:373 [inlined]\n",
      "  [7] include_string(mapexpr::typeof(REPL.softscope), mod::Module, code::String, filename::String)\n",
      "    @ Base ./loading.jl:1196\n",
      "  [8] #invokelatest#2\n",
      "    @ ./essentials.jl:716 [inlined]\n",
      "  [9] invokelatest\n",
      "    @ ./essentials.jl:714 [inlined]\n",
      " [10] (::VSCodeServer.var\"#164#165\"{VSCodeServer.NotebookRunCellArguments, String})()\n",
      "    @ VSCodeServer ~/.vscode/extensions/julialang.language-julia-1.6.24/scripts/packages/VSCodeServer/src/serve_notebook.jl:19\n",
      " [11] withpath(f::VSCodeServer.var\"#164#165\"{VSCodeServer.NotebookRunCellArguments, String}, path::String)\n",
      "    @ VSCodeServer ~/.vscode/extensions/julialang.language-julia-1.6.24/scripts/packages/VSCodeServer/src/repl.jl:184\n",
      " [12] notebook_runcell_request(conn::VSCodeServer.JSONRPC.JSONRPCEndpoint{Base.PipeEndpoint, Base.PipeEndpoint}, params::VSCodeServer.NotebookRunCellArguments)\n",
      "    @ VSCodeServer ~/.vscode/extensions/julialang.language-julia-1.6.24/scripts/packages/VSCodeServer/src/serve_notebook.jl:13\n",
      " [13] dispatch_msg(x::VSCodeServer.JSONRPC.JSONRPCEndpoint{Base.PipeEndpoint, Base.PipeEndpoint}, dispatcher::VSCodeServer.JSONRPC.MsgDispatcher, msg::Dict{String, Any})\n",
      "    @ VSCodeServer.JSONRPC ~/.vscode/extensions/julialang.language-julia-1.6.24/scripts/packages/JSONRPC/src/typed.jl:67\n",
      " [14] serve_notebook(pipename::String, outputchannel_logger::Base.CoreLogging.SimpleLogger; crashreporting_pipename::String)\n",
      "    @ VSCodeServer ~/.vscode/extensions/julialang.language-julia-1.6.24/scripts/packages/VSCodeServer/src/serve_notebook.jl:136\n",
      " [15] top-level scope\n",
      "    @ ~/.vscode/extensions/julialang.language-julia-1.6.24/scripts/notebook/notebook.jl:32\n",
      " [16] include(mod::Module, _path::String)\n",
      "    @ Base ./Base.jl:418\n",
      " [17] exec_options(opts::Base.JLOptions)\n",
      "    @ Base ./client.jl:292\n",
      " [18] _start()\n",
      "    @ Base ./client.jl:495"
     ]
    }
   ],
   "source": [
    "PM = fit(PCA, pca_raw_data' ,maxoutdim = 3)\n",
    "reconstructed_p = predict(M, pca_raw_data')\n",
    "R = kmeans(reconstructed_p, 10, display=:iter)\n",
    "p = scatter(reconstructed_p[1,:], reconstructed_p[2,:], reconstructed_p[3,:], marker_z = R.assignments, label = \"Instances\", size = (1920,1080))\n",
    "scatter!([reconstructed_p[1,pos]],[ reconstructed_p[2,pos]], [reconstructed_p[3,pos]], marker_z = R.assignments, markersize = 11, marker=:octagon,color=:blue, label = \"PerMOF\")\n",
    "scatter!(R.centers[1,:], R.centers[2,:], R.centers[3,:], marker = :diamond, markersize = 9, label = \"Centers\")\n",
    "savefig(\"clustels.png\")"
   ]
  },
  {
   "cell_type": "code",
   "execution_count": 25,
   "metadata": {},
   "outputs": [
    {
     "name": "stdout",
     "output_type": "stream",
     "text": [
      "  Iters               objv        objv-change | affected \n",
      "-------------------------------------------------------------\n",
      "      0       6.489801e+04\n",
      "      1       5.183484e+04      -1.306317e+04 |       10\n",
      "      2       4.708635e+04      -4.748492e+03 |       10\n",
      "      3       4.445458e+04      -2.631772e+03 |       10\n",
      "      4       4.316900e+04      -1.285578e+03 |       10\n",
      "      5       4.242453e+04      -7.444659e+02 |       10\n",
      "      6       4.197303e+04      -4.514996e+02 |        9\n",
      "      7       4.169802e+04      -2.750171e+02 |        9\n",
      "      8       4.153465e+04      -1.633698e+02 |        9\n",
      "      9       4.142621e+04      -1.084332e+02 |        8\n",
      "     10       4.135009e+04      -7.611774e+01 |        6\n",
      "     11       4.129746e+04      -5.263366e+01 |        5\n",
      "     12       4.125569e+04      -4.177050e+01 |        5\n",
      "     13       4.118842e+04      -6.726671e+01 |        5\n",
      "     14       4.111765e+04      -7.077531e+01 |        5\n",
      "     15       4.106621e+04      -5.144105e+01 |        6\n",
      "     16       4.101851e+04      -4.770192e+01 |        6\n",
      "     17       4.095779e+04      -6.071444e+01 |        5\n",
      "     18       4.088915e+04      -6.864269e+01 |        6\n",
      "     19       4.081232e+04      -7.682680e+01 |        7\n",
      "     20       4.069550e+04      -1.168260e+02 |        5\n",
      "     21       4.063215e+04      -6.334723e+01 |        6\n",
      "     22       4.057155e+04      -6.059655e+01 |        4\n",
      "     23       4.053947e+04      -3.208553e+01 |        4\n",
      "     24       4.051574e+04      -2.372676e+01 |        5\n",
      "     25       4.049898e+04      -1.675607e+01 |        4\n",
      "     26       4.049235e+04      -6.631649e+00 |        4\n",
      "     27       4.048709e+04      -5.261101e+00 |        3\n",
      "     28       4.048385e+04      -3.237905e+00 |        4\n",
      "     29       4.048294e+04      -9.147297e-01 |        5\n",
      "     30       4.048155e+04      -1.385667e+00 |        4\n",
      "     31       4.048116e+04      -3.964496e-01 |        2\n",
      "     32       4.048090e+04      -2.551563e-01 |        0\n",
      "     33       4.048090e+04       0.000000e+00 |        0\n",
      "K-means converged with 33 iterations (objv = 40480.90102929133)\n"
     ]
    }
   ],
   "source": [
    "lbls = [ lbl[begin:end-4] for lbl in labels]\n",
    "mapping = Dict(k => v for (k,v) in zip(lbls,R.assignments));"
   ]
  },
  {
   "cell_type": "code",
   "execution_count": 26,
   "metadata": {},
   "outputs": [
    {
     "name": "stdout",
     "output_type": "stream",
     "text": [
      "La referencia está en el cluster 6\n"
     ]
    }
   ],
   "source": [
    "println(\"La referencia está en el cluster $(R.assignments[pos])\")"
   ]
  },
  {
   "cell_type": "code",
   "execution_count": 27,
   "metadata": {},
   "outputs": [],
   "source": [
    "df_fsr = filter(\n",
    "    x -> x.filename ∈ labels .|> label -> label[begin:end - 4] ,\n",
    "    master_df\n",
    ")\n",
    "df_fsr.\"cluster_assignment\" = map(filename -> mapping[filename], df_fsr.filename);"
   ]
  },
  {
   "cell_type": "code",
   "execution_count": 28,
   "metadata": {},
   "outputs": [],
   "source": [
    "dist = Euclidean()\n",
    "pwdist = pairwise(dist,reconstructed, dims=2)\n",
    "idx10masparecidos = partialsortperm(pwdist[pos,2:end], 1:10); \n"
   ]
  },
  {
   "cell_type": "code",
   "execution_count": 29,
   "metadata": {},
   "outputs": [],
   "source": [
    "idx100masparecidos = partialsortperm(pwdist[pos,2:end], 1:100) \n",
    "los100masconref = hcat(reconstructed[:,idx100masparecidos], reconstructed[:,pos])\n",
    "pw100 = pairwise(dist,los100masconref,dims=2)\n",
    "\n",
    "hc = hclust(pw100)\n",
    "plot(hc, size = (6000,3000))\n",
    "savefig(\"hclust.png\")"
   ]
  },
  {
   "cell_type": "code",
   "execution_count": 30,
   "metadata": {},
   "outputs": [
    {
     "data": {
      "text/plain": [
       "hierarchical_clustering (generic function with 1 method)"
      ]
     },
     "metadata": {},
     "output_type": "display_data"
    }
   ],
   "source": [
    "function hierarchical_clustering(pca_otp::Any, n::Union{Bool,T}, pos_ref::T, labels ) where {T <: Int, S}\n",
    "    dist = Euclidean()\n",
    "    pairwise_distance = pairwise(dist, pca_otp, dims = 2)\n",
    "    if n != :false\n",
    "        indeces = partialsortperm(pairwise_distance[pos_ref,2:end], 1:n)\n",
    "        ipt = hcat(pca_otp[:,indeces], pca_otp[:,pos_ref])\n",
    "        # ipt = pca_otp[:,indeces]\n",
    "        pairwise_distance = pairwise(dist, ipt, dims = 2)\n",
    "        for (n,idx) in enumerate(indeces)\n",
    "            println(\"Indice $n es $(labels[idx])\")\n",
    "        end\n",
    "    end\n",
    "    pos_ref = n + 1\n",
    "    println(\"Ref es el nro $pos_ref\")\n",
    "    hclust(pairwise_distance)\n",
    "end"
   ]
  },
  {
   "cell_type": "code",
   "execution_count": 31,
   "metadata": {},
   "outputs": [
    {
     "name": "stdout",
     "output_type": "stream",
     "text": [
      "Indice 1 es REXFIL_freeONLY.cif\n",
      "Indice 2 es ja408959g_si_002_freeONLY.cif\n",
      "Indice 3 es XUYDIF_freeONLY.cif\n",
      "Indice 4 es MULXUO_freeONLY.cif\n",
      "Indice 5 es BALPAH_freeONLY.cif\n",
      "Indice 6 es AXOHIE_freeONLY.cif\n",
      "Indice 7 es CAJWIV_ion_b.cif\n",
      "Indice 8 es GEDTAM_freeONLY.cif\n",
      "Indice 9 es CAYDUD_freeONLY.cif\n",
      "Indice 10 es NEHZIK_freeONLY.cif\n",
      "Indice 11 es LUMYEZ_freeONLY.cif\n",
      "Indice 12 es KULMEK_freeONLY.cif\n",
      "Indice 13 es FUNGAY_freeONLY.cif\n",
      "Indice 14 es KEDJAG22_freeONLY.cif\n",
      "Indice 15 es NARHEV_charged.cif\n",
      "Indice 16 es UVASAM01_freeONLY.cif\n",
      "Indice 17 es FIHLOZ_freeONLY.cif\n",
      "Indice 18 es LABPOV_freeONLY.cif\n",
      "Indice 19 es cg500033b_si_003_freeONLY.cif\n",
      "Indice 20 es c6cc00862c_c6cc00862c2_freeONLY.cif\n",
      "Indice 21 es GIYTAK_freeONLY.cif\n",
      "Indice 22 es MECVOG_freeONLY.cif\n",
      "Indice 23 es IRELAU_freeONLY.cif\n",
      "Indice 24 es KONFIE_freeONLY.cif\n",
      "Indice 25 es UZUNAF01_freeONLY.cif\n",
      "Indice 26 es LETVUB_freeONLY.cif\n",
      "Indice 27 es MODMIB_freeONLY.cif\n",
      "Indice 28 es ROCZIU_freeONLY.cif\n",
      "Indice 29 es MITTAL_charged.cif\n",
      "Indice 30 es ENCDBZ_freeONLY.cif\n",
      "Ref es el nro 31\n"
     ]
    },
    {
     "data": {
      "image/png": "[encoded data removed]",
      "image/svg+xml": "<?xml version=\"1.0\" encoding=\"utf-8\"?>\n<svg xmlns=\"http://www.w3.org/2000/svg\" xmlns:xlink=\"http://www.w3.org/1999/xlink\" width=\"960\" height=\"540\" viewBox=\"0 0 3840 2160\">\n<defs>\n  <clipPath id=\"clip620\">\n    <rect x=\"0\" y=\"0\" width=\"3840\" height=\"2160\"/>\n  </clipPath>\n</defs>\n<path clip-path=\"url(#clip620)\" d=\"\nM0 2160 L3840 2160 L3840 0 L0 0  Z\n  \" fill=\"#ffffff\" fill-rule=\"evenodd\" fill-opacity=\"1\"/>\n<defs>\n  <clipPath id=\"clip621\">\n    <rect x=\"768\" y=\"0\" width=\"2689\" height=\"2160\"/>\n  </clipPath>\n</defs>\n<path clip-path=\"url(#clip620)\" d=\"\nM153.359 2046.25 L3792.76 2046.25 L3792.76 47.2441 L153.359 47.2441  Z\n  \" fill=\"#ffffff\" fill-rule=\"evenodd\" fill-opacity=\"1\"/>\n<defs>\n  <clipPath id=\"clip622\">\n    <rect x=\"153\" y=\"47\" width=\"3640\" height=\"2000\"/>\n  </clipPath>\n</defs>\n<polyline clip-path=\"url(#clip620)\" style=\"stroke:#000000; stroke-linecap:butt; stroke-linejoin:round; stroke-width:4; stroke-opacity:1; fill:none\" points=\"\n  153.359,2046.25 3792.76,2046.25 \n  \"/>\n<polyline clip-path=\"url(#clip620)\" style=\"stroke:#ffffff; stroke-linecap:butt; stroke-linejoin:round; stroke-width:4; stroke-opacity:1; fill:none\" points=\"\n  212.059,2046.25 212.059,2027.35 \n  \"/>\n<polyline clip-path=\"url(#clip620)\" style=\"stroke:#ffffff; stroke-linecap:butt; stroke-linejoin:round; stroke-width:4; stroke-opacity:1; fill:none\" points=\"\n  329.459,2046.25 329.459,2027.35 \n  \"/>\n<polyline clip-path=\"url(#clip620)\" style=\"stroke:#ffffff; stroke-linecap:butt; stroke-linejoin:round; stroke-width:4; stroke-opacity:1; fill:none\" points=\"\n  446.859,2046.25 446.859,2027.35 \n  \"/>\n<polyline clip-path=\"url(#clip620)\" style=\"stroke:#ffffff; stroke-linecap:butt; stroke-linejoin:round; stroke-width:4; stroke-opacity:1; fill:none\" points=\"\n  564.259,2046.25 564.259,2027.35 \n  \"/>\n<polyline clip-path=\"url(#clip620)\" style=\"stroke:#ffffff; stroke-linecap:butt; stroke-linejoin:round; stroke-width:4; stroke-opacity:1; fill:none\" points=\"\n  681.659,2046.25 681.659,2027.35 \n  \"/>\n<polyline clip-path=\"url(#clip620)\" style=\"stroke:#ffffff; stroke-linecap:butt; stroke-linejoin:round; stroke-width:4; stroke-opacity:1; fill:none\" points=\"\n  799.059,2046.25 799.059,2027.35 \n  \"/>\n<polyline clip-path=\"url(#clip620)\" style=\"stroke:#ffffff; stroke-linecap:butt; stroke-linejoin:round; stroke-width:4; stroke-opacity:1; fill:none\" points=\"\n  916.459,2046.25 916.459,2027.35 \n  \"/>\n<polyline clip-path=\"url(#clip620)\" style=\"stroke:#ffffff; stroke-linecap:butt; stroke-linejoin:round; stroke-width:4; stroke-opacity:1; fill:none\" points=\"\n  1033.86,2046.25 1033.86,2027.35 \n  \"/>\n<polyline clip-path=\"url(#clip620)\" style=\"stroke:#ffffff; stroke-linecap:butt; stroke-linejoin:round; stroke-width:4; stroke-opacity:1; fill:none\" points=\"\n  1151.26,2046.25 1151.26,2027.35 \n  \"/>\n<polyline clip-path=\"url(#clip620)\" style=\"stroke:#ffffff; stroke-linecap:butt; stroke-linejoin:round; stroke-width:4; stroke-opacity:1; fill:none\" points=\"\n  1268.66,2046.25 1268.66,2027.35 \n  \"/>\n<polyline clip-path=\"url(#clip620)\" style=\"stroke:#ffffff; stroke-linecap:butt; stroke-linejoin:round; stroke-width:4; stroke-opacity:1; fill:none\" points=\"\n  1386.06,2046.25 1386.06,2027.35 \n  \"/>\n<polyline clip-path=\"url(#clip620)\" style=\"stroke:#ffffff; stroke-linecap:butt; stroke-linejoin:round; stroke-width:4; stroke-opacity:1; fill:none\" points=\"\n  1503.46,2046.25 1503.46,2027.35 \n  \"/>\n<polyline clip-path=\"url(#clip620)\" style=\"stroke:#ffffff; stroke-linecap:butt; stroke-linejoin:round; stroke-width:4; stroke-opacity:1; fill:none\" points=\"\n  1620.86,2046.25 1620.86,2027.35 \n  \"/>\n<polyline clip-path=\"url(#clip620)\" style=\"stroke:#ffffff; stroke-linecap:butt; stroke-linejoin:round; stroke-width:4; stroke-opacity:1; fill:none\" points=\"\n  1738.26,2046.25 1738.26,2027.35 \n  \"/>\n<polyline clip-path=\"url(#clip620)\" style=\"stroke:#ffffff; stroke-linecap:butt; stroke-linejoin:round; stroke-width:4; stroke-opacity:1; fill:none\" points=\"\n  1855.66,2046.25 1855.66,2027.35 \n  \"/>\n<polyline clip-path=\"url(#clip620)\" style=\"stroke:#ffffff; stroke-linecap:butt; stroke-linejoin:round; stroke-width:4; stroke-opacity:1; fill:none\" points=\"\n  1973.06,2046.25 1973.06,2027.35 \n  \"/>\n<polyline clip-path=\"url(#clip620)\" style=\"stroke:#ffffff; stroke-linecap:butt; stroke-linejoin:round; stroke-width:4; stroke-opacity:1; fill:none\" points=\"\n  2090.46,2046.25 2090.46,2027.35 \n  \"/>\n<polyline clip-path=\"url(#clip620)\" style=\"stroke:#ffffff; stroke-linecap:butt; stroke-linejoin:round; stroke-width:4; stroke-opacity:1; fill:none\" points=\"\n  2207.86,2046.25 2207.86,2027.35 \n  \"/>\n<polyline clip-path=\"url(#clip620)\" style=\"stroke:#ffffff; stroke-linecap:butt; stroke-linejoin:round; stroke-width:4; stroke-opacity:1; fill:none\" points=\"\n  2325.26,2046.25 2325.26,2027.35 \n  \"/>\n<polyline clip-path=\"url(#clip620)\" style=\"stroke:#ffffff; stroke-linecap:butt; stroke-linejoin:round; stroke-width:4; stroke-opacity:1; fill:none\" points=\"\n  2442.66,2046.25 2442.66,2027.35 \n  \"/>\n<polyline clip-path=\"url(#clip620)\" style=\"stroke:#ffffff; stroke-linecap:butt; stroke-linejoin:round; stroke-width:4; stroke-opacity:1; fill:none\" points=\"\n  2560.06,2046.25 2560.06,2027.35 \n  \"/>\n<polyline clip-path=\"url(#clip620)\" style=\"stroke:#ffffff; stroke-linecap:butt; stroke-linejoin:round; stroke-width:4; stroke-opacity:1; fill:none\" points=\"\n  2677.46,2046.25 2677.46,2027.35 \n  \"/>\n<polyline clip-path=\"url(#clip620)\" style=\"stroke:#ffffff; stroke-linecap:butt; stroke-linejoin:round; stroke-width:4; stroke-opacity:1; fill:none\" points=\"\n  2794.86,2046.25 2794.86,2027.35 \n  \"/>\n<polyline clip-path=\"url(#clip620)\" style=\"stroke:#ffffff; stroke-linecap:butt; stroke-linejoin:round; stroke-width:4; stroke-opacity:1; fill:none\" points=\"\n  2912.26,2046.25 2912.26,2027.35 \n  \"/>\n<polyline clip-path=\"url(#clip620)\" style=\"stroke:#ffffff; stroke-linecap:butt; stroke-linejoin:round; stroke-width:4; stroke-opacity:1; fill:none\" points=\"\n  3029.66,2046.25 3029.66,2027.35 \n  \"/>\n<polyline clip-path=\"url(#clip620)\" style=\"stroke:#ffffff; stroke-linecap:butt; stroke-linejoin:round; stroke-width:4; stroke-opacity:1; fill:none\" points=\"\n  3147.06,2046.25 3147.06,2027.35 \n  \"/>\n<polyline clip-path=\"url(#clip620)\" style=\"stroke:#ffffff; stroke-linecap:butt; stroke-linejoin:round; stroke-width:4; stroke-opacity:1; fill:none\" points=\"\n  3264.46,2046.25 3264.46,2027.35 \n  \"/>\n<polyline clip-path=\"url(#clip620)\" style=\"stroke:#ffffff; stroke-linecap:butt; stroke-linejoin:round; stroke-width:4; stroke-opacity:1; fill:none\" points=\"\n  3381.86,2046.25 3381.86,2027.35 \n  \"/>\n<polyline clip-path=\"url(#clip620)\" style=\"stroke:#ffffff; stroke-linecap:butt; stroke-linejoin:round; stroke-width:4; stroke-opacity:1; fill:none\" points=\"\n  3499.26,2046.25 3499.26,2027.35 \n  \"/>\n<polyline clip-path=\"url(#clip620)\" style=\"stroke:#ffffff; stroke-linecap:butt; stroke-linejoin:round; stroke-width:4; stroke-opacity:1; fill:none\" points=\"\n  3616.66,2046.25 3616.66,2027.35 \n  \"/>\n<polyline clip-path=\"url(#clip620)\" style=\"stroke:#ffffff; stroke-linecap:butt; stroke-linejoin:round; stroke-width:4; stroke-opacity:1; fill:none\" points=\"\n  3734.06,2046.25 3734.06,2027.35 \n  \"/>\n<path clip-path=\"url(#clip620)\" d=\"M200.902 2101.53 Q204.258 2102.25 206.133 2104.52 Q208.032 2106.79 208.032 2110.12 Q208.032 2115.24 204.513 2118.04 Q200.995 2120.84 194.513 2120.84 Q192.337 2120.84 190.022 2120.4 Q187.731 2119.98 185.277 2119.13 L185.277 2114.61 Q187.222 2115.75 189.536 2116.33 Q191.851 2116.9 194.374 2116.9 Q198.772 2116.9 201.064 2115.17 Q203.379 2113.43 203.379 2110.12 Q203.379 2107.07 201.226 2105.35 Q199.096 2103.62 195.277 2103.62 L191.249 2103.62 L191.249 2099.77 L195.462 2099.77 Q198.911 2099.77 200.74 2098.41 Q202.569 2097.02 202.569 2094.43 Q202.569 2091.77 200.671 2090.35 Q198.796 2088.92 195.277 2088.92 Q193.356 2088.92 191.157 2089.33 Q188.958 2089.75 186.319 2090.63 L186.319 2086.46 Q188.981 2085.72 191.296 2085.35 Q193.634 2084.98 195.694 2084.98 Q201.018 2084.98 204.12 2087.41 Q207.221 2089.82 207.221 2093.94 Q207.221 2096.81 205.578 2098.8 Q203.934 2100.77 200.902 2101.53 Z\" fill=\"#000000\" fill-rule=\"evenodd\" fill-opacity=\"1\" /><path clip-path=\"url(#clip620)\" d=\"M226.897 2088.69 Q223.286 2088.69 221.457 2092.25 Q219.652 2095.79 219.652 2102.92 Q219.652 2110.03 221.457 2113.59 Q223.286 2117.14 226.897 2117.14 Q230.532 2117.14 232.337 2113.59 Q234.166 2110.03 234.166 2102.92 Q234.166 2095.79 232.337 2092.25 Q230.532 2088.69 226.897 2088.69 M226.897 2084.98 Q232.707 2084.98 235.763 2089.59 Q238.842 2094.17 238.842 2102.92 Q238.842 2111.65 235.763 2116.26 Q232.707 2120.84 226.897 2120.84 Q221.087 2120.84 218.008 2116.26 Q214.953 2111.65 214.953 2102.92 Q214.953 2094.17 218.008 2089.59 Q221.087 2084.98 226.897 2084.98 Z\" fill=\"#000000\" fill-rule=\"evenodd\" fill-opacity=\"1\" /><path clip-path=\"url(#clip620)\" d=\"M319.841 2116.23 L327.48 2116.23 L327.48 2089.87 L319.17 2091.53 L319.17 2087.27 L327.434 2085.61 L332.11 2085.61 L332.11 2116.23 L339.749 2116.23 L339.749 2120.17 L319.841 2120.17 L319.841 2116.23 Z\" fill=\"#000000\" fill-rule=\"evenodd\" fill-opacity=\"1\" /><path clip-path=\"url(#clip620)\" d=\"M421.304 2116.23 L428.943 2116.23 L428.943 2089.87 L420.632 2091.53 L420.632 2087.27 L428.896 2085.61 L433.572 2085.61 L433.572 2116.23 L441.211 2116.23 L441.211 2120.17 L421.304 2120.17 L421.304 2116.23 Z\" fill=\"#000000\" fill-rule=\"evenodd\" fill-opacity=\"1\" /><path clip-path=\"url(#clip620)\" d=\"M463.503 2089.68 L451.697 2108.13 L463.503 2108.13 L463.503 2089.68 M462.276 2085.61 L468.155 2085.61 L468.155 2108.13 L473.086 2108.13 L473.086 2112.02 L468.155 2112.02 L468.155 2120.17 L463.503 2120.17 L463.503 2112.02 L447.901 2112.02 L447.901 2107.51 L462.276 2085.61 Z\" fill=\"#000000\" fill-rule=\"evenodd\" fill-opacity=\"1\" /><path clip-path=\"url(#clip620)\" d=\"M539.398 2116.23 L547.037 2116.23 L547.037 2089.87 L538.727 2091.53 L538.727 2087.27 L546.991 2085.61 L551.667 2085.61 L551.667 2116.23 L559.305 2116.23 L559.305 2120.17 L539.398 2120.17 L539.398 2116.23 Z\" fill=\"#000000\" fill-rule=\"evenodd\" fill-opacity=\"1\" /><path clip-path=\"url(#clip620)\" d=\"M567.569 2085.61 L589.791 2085.61 L589.791 2087.6 L577.245 2120.17 L572.361 2120.17 L584.166 2089.54 L567.569 2089.54 L567.569 2085.61 Z\" fill=\"#000000\" fill-rule=\"evenodd\" fill-opacity=\"1\" /><path clip-path=\"url(#clip620)\" d=\"M671.937 2085.61 L690.293 2085.61 L690.293 2089.54 L676.219 2089.54 L676.219 2098.02 Q677.238 2097.67 678.256 2097.51 Q679.275 2097.32 680.293 2097.32 Q686.08 2097.32 689.46 2100.49 Q692.839 2103.66 692.839 2109.08 Q692.839 2114.66 689.367 2117.76 Q685.895 2120.84 679.576 2120.84 Q677.4 2120.84 675.131 2120.47 Q672.886 2120.1 670.478 2119.36 L670.478 2114.66 Q672.562 2115.79 674.784 2116.35 Q677.006 2116.9 679.483 2116.9 Q683.488 2116.9 685.826 2114.8 Q688.164 2112.69 688.164 2109.08 Q688.164 2105.47 685.826 2103.36 Q683.488 2101.26 679.483 2101.26 Q677.608 2101.26 675.733 2101.67 Q673.881 2102.09 671.937 2102.97 L671.937 2085.61 Z\" fill=\"#000000\" fill-rule=\"evenodd\" fill-opacity=\"1\" /><path clip-path=\"url(#clip620)\" d=\"M774.36 2116.23 L781.999 2116.23 L781.999 2089.87 L773.689 2091.53 L773.689 2087.27 L781.952 2085.61 L786.628 2085.61 L786.628 2116.23 L794.267 2116.23 L794.267 2120.17 L774.36 2120.17 L774.36 2116.23 Z\" fill=\"#000000\" fill-rule=\"evenodd\" fill-opacity=\"1\" /><path clip-path=\"url(#clip620)\" d=\"M804.522 2116.23 L812.161 2116.23 L812.161 2089.87 L803.85 2091.53 L803.85 2087.27 L812.114 2085.61 L816.79 2085.61 L816.79 2116.23 L824.429 2116.23 L824.429 2120.17 L804.522 2120.17 L804.522 2116.23 Z\" fill=\"#000000\" fill-rule=\"evenodd\" fill-opacity=\"1\" /><path clip-path=\"url(#clip620)\" d=\"M895.683 2116.23 L912.003 2116.23 L912.003 2120.17 L890.058 2120.17 L890.058 2116.23 Q892.72 2113.48 897.304 2108.85 Q901.91 2104.2 903.091 2102.85 Q905.336 2100.33 906.216 2098.59 Q907.118 2096.83 907.118 2095.14 Q907.118 2092.39 905.174 2090.65 Q903.253 2088.92 900.151 2088.92 Q897.952 2088.92 895.498 2089.68 Q893.068 2090.45 890.29 2092 L890.29 2087.27 Q893.114 2086.14 895.568 2085.56 Q898.021 2084.98 900.058 2084.98 Q905.429 2084.98 908.623 2087.67 Q911.818 2090.35 911.818 2094.84 Q911.818 2096.97 911.007 2098.89 Q910.22 2100.79 908.114 2103.39 Q907.535 2104.06 904.433 2107.27 Q901.331 2110.47 895.683 2116.23 Z\" fill=\"#000000\" fill-rule=\"evenodd\" fill-opacity=\"1\" /><path clip-path=\"url(#clip620)\" d=\"M920.637 2085.61 L942.859 2085.61 L942.859 2087.6 L930.313 2120.17 L925.429 2120.17 L937.234 2089.54 L920.637 2089.54 L920.637 2085.61 Z\" fill=\"#000000\" fill-rule=\"evenodd\" fill-opacity=\"1\" /><path clip-path=\"url(#clip620)\" d=\"M1036.87 2089.68 L1025.06 2108.13 L1036.87 2108.13 L1036.87 2089.68 M1035.64 2085.61 L1041.52 2085.61 L1041.52 2108.13 L1046.45 2108.13 L1046.45 2112.02 L1041.52 2112.02 L1041.52 2120.17 L1036.87 2120.17 L1036.87 2112.02 L1021.27 2112.02 L1021.27 2107.51 L1035.64 2085.61 Z\" fill=\"#000000\" fill-rule=\"evenodd\" fill-opacity=\"1\" /><path clip-path=\"url(#clip620)\" d=\"M1130.12 2116.23 L1146.44 2116.23 L1146.44 2120.17 L1124.5 2120.17 L1124.5 2116.23 Q1127.16 2113.48 1131.74 2108.85 Q1136.35 2104.2 1137.53 2102.85 Q1139.78 2100.33 1140.66 2098.59 Q1141.56 2096.83 1141.56 2095.14 Q1141.56 2092.39 1139.62 2090.65 Q1137.69 2088.92 1134.59 2088.92 Q1132.39 2088.92 1129.94 2089.68 Q1127.51 2090.45 1124.73 2092 L1124.73 2087.27 Q1127.55 2086.14 1130.01 2085.56 Q1132.46 2084.98 1134.5 2084.98 Q1139.87 2084.98 1143.06 2087.67 Q1146.26 2090.35 1146.26 2094.84 Q1146.26 2096.97 1145.45 2098.89 Q1144.66 2100.79 1142.55 2103.39 Q1141.98 2104.06 1138.87 2107.27 Q1135.77 2110.47 1130.12 2116.23 Z\" fill=\"#000000\" fill-rule=\"evenodd\" fill-opacity=\"1\" /><path clip-path=\"url(#clip620)\" d=\"M1156.4 2119.45 L1156.4 2115.19 Q1158.16 2116.02 1159.96 2116.46 Q1161.77 2116.9 1163.5 2116.9 Q1168.13 2116.9 1170.56 2113.8 Q1173.02 2110.68 1173.36 2104.33 Q1172.02 2106.33 1169.96 2107.39 Q1167.9 2108.45 1165.4 2108.45 Q1160.22 2108.45 1157.18 2105.33 Q1154.18 2102.18 1154.18 2096.74 Q1154.18 2091.42 1157.32 2088.2 Q1160.47 2084.98 1165.7 2084.98 Q1171.7 2084.98 1174.85 2089.59 Q1178.02 2094.17 1178.02 2102.92 Q1178.02 2111.09 1174.13 2115.98 Q1170.26 2120.84 1163.71 2120.84 Q1161.95 2120.84 1160.15 2120.49 Q1158.34 2120.14 1156.4 2119.45 M1165.7 2104.8 Q1168.85 2104.8 1170.68 2102.64 Q1172.53 2100.49 1172.53 2096.74 Q1172.53 2093.02 1170.68 2090.86 Q1168.85 2088.69 1165.7 2088.69 Q1162.55 2088.69 1160.7 2090.86 Q1158.87 2093.02 1158.87 2096.74 Q1158.87 2100.49 1160.7 2102.64 Q1162.55 2104.8 1165.7 2104.8 Z\" fill=\"#000000\" fill-rule=\"evenodd\" fill-opacity=\"1\" /><path clip-path=\"url(#clip620)\" d=\"M1243.84 2116.23 L1251.48 2116.23 L1251.48 2089.87 L1243.17 2091.53 L1243.17 2087.27 L1251.44 2085.61 L1256.11 2085.61 L1256.11 2116.23 L1263.75 2116.23 L1263.75 2120.17 L1243.84 2120.17 L1243.84 2116.23 Z\" fill=\"#000000\" fill-rule=\"evenodd\" fill-opacity=\"1\" /><path clip-path=\"url(#clip620)\" d=\"M1273.24 2085.61 L1291.6 2085.61 L1291.6 2089.54 L1277.52 2089.54 L1277.52 2098.02 Q1278.54 2097.67 1279.56 2097.51 Q1280.58 2097.32 1281.6 2097.32 Q1287.39 2097.32 1290.76 2100.49 Q1294.14 2103.66 1294.14 2109.08 Q1294.14 2114.66 1290.67 2117.76 Q1287.2 2120.84 1280.88 2120.84 Q1278.7 2120.84 1276.44 2120.47 Q1274.19 2120.1 1271.78 2119.36 L1271.78 2114.66 Q1273.87 2115.79 1276.09 2116.35 Q1278.31 2116.9 1280.79 2116.9 Q1284.79 2116.9 1287.13 2114.8 Q1289.47 2112.69 1289.47 2109.08 Q1289.47 2105.47 1287.13 2103.36 Q1284.79 2101.26 1280.79 2101.26 Q1278.91 2101.26 1277.04 2101.67 Q1275.19 2102.09 1273.24 2102.97 L1273.24 2085.61 Z\" fill=\"#000000\" fill-rule=\"evenodd\" fill-opacity=\"1\" /><path clip-path=\"url(#clip620)\" d=\"M1364.83 2116.23 L1381.15 2116.23 L1381.15 2120.17 L1359.21 2120.17 L1359.21 2116.23 Q1361.87 2113.48 1366.45 2108.85 Q1371.06 2104.2 1372.24 2102.85 Q1374.48 2100.33 1375.36 2098.59 Q1376.27 2096.83 1376.27 2095.14 Q1376.27 2092.39 1374.32 2090.65 Q1372.4 2088.92 1369.3 2088.92 Q1367.1 2088.92 1364.65 2089.68 Q1362.22 2090.45 1359.44 2092 L1359.44 2087.27 Q1362.26 2086.14 1364.72 2085.56 Q1367.17 2084.98 1369.21 2084.98 Q1374.58 2084.98 1377.77 2087.67 Q1380.97 2090.35 1380.97 2094.84 Q1380.97 2096.97 1380.16 2098.89 Q1379.37 2100.79 1377.26 2103.39 Q1376.68 2104.06 1373.58 2107.27 Q1370.48 2110.47 1364.83 2116.23 Z\" fill=\"#000000\" fill-rule=\"evenodd\" fill-opacity=\"1\" /><path clip-path=\"url(#clip620)\" d=\"M1400.97 2088.69 Q1397.35 2088.69 1395.53 2092.25 Q1393.72 2095.79 1393.72 2102.92 Q1393.72 2110.03 1395.53 2113.59 Q1397.35 2117.14 1400.97 2117.14 Q1404.6 2117.14 1406.41 2113.59 Q1408.23 2110.03 1408.23 2102.92 Q1408.23 2095.79 1406.41 2092.25 Q1404.6 2088.69 1400.97 2088.69 M1400.97 2084.98 Q1406.78 2084.98 1409.83 2089.59 Q1412.91 2094.17 1412.91 2102.92 Q1412.91 2111.65 1409.83 2116.26 Q1406.78 2120.84 1400.97 2120.84 Q1395.16 2120.84 1392.08 2116.26 Q1389.02 2111.65 1389.02 2102.92 Q1389.02 2094.17 1392.08 2089.59 Q1395.16 2084.98 1400.97 2084.98 Z\" fill=\"#000000\" fill-rule=\"evenodd\" fill-opacity=\"1\" /><path clip-path=\"url(#clip620)\" d=\"M1482.56 2116.23 L1498.87 2116.23 L1498.87 2120.17 L1476.93 2120.17 L1476.93 2116.23 Q1479.59 2113.48 1484.18 2108.85 Q1488.78 2104.2 1489.96 2102.85 Q1492.21 2100.33 1493.09 2098.59 Q1493.99 2096.83 1493.99 2095.14 Q1493.99 2092.39 1492.05 2090.65 Q1490.12 2088.92 1487.02 2088.92 Q1484.82 2088.92 1482.37 2089.68 Q1479.94 2090.45 1477.16 2092 L1477.16 2087.27 Q1479.99 2086.14 1482.44 2085.56 Q1484.89 2084.98 1486.93 2084.98 Q1492.3 2084.98 1495.5 2087.67 Q1498.69 2090.35 1498.69 2094.84 Q1498.69 2096.97 1497.88 2098.89 Q1497.09 2100.79 1494.99 2103.39 Q1494.41 2104.06 1491.31 2107.27 Q1488.2 2110.47 1482.56 2116.23 Z\" fill=\"#000000\" fill-rule=\"evenodd\" fill-opacity=\"1\" /><path clip-path=\"url(#clip620)\" d=\"M1522.86 2101.53 Q1526.21 2102.25 1528.09 2104.52 Q1529.99 2106.79 1529.99 2110.12 Q1529.99 2115.24 1526.47 2118.04 Q1522.95 2120.84 1516.47 2120.84 Q1514.29 2120.84 1511.98 2120.4 Q1509.68 2119.98 1507.23 2119.13 L1507.23 2114.61 Q1509.18 2115.75 1511.49 2116.33 Q1513.81 2116.9 1516.33 2116.9 Q1520.73 2116.9 1523.02 2115.17 Q1525.33 2113.43 1525.33 2110.12 Q1525.33 2107.07 1523.18 2105.35 Q1521.05 2103.62 1517.23 2103.62 L1513.2 2103.62 L1513.2 2099.77 L1517.42 2099.77 Q1520.87 2099.77 1522.69 2098.41 Q1524.52 2097.02 1524.52 2094.43 Q1524.52 2091.77 1522.62 2090.35 Q1520.75 2088.92 1517.23 2088.92 Q1515.31 2088.92 1513.11 2089.33 Q1510.91 2089.75 1508.27 2090.63 L1508.27 2086.46 Q1510.93 2085.72 1513.25 2085.35 Q1515.59 2084.98 1517.65 2084.98 Q1522.97 2084.98 1526.07 2087.41 Q1529.18 2089.82 1529.18 2093.94 Q1529.18 2096.81 1527.53 2098.8 Q1525.89 2100.77 1522.86 2101.53 Z\" fill=\"#000000\" fill-rule=\"evenodd\" fill-opacity=\"1\" /><path clip-path=\"url(#clip620)\" d=\"M1610.31 2101.53 Q1613.67 2102.25 1615.55 2104.52 Q1617.44 2106.79 1617.44 2110.12 Q1617.44 2115.24 1613.93 2118.04 Q1610.41 2120.84 1603.93 2120.84 Q1601.75 2120.84 1599.43 2120.4 Q1597.14 2119.98 1594.69 2119.13 L1594.69 2114.61 Q1596.63 2115.75 1598.95 2116.33 Q1601.26 2116.9 1603.79 2116.9 Q1608.18 2116.9 1610.48 2115.17 Q1612.79 2113.43 1612.79 2110.12 Q1612.79 2107.07 1610.64 2105.35 Q1608.51 2103.62 1604.69 2103.62 L1600.66 2103.62 L1600.66 2099.77 L1604.87 2099.77 Q1608.32 2099.77 1610.15 2098.41 Q1611.98 2097.02 1611.98 2094.43 Q1611.98 2091.77 1610.08 2090.35 Q1608.21 2088.92 1604.69 2088.92 Q1602.77 2088.92 1600.57 2089.33 Q1598.37 2089.75 1595.73 2090.63 L1595.73 2086.46 Q1598.39 2085.72 1600.71 2085.35 Q1603.05 2084.98 1605.11 2084.98 Q1610.43 2084.98 1613.53 2087.41 Q1616.63 2089.82 1616.63 2093.94 Q1616.63 2096.81 1614.99 2098.8 Q1613.35 2100.77 1610.31 2101.53 Z\" fill=\"#000000\" fill-rule=\"evenodd\" fill-opacity=\"1\" /><path clip-path=\"url(#clip620)\" d=\"M1627.12 2116.23 L1634.76 2116.23 L1634.76 2089.87 L1626.45 2091.53 L1626.45 2087.27 L1634.71 2085.61 L1639.39 2085.61 L1639.39 2116.23 L1647.03 2116.23 L1647.03 2120.17 L1627.12 2120.17 L1627.12 2116.23 Z\" fill=\"#000000\" fill-rule=\"evenodd\" fill-opacity=\"1\" /><path clip-path=\"url(#clip620)\" d=\"M1712.99 2116.23 L1720.63 2116.23 L1720.63 2089.87 L1712.32 2091.53 L1712.32 2087.27 L1720.58 2085.61 L1725.26 2085.61 L1725.26 2116.23 L1732.9 2116.23 L1732.9 2120.17 L1712.99 2120.17 L1712.99 2116.23 Z\" fill=\"#000000\" fill-rule=\"evenodd\" fill-opacity=\"1\" /><path clip-path=\"url(#clip620)\" d=\"M1752.34 2103.76 Q1749.01 2103.76 1747.09 2105.54 Q1745.19 2107.32 1745.19 2110.45 Q1745.19 2113.57 1747.09 2115.35 Q1749.01 2117.14 1752.34 2117.14 Q1755.68 2117.14 1757.6 2115.35 Q1759.52 2113.55 1759.52 2110.45 Q1759.52 2107.32 1757.6 2105.54 Q1755.7 2103.76 1752.34 2103.76 M1747.67 2101.77 Q1744.66 2101.02 1742.97 2098.96 Q1741.3 2096.9 1741.3 2093.94 Q1741.3 2089.8 1744.24 2087.39 Q1747.2 2084.98 1752.34 2084.98 Q1757.51 2084.98 1760.45 2087.39 Q1763.39 2089.8 1763.39 2093.94 Q1763.39 2096.9 1761.7 2098.96 Q1760.03 2101.02 1757.04 2101.77 Q1760.42 2102.55 1762.3 2104.84 Q1764.2 2107.14 1764.2 2110.45 Q1764.2 2115.47 1761.12 2118.15 Q1758.06 2120.84 1752.34 2120.84 Q1746.63 2120.84 1743.55 2118.15 Q1740.49 2115.47 1740.49 2110.45 Q1740.49 2107.14 1742.39 2104.84 Q1744.29 2102.55 1747.67 2101.77 M1745.95 2094.38 Q1745.95 2097.07 1747.62 2098.57 Q1749.31 2100.08 1752.34 2100.08 Q1755.35 2100.08 1757.04 2098.57 Q1758.76 2097.07 1758.76 2094.38 Q1758.76 2091.7 1757.04 2090.19 Q1755.35 2088.69 1752.34 2088.69 Q1749.31 2088.69 1747.62 2090.19 Q1745.95 2091.7 1745.95 2094.38 Z\" fill=\"#000000\" fill-rule=\"evenodd\" fill-opacity=\"1\" /><path clip-path=\"url(#clip620)\" d=\"M1835.23 2116.23 L1851.55 2116.23 L1851.55 2120.17 L1829.6 2120.17 L1829.6 2116.23 Q1832.27 2113.48 1836.85 2108.85 Q1841.46 2104.2 1842.64 2102.85 Q1844.88 2100.33 1845.76 2098.59 Q1846.66 2096.83 1846.66 2095.14 Q1846.66 2092.39 1844.72 2090.65 Q1842.8 2088.92 1839.7 2088.92 Q1837.5 2088.92 1835.04 2089.68 Q1832.61 2090.45 1829.84 2092 L1829.84 2087.27 Q1832.66 2086.14 1835.11 2085.56 Q1837.57 2084.98 1839.6 2084.98 Q1844.97 2084.98 1848.17 2087.67 Q1851.36 2090.35 1851.36 2094.84 Q1851.36 2096.97 1850.55 2098.89 Q1849.77 2100.79 1847.66 2103.39 Q1847.08 2104.06 1843.98 2107.27 Q1840.88 2110.47 1835.23 2116.23 Z\" fill=\"#000000\" fill-rule=\"evenodd\" fill-opacity=\"1\" /><path clip-path=\"url(#clip620)\" d=\"M1865.39 2116.23 L1881.71 2116.23 L1881.71 2120.17 L1859.77 2120.17 L1859.77 2116.23 Q1862.43 2113.48 1867.01 2108.85 Q1871.62 2104.2 1872.8 2102.85 Q1875.04 2100.33 1875.92 2098.59 Q1876.83 2096.83 1876.83 2095.14 Q1876.83 2092.39 1874.88 2090.65 Q1872.96 2088.92 1869.86 2088.92 Q1867.66 2088.92 1865.21 2089.68 Q1862.78 2090.45 1860 2092 L1860 2087.27 Q1862.82 2086.14 1865.28 2085.56 Q1867.73 2084.98 1869.77 2084.98 Q1875.14 2084.98 1878.33 2087.67 Q1881.53 2090.35 1881.53 2094.84 Q1881.53 2096.97 1880.72 2098.89 Q1879.93 2100.79 1877.82 2103.39 Q1877.24 2104.06 1874.14 2107.27 Q1871.04 2110.47 1865.39 2116.23 Z\" fill=\"#000000\" fill-rule=\"evenodd\" fill-opacity=\"1\" /><path clip-path=\"url(#clip620)\" d=\"M1947.75 2116.23 L1955.38 2116.23 L1955.38 2089.87 L1947.07 2091.53 L1947.07 2087.27 L1955.34 2085.61 L1960.01 2085.61 L1960.01 2116.23 L1967.65 2116.23 L1967.65 2120.17 L1947.75 2120.17 L1947.75 2116.23 Z\" fill=\"#000000\" fill-rule=\"evenodd\" fill-opacity=\"1\" /><path clip-path=\"url(#clip620)\" d=\"M1987.1 2088.69 Q1983.49 2088.69 1981.66 2092.25 Q1979.85 2095.79 1979.85 2102.92 Q1979.85 2110.03 1981.66 2113.59 Q1983.49 2117.14 1987.1 2117.14 Q1990.73 2117.14 1992.54 2113.59 Q1994.37 2110.03 1994.37 2102.92 Q1994.37 2095.79 1992.54 2092.25 Q1990.73 2088.69 1987.1 2088.69 M1987.1 2084.98 Q1992.91 2084.98 1995.96 2089.59 Q1999.04 2094.17 1999.04 2102.92 Q1999.04 2111.65 1995.96 2116.26 Q1992.91 2120.84 1987.1 2120.84 Q1981.29 2120.84 1978.21 2116.26 Q1975.15 2111.65 1975.15 2102.92 Q1975.15 2094.17 1978.21 2089.59 Q1981.29 2084.98 1987.1 2084.98 Z\" fill=\"#000000\" fill-rule=\"evenodd\" fill-opacity=\"1\" /><path clip-path=\"url(#clip620)\" d=\"M2065.47 2116.23 L2073.11 2116.23 L2073.11 2089.87 L2064.8 2091.53 L2064.8 2087.27 L2073.06 2085.61 L2077.74 2085.61 L2077.74 2116.23 L2085.38 2116.23 L2085.38 2120.17 L2065.47 2120.17 L2065.47 2116.23 Z\" fill=\"#000000\" fill-rule=\"evenodd\" fill-opacity=\"1\" /><path clip-path=\"url(#clip620)\" d=\"M2108.99 2101.53 Q2112.34 2102.25 2114.22 2104.52 Q2116.12 2106.79 2116.12 2110.12 Q2116.12 2115.24 2112.6 2118.04 Q2109.08 2120.84 2102.6 2120.84 Q2100.42 2120.84 2098.11 2120.4 Q2095.82 2119.98 2093.36 2119.13 L2093.36 2114.61 Q2095.31 2115.75 2097.62 2116.33 Q2099.94 2116.9 2102.46 2116.9 Q2106.86 2116.9 2109.15 2115.17 Q2111.46 2113.43 2111.46 2110.12 Q2111.46 2107.07 2109.31 2105.35 Q2107.18 2103.62 2103.36 2103.62 L2099.33 2103.62 L2099.33 2099.77 L2103.55 2099.77 Q2107 2099.77 2108.83 2098.41 Q2110.65 2097.02 2110.65 2094.43 Q2110.65 2091.77 2108.76 2090.35 Q2106.88 2088.92 2103.36 2088.92 Q2101.44 2088.92 2099.24 2089.33 Q2097.04 2089.75 2094.4 2090.63 L2094.4 2086.46 Q2097.07 2085.72 2099.38 2085.35 Q2101.72 2084.98 2103.78 2084.98 Q2109.1 2084.98 2112.21 2087.41 Q2115.31 2089.82 2115.31 2093.94 Q2115.31 2096.81 2113.66 2098.8 Q2112.02 2100.77 2108.99 2101.53 Z\" fill=\"#000000\" fill-rule=\"evenodd\" fill-opacity=\"1\" /><path clip-path=\"url(#clip620)\" d=\"M2187.13 2116.23 L2203.45 2116.23 L2203.45 2120.17 L2181.5 2120.17 L2181.5 2116.23 Q2184.17 2113.48 2188.75 2108.85 Q2193.36 2104.2 2194.54 2102.85 Q2196.78 2100.33 2197.66 2098.59 Q2198.56 2096.83 2198.56 2095.14 Q2198.56 2092.39 2196.62 2090.65 Q2194.7 2088.92 2191.6 2088.92 Q2189.4 2088.92 2186.94 2089.68 Q2184.51 2090.45 2181.73 2092 L2181.73 2087.27 Q2184.56 2086.14 2187.01 2085.56 Q2189.47 2084.98 2191.5 2084.98 Q2196.87 2084.98 2200.07 2087.67 Q2203.26 2090.35 2203.26 2094.84 Q2203.26 2096.97 2202.45 2098.89 Q2201.67 2100.79 2199.56 2103.39 Q2198.98 2104.06 2195.88 2107.27 Q2192.78 2110.47 2187.13 2116.23 Z\" fill=\"#000000\" fill-rule=\"evenodd\" fill-opacity=\"1\" /><path clip-path=\"url(#clip620)\" d=\"M2213.31 2085.61 L2231.67 2085.61 L2231.67 2089.54 L2217.59 2089.54 L2217.59 2098.02 Q2218.61 2097.67 2219.63 2097.51 Q2220.65 2097.32 2221.67 2097.32 Q2227.45 2097.32 2230.83 2100.49 Q2234.21 2103.66 2234.21 2109.08 Q2234.21 2114.66 2230.74 2117.76 Q2227.27 2120.84 2220.95 2120.84 Q2218.77 2120.84 2216.5 2120.47 Q2214.26 2120.1 2211.85 2119.36 L2211.85 2114.66 Q2213.93 2115.79 2216.16 2116.35 Q2218.38 2116.9 2220.86 2116.9 Q2224.86 2116.9 2227.2 2114.8 Q2229.54 2112.69 2229.54 2109.08 Q2229.54 2105.47 2227.2 2103.36 Q2224.86 2101.26 2220.86 2101.26 Q2218.98 2101.26 2217.11 2101.67 Q2215.25 2102.09 2213.31 2102.97 L2213.31 2085.61 Z\" fill=\"#000000\" fill-rule=\"evenodd\" fill-opacity=\"1\" /><path clip-path=\"url(#clip620)\" d=\"M2300.04 2116.23 L2307.68 2116.23 L2307.68 2089.87 L2299.37 2091.53 L2299.37 2087.27 L2307.63 2085.61 L2312.31 2085.61 L2312.31 2116.23 L2319.94 2116.23 L2319.94 2120.17 L2300.04 2120.17 L2300.04 2116.23 Z\" fill=\"#000000\" fill-rule=\"evenodd\" fill-opacity=\"1\" /><path clip-path=\"url(#clip620)\" d=\"M2329.53 2119.45 L2329.53 2115.19 Q2331.29 2116.02 2333.09 2116.46 Q2334.9 2116.9 2336.63 2116.9 Q2341.26 2116.9 2343.69 2113.8 Q2346.15 2110.68 2346.5 2104.33 Q2345.15 2106.33 2343.09 2107.39 Q2341.03 2108.45 2338.53 2108.45 Q2333.35 2108.45 2330.32 2105.33 Q2327.31 2102.18 2327.31 2096.74 Q2327.31 2091.42 2330.45 2088.2 Q2333.6 2084.98 2338.83 2084.98 Q2344.83 2084.98 2347.98 2089.59 Q2351.15 2094.17 2351.15 2102.92 Q2351.15 2111.09 2347.26 2115.98 Q2343.39 2120.84 2336.84 2120.84 Q2335.08 2120.84 2333.28 2120.49 Q2331.47 2120.14 2329.53 2119.45 M2338.83 2104.8 Q2341.98 2104.8 2343.81 2102.64 Q2345.66 2100.49 2345.66 2096.74 Q2345.66 2093.02 2343.81 2090.86 Q2341.98 2088.69 2338.83 2088.69 Q2335.69 2088.69 2333.83 2090.86 Q2332 2093.02 2332 2096.74 Q2332 2100.49 2333.83 2102.64 Q2335.69 2104.8 2338.83 2104.8 Z\" fill=\"#000000\" fill-rule=\"evenodd\" fill-opacity=\"1\" /><path clip-path=\"url(#clip620)\" d=\"M2422.04 2116.23 L2438.36 2116.23 L2438.36 2120.17 L2416.42 2120.17 L2416.42 2116.23 Q2419.08 2113.48 2423.66 2108.85 Q2428.27 2104.2 2429.45 2102.85 Q2431.7 2100.33 2432.58 2098.59 Q2433.48 2096.83 2433.48 2095.14 Q2433.48 2092.39 2431.53 2090.65 Q2429.61 2088.92 2426.51 2088.92 Q2424.31 2088.92 2421.86 2089.68 Q2419.43 2090.45 2416.65 2092 L2416.65 2087.27 Q2419.47 2086.14 2421.93 2085.56 Q2424.38 2084.98 2426.42 2084.98 Q2431.79 2084.98 2434.98 2087.67 Q2438.18 2090.35 2438.18 2094.84 Q2438.18 2096.97 2437.37 2098.89 Q2436.58 2100.79 2434.47 2103.39 Q2433.9 2104.06 2430.79 2107.27 Q2427.69 2110.47 2422.04 2116.23 Z\" fill=\"#000000\" fill-rule=\"evenodd\" fill-opacity=\"1\" /><path clip-path=\"url(#clip620)\" d=\"M2448.99 2116.23 L2456.63 2116.23 L2456.63 2089.87 L2448.32 2091.53 L2448.32 2087.27 L2456.58 2085.61 L2461.26 2085.61 L2461.26 2116.23 L2468.9 2116.23 L2468.9 2120.17 L2448.99 2120.17 L2448.99 2116.23 Z\" fill=\"#000000\" fill-rule=\"evenodd\" fill-opacity=\"1\" /><path clip-path=\"url(#clip620)\" d=\"M2560.46 2101.02 Q2557.31 2101.02 2555.46 2103.18 Q2553.63 2105.33 2553.63 2109.08 Q2553.63 2112.81 2555.46 2114.98 Q2557.31 2117.14 2560.46 2117.14 Q2563.61 2117.14 2565.44 2114.98 Q2567.29 2112.81 2567.29 2109.08 Q2567.29 2105.33 2565.44 2103.18 Q2563.61 2101.02 2560.46 2101.02 M2569.74 2086.37 L2569.74 2090.63 Q2567.99 2089.8 2566.18 2089.36 Q2564.4 2088.92 2562.64 2088.92 Q2558.01 2088.92 2555.55 2092.04 Q2553.12 2095.17 2552.78 2101.49 Q2554.14 2099.47 2556.2 2098.41 Q2558.26 2097.32 2560.74 2097.32 Q2565.95 2097.32 2568.96 2100.49 Q2571.99 2103.64 2571.99 2109.08 Q2571.99 2114.4 2568.84 2117.62 Q2565.69 2120.84 2560.46 2120.84 Q2554.47 2120.84 2551.3 2116.26 Q2548.12 2111.65 2548.12 2102.92 Q2548.12 2094.73 2552.01 2089.87 Q2555.9 2084.98 2562.45 2084.98 Q2564.21 2084.98 2565.99 2085.33 Q2567.8 2085.68 2569.74 2086.37 Z\" fill=\"#000000\" fill-rule=\"evenodd\" fill-opacity=\"1\" /><path clip-path=\"url(#clip620)\" d=\"M2656.28 2116.23 L2672.6 2116.23 L2672.6 2120.17 L2650.65 2120.17 L2650.65 2116.23 Q2653.31 2113.48 2657.9 2108.85 Q2662.5 2104.2 2663.68 2102.85 Q2665.93 2100.33 2666.81 2098.59 Q2667.71 2096.83 2667.71 2095.14 Q2667.71 2092.39 2665.77 2090.65 Q2663.85 2088.92 2660.74 2088.92 Q2658.55 2088.92 2656.09 2089.68 Q2653.66 2090.45 2650.88 2092 L2650.88 2087.27 Q2653.71 2086.14 2656.16 2085.56 Q2658.61 2084.98 2660.65 2084.98 Q2666.02 2084.98 2669.22 2087.67 Q2672.41 2090.35 2672.41 2094.84 Q2672.41 2096.97 2671.6 2098.89 Q2670.81 2100.79 2668.71 2103.39 Q2668.13 2104.06 2665.03 2107.27 Q2661.92 2110.47 2656.28 2116.23 Z\" fill=\"#000000\" fill-rule=\"evenodd\" fill-opacity=\"1\" /><path clip-path=\"url(#clip620)\" d=\"M2692.41 2103.76 Q2689.08 2103.76 2687.16 2105.54 Q2685.26 2107.32 2685.26 2110.45 Q2685.26 2113.57 2687.16 2115.35 Q2689.08 2117.14 2692.41 2117.14 Q2695.74 2117.14 2697.67 2115.35 Q2699.59 2113.55 2699.59 2110.45 Q2699.59 2107.32 2697.67 2105.54 Q2695.77 2103.76 2692.41 2103.76 M2687.73 2101.77 Q2684.73 2101.02 2683.04 2098.96 Q2681.37 2096.9 2681.37 2093.94 Q2681.37 2089.8 2684.31 2087.39 Q2687.27 2084.98 2692.41 2084.98 Q2697.57 2084.98 2700.51 2087.39 Q2703.45 2089.8 2703.45 2093.94 Q2703.45 2096.9 2701.76 2098.96 Q2700.1 2101.02 2697.11 2101.77 Q2700.49 2102.55 2702.36 2104.84 Q2704.26 2107.14 2704.26 2110.45 Q2704.26 2115.47 2701.18 2118.15 Q2698.13 2120.84 2692.41 2120.84 Q2686.69 2120.84 2683.61 2118.15 Q2680.56 2115.47 2680.56 2110.45 Q2680.56 2107.14 2682.46 2104.84 Q2684.36 2102.55 2687.73 2101.77 M2686.02 2094.38 Q2686.02 2097.07 2687.69 2098.57 Q2689.38 2100.08 2692.41 2100.08 Q2695.42 2100.08 2697.11 2098.57 Q2698.82 2097.07 2698.82 2094.38 Q2698.82 2091.7 2697.11 2090.19 Q2695.42 2088.69 2692.41 2088.69 Q2689.38 2088.69 2687.69 2090.19 Q2686.02 2091.7 2686.02 2094.38 Z\" fill=\"#000000\" fill-rule=\"evenodd\" fill-opacity=\"1\" /><path clip-path=\"url(#clip620)\" d=\"M2770.34 2116.23 L2777.98 2116.23 L2777.98 2089.87 L2769.67 2091.53 L2769.67 2087.27 L2777.94 2085.61 L2782.61 2085.61 L2782.61 2116.23 L2790.25 2116.23 L2790.25 2120.17 L2770.34 2120.17 L2770.34 2116.23 Z\" fill=\"#000000\" fill-rule=\"evenodd\" fill-opacity=\"1\" /><path clip-path=\"url(#clip620)\" d=\"M2803.72 2116.23 L2820.04 2116.23 L2820.04 2120.17 L2798.1 2120.17 L2798.1 2116.23 Q2800.76 2113.48 2805.34 2108.85 Q2809.95 2104.2 2811.13 2102.85 Q2813.38 2100.33 2814.25 2098.59 Q2815.16 2096.83 2815.16 2095.14 Q2815.16 2092.39 2813.21 2090.65 Q2811.29 2088.92 2808.19 2088.92 Q2805.99 2088.92 2803.54 2089.68 Q2801.11 2090.45 2798.33 2092 L2798.33 2087.27 Q2801.15 2086.14 2803.61 2085.56 Q2806.06 2084.98 2808.1 2084.98 Q2813.47 2084.98 2816.66 2087.67 Q2819.86 2090.35 2819.86 2094.84 Q2819.86 2096.97 2819.05 2098.89 Q2818.26 2100.79 2816.15 2103.39 Q2815.57 2104.06 2812.47 2107.27 Q2809.37 2110.47 2803.72 2116.23 Z\" fill=\"#000000\" fill-rule=\"evenodd\" fill-opacity=\"1\" /><path clip-path=\"url(#clip620)\" d=\"M2906.91 2116.23 L2923.23 2116.23 L2923.23 2120.17 L2901.28 2120.17 L2901.28 2116.23 Q2903.95 2113.48 2908.53 2108.85 Q2913.14 2104.2 2914.32 2102.85 Q2916.56 2100.33 2917.44 2098.59 Q2918.34 2096.83 2918.34 2095.14 Q2918.34 2092.39 2916.4 2090.65 Q2914.48 2088.92 2911.38 2088.92 Q2909.18 2088.92 2906.72 2089.68 Q2904.29 2090.45 2901.52 2092 L2901.52 2087.27 Q2904.34 2086.14 2906.79 2085.56 Q2909.25 2084.98 2911.28 2084.98 Q2916.65 2084.98 2919.85 2087.67 Q2923.04 2090.35 2923.04 2094.84 Q2923.04 2096.97 2922.23 2098.89 Q2921.45 2100.79 2919.34 2103.39 Q2918.76 2104.06 2915.66 2107.27 Q2912.56 2110.47 2906.91 2116.23 Z\" fill=\"#000000\" fill-rule=\"evenodd\" fill-opacity=\"1\" /><path clip-path=\"url(#clip620)\" d=\"M3019.96 2119.45 L3019.96 2115.19 Q3021.72 2116.02 3023.52 2116.46 Q3025.33 2116.9 3027.06 2116.9 Q3031.69 2116.9 3034.12 2113.8 Q3036.58 2110.68 3036.93 2104.33 Q3035.58 2106.33 3033.52 2107.39 Q3031.46 2108.45 3028.96 2108.45 Q3023.78 2108.45 3020.74 2105.33 Q3017.74 2102.18 3017.74 2096.74 Q3017.74 2091.42 3020.88 2088.2 Q3024.03 2084.98 3029.26 2084.98 Q3035.26 2084.98 3038.41 2089.59 Q3041.58 2094.17 3041.58 2102.92 Q3041.58 2111.09 3037.69 2115.98 Q3033.82 2120.84 3027.27 2120.84 Q3025.51 2120.84 3023.71 2120.49 Q3021.9 2120.14 3019.96 2119.45 M3029.26 2104.8 Q3032.41 2104.8 3034.24 2102.64 Q3036.09 2100.49 3036.09 2096.74 Q3036.09 2093.02 3034.24 2090.86 Q3032.41 2088.69 3029.26 2088.69 Q3026.11 2088.69 3024.26 2090.86 Q3022.43 2093.02 3022.43 2096.74 Q3022.43 2100.49 3024.26 2102.64 Q3026.11 2104.8 3029.26 2104.8 Z\" fill=\"#000000\" fill-rule=\"evenodd\" fill-opacity=\"1\" /><path clip-path=\"url(#clip620)\" d=\"M3125.75 2116.23 L3142.07 2116.23 L3142.07 2120.17 L3120.12 2120.17 L3120.12 2116.23 Q3122.79 2113.48 3127.37 2108.85 Q3131.98 2104.2 3133.16 2102.85 Q3135.4 2100.33 3136.28 2098.59 Q3137.18 2096.83 3137.18 2095.14 Q3137.18 2092.39 3135.24 2090.65 Q3133.32 2088.92 3130.22 2088.92 Q3128.02 2088.92 3125.56 2089.68 Q3123.13 2090.45 3120.36 2092 L3120.36 2087.27 Q3123.18 2086.14 3125.63 2085.56 Q3128.09 2084.98 3130.12 2084.98 Q3135.49 2084.98 3138.69 2087.67 Q3141.88 2090.35 3141.88 2094.84 Q3141.88 2096.97 3141.07 2098.89 Q3140.29 2100.79 3138.18 2103.39 Q3137.6 2104.06 3134.5 2107.27 Q3131.4 2110.47 3125.75 2116.23 Z\" fill=\"#000000\" fill-rule=\"evenodd\" fill-opacity=\"1\" /><path clip-path=\"url(#clip620)\" d=\"M3162.46 2101.02 Q3159.31 2101.02 3157.46 2103.18 Q3155.63 2105.33 3155.63 2109.08 Q3155.63 2112.81 3157.46 2114.98 Q3159.31 2117.14 3162.46 2117.14 Q3165.61 2117.14 3167.44 2114.98 Q3169.29 2112.81 3169.29 2109.08 Q3169.29 2105.33 3167.44 2103.18 Q3165.61 2101.02 3162.46 2101.02 M3171.74 2086.37 L3171.74 2090.63 Q3169.98 2089.8 3168.18 2089.36 Q3166.4 2088.92 3164.64 2088.92 Q3160.01 2088.92 3157.55 2092.04 Q3155.12 2095.17 3154.78 2101.49 Q3156.14 2099.47 3158.2 2098.41 Q3160.26 2097.32 3162.74 2097.32 Q3167.95 2097.32 3170.96 2100.49 Q3173.99 2103.64 3173.99 2109.08 Q3173.99 2114.4 3170.84 2117.62 Q3167.69 2120.84 3162.46 2120.84 Q3156.47 2120.84 3153.29 2116.26 Q3150.12 2111.65 3150.12 2102.92 Q3150.12 2094.73 3154.01 2089.87 Q3157.9 2084.98 3164.45 2084.98 Q3166.21 2084.98 3167.99 2085.33 Q3169.8 2085.68 3171.74 2086.37 Z\" fill=\"#000000\" fill-rule=\"evenodd\" fill-opacity=\"1\" /><path clip-path=\"url(#clip620)\" d=\"M3253.35 2085.61 L3275.57 2085.61 L3275.57 2087.6 L3263.02 2120.17 L3258.14 2120.17 L3269.94 2089.54 L3253.35 2089.54 L3253.35 2085.61 Z\" fill=\"#000000\" fill-rule=\"evenodd\" fill-opacity=\"1\" /><path clip-path=\"url(#clip620)\" d=\"M3381.86 2103.76 Q3378.52 2103.76 3376.6 2105.54 Q3374.7 2107.32 3374.7 2110.45 Q3374.7 2113.57 3376.6 2115.35 Q3378.52 2117.14 3381.86 2117.14 Q3385.19 2117.14 3387.11 2115.35 Q3389.03 2113.55 3389.03 2110.45 Q3389.03 2107.32 3387.11 2105.54 Q3385.21 2103.76 3381.86 2103.76 M3377.18 2101.77 Q3374.17 2101.02 3372.48 2098.96 Q3370.81 2096.9 3370.81 2093.94 Q3370.81 2089.8 3373.75 2087.39 Q3376.72 2084.98 3381.86 2084.98 Q3387.02 2084.98 3389.96 2087.39 Q3392.9 2089.8 3392.9 2093.94 Q3392.9 2096.9 3391.21 2098.96 Q3389.54 2101.02 3386.56 2101.77 Q3389.93 2102.55 3391.81 2104.84 Q3393.71 2107.14 3393.71 2110.45 Q3393.71 2115.47 3390.63 2118.15 Q3387.57 2120.84 3381.86 2120.84 Q3376.14 2120.84 3373.06 2118.15 Q3370 2115.47 3370 2110.45 Q3370 2107.14 3371.9 2104.84 Q3373.8 2102.55 3377.18 2101.77 M3375.47 2094.38 Q3375.47 2097.07 3377.13 2098.57 Q3378.82 2100.08 3381.86 2100.08 Q3384.87 2100.08 3386.56 2098.57 Q3388.27 2097.07 3388.27 2094.38 Q3388.27 2091.7 3386.56 2090.19 Q3384.87 2088.69 3381.86 2088.69 Q3378.82 2088.69 3377.13 2090.19 Q3375.47 2091.7 3375.47 2094.38 Z\" fill=\"#000000\" fill-rule=\"evenodd\" fill-opacity=\"1\" /><path clip-path=\"url(#clip620)\" d=\"M3477.79 2116.23 L3494.11 2116.23 L3494.11 2120.17 L3472.16 2120.17 L3472.16 2116.23 Q3474.82 2113.48 3479.41 2108.85 Q3484.01 2104.2 3485.19 2102.85 Q3487.44 2100.33 3488.32 2098.59 Q3489.22 2096.83 3489.22 2095.14 Q3489.22 2092.39 3487.28 2090.65 Q3485.36 2088.92 3482.25 2088.92 Q3480.05 2088.92 3477.6 2089.68 Q3475.17 2090.45 3472.39 2092 L3472.39 2087.27 Q3475.22 2086.14 3477.67 2085.56 Q3480.12 2084.98 3482.16 2084.98 Q3487.53 2084.98 3490.73 2087.67 Q3493.92 2090.35 3493.92 2094.84 Q3493.92 2096.97 3493.11 2098.89 Q3492.32 2100.79 3490.22 2103.39 Q3489.64 2104.06 3486.54 2107.27 Q3483.43 2110.47 3477.79 2116.23 Z\" fill=\"#000000\" fill-rule=\"evenodd\" fill-opacity=\"1\" /><path clip-path=\"url(#clip620)\" d=\"M3516.77 2089.68 L3504.96 2108.13 L3516.77 2108.13 L3516.77 2089.68 M3515.54 2085.61 L3521.42 2085.61 L3521.42 2108.13 L3526.35 2108.13 L3526.35 2112.02 L3521.42 2112.02 L3521.42 2120.17 L3516.77 2120.17 L3516.77 2112.02 L3501.17 2112.02 L3501.17 2107.51 L3515.54 2085.61 Z\" fill=\"#000000\" fill-rule=\"evenodd\" fill-opacity=\"1\" /><path clip-path=\"url(#clip620)\" d=\"M3620.9 2101.53 Q3624.26 2102.25 3626.14 2104.52 Q3628.03 2106.79 3628.03 2110.12 Q3628.03 2115.24 3624.51 2118.04 Q3621 2120.84 3614.51 2120.84 Q3612.34 2120.84 3610.02 2120.4 Q3607.73 2119.98 3605.28 2119.13 L3605.28 2114.61 Q3607.22 2115.75 3609.54 2116.33 Q3611.85 2116.9 3614.38 2116.9 Q3618.77 2116.9 3621.07 2115.17 Q3623.38 2113.43 3623.38 2110.12 Q3623.38 2107.07 3621.23 2105.35 Q3619.1 2103.62 3615.28 2103.62 L3611.25 2103.62 L3611.25 2099.77 L3615.46 2099.77 Q3618.91 2099.77 3620.74 2098.41 Q3622.57 2097.02 3622.57 2094.43 Q3622.57 2091.77 3620.67 2090.35 Q3618.8 2088.92 3615.28 2088.92 Q3613.36 2088.92 3611.16 2089.33 Q3608.96 2089.75 3606.32 2090.63 L3606.32 2086.46 Q3608.98 2085.72 3611.3 2085.35 Q3613.64 2084.98 3615.7 2084.98 Q3621.02 2084.98 3624.12 2087.41 Q3627.22 2089.82 3627.22 2093.94 Q3627.22 2096.81 3625.58 2098.8 Q3623.94 2100.77 3620.9 2101.53 Z\" fill=\"#000000\" fill-rule=\"evenodd\" fill-opacity=\"1\" /><path clip-path=\"url(#clip620)\" d=\"M3708.66 2116.23 L3716.3 2116.23 L3716.3 2089.87 L3707.99 2091.53 L3707.99 2087.27 L3716.26 2085.61 L3720.93 2085.61 L3720.93 2116.23 L3728.57 2116.23 L3728.57 2120.17 L3708.66 2120.17 L3708.66 2116.23 Z\" fill=\"#000000\" fill-rule=\"evenodd\" fill-opacity=\"1\" /><path clip-path=\"url(#clip620)\" d=\"M3748.59 2101.02 Q3745.44 2101.02 3743.59 2103.18 Q3741.76 2105.33 3741.76 2109.08 Q3741.76 2112.81 3743.59 2114.98 Q3745.44 2117.14 3748.59 2117.14 Q3751.74 2117.14 3753.57 2114.98 Q3755.42 2112.81 3755.42 2109.08 Q3755.42 2105.33 3753.57 2103.18 Q3751.74 2101.02 3748.59 2101.02 M3757.88 2086.37 L3757.88 2090.63 Q3756.12 2089.8 3754.31 2089.36 Q3752.53 2088.92 3750.77 2088.92 Q3746.14 2088.92 3743.69 2092.04 Q3741.25 2095.17 3740.91 2101.49 Q3742.27 2099.47 3744.33 2098.41 Q3746.39 2097.32 3748.87 2097.32 Q3754.08 2097.32 3757.09 2100.49 Q3760.12 2103.64 3760.12 2109.08 Q3760.12 2114.4 3756.97 2117.62 Q3753.82 2120.84 3748.59 2120.84 Q3742.6 2120.84 3739.43 2116.26 Q3736.26 2111.65 3736.26 2102.92 Q3736.26 2094.73 3740.14 2089.87 Q3744.03 2084.98 3750.58 2084.98 Q3752.34 2084.98 3754.13 2085.33 Q3755.93 2085.68 3757.88 2086.37 Z\" fill=\"#000000\" fill-rule=\"evenodd\" fill-opacity=\"1\" /><polyline clip-path=\"url(#clip622)\" style=\"stroke:#000000; stroke-linecap:butt; stroke-linejoin:round; stroke-width:2; stroke-opacity:0.1; fill:none\" points=\"\n  153.359,2046.25 3792.76,2046.25 \n  \"/>\n<polyline clip-path=\"url(#clip622)\" style=\"stroke:#000000; stroke-linecap:butt; stroke-linejoin:round; stroke-width:2; stroke-opacity:0.1; fill:none\" points=\"\n  153.359,1402.56 3792.76,1402.56 \n  \"/>\n<polyline clip-path=\"url(#clip622)\" style=\"stroke:#000000; stroke-linecap:butt; stroke-linejoin:round; stroke-width:2; stroke-opacity:0.1; fill:none\" points=\"\n  153.359,758.869 3792.76,758.869 \n  \"/>\n<polyline clip-path=\"url(#clip622)\" style=\"stroke:#000000; stroke-linecap:butt; stroke-linejoin:round; stroke-width:2; stroke-opacity:0.1; fill:none\" points=\"\n  153.359,115.179 3792.76,115.179 \n  \"/>\n<polyline clip-path=\"url(#clip620)\" style=\"stroke:#000000; stroke-linecap:butt; stroke-linejoin:round; stroke-width:4; stroke-opacity:1; fill:none\" points=\"\n  153.359,2046.25 153.359,47.2441 \n  \"/>\n<polyline clip-path=\"url(#clip620)\" style=\"stroke:#000000; stroke-linecap:butt; stroke-linejoin:round; stroke-width:4; stroke-opacity:1; fill:none\" points=\"\n  153.359,2046.25 172.257,2046.25 \n  \"/>\n<polyline clip-path=\"url(#clip620)\" style=\"stroke:#000000; stroke-linecap:butt; stroke-linejoin:round; stroke-width:4; stroke-opacity:1; fill:none\" points=\"\n  153.359,1402.56 172.257,1402.56 \n  \"/>\n<polyline clip-path=\"url(#clip620)\" style=\"stroke:#000000; stroke-linecap:butt; stroke-linejoin:round; stroke-width:4; stroke-opacity:1; fill:none\" points=\"\n  153.359,758.869 172.257,758.869 \n  \"/>\n<polyline clip-path=\"url(#clip620)\" style=\"stroke:#000000; stroke-linecap:butt; stroke-linejoin:round; stroke-width:4; stroke-opacity:1; fill:none\" points=\"\n  153.359,115.179 172.257,115.179 \n  \"/>\n<path clip-path=\"url(#clip620)\" d=\"M83.8151 2032.05 Q80.204 2032.05 78.3753 2035.61 Q76.5697 2039.15 76.5697 2046.28 Q76.5697 2053.39 78.3753 2056.95 Q80.204 2060.5 83.8151 2060.5 Q87.4493 2060.5 89.2548 2056.95 Q91.0835 2053.39 91.0835 2046.28 Q91.0835 2039.15 89.2548 2035.61 Q87.4493 2032.05 83.8151 2032.05 M83.8151 2028.34 Q89.6252 2028.34 92.6808 2032.95 Q95.7594 2037.53 95.7594 2046.28 Q95.7594 2055.01 92.6808 2059.62 Q89.6252 2064.2 83.8151 2064.2 Q78.0049 2064.2 74.9262 2059.62 Q71.8707 2055.01 71.8707 2046.28 Q71.8707 2037.53 74.9262 2032.95 Q78.0049 2028.34 83.8151 2028.34 Z\" fill=\"#000000\" fill-rule=\"evenodd\" fill-opacity=\"1\" /><path clip-path=\"url(#clip620)\" d=\"M74.8568 1385.28 L93.2132 1385.28 L93.2132 1389.21 L79.1392 1389.21 L79.1392 1397.69 Q80.1577 1397.34 81.1762 1397.18 Q82.1947 1396.99 83.2132 1396.99 Q89.0002 1396.99 92.3798 1400.16 Q95.7594 1403.33 95.7594 1408.75 Q95.7594 1414.33 92.2872 1417.43 Q88.815 1420.51 82.4956 1420.51 Q80.3197 1420.51 78.0512 1420.14 Q75.8058 1419.77 73.3984 1419.03 L73.3984 1414.33 Q75.4818 1415.46 77.704 1416.02 Q79.9262 1416.57 82.403 1416.57 Q86.4076 1416.57 88.7456 1414.47 Q91.0835 1412.36 91.0835 1408.75 Q91.0835 1405.14 88.7456 1403.03 Q86.4076 1400.93 82.403 1400.93 Q80.528 1400.93 78.6531 1401.34 Q76.8012 1401.76 74.8568 1402.64 L74.8568 1385.28 Z\" fill=\"#000000\" fill-rule=\"evenodd\" fill-opacity=\"1\" /><path clip-path=\"url(#clip620)\" d=\"M44.4634 772.214 L52.1023 772.214 L52.1023 745.848 L43.7921 747.515 L43.7921 743.255 L52.056 741.589 L56.7319 741.589 L56.7319 772.214 L64.3707 772.214 L64.3707 776.149 L44.4634 776.149 L44.4634 772.214 Z\" fill=\"#000000\" fill-rule=\"evenodd\" fill-opacity=\"1\" /><path clip-path=\"url(#clip620)\" d=\"M83.8151 744.668 Q80.204 744.668 78.3753 748.232 Q76.5697 751.774 76.5697 758.904 Q76.5697 766.01 78.3753 769.575 Q80.204 773.116 83.8151 773.116 Q87.4493 773.116 89.2548 769.575 Q91.0835 766.01 91.0835 758.904 Q91.0835 751.774 89.2548 748.232 Q87.4493 744.668 83.8151 744.668 M83.8151 740.964 Q89.6252 740.964 92.6808 745.57 Q95.7594 750.154 95.7594 758.904 Q95.7594 767.63 92.6808 772.237 Q89.6252 776.82 83.8151 776.82 Q78.0049 776.82 74.9262 772.237 Q71.8707 767.63 71.8707 758.904 Q71.8707 750.154 74.9262 745.57 Q78.0049 740.964 83.8151 740.964 Z\" fill=\"#000000\" fill-rule=\"evenodd\" fill-opacity=\"1\" /><path clip-path=\"url(#clip620)\" d=\"M45.4588 128.524 L53.0976 128.524 L53.0976 102.159 L44.7875 103.825 L44.7875 99.566 L53.0513 97.8993 L57.7272 97.8993 L57.7272 128.524 L65.3661 128.524 L65.3661 132.459 L45.4588 132.459 L45.4588 128.524 Z\" fill=\"#000000\" fill-rule=\"evenodd\" fill-opacity=\"1\" /><path clip-path=\"url(#clip620)\" d=\"M74.8568 97.8993 L93.2132 97.8993 L93.2132 101.834 L79.1392 101.834 L79.1392 110.307 Q80.1577 109.959 81.1762 109.797 Q82.1947 109.612 83.2132 109.612 Q89.0002 109.612 92.3798 112.783 Q95.7594 115.955 95.7594 121.371 Q95.7594 126.95 92.2872 130.052 Q88.815 133.131 82.4956 133.131 Q80.3197 133.131 78.0512 132.76 Q75.8058 132.39 73.3984 131.649 L73.3984 126.95 Q75.4818 128.084 77.704 128.64 Q79.9262 129.195 82.403 129.195 Q86.4076 129.195 88.7456 127.089 Q91.0835 124.982 91.0835 121.371 Q91.0835 117.76 88.7456 115.654 Q86.4076 113.547 82.403 113.547 Q80.528 113.547 78.6531 113.964 Q76.8012 114.381 74.8568 115.26 L74.8568 97.8993 Z\" fill=\"#000000\" fill-rule=\"evenodd\" fill-opacity=\"1\" /><polyline clip-path=\"url(#clip622)\" style=\"stroke:#000000; stroke-linecap:butt; stroke-linejoin:round; stroke-width:4; stroke-opacity:1; fill:none\" points=\"\n  446.859,2046.25 446.859,2042.21 564.259,2042.21 564.259,2046.25 \n  \"/>\n<polyline clip-path=\"url(#clip622)\" style=\"stroke:#000000; stroke-linecap:butt; stroke-linejoin:round; stroke-width:4; stroke-opacity:1; fill:none\" points=\"\n  681.659,2046.25 681.659,2038.18 799.059,2038.18 799.059,2046.25 \n  \"/>\n<polyline clip-path=\"url(#clip622)\" style=\"stroke:#000000; stroke-linecap:butt; stroke-linejoin:round; stroke-width:4; stroke-opacity:1; fill:none\" points=\"\n  2325.26,2046.25 2325.26,2035.78 2442.66,2035.78 2442.66,2046.25 \n  \"/>\n<polyline clip-path=\"url(#clip622)\" style=\"stroke:#000000; stroke-linecap:butt; stroke-linejoin:round; stroke-width:4; stroke-opacity:1; fill:none\" points=\"\n  505.559,2042.21 505.559,2034.24 740.359,2034.24 740.359,2038.18 \n  \"/>\n<polyline clip-path=\"url(#clip622)\" style=\"stroke:#000000; stroke-linecap:butt; stroke-linejoin:round; stroke-width:4; stroke-opacity:1; fill:none\" points=\"\n  329.459,2046.25 329.459,2020.92 622.959,2020.92 622.959,2034.24 \n  \"/>\n<polyline clip-path=\"url(#clip622)\" style=\"stroke:#000000; stroke-linecap:butt; stroke-linejoin:round; stroke-width:4; stroke-opacity:1; fill:none\" points=\"\n  1973.06,2046.25 1973.06,2005.25 2090.46,2005.25 2090.46,2046.25 \n  \"/>\n<polyline clip-path=\"url(#clip622)\" style=\"stroke:#000000; stroke-linecap:butt; stroke-linejoin:round; stroke-width:4; stroke-opacity:1; fill:none\" points=\"\n  1033.86,2046.25 1033.86,1995.64 1151.26,1995.64 1151.26,2046.25 \n  \"/>\n<polyline clip-path=\"url(#clip622)\" style=\"stroke:#000000; stroke-linecap:butt; stroke-linejoin:round; stroke-width:4; stroke-opacity:1; fill:none\" points=\"\n  916.459,2046.25 916.459,1992.69 1092.56,1992.69 1092.56,1995.64 \n  \"/>\n<polyline clip-path=\"url(#clip622)\" style=\"stroke:#000000; stroke-linecap:butt; stroke-linejoin:round; stroke-width:4; stroke-opacity:1; fill:none\" points=\"\n  1738.26,2046.25 1738.26,1938.3 1855.66,1938.3 1855.66,2046.25 \n  \"/>\n<polyline clip-path=\"url(#clip622)\" style=\"stroke:#000000; stroke-linecap:butt; stroke-linejoin:round; stroke-width:4; stroke-opacity:1; fill:none\" points=\"\n  476.209,2020.92 476.209,1908.43 1004.51,1908.43 1004.51,1992.69 \n  \"/>\n<polyline clip-path=\"url(#clip622)\" style=\"stroke:#000000; stroke-linecap:butt; stroke-linejoin:round; stroke-width:4; stroke-opacity:1; fill:none\" points=\"\n  3616.66,2046.25 3616.66,1890.13 3734.06,1890.13 3734.06,2046.25 \n  \"/>\n<polyline clip-path=\"url(#clip622)\" style=\"stroke:#000000; stroke-linecap:butt; stroke-linejoin:round; stroke-width:4; stroke-opacity:1; fill:none\" points=\"\n  3029.66,2046.25 3029.66,1885.11 3147.06,1885.11 3147.06,2046.25 \n  \"/>\n<polyline clip-path=\"url(#clip622)\" style=\"stroke:#000000; stroke-linecap:butt; stroke-linejoin:round; stroke-width:4; stroke-opacity:1; fill:none\" points=\"\n  1386.06,2046.25 1386.06,1881.7 1503.46,1881.7 1503.46,2046.25 \n  \"/>\n<polyline clip-path=\"url(#clip622)\" style=\"stroke:#000000; stroke-linecap:butt; stroke-linejoin:round; stroke-width:4; stroke-opacity:1; fill:none\" points=\"\n  1268.66,2046.25 1268.66,1839.04 1444.76,1839.04 1444.76,1881.7 \n  \"/>\n<polyline clip-path=\"url(#clip622)\" style=\"stroke:#000000; stroke-linecap:butt; stroke-linejoin:round; stroke-width:4; stroke-opacity:1; fill:none\" points=\"\n  2207.86,2046.25 2207.86,1810.25 2383.96,1810.25 2383.96,2035.78 \n  \"/>\n<polyline clip-path=\"url(#clip622)\" style=\"stroke:#000000; stroke-linecap:butt; stroke-linejoin:round; stroke-width:4; stroke-opacity:1; fill:none\" points=\"\n  2031.76,2005.25 2031.76,1773.45 2295.91,1773.45 2295.91,1810.25 \n  \"/>\n<polyline clip-path=\"url(#clip622)\" style=\"stroke:#000000; stroke-linecap:butt; stroke-linejoin:round; stroke-width:4; stroke-opacity:1; fill:none\" points=\"\n  740.359,1908.43 740.359,1756.45 1356.71,1756.45 1356.71,1839.04 \n  \"/>\n<polyline clip-path=\"url(#clip622)\" style=\"stroke:#000000; stroke-linecap:butt; stroke-linejoin:round; stroke-width:4; stroke-opacity:1; fill:none\" points=\"\n  212.059,2046.25 212.059,1748.25 1048.53,1748.25 1048.53,1756.45 \n  \"/>\n<polyline clip-path=\"url(#clip622)\" style=\"stroke:#000000; stroke-linecap:butt; stroke-linejoin:round; stroke-width:4; stroke-opacity:1; fill:none\" points=\"\n  3499.26,2046.25 3499.26,1729.89 3675.36,1729.89 3675.36,1890.13 \n  \"/>\n<polyline clip-path=\"url(#clip622)\" style=\"stroke:#000000; stroke-linecap:butt; stroke-linejoin:round; stroke-width:4; stroke-opacity:1; fill:none\" points=\"\n  1796.96,1938.3 1796.96,1708.76 2163.83,1708.76 2163.83,1773.45 \n  \"/>\n<polyline clip-path=\"url(#clip622)\" style=\"stroke:#000000; stroke-linecap:butt; stroke-linejoin:round; stroke-width:4; stroke-opacity:1; fill:none\" points=\"\n  2560.06,2046.25 2560.06,1622.97 2677.46,1622.97 2677.46,2046.25 \n  \"/>\n<polyline clip-path=\"url(#clip622)\" style=\"stroke:#000000; stroke-linecap:butt; stroke-linejoin:round; stroke-width:4; stroke-opacity:1; fill:none\" points=\"\n  2912.26,2046.25 2912.26,1549.53 3088.36,1549.53 3088.36,1885.11 \n  \"/>\n<polyline clip-path=\"url(#clip622)\" style=\"stroke:#000000; stroke-linecap:butt; stroke-linejoin:round; stroke-width:4; stroke-opacity:1; fill:none\" points=\"\n  2794.86,2046.25 2794.86,1518.33 3000.31,1518.33 3000.31,1549.53 \n  \"/>\n<polyline clip-path=\"url(#clip622)\" style=\"stroke:#000000; stroke-linecap:butt; stroke-linejoin:round; stroke-width:4; stroke-opacity:1; fill:none\" points=\"\n  3381.86,2046.25 3381.86,1217.43 3587.31,1217.43 3587.31,1729.89 \n  \"/>\n<polyline clip-path=\"url(#clip622)\" style=\"stroke:#000000; stroke-linecap:butt; stroke-linejoin:round; stroke-width:4; stroke-opacity:1; fill:none\" points=\"\n  3264.46,2046.25 3264.46,1205.01 3484.58,1205.01 3484.58,1217.43 \n  \"/>\n<polyline clip-path=\"url(#clip622)\" style=\"stroke:#000000; stroke-linecap:butt; stroke-linejoin:round; stroke-width:4; stroke-opacity:1; fill:none\" points=\"\n  2897.58,1518.33 2897.58,1200.89 3374.52,1200.89 3374.52,1205.01 \n  \"/>\n<polyline clip-path=\"url(#clip622)\" style=\"stroke:#000000; stroke-linecap:butt; stroke-linejoin:round; stroke-width:4; stroke-opacity:1; fill:none\" points=\"\n  2618.76,1622.97 2618.76,893.156 3136.05,893.156 3136.05,1200.89 \n  \"/>\n<polyline clip-path=\"url(#clip622)\" style=\"stroke:#000000; stroke-linecap:butt; stroke-linejoin:round; stroke-width:4; stroke-opacity:1; fill:none\" points=\"\n  1980.4,1708.76 1980.4,873.842 2877.4,873.842 2877.4,893.156 \n  \"/>\n<polyline clip-path=\"url(#clip622)\" style=\"stroke:#000000; stroke-linecap:butt; stroke-linejoin:round; stroke-width:4; stroke-opacity:1; fill:none\" points=\"\n  1620.86,2046.25 1620.86,483.435 2428.9,483.435 2428.9,873.842 \n  \"/>\n<polyline clip-path=\"url(#clip622)\" style=\"stroke:#000000; stroke-linecap:butt; stroke-linejoin:round; stroke-width:4; stroke-opacity:1; fill:none\" points=\"\n  630.296,1748.25 630.296,47.2441 2024.88,47.2441 2024.88,483.435 \n  \"/>\n</svg>\n",
      "text/html": [
       "<?xml version=\"1.0\" encoding=\"utf-8\"?>\n",
       "<svg xmlns=\"http://www.w3.org/2000/svg\" xmlns:xlink=\"http://www.w3.org/1999/xlink\" width=\"960\" height=\"540\" viewBox=\"0 0 3840 2160\">\n",
       "<defs>\n",
       "  <clipPath id=\"clip670\">\n",
       "    <rect x=\"0\" y=\"0\" width=\"3840\" height=\"2160\"/>\n",
       "  </clipPath>\n",
       "</defs>\n",
       "<path clip-path=\"url(#clip670)\" d=\"\n",
       "M0 2160 L3840 2160 L3840 0 L0 0  Z\n",
       "  \" fill=\"#ffffff\" fill-rule=\"evenodd\" fill-opacity=\"1\"/>\n",
       "<defs>\n",
       "  <clipPath id=\"clip671\">\n",
       "    <rect x=\"768\" y=\"0\" width=\"2689\" height=\"2160\"/>\n",
       "  </clipPath>\n",
       "</defs>\n",
       "<path clip-path=\"url(#clip670)\" d=\"\n",
       "M153.359 2046.25 L3792.76 2046.25 L3792.76 47.2441 L153.359 47.2441  Z\n",
       "  \" fill=\"#ffffff\" fill-rule=\"evenodd\" fill-opacity=\"1\"/>\n",
       "<defs>\n",
       "  <clipPath id=\"clip672\">\n",
       "    <rect x=\"153\" y=\"47\" width=\"3640\" height=\"2000\"/>\n",
       "  </clipPath>\n",
       "</defs>\n",
       "<polyline clip-path=\"url(#clip670)\" style=\"stroke:#000000; stroke-linecap:butt; stroke-linejoin:round; stroke-width:4; stroke-opacity:1; fill:none\" points=\"\n",
       "  153.359,2046.25 3792.76,2046.25 \n",
       "  \"/>\n",
       "<polyline clip-path=\"url(#clip670)\" style=\"stroke:#ffffff; stroke-linecap:butt; stroke-linejoin:round; stroke-width:4; stroke-opacity:1; fill:none\" points=\"\n",
       "  212.059,2046.25 212.059,2027.35 \n",
       "  \"/>\n",
       "<polyline clip-path=\"url(#clip670)\" style=\"stroke:#ffffff; stroke-linecap:butt; stroke-linejoin:round; stroke-width:4; stroke-opacity:1; fill:none\" points=\"\n",
       "  329.459,2046.25 329.459,2027.35 \n",
       "  \"/>\n",
       "<polyline clip-path=\"url(#clip670)\" style=\"stroke:#ffffff; stroke-linecap:butt; stroke-linejoin:round; stroke-width:4; stroke-opacity:1; fill:none\" points=\"\n",
       "  446.859,2046.25 446.859,2027.35 \n",
       "  \"/>\n",
       "<polyline clip-path=\"url(#clip670)\" style=\"stroke:#ffffff; stroke-linecap:butt; stroke-linejoin:round; stroke-width:4; stroke-opacity:1; fill:none\" points=\"\n",
       "  564.259,2046.25 564.259,2027.35 \n",
       "  \"/>\n",
       "<polyline clip-path=\"url(#clip670)\" style=\"stroke:#ffffff; stroke-linecap:butt; stroke-linejoin:round; stroke-width:4; stroke-opacity:1; fill:none\" points=\"\n",
       "  681.659,2046.25 681.659,2027.35 \n",
       "  \"/>\n",
       "<polyline clip-path=\"url(#clip670)\" style=\"stroke:#ffffff; stroke-linecap:butt; stroke-linejoin:round; stroke-width:4; stroke-opacity:1; fill:none\" points=\"\n",
       "  799.059,2046.25 799.059,2027.35 \n",
       "  \"/>\n",
       "<polyline clip-path=\"url(#clip670)\" style=\"stroke:#ffffff; stroke-linecap:butt; stroke-linejoin:round; stroke-width:4; stroke-opacity:1; fill:none\" points=\"\n",
       "  916.459,2046.25 916.459,2027.35 \n",
       "  \"/>\n",
       "<polyline clip-path=\"url(#clip670)\" style=\"stroke:#ffffff; stroke-linecap:butt; stroke-linejoin:round; stroke-width:4; stroke-opacity:1; fill:none\" points=\"\n",
       "  1033.86,2046.25 1033.86,2027.35 \n",
       "  \"/>\n",
       "<polyline clip-path=\"url(#clip670)\" style=\"stroke:#ffffff; stroke-linecap:butt; stroke-linejoin:round; stroke-width:4; stroke-opacity:1; fill:none\" points=\"\n",
       "  1151.26,2046.25 1151.26,2027.35 \n",
       "  \"/>\n",
       "<polyline clip-path=\"url(#clip670)\" style=\"stroke:#ffffff; stroke-linecap:butt; stroke-linejoin:round; stroke-width:4; stroke-opacity:1; fill:none\" points=\"\n",
       "  1268.66,2046.25 1268.66,2027.35 \n",
       "  \"/>\n",
       "<polyline clip-path=\"url(#clip670)\" style=\"stroke:#ffffff; stroke-linecap:butt; stroke-linejoin:round; stroke-width:4; stroke-opacity:1; fill:none\" points=\"\n",
       "  1386.06,2046.25 1386.06,2027.35 \n",
       "  \"/>\n",
       "<polyline clip-path=\"url(#clip670)\" style=\"stroke:#ffffff; stroke-linecap:butt; stroke-linejoin:round; stroke-width:4; stroke-opacity:1; fill:none\" points=\"\n",
       "  1503.46,2046.25 1503.46,2027.35 \n",
       "  \"/>\n",
       "<polyline clip-path=\"url(#clip670)\" style=\"stroke:#ffffff; stroke-linecap:butt; stroke-linejoin:round; stroke-width:4; stroke-opacity:1; fill:none\" points=\"\n",
       "  1620.86,2046.25 1620.86,2027.35 \n",
       "  \"/>\n",
       "<polyline clip-path=\"url(#clip670)\" style=\"stroke:#ffffff; stroke-linecap:butt; stroke-linejoin:round; stroke-width:4; stroke-opacity:1; fill:none\" points=\"\n",
       "  1738.26,2046.25 1738.26,2027.35 \n",
       "  \"/>\n",
       "<polyline clip-path=\"url(#clip670)\" style=\"stroke:#ffffff; stroke-linecap:butt; stroke-linejoin:round; stroke-width:4; stroke-opacity:1; fill:none\" points=\"\n",
       "  1855.66,2046.25 1855.66,2027.35 \n",
       "  \"/>\n",
       "<polyline clip-path=\"url(#clip670)\" style=\"stroke:#ffffff; stroke-linecap:butt; stroke-linejoin:round; stroke-width:4; stroke-opacity:1; fill:none\" points=\"\n",
       "  1973.06,2046.25 1973.06,2027.35 \n",
       "  \"/>\n",
       "<polyline clip-path=\"url(#clip670)\" style=\"stroke:#ffffff; stroke-linecap:butt; stroke-linejoin:round; stroke-width:4; stroke-opacity:1; fill:none\" points=\"\n",
       "  2090.46,2046.25 2090.46,2027.35 \n",
       "  \"/>\n",
       "<polyline clip-path=\"url(#clip670)\" style=\"stroke:#ffffff; stroke-linecap:butt; stroke-linejoin:round; stroke-width:4; stroke-opacity:1; fill:none\" points=\"\n",
       "  2207.86,2046.25 2207.86,2027.35 \n",
       "  \"/>\n",
       "<polyline clip-path=\"url(#clip670)\" style=\"stroke:#ffffff; stroke-linecap:butt; stroke-linejoin:round; stroke-width:4; stroke-opacity:1; fill:none\" points=\"\n",
       "  2325.26,2046.25 2325.26,2027.35 \n",
       "  \"/>\n",
       "<polyline clip-path=\"url(#clip670)\" style=\"stroke:#ffffff; stroke-linecap:butt; stroke-linejoin:round; stroke-width:4; stroke-opacity:1; fill:none\" points=\"\n",
       "  2442.66,2046.25 2442.66,2027.35 \n",
       "  \"/>\n",
       "<polyline clip-path=\"url(#clip670)\" style=\"stroke:#ffffff; stroke-linecap:butt; stroke-linejoin:round; stroke-width:4; stroke-opacity:1; fill:none\" points=\"\n",
       "  2560.06,2046.25 2560.06,2027.35 \n",
       "  \"/>\n",
       "<polyline clip-path=\"url(#clip670)\" style=\"stroke:#ffffff; stroke-linecap:butt; stroke-linejoin:round; stroke-width:4; stroke-opacity:1; fill:none\" points=\"\n",
       "  2677.46,2046.25 2677.46,2027.35 \n",
       "  \"/>\n",
       "<polyline clip-path=\"url(#clip670)\" style=\"stroke:#ffffff; stroke-linecap:butt; stroke-linejoin:round; stroke-width:4; stroke-opacity:1; fill:none\" points=\"\n",
       "  2794.86,2046.25 2794.86,2027.35 \n",
       "  \"/>\n",
       "<polyline clip-path=\"url(#clip670)\" style=\"stroke:#ffffff; stroke-linecap:butt; stroke-linejoin:round; stroke-width:4; stroke-opacity:1; fill:none\" points=\"\n",
       "  2912.26,2046.25 2912.26,2027.35 \n",
       "  \"/>\n",
       "<polyline clip-path=\"url(#clip670)\" style=\"stroke:#ffffff; stroke-linecap:butt; stroke-linejoin:round; stroke-width:4; stroke-opacity:1; fill:none\" points=\"\n",
       "  3029.66,2046.25 3029.66,2027.35 \n",
       "  \"/>\n",
       "<polyline clip-path=\"url(#clip670)\" style=\"stroke:#ffffff; stroke-linecap:butt; stroke-linejoin:round; stroke-width:4; stroke-opacity:1; fill:none\" points=\"\n",
       "  3147.06,2046.25 3147.06,2027.35 \n",
       "  \"/>\n",
       "<polyline clip-path=\"url(#clip670)\" style=\"stroke:#ffffff; stroke-linecap:butt; stroke-linejoin:round; stroke-width:4; stroke-opacity:1; fill:none\" points=\"\n",
       "  3264.46,2046.25 3264.46,2027.35 \n",
       "  \"/>\n",
       "<polyline clip-path=\"url(#clip670)\" style=\"stroke:#ffffff; stroke-linecap:butt; stroke-linejoin:round; stroke-width:4; stroke-opacity:1; fill:none\" points=\"\n",
       "  3381.86,2046.25 3381.86,2027.35 \n",
       "  \"/>\n",
       "<polyline clip-path=\"url(#clip670)\" style=\"stroke:#ffffff; stroke-linecap:butt; stroke-linejoin:round; stroke-width:4; stroke-opacity:1; fill:none\" points=\"\n",
       "  3499.26,2046.25 3499.26,2027.35 \n",
       "  \"/>\n",
       "<polyline clip-path=\"url(#clip670)\" style=\"stroke:#ffffff; stroke-linecap:butt; stroke-linejoin:round; stroke-width:4; stroke-opacity:1; fill:none\" points=\"\n",
       "  3616.66,2046.25 3616.66,2027.35 \n",
       "  \"/>\n",
       "<polyline clip-path=\"url(#clip670)\" style=\"stroke:#ffffff; stroke-linecap:butt; stroke-linejoin:round; stroke-width:4; stroke-opacity:1; fill:none\" points=\"\n",
       "  3734.06,2046.25 3734.06,2027.35 \n",
       "  \"/>\n",
       "<path clip-path=\"url(#clip670)\" d=\"M200.902 2101.53 Q204.258 2102.25 206.133 2104.52 Q208.032 2106.79 208.032 2110.12 Q208.032 2115.24 204.513 2118.04 Q200.995 2120.84 194.513 2120.84 Q192.337 2120.84 190.022 2120.4 Q187.731 2119.98 185.277 2119.13 L185.277 2114.61 Q187.222 2115.75 189.536 2116.33 Q191.851 2116.9 194.374 2116.9 Q198.772 2116.9 201.064 2115.17 Q203.379 2113.43 203.379 2110.12 Q203.379 2107.07 201.226 2105.35 Q199.096 2103.62 195.277 2103.62 L191.249 2103.62 L191.249 2099.77 L195.462 2099.77 Q198.911 2099.77 200.74 2098.41 Q202.569 2097.02 202.569 2094.43 Q202.569 2091.77 200.671 2090.35 Q198.796 2088.92 195.277 2088.92 Q193.356 2088.92 191.157 2089.33 Q188.958 2089.75 186.319 2090.63 L186.319 2086.46 Q188.981 2085.72 191.296 2085.35 Q193.634 2084.98 195.694 2084.98 Q201.018 2084.98 204.12 2087.41 Q207.221 2089.82 207.221 2093.94 Q207.221 2096.81 205.578 2098.8 Q203.934 2100.77 200.902 2101.53 Z\" fill=\"#000000\" fill-rule=\"evenodd\" fill-opacity=\"1\" /><path clip-path=\"url(#clip670)\" d=\"M226.897 2088.69 Q223.286 2088.69 221.457 2092.25 Q219.652 2095.79 219.652 2102.92 Q219.652 2110.03 221.457 2113.59 Q223.286 2117.14 226.897 2117.14 Q230.532 2117.14 232.337 2113.59 Q234.166 2110.03 234.166 2102.92 Q234.166 2095.79 232.337 2092.25 Q230.532 2088.69 226.897 2088.69 M226.897 2084.98 Q232.707 2084.98 235.763 2089.59 Q238.842 2094.17 238.842 2102.92 Q238.842 2111.65 235.763 2116.26 Q232.707 2120.84 226.897 2120.84 Q221.087 2120.84 218.008 2116.26 Q214.953 2111.65 214.953 2102.92 Q214.953 2094.17 218.008 2089.59 Q221.087 2084.98 226.897 2084.98 Z\" fill=\"#000000\" fill-rule=\"evenodd\" fill-opacity=\"1\" /><path clip-path=\"url(#clip670)\" d=\"M319.841 2116.23 L327.48 2116.23 L327.48 2089.87 L319.17 2091.53 L319.17 2087.27 L327.434 2085.61 L332.11 2085.61 L332.11 2116.23 L339.749 2116.23 L339.749 2120.17 L319.841 2120.17 L319.841 2116.23 Z\" fill=\"#000000\" fill-rule=\"evenodd\" fill-opacity=\"1\" /><path clip-path=\"url(#clip670)\" d=\"M421.304 2116.23 L428.943 2116.23 L428.943 2089.87 L420.632 2091.53 L420.632 2087.27 L428.896 2085.61 L433.572 2085.61 L433.572 2116.23 L441.211 2116.23 L441.211 2120.17 L421.304 2120.17 L421.304 2116.23 Z\" fill=\"#000000\" fill-rule=\"evenodd\" fill-opacity=\"1\" /><path clip-path=\"url(#clip670)\" d=\"M463.503 2089.68 L451.697 2108.13 L463.503 2108.13 L463.503 2089.68 M462.276 2085.61 L468.155 2085.61 L468.155 2108.13 L473.086 2108.13 L473.086 2112.02 L468.155 2112.02 L468.155 2120.17 L463.503 2120.17 L463.503 2112.02 L447.901 2112.02 L447.901 2107.51 L462.276 2085.61 Z\" fill=\"#000000\" fill-rule=\"evenodd\" fill-opacity=\"1\" /><path clip-path=\"url(#clip670)\" d=\"M539.398 2116.23 L547.037 2116.23 L547.037 2089.87 L538.727 2091.53 L538.727 2087.27 L546.991 2085.61 L551.667 2085.61 L551.667 2116.23 L559.305 2116.23 L559.305 2120.17 L539.398 2120.17 L539.398 2116.23 Z\" fill=\"#000000\" fill-rule=\"evenodd\" fill-opacity=\"1\" /><path clip-path=\"url(#clip670)\" d=\"M567.569 2085.61 L589.791 2085.61 L589.791 2087.6 L577.245 2120.17 L572.361 2120.17 L584.166 2089.54 L567.569 2089.54 L567.569 2085.61 Z\" fill=\"#000000\" fill-rule=\"evenodd\" fill-opacity=\"1\" /><path clip-path=\"url(#clip670)\" d=\"M671.937 2085.61 L690.293 2085.61 L690.293 2089.54 L676.219 2089.54 L676.219 2098.02 Q677.238 2097.67 678.256 2097.51 Q679.275 2097.32 680.293 2097.32 Q686.08 2097.32 689.46 2100.49 Q692.839 2103.66 692.839 2109.08 Q692.839 2114.66 689.367 2117.76 Q685.895 2120.84 679.576 2120.84 Q677.4 2120.84 675.131 2120.47 Q672.886 2120.1 670.478 2119.36 L670.478 2114.66 Q672.562 2115.79 674.784 2116.35 Q677.006 2116.9 679.483 2116.9 Q683.488 2116.9 685.826 2114.8 Q688.164 2112.69 688.164 2109.08 Q688.164 2105.47 685.826 2103.36 Q683.488 2101.26 679.483 2101.26 Q677.608 2101.26 675.733 2101.67 Q673.881 2102.09 671.937 2102.97 L671.937 2085.61 Z\" fill=\"#000000\" fill-rule=\"evenodd\" fill-opacity=\"1\" /><path clip-path=\"url(#clip670)\" d=\"M774.36 2116.23 L781.999 2116.23 L781.999 2089.87 L773.689 2091.53 L773.689 2087.27 L781.952 2085.61 L786.628 2085.61 L786.628 2116.23 L794.267 2116.23 L794.267 2120.17 L774.36 2120.17 L774.36 2116.23 Z\" fill=\"#000000\" fill-rule=\"evenodd\" fill-opacity=\"1\" /><path clip-path=\"url(#clip670)\" d=\"M804.522 2116.23 L812.161 2116.23 L812.161 2089.87 L803.85 2091.53 L803.85 2087.27 L812.114 2085.61 L816.79 2085.61 L816.79 2116.23 L824.429 2116.23 L824.429 2120.17 L804.522 2120.17 L804.522 2116.23 Z\" fill=\"#000000\" fill-rule=\"evenodd\" fill-opacity=\"1\" /><path clip-path=\"url(#clip670)\" d=\"M895.683 2116.23 L912.003 2116.23 L912.003 2120.17 L890.058 2120.17 L890.058 2116.23 Q892.72 2113.48 897.304 2108.85 Q901.91 2104.2 903.091 2102.85 Q905.336 2100.33 906.216 2098.59 Q907.118 2096.83 907.118 2095.14 Q907.118 2092.39 905.174 2090.65 Q903.253 2088.92 900.151 2088.92 Q897.952 2088.92 895.498 2089.68 Q893.068 2090.45 890.29 2092 L890.29 2087.27 Q893.114 2086.14 895.568 2085.56 Q898.021 2084.98 900.058 2084.98 Q905.429 2084.98 908.623 2087.67 Q911.818 2090.35 911.818 2094.84 Q911.818 2096.97 911.007 2098.89 Q910.22 2100.79 908.114 2103.39 Q907.535 2104.06 904.433 2107.27 Q901.331 2110.47 895.683 2116.23 Z\" fill=\"#000000\" fill-rule=\"evenodd\" fill-opacity=\"1\" /><path clip-path=\"url(#clip670)\" d=\"M920.637 2085.61 L942.859 2085.61 L942.859 2087.6 L930.313 2120.17 L925.429 2120.17 L937.234 2089.54 L920.637 2089.54 L920.637 2085.61 Z\" fill=\"#000000\" fill-rule=\"evenodd\" fill-opacity=\"1\" /><path clip-path=\"url(#clip670)\" d=\"M1036.87 2089.68 L1025.06 2108.13 L1036.87 2108.13 L1036.87 2089.68 M1035.64 2085.61 L1041.52 2085.61 L1041.52 2108.13 L1046.45 2108.13 L1046.45 2112.02 L1041.52 2112.02 L1041.52 2120.17 L1036.87 2120.17 L1036.87 2112.02 L1021.27 2112.02 L1021.27 2107.51 L1035.64 2085.61 Z\" fill=\"#000000\" fill-rule=\"evenodd\" fill-opacity=\"1\" /><path clip-path=\"url(#clip670)\" d=\"M1130.12 2116.23 L1146.44 2116.23 L1146.44 2120.17 L1124.5 2120.17 L1124.5 2116.23 Q1127.16 2113.48 1131.74 2108.85 Q1136.35 2104.2 1137.53 2102.85 Q1139.78 2100.33 1140.66 2098.59 Q1141.56 2096.83 1141.56 2095.14 Q1141.56 2092.39 1139.62 2090.65 Q1137.69 2088.92 1134.59 2088.92 Q1132.39 2088.92 1129.94 2089.68 Q1127.51 2090.45 1124.73 2092 L1124.73 2087.27 Q1127.55 2086.14 1130.01 2085.56 Q1132.46 2084.98 1134.5 2084.98 Q1139.87 2084.98 1143.06 2087.67 Q1146.26 2090.35 1146.26 2094.84 Q1146.26 2096.97 1145.45 2098.89 Q1144.66 2100.79 1142.55 2103.39 Q1141.98 2104.06 1138.87 2107.27 Q1135.77 2110.47 1130.12 2116.23 Z\" fill=\"#000000\" fill-rule=\"evenodd\" fill-opacity=\"1\" /><path clip-path=\"url(#clip670)\" d=\"M1156.4 2119.45 L1156.4 2115.19 Q1158.16 2116.02 1159.96 2116.46 Q1161.77 2116.9 1163.5 2116.9 Q1168.13 2116.9 1170.56 2113.8 Q1173.02 2110.68 1173.36 2104.33 Q1172.02 2106.33 1169.96 2107.39 Q1167.9 2108.45 1165.4 2108.45 Q1160.22 2108.45 1157.18 2105.33 Q1154.18 2102.18 1154.18 2096.74 Q1154.18 2091.42 1157.32 2088.2 Q1160.47 2084.98 1165.7 2084.98 Q1171.7 2084.98 1174.85 2089.59 Q1178.02 2094.17 1178.02 2102.92 Q1178.02 2111.09 1174.13 2115.98 Q1170.26 2120.84 1163.71 2120.84 Q1161.95 2120.84 1160.15 2120.49 Q1158.34 2120.14 1156.4 2119.45 M1165.7 2104.8 Q1168.85 2104.8 1170.68 2102.64 Q1172.53 2100.49 1172.53 2096.74 Q1172.53 2093.02 1170.68 2090.86 Q1168.85 2088.69 1165.7 2088.69 Q1162.55 2088.69 1160.7 2090.86 Q1158.87 2093.02 1158.87 2096.74 Q1158.87 2100.49 1160.7 2102.64 Q1162.55 2104.8 1165.7 2104.8 Z\" fill=\"#000000\" fill-rule=\"evenodd\" fill-opacity=\"1\" /><path clip-path=\"url(#clip670)\" d=\"M1243.84 2116.23 L1251.48 2116.23 L1251.48 2089.87 L1243.17 2091.53 L1243.17 2087.27 L1251.44 2085.61 L1256.11 2085.61 L1256.11 2116.23 L1263.75 2116.23 L1263.75 2120.17 L1243.84 2120.17 L1243.84 2116.23 Z\" fill=\"#000000\" fill-rule=\"evenodd\" fill-opacity=\"1\" /><path clip-path=\"url(#clip670)\" d=\"M1273.24 2085.61 L1291.6 2085.61 L1291.6 2089.54 L1277.52 2089.54 L1277.52 2098.02 Q1278.54 2097.67 1279.56 2097.51 Q1280.58 2097.32 1281.6 2097.32 Q1287.39 2097.32 1290.76 2100.49 Q1294.14 2103.66 1294.14 2109.08 Q1294.14 2114.66 1290.67 2117.76 Q1287.2 2120.84 1280.88 2120.84 Q1278.7 2120.84 1276.44 2120.47 Q1274.19 2120.1 1271.78 2119.36 L1271.78 2114.66 Q1273.87 2115.79 1276.09 2116.35 Q1278.31 2116.9 1280.79 2116.9 Q1284.79 2116.9 1287.13 2114.8 Q1289.47 2112.69 1289.47 2109.08 Q1289.47 2105.47 1287.13 2103.36 Q1284.79 2101.26 1280.79 2101.26 Q1278.91 2101.26 1277.04 2101.67 Q1275.19 2102.09 1273.24 2102.97 L1273.24 2085.61 Z\" fill=\"#000000\" fill-rule=\"evenodd\" fill-opacity=\"1\" /><path clip-path=\"url(#clip670)\" d=\"M1364.83 2116.23 L1381.15 2116.23 L1381.15 2120.17 L1359.21 2120.17 L1359.21 2116.23 Q1361.87 2113.48 1366.45 2108.85 Q1371.06 2104.2 1372.24 2102.85 Q1374.48 2100.33 1375.36 2098.59 Q1376.27 2096.83 1376.27 2095.14 Q1376.27 2092.39 1374.32 2090.65 Q1372.4 2088.92 1369.3 2088.92 Q1367.1 2088.92 1364.65 2089.68 Q1362.22 2090.45 1359.44 2092 L1359.44 2087.27 Q1362.26 2086.14 1364.72 2085.56 Q1367.17 2084.98 1369.21 2084.98 Q1374.58 2084.98 1377.77 2087.67 Q1380.97 2090.35 1380.97 2094.84 Q1380.97 2096.97 1380.16 2098.89 Q1379.37 2100.79 1377.26 2103.39 Q1376.68 2104.06 1373.58 2107.27 Q1370.48 2110.47 1364.83 2116.23 Z\" fill=\"#000000\" fill-rule=\"evenodd\" fill-opacity=\"1\" /><path clip-path=\"url(#clip670)\" d=\"M1400.97 2088.69 Q1397.35 2088.69 1395.53 2092.25 Q1393.72 2095.79 1393.72 2102.92 Q1393.72 2110.03 1395.53 2113.59 Q1397.35 2117.14 1400.97 2117.14 Q1404.6 2117.14 1406.41 2113.59 Q1408.23 2110.03 1408.23 2102.92 Q1408.23 2095.79 1406.41 2092.25 Q1404.6 2088.69 1400.97 2088.69 M1400.97 2084.98 Q1406.78 2084.98 1409.83 2089.59 Q1412.91 2094.17 1412.91 2102.92 Q1412.91 2111.65 1409.83 2116.26 Q1406.78 2120.84 1400.97 2120.84 Q1395.16 2120.84 1392.08 2116.26 Q1389.02 2111.65 1389.02 2102.92 Q1389.02 2094.17 1392.08 2089.59 Q1395.16 2084.98 1400.97 2084.98 Z\" fill=\"#000000\" fill-rule=\"evenodd\" fill-opacity=\"1\" /><path clip-path=\"url(#clip670)\" d=\"M1482.56 2116.23 L1498.87 2116.23 L1498.87 2120.17 L1476.93 2120.17 L1476.93 2116.23 Q1479.59 2113.48 1484.18 2108.85 Q1488.78 2104.2 1489.96 2102.85 Q1492.21 2100.33 1493.09 2098.59 Q1493.99 2096.83 1493.99 2095.14 Q1493.99 2092.39 1492.05 2090.65 Q1490.12 2088.92 1487.02 2088.92 Q1484.82 2088.92 1482.37 2089.68 Q1479.94 2090.45 1477.16 2092 L1477.16 2087.27 Q1479.99 2086.14 1482.44 2085.56 Q1484.89 2084.98 1486.93 2084.98 Q1492.3 2084.98 1495.5 2087.67 Q1498.69 2090.35 1498.69 2094.84 Q1498.69 2096.97 1497.88 2098.89 Q1497.09 2100.79 1494.99 2103.39 Q1494.41 2104.06 1491.31 2107.27 Q1488.2 2110.47 1482.56 2116.23 Z\" fill=\"#000000\" fill-rule=\"evenodd\" fill-opacity=\"1\" /><path clip-path=\"url(#clip670)\" d=\"M1522.86 2101.53 Q1526.21 2102.25 1528.09 2104.52 Q1529.99 2106.79 1529.99 2110.12 Q1529.99 2115.24 1526.47 2118.04 Q1522.95 2120.84 1516.47 2120.84 Q1514.29 2120.84 1511.98 2120.4 Q1509.68 2119.98 1507.23 2119.13 L1507.23 2114.61 Q1509.18 2115.75 1511.49 2116.33 Q1513.81 2116.9 1516.33 2116.9 Q1520.73 2116.9 1523.02 2115.17 Q1525.33 2113.43 1525.33 2110.12 Q1525.33 2107.07 1523.18 2105.35 Q1521.05 2103.62 1517.23 2103.62 L1513.2 2103.62 L1513.2 2099.77 L1517.42 2099.77 Q1520.87 2099.77 1522.69 2098.41 Q1524.52 2097.02 1524.52 2094.43 Q1524.52 2091.77 1522.62 2090.35 Q1520.75 2088.92 1517.23 2088.92 Q1515.31 2088.92 1513.11 2089.33 Q1510.91 2089.75 1508.27 2090.63 L1508.27 2086.46 Q1510.93 2085.72 1513.25 2085.35 Q1515.59 2084.98 1517.65 2084.98 Q1522.97 2084.98 1526.07 2087.41 Q1529.18 2089.82 1529.18 2093.94 Q1529.18 2096.81 1527.53 2098.8 Q1525.89 2100.77 1522.86 2101.53 Z\" fill=\"#000000\" fill-rule=\"evenodd\" fill-opacity=\"1\" /><path clip-path=\"url(#clip670)\" d=\"M1610.31 2101.53 Q1613.67 2102.25 1615.55 2104.52 Q1617.44 2106.79 1617.44 2110.12 Q1617.44 2115.24 1613.93 2118.04 Q1610.41 2120.84 1603.93 2120.84 Q1601.75 2120.84 1599.43 2120.4 Q1597.14 2119.98 1594.69 2119.13 L1594.69 2114.61 Q1596.63 2115.75 1598.95 2116.33 Q1601.26 2116.9 1603.79 2116.9 Q1608.18 2116.9 1610.48 2115.17 Q1612.79 2113.43 1612.79 2110.12 Q1612.79 2107.07 1610.64 2105.35 Q1608.51 2103.62 1604.69 2103.62 L1600.66 2103.62 L1600.66 2099.77 L1604.87 2099.77 Q1608.32 2099.77 1610.15 2098.41 Q1611.98 2097.02 1611.98 2094.43 Q1611.98 2091.77 1610.08 2090.35 Q1608.21 2088.92 1604.69 2088.92 Q1602.77 2088.92 1600.57 2089.33 Q1598.37 2089.75 1595.73 2090.63 L1595.73 2086.46 Q1598.39 2085.72 1600.71 2085.35 Q1603.05 2084.98 1605.11 2084.98 Q1610.43 2084.98 1613.53 2087.41 Q1616.63 2089.82 1616.63 2093.94 Q1616.63 2096.81 1614.99 2098.8 Q1613.35 2100.77 1610.31 2101.53 Z\" fill=\"#000000\" fill-rule=\"evenodd\" fill-opacity=\"1\" /><path clip-path=\"url(#clip670)\" d=\"M1627.12 2116.23 L1634.76 2116.23 L1634.76 2089.87 L1626.45 2091.53 L1626.45 2087.27 L1634.71 2085.61 L1639.39 2085.61 L1639.39 2116.23 L1647.03 2116.23 L1647.03 2120.17 L1627.12 2120.17 L1627.12 2116.23 Z\" fill=\"#000000\" fill-rule=\"evenodd\" fill-opacity=\"1\" /><path clip-path=\"url(#clip670)\" d=\"M1712.99 2116.23 L1720.63 2116.23 L1720.63 2089.87 L1712.32 2091.53 L1712.32 2087.27 L1720.58 2085.61 L1725.26 2085.61 L1725.26 2116.23 L1732.9 2116.23 L1732.9 2120.17 L1712.99 2120.17 L1712.99 2116.23 Z\" fill=\"#000000\" fill-rule=\"evenodd\" fill-opacity=\"1\" /><path clip-path=\"url(#clip670)\" d=\"M1752.34 2103.76 Q1749.01 2103.76 1747.09 2105.54 Q1745.19 2107.32 1745.19 2110.45 Q1745.19 2113.57 1747.09 2115.35 Q1749.01 2117.14 1752.34 2117.14 Q1755.68 2117.14 1757.6 2115.35 Q1759.52 2113.55 1759.52 2110.45 Q1759.52 2107.32 1757.6 2105.54 Q1755.7 2103.76 1752.34 2103.76 M1747.67 2101.77 Q1744.66 2101.02 1742.97 2098.96 Q1741.3 2096.9 1741.3 2093.94 Q1741.3 2089.8 1744.24 2087.39 Q1747.2 2084.98 1752.34 2084.98 Q1757.51 2084.98 1760.45 2087.39 Q1763.39 2089.8 1763.39 2093.94 Q1763.39 2096.9 1761.7 2098.96 Q1760.03 2101.02 1757.04 2101.77 Q1760.42 2102.55 1762.3 2104.84 Q1764.2 2107.14 1764.2 2110.45 Q1764.2 2115.47 1761.12 2118.15 Q1758.06 2120.84 1752.34 2120.84 Q1746.63 2120.84 1743.55 2118.15 Q1740.49 2115.47 1740.49 2110.45 Q1740.49 2107.14 1742.39 2104.84 Q1744.29 2102.55 1747.67 2101.77 M1745.95 2094.38 Q1745.95 2097.07 1747.62 2098.57 Q1749.31 2100.08 1752.34 2100.08 Q1755.35 2100.08 1757.04 2098.57 Q1758.76 2097.07 1758.76 2094.38 Q1758.76 2091.7 1757.04 2090.19 Q1755.35 2088.69 1752.34 2088.69 Q1749.31 2088.69 1747.62 2090.19 Q1745.95 2091.7 1745.95 2094.38 Z\" fill=\"#000000\" fill-rule=\"evenodd\" fill-opacity=\"1\" /><path clip-path=\"url(#clip670)\" d=\"M1835.23 2116.23 L1851.55 2116.23 L1851.55 2120.17 L1829.6 2120.17 L1829.6 2116.23 Q1832.27 2113.48 1836.85 2108.85 Q1841.46 2104.2 1842.64 2102.85 Q1844.88 2100.33 1845.76 2098.59 Q1846.66 2096.83 1846.66 2095.14 Q1846.66 2092.39 1844.72 2090.65 Q1842.8 2088.92 1839.7 2088.92 Q1837.5 2088.92 1835.04 2089.68 Q1832.61 2090.45 1829.84 2092 L1829.84 2087.27 Q1832.66 2086.14 1835.11 2085.56 Q1837.57 2084.98 1839.6 2084.98 Q1844.97 2084.98 1848.17 2087.67 Q1851.36 2090.35 1851.36 2094.84 Q1851.36 2096.97 1850.55 2098.89 Q1849.77 2100.79 1847.66 2103.39 Q1847.08 2104.06 1843.98 2107.27 Q1840.88 2110.47 1835.23 2116.23 Z\" fill=\"#000000\" fill-rule=\"evenodd\" fill-opacity=\"1\" /><path clip-path=\"url(#clip670)\" d=\"M1865.39 2116.23 L1881.71 2116.23 L1881.71 2120.17 L1859.77 2120.17 L1859.77 2116.23 Q1862.43 2113.48 1867.01 2108.85 Q1871.62 2104.2 1872.8 2102.85 Q1875.04 2100.33 1875.92 2098.59 Q1876.83 2096.83 1876.83 2095.14 Q1876.83 2092.39 1874.88 2090.65 Q1872.96 2088.92 1869.86 2088.92 Q1867.66 2088.92 1865.21 2089.68 Q1862.78 2090.45 1860 2092 L1860 2087.27 Q1862.82 2086.14 1865.28 2085.56 Q1867.73 2084.98 1869.77 2084.98 Q1875.14 2084.98 1878.33 2087.67 Q1881.53 2090.35 1881.53 2094.84 Q1881.53 2096.97 1880.72 2098.89 Q1879.93 2100.79 1877.82 2103.39 Q1877.24 2104.06 1874.14 2107.27 Q1871.04 2110.47 1865.39 2116.23 Z\" fill=\"#000000\" fill-rule=\"evenodd\" fill-opacity=\"1\" /><path clip-path=\"url(#clip670)\" d=\"M1947.75 2116.23 L1955.38 2116.23 L1955.38 2089.87 L1947.07 2091.53 L1947.07 2087.27 L1955.34 2085.61 L1960.01 2085.61 L1960.01 2116.23 L1967.65 2116.23 L1967.65 2120.17 L1947.75 2120.17 L1947.75 2116.23 Z\" fill=\"#000000\" fill-rule=\"evenodd\" fill-opacity=\"1\" /><path clip-path=\"url(#clip670)\" d=\"M1987.1 2088.69 Q1983.49 2088.69 1981.66 2092.25 Q1979.85 2095.79 1979.85 2102.92 Q1979.85 2110.03 1981.66 2113.59 Q1983.49 2117.14 1987.1 2117.14 Q1990.73 2117.14 1992.54 2113.59 Q1994.37 2110.03 1994.37 2102.92 Q1994.37 2095.79 1992.54 2092.25 Q1990.73 2088.69 1987.1 2088.69 M1987.1 2084.98 Q1992.91 2084.98 1995.96 2089.59 Q1999.04 2094.17 1999.04 2102.92 Q1999.04 2111.65 1995.96 2116.26 Q1992.91 2120.84 1987.1 2120.84 Q1981.29 2120.84 1978.21 2116.26 Q1975.15 2111.65 1975.15 2102.92 Q1975.15 2094.17 1978.21 2089.59 Q1981.29 2084.98 1987.1 2084.98 Z\" fill=\"#000000\" fill-rule=\"evenodd\" fill-opacity=\"1\" /><path clip-path=\"url(#clip670)\" d=\"M2065.47 2116.23 L2073.11 2116.23 L2073.11 2089.87 L2064.8 2091.53 L2064.8 2087.27 L2073.06 2085.61 L2077.74 2085.61 L2077.74 2116.23 L2085.38 2116.23 L2085.38 2120.17 L2065.47 2120.17 L2065.47 2116.23 Z\" fill=\"#000000\" fill-rule=\"evenodd\" fill-opacity=\"1\" /><path clip-path=\"url(#clip670)\" d=\"M2108.99 2101.53 Q2112.34 2102.25 2114.22 2104.52 Q2116.12 2106.79 2116.12 2110.12 Q2116.12 2115.24 2112.6 2118.04 Q2109.08 2120.84 2102.6 2120.84 Q2100.42 2120.84 2098.11 2120.4 Q2095.82 2119.98 2093.36 2119.13 L2093.36 2114.61 Q2095.31 2115.75 2097.62 2116.33 Q2099.94 2116.9 2102.46 2116.9 Q2106.86 2116.9 2109.15 2115.17 Q2111.46 2113.43 2111.46 2110.12 Q2111.46 2107.07 2109.31 2105.35 Q2107.18 2103.62 2103.36 2103.62 L2099.33 2103.62 L2099.33 2099.77 L2103.55 2099.77 Q2107 2099.77 2108.83 2098.41 Q2110.65 2097.02 2110.65 2094.43 Q2110.65 2091.77 2108.76 2090.35 Q2106.88 2088.92 2103.36 2088.92 Q2101.44 2088.92 2099.24 2089.33 Q2097.04 2089.75 2094.4 2090.63 L2094.4 2086.46 Q2097.07 2085.72 2099.38 2085.35 Q2101.72 2084.98 2103.78 2084.98 Q2109.1 2084.98 2112.21 2087.41 Q2115.31 2089.82 2115.31 2093.94 Q2115.31 2096.81 2113.66 2098.8 Q2112.02 2100.77 2108.99 2101.53 Z\" fill=\"#000000\" fill-rule=\"evenodd\" fill-opacity=\"1\" /><path clip-path=\"url(#clip670)\" d=\"M2187.13 2116.23 L2203.45 2116.23 L2203.45 2120.17 L2181.5 2120.17 L2181.5 2116.23 Q2184.17 2113.48 2188.75 2108.85 Q2193.36 2104.2 2194.54 2102.85 Q2196.78 2100.33 2197.66 2098.59 Q2198.56 2096.83 2198.56 2095.14 Q2198.56 2092.39 2196.62 2090.65 Q2194.7 2088.92 2191.6 2088.92 Q2189.4 2088.92 2186.94 2089.68 Q2184.51 2090.45 2181.73 2092 L2181.73 2087.27 Q2184.56 2086.14 2187.01 2085.56 Q2189.47 2084.98 2191.5 2084.98 Q2196.87 2084.98 2200.07 2087.67 Q2203.26 2090.35 2203.26 2094.84 Q2203.26 2096.97 2202.45 2098.89 Q2201.67 2100.79 2199.56 2103.39 Q2198.98 2104.06 2195.88 2107.27 Q2192.78 2110.47 2187.13 2116.23 Z\" fill=\"#000000\" fill-rule=\"evenodd\" fill-opacity=\"1\" /><path clip-path=\"url(#clip670)\" d=\"M2213.31 2085.61 L2231.67 2085.61 L2231.67 2089.54 L2217.59 2089.54 L2217.59 2098.02 Q2218.61 2097.67 2219.63 2097.51 Q2220.65 2097.32 2221.67 2097.32 Q2227.45 2097.32 2230.83 2100.49 Q2234.21 2103.66 2234.21 2109.08 Q2234.21 2114.66 2230.74 2117.76 Q2227.27 2120.84 2220.95 2120.84 Q2218.77 2120.84 2216.5 2120.47 Q2214.26 2120.1 2211.85 2119.36 L2211.85 2114.66 Q2213.93 2115.79 2216.16 2116.35 Q2218.38 2116.9 2220.86 2116.9 Q2224.86 2116.9 2227.2 2114.8 Q2229.54 2112.69 2229.54 2109.08 Q2229.54 2105.47 2227.2 2103.36 Q2224.86 2101.26 2220.86 2101.26 Q2218.98 2101.26 2217.11 2101.67 Q2215.25 2102.09 2213.31 2102.97 L2213.31 2085.61 Z\" fill=\"#000000\" fill-rule=\"evenodd\" fill-opacity=\"1\" /><path clip-path=\"url(#clip670)\" d=\"M2300.04 2116.23 L2307.68 2116.23 L2307.68 2089.87 L2299.37 2091.53 L2299.37 2087.27 L2307.63 2085.61 L2312.31 2085.61 L2312.31 2116.23 L2319.94 2116.23 L2319.94 2120.17 L2300.04 2120.17 L2300.04 2116.23 Z\" fill=\"#000000\" fill-rule=\"evenodd\" fill-opacity=\"1\" /><path clip-path=\"url(#clip670)\" d=\"M2329.53 2119.45 L2329.53 2115.19 Q2331.29 2116.02 2333.09 2116.46 Q2334.9 2116.9 2336.63 2116.9 Q2341.26 2116.9 2343.69 2113.8 Q2346.15 2110.68 2346.5 2104.33 Q2345.15 2106.33 2343.09 2107.39 Q2341.03 2108.45 2338.53 2108.45 Q2333.35 2108.45 2330.32 2105.33 Q2327.31 2102.18 2327.31 2096.74 Q2327.31 2091.42 2330.45 2088.2 Q2333.6 2084.98 2338.83 2084.98 Q2344.83 2084.98 2347.98 2089.59 Q2351.15 2094.17 2351.15 2102.92 Q2351.15 2111.09 2347.26 2115.98 Q2343.39 2120.84 2336.84 2120.84 Q2335.08 2120.84 2333.28 2120.49 Q2331.47 2120.14 2329.53 2119.45 M2338.83 2104.8 Q2341.98 2104.8 2343.81 2102.64 Q2345.66 2100.49 2345.66 2096.74 Q2345.66 2093.02 2343.81 2090.86 Q2341.98 2088.69 2338.83 2088.69 Q2335.69 2088.69 2333.83 2090.86 Q2332 2093.02 2332 2096.74 Q2332 2100.49 2333.83 2102.64 Q2335.69 2104.8 2338.83 2104.8 Z\" fill=\"#000000\" fill-rule=\"evenodd\" fill-opacity=\"1\" /><path clip-path=\"url(#clip670)\" d=\"M2422.04 2116.23 L2438.36 2116.23 L2438.36 2120.17 L2416.42 2120.17 L2416.42 2116.23 Q2419.08 2113.48 2423.66 2108.85 Q2428.27 2104.2 2429.45 2102.85 Q2431.7 2100.33 2432.58 2098.59 Q2433.48 2096.83 2433.48 2095.14 Q2433.48 2092.39 2431.53 2090.65 Q2429.61 2088.92 2426.51 2088.92 Q2424.31 2088.92 2421.86 2089.68 Q2419.43 2090.45 2416.65 2092 L2416.65 2087.27 Q2419.47 2086.14 2421.93 2085.56 Q2424.38 2084.98 2426.42 2084.98 Q2431.79 2084.98 2434.98 2087.67 Q2438.18 2090.35 2438.18 2094.84 Q2438.18 2096.97 2437.37 2098.89 Q2436.58 2100.79 2434.47 2103.39 Q2433.9 2104.06 2430.79 2107.27 Q2427.69 2110.47 2422.04 2116.23 Z\" fill=\"#000000\" fill-rule=\"evenodd\" fill-opacity=\"1\" /><path clip-path=\"url(#clip670)\" d=\"M2448.99 2116.23 L2456.63 2116.23 L2456.63 2089.87 L2448.32 2091.53 L2448.32 2087.27 L2456.58 2085.61 L2461.26 2085.61 L2461.26 2116.23 L2468.9 2116.23 L2468.9 2120.17 L2448.99 2120.17 L2448.99 2116.23 Z\" fill=\"#000000\" fill-rule=\"evenodd\" fill-opacity=\"1\" /><path clip-path=\"url(#clip670)\" d=\"M2560.46 2101.02 Q2557.31 2101.02 2555.46 2103.18 Q2553.63 2105.33 2553.63 2109.08 Q2553.63 2112.81 2555.46 2114.98 Q2557.31 2117.14 2560.46 2117.14 Q2563.61 2117.14 2565.44 2114.98 Q2567.29 2112.81 2567.29 2109.08 Q2567.29 2105.33 2565.44 2103.18 Q2563.61 2101.02 2560.46 2101.02 M2569.74 2086.37 L2569.74 2090.63 Q2567.99 2089.8 2566.18 2089.36 Q2564.4 2088.92 2562.64 2088.92 Q2558.01 2088.92 2555.55 2092.04 Q2553.12 2095.17 2552.78 2101.49 Q2554.14 2099.47 2556.2 2098.41 Q2558.26 2097.32 2560.74 2097.32 Q2565.95 2097.32 2568.96 2100.49 Q2571.99 2103.64 2571.99 2109.08 Q2571.99 2114.4 2568.84 2117.62 Q2565.69 2120.84 2560.46 2120.84 Q2554.47 2120.84 2551.3 2116.26 Q2548.12 2111.65 2548.12 2102.92 Q2548.12 2094.73 2552.01 2089.87 Q2555.9 2084.98 2562.45 2084.98 Q2564.21 2084.98 2565.99 2085.33 Q2567.8 2085.68 2569.74 2086.37 Z\" fill=\"#000000\" fill-rule=\"evenodd\" fill-opacity=\"1\" /><path clip-path=\"url(#clip670)\" d=\"M2656.28 2116.23 L2672.6 2116.23 L2672.6 2120.17 L2650.65 2120.17 L2650.65 2116.23 Q2653.31 2113.48 2657.9 2108.85 Q2662.5 2104.2 2663.68 2102.85 Q2665.93 2100.33 2666.81 2098.59 Q2667.71 2096.83 2667.71 2095.14 Q2667.71 2092.39 2665.77 2090.65 Q2663.85 2088.92 2660.74 2088.92 Q2658.55 2088.92 2656.09 2089.68 Q2653.66 2090.45 2650.88 2092 L2650.88 2087.27 Q2653.71 2086.14 2656.16 2085.56 Q2658.61 2084.98 2660.65 2084.98 Q2666.02 2084.98 2669.22 2087.67 Q2672.41 2090.35 2672.41 2094.84 Q2672.41 2096.97 2671.6 2098.89 Q2670.81 2100.79 2668.71 2103.39 Q2668.13 2104.06 2665.03 2107.27 Q2661.92 2110.47 2656.28 2116.23 Z\" fill=\"#000000\" fill-rule=\"evenodd\" fill-opacity=\"1\" /><path clip-path=\"url(#clip670)\" d=\"M2692.41 2103.76 Q2689.08 2103.76 2687.16 2105.54 Q2685.26 2107.32 2685.26 2110.45 Q2685.26 2113.57 2687.16 2115.35 Q2689.08 2117.14 2692.41 2117.14 Q2695.74 2117.14 2697.67 2115.35 Q2699.59 2113.55 2699.59 2110.45 Q2699.59 2107.32 2697.67 2105.54 Q2695.77 2103.76 2692.41 2103.76 M2687.73 2101.77 Q2684.73 2101.02 2683.04 2098.96 Q2681.37 2096.9 2681.37 2093.94 Q2681.37 2089.8 2684.31 2087.39 Q2687.27 2084.98 2692.41 2084.98 Q2697.57 2084.98 2700.51 2087.39 Q2703.45 2089.8 2703.45 2093.94 Q2703.45 2096.9 2701.76 2098.96 Q2700.1 2101.02 2697.11 2101.77 Q2700.49 2102.55 2702.36 2104.84 Q2704.26 2107.14 2704.26 2110.45 Q2704.26 2115.47 2701.18 2118.15 Q2698.13 2120.84 2692.41 2120.84 Q2686.69 2120.84 2683.61 2118.15 Q2680.56 2115.47 2680.56 2110.45 Q2680.56 2107.14 2682.46 2104.84 Q2684.36 2102.55 2687.73 2101.77 M2686.02 2094.38 Q2686.02 2097.07 2687.69 2098.57 Q2689.38 2100.08 2692.41 2100.08 Q2695.42 2100.08 2697.11 2098.57 Q2698.82 2097.07 2698.82 2094.38 Q2698.82 2091.7 2697.11 2090.19 Q2695.42 2088.69 2692.41 2088.69 Q2689.38 2088.69 2687.69 2090.19 Q2686.02 2091.7 2686.02 2094.38 Z\" fill=\"#000000\" fill-rule=\"evenodd\" fill-opacity=\"1\" /><path clip-path=\"url(#clip670)\" d=\"M2770.34 2116.23 L2777.98 2116.23 L2777.98 2089.87 L2769.67 2091.53 L2769.67 2087.27 L2777.94 2085.61 L2782.61 2085.61 L2782.61 2116.23 L2790.25 2116.23 L2790.25 2120.17 L2770.34 2120.17 L2770.34 2116.23 Z\" fill=\"#000000\" fill-rule=\"evenodd\" fill-opacity=\"1\" /><path clip-path=\"url(#clip670)\" d=\"M2803.72 2116.23 L2820.04 2116.23 L2820.04 2120.17 L2798.1 2120.17 L2798.1 2116.23 Q2800.76 2113.48 2805.34 2108.85 Q2809.95 2104.2 2811.13 2102.85 Q2813.38 2100.33 2814.25 2098.59 Q2815.16 2096.83 2815.16 2095.14 Q2815.16 2092.39 2813.21 2090.65 Q2811.29 2088.92 2808.19 2088.92 Q2805.99 2088.92 2803.54 2089.68 Q2801.11 2090.45 2798.33 2092 L2798.33 2087.27 Q2801.15 2086.14 2803.61 2085.56 Q2806.06 2084.98 2808.1 2084.98 Q2813.47 2084.98 2816.66 2087.67 Q2819.86 2090.35 2819.86 2094.84 Q2819.86 2096.97 2819.05 2098.89 Q2818.26 2100.79 2816.15 2103.39 Q2815.57 2104.06 2812.47 2107.27 Q2809.37 2110.47 2803.72 2116.23 Z\" fill=\"#000000\" fill-rule=\"evenodd\" fill-opacity=\"1\" /><path clip-path=\"url(#clip670)\" d=\"M2906.91 2116.23 L2923.23 2116.23 L2923.23 2120.17 L2901.28 2120.17 L2901.28 2116.23 Q2903.95 2113.48 2908.53 2108.85 Q2913.14 2104.2 2914.32 2102.85 Q2916.56 2100.33 2917.44 2098.59 Q2918.34 2096.83 2918.34 2095.14 Q2918.34 2092.39 2916.4 2090.65 Q2914.48 2088.92 2911.38 2088.92 Q2909.18 2088.92 2906.72 2089.68 Q2904.29 2090.45 2901.52 2092 L2901.52 2087.27 Q2904.34 2086.14 2906.79 2085.56 Q2909.25 2084.98 2911.28 2084.98 Q2916.65 2084.98 2919.85 2087.67 Q2923.04 2090.35 2923.04 2094.84 Q2923.04 2096.97 2922.23 2098.89 Q2921.45 2100.79 2919.34 2103.39 Q2918.76 2104.06 2915.66 2107.27 Q2912.56 2110.47 2906.91 2116.23 Z\" fill=\"#000000\" fill-rule=\"evenodd\" fill-opacity=\"1\" /><path clip-path=\"url(#clip670)\" d=\"M3019.96 2119.45 L3019.96 2115.19 Q3021.72 2116.02 3023.52 2116.46 Q3025.33 2116.9 3027.06 2116.9 Q3031.69 2116.9 3034.12 2113.8 Q3036.58 2110.68 3036.93 2104.33 Q3035.58 2106.33 3033.52 2107.39 Q3031.46 2108.45 3028.96 2108.45 Q3023.78 2108.45 3020.74 2105.33 Q3017.74 2102.18 3017.74 2096.74 Q3017.74 2091.42 3020.88 2088.2 Q3024.03 2084.98 3029.26 2084.98 Q3035.26 2084.98 3038.41 2089.59 Q3041.58 2094.17 3041.58 2102.92 Q3041.58 2111.09 3037.69 2115.98 Q3033.82 2120.84 3027.27 2120.84 Q3025.51 2120.84 3023.71 2120.49 Q3021.9 2120.14 3019.96 2119.45 M3029.26 2104.8 Q3032.41 2104.8 3034.24 2102.64 Q3036.09 2100.49 3036.09 2096.74 Q3036.09 2093.02 3034.24 2090.86 Q3032.41 2088.69 3029.26 2088.69 Q3026.11 2088.69 3024.26 2090.86 Q3022.43 2093.02 3022.43 2096.74 Q3022.43 2100.49 3024.26 2102.64 Q3026.11 2104.8 3029.26 2104.8 Z\" fill=\"#000000\" fill-rule=\"evenodd\" fill-opacity=\"1\" /><path clip-path=\"url(#clip670)\" d=\"M3125.75 2116.23 L3142.07 2116.23 L3142.07 2120.17 L3120.12 2120.17 L3120.12 2116.23 Q3122.79 2113.48 3127.37 2108.85 Q3131.98 2104.2 3133.16 2102.85 Q3135.4 2100.33 3136.28 2098.59 Q3137.18 2096.83 3137.18 2095.14 Q3137.18 2092.39 3135.24 2090.65 Q3133.32 2088.92 3130.22 2088.92 Q3128.02 2088.92 3125.56 2089.68 Q3123.13 2090.45 3120.36 2092 L3120.36 2087.27 Q3123.18 2086.14 3125.63 2085.56 Q3128.09 2084.98 3130.12 2084.98 Q3135.49 2084.98 3138.69 2087.67 Q3141.88 2090.35 3141.88 2094.84 Q3141.88 2096.97 3141.07 2098.89 Q3140.29 2100.79 3138.18 2103.39 Q3137.6 2104.06 3134.5 2107.27 Q3131.4 2110.47 3125.75 2116.23 Z\" fill=\"#000000\" fill-rule=\"evenodd\" fill-opacity=\"1\" /><path clip-path=\"url(#clip670)\" d=\"M3162.46 2101.02 Q3159.31 2101.02 3157.46 2103.18 Q3155.63 2105.33 3155.63 2109.08 Q3155.63 2112.81 3157.46 2114.98 Q3159.31 2117.14 3162.46 2117.14 Q3165.61 2117.14 3167.44 2114.98 Q3169.29 2112.81 3169.29 2109.08 Q3169.29 2105.33 3167.44 2103.18 Q3165.61 2101.02 3162.46 2101.02 M3171.74 2086.37 L3171.74 2090.63 Q3169.98 2089.8 3168.18 2089.36 Q3166.4 2088.92 3164.64 2088.92 Q3160.01 2088.92 3157.55 2092.04 Q3155.12 2095.17 3154.78 2101.49 Q3156.14 2099.47 3158.2 2098.41 Q3160.26 2097.32 3162.74 2097.32 Q3167.95 2097.32 3170.96 2100.49 Q3173.99 2103.64 3173.99 2109.08 Q3173.99 2114.4 3170.84 2117.62 Q3167.69 2120.84 3162.46 2120.84 Q3156.47 2120.84 3153.29 2116.26 Q3150.12 2111.65 3150.12 2102.92 Q3150.12 2094.73 3154.01 2089.87 Q3157.9 2084.98 3164.45 2084.98 Q3166.21 2084.98 3167.99 2085.33 Q3169.8 2085.68 3171.74 2086.37 Z\" fill=\"#000000\" fill-rule=\"evenodd\" fill-opacity=\"1\" /><path clip-path=\"url(#clip670)\" d=\"M3253.35 2085.61 L3275.57 2085.61 L3275.57 2087.6 L3263.02 2120.17 L3258.14 2120.17 L3269.94 2089.54 L3253.35 2089.54 L3253.35 2085.61 Z\" fill=\"#000000\" fill-rule=\"evenodd\" fill-opacity=\"1\" /><path clip-path=\"url(#clip670)\" d=\"M3381.86 2103.76 Q3378.52 2103.76 3376.6 2105.54 Q3374.7 2107.32 3374.7 2110.45 Q3374.7 2113.57 3376.6 2115.35 Q3378.52 2117.14 3381.86 2117.14 Q3385.19 2117.14 3387.11 2115.35 Q3389.03 2113.55 3389.03 2110.45 Q3389.03 2107.32 3387.11 2105.54 Q3385.21 2103.76 3381.86 2103.76 M3377.18 2101.77 Q3374.17 2101.02 3372.48 2098.96 Q3370.81 2096.9 3370.81 2093.94 Q3370.81 2089.8 3373.75 2087.39 Q3376.72 2084.98 3381.86 2084.98 Q3387.02 2084.98 3389.96 2087.39 Q3392.9 2089.8 3392.9 2093.94 Q3392.9 2096.9 3391.21 2098.96 Q3389.54 2101.02 3386.56 2101.77 Q3389.93 2102.55 3391.81 2104.84 Q3393.71 2107.14 3393.71 2110.45 Q3393.71 2115.47 3390.63 2118.15 Q3387.57 2120.84 3381.86 2120.84 Q3376.14 2120.84 3373.06 2118.15 Q3370 2115.47 3370 2110.45 Q3370 2107.14 3371.9 2104.84 Q3373.8 2102.55 3377.18 2101.77 M3375.47 2094.38 Q3375.47 2097.07 3377.13 2098.57 Q3378.82 2100.08 3381.86 2100.08 Q3384.87 2100.08 3386.56 2098.57 Q3388.27 2097.07 3388.27 2094.38 Q3388.27 2091.7 3386.56 2090.19 Q3384.87 2088.69 3381.86 2088.69 Q3378.82 2088.69 3377.13 2090.19 Q3375.47 2091.7 3375.47 2094.38 Z\" fill=\"#000000\" fill-rule=\"evenodd\" fill-opacity=\"1\" /><path clip-path=\"url(#clip670)\" d=\"M3477.79 2116.23 L3494.11 2116.23 L3494.11 2120.17 L3472.16 2120.17 L3472.16 2116.23 Q3474.82 2113.48 3479.41 2108.85 Q3484.01 2104.2 3485.19 2102.85 Q3487.44 2100.33 3488.32 2098.59 Q3489.22 2096.83 3489.22 2095.14 Q3489.22 2092.39 3487.28 2090.65 Q3485.36 2088.92 3482.25 2088.92 Q3480.05 2088.92 3477.6 2089.68 Q3475.17 2090.45 3472.39 2092 L3472.39 2087.27 Q3475.22 2086.14 3477.67 2085.56 Q3480.12 2084.98 3482.16 2084.98 Q3487.53 2084.98 3490.73 2087.67 Q3493.92 2090.35 3493.92 2094.84 Q3493.92 2096.97 3493.11 2098.89 Q3492.32 2100.79 3490.22 2103.39 Q3489.64 2104.06 3486.54 2107.27 Q3483.43 2110.47 3477.79 2116.23 Z\" fill=\"#000000\" fill-rule=\"evenodd\" fill-opacity=\"1\" /><path clip-path=\"url(#clip670)\" d=\"M3516.77 2089.68 L3504.96 2108.13 L3516.77 2108.13 L3516.77 2089.68 M3515.54 2085.61 L3521.42 2085.61 L3521.42 2108.13 L3526.35 2108.13 L3526.35 2112.02 L3521.42 2112.02 L3521.42 2120.17 L3516.77 2120.17 L3516.77 2112.02 L3501.17 2112.02 L3501.17 2107.51 L3515.54 2085.61 Z\" fill=\"#000000\" fill-rule=\"evenodd\" fill-opacity=\"1\" /><path clip-path=\"url(#clip670)\" d=\"M3620.9 2101.53 Q3624.26 2102.25 3626.14 2104.52 Q3628.03 2106.79 3628.03 2110.12 Q3628.03 2115.24 3624.51 2118.04 Q3621 2120.84 3614.51 2120.84 Q3612.34 2120.84 3610.02 2120.4 Q3607.73 2119.98 3605.28 2119.13 L3605.28 2114.61 Q3607.22 2115.75 3609.54 2116.33 Q3611.85 2116.9 3614.38 2116.9 Q3618.77 2116.9 3621.07 2115.17 Q3623.38 2113.43 3623.38 2110.12 Q3623.38 2107.07 3621.23 2105.35 Q3619.1 2103.62 3615.28 2103.62 L3611.25 2103.62 L3611.25 2099.77 L3615.46 2099.77 Q3618.91 2099.77 3620.74 2098.41 Q3622.57 2097.02 3622.57 2094.43 Q3622.57 2091.77 3620.67 2090.35 Q3618.8 2088.92 3615.28 2088.92 Q3613.36 2088.92 3611.16 2089.33 Q3608.96 2089.75 3606.32 2090.63 L3606.32 2086.46 Q3608.98 2085.72 3611.3 2085.35 Q3613.64 2084.98 3615.7 2084.98 Q3621.02 2084.98 3624.12 2087.41 Q3627.22 2089.82 3627.22 2093.94 Q3627.22 2096.81 3625.58 2098.8 Q3623.94 2100.77 3620.9 2101.53 Z\" fill=\"#000000\" fill-rule=\"evenodd\" fill-opacity=\"1\" /><path clip-path=\"url(#clip670)\" d=\"M3708.66 2116.23 L3716.3 2116.23 L3716.3 2089.87 L3707.99 2091.53 L3707.99 2087.27 L3716.26 2085.61 L3720.93 2085.61 L3720.93 2116.23 L3728.57 2116.23 L3728.57 2120.17 L3708.66 2120.17 L3708.66 2116.23 Z\" fill=\"#000000\" fill-rule=\"evenodd\" fill-opacity=\"1\" /><path clip-path=\"url(#clip670)\" d=\"M3748.59 2101.02 Q3745.44 2101.02 3743.59 2103.18 Q3741.76 2105.33 3741.76 2109.08 Q3741.76 2112.81 3743.59 2114.98 Q3745.44 2117.14 3748.59 2117.14 Q3751.74 2117.14 3753.57 2114.98 Q3755.42 2112.81 3755.42 2109.08 Q3755.42 2105.33 3753.57 2103.18 Q3751.74 2101.02 3748.59 2101.02 M3757.88 2086.37 L3757.88 2090.63 Q3756.12 2089.8 3754.31 2089.36 Q3752.53 2088.92 3750.77 2088.92 Q3746.14 2088.92 3743.69 2092.04 Q3741.25 2095.17 3740.91 2101.49 Q3742.27 2099.47 3744.33 2098.41 Q3746.39 2097.32 3748.87 2097.32 Q3754.08 2097.32 3757.09 2100.49 Q3760.12 2103.64 3760.12 2109.08 Q3760.12 2114.4 3756.97 2117.62 Q3753.82 2120.84 3748.59 2120.84 Q3742.6 2120.84 3739.43 2116.26 Q3736.26 2111.65 3736.26 2102.92 Q3736.26 2094.73 3740.14 2089.87 Q3744.03 2084.98 3750.58 2084.98 Q3752.34 2084.98 3754.13 2085.33 Q3755.93 2085.68 3757.88 2086.37 Z\" fill=\"#000000\" fill-rule=\"evenodd\" fill-opacity=\"1\" /><polyline clip-path=\"url(#clip672)\" style=\"stroke:#000000; stroke-linecap:butt; stroke-linejoin:round; stroke-width:2; stroke-opacity:0.1; fill:none\" points=\"\n",
       "  153.359,2046.25 3792.76,2046.25 \n",
       "  \"/>\n",
       "<polyline clip-path=\"url(#clip672)\" style=\"stroke:#000000; stroke-linecap:butt; stroke-linejoin:round; stroke-width:2; stroke-opacity:0.1; fill:none\" points=\"\n",
       "  153.359,1402.56 3792.76,1402.56 \n",
       "  \"/>\n",
       "<polyline clip-path=\"url(#clip672)\" style=\"stroke:#000000; stroke-linecap:butt; stroke-linejoin:round; stroke-width:2; stroke-opacity:0.1; fill:none\" points=\"\n",
       "  153.359,758.869 3792.76,758.869 \n",
       "  \"/>\n",
       "<polyline clip-path=\"url(#clip672)\" style=\"stroke:#000000; stroke-linecap:butt; stroke-linejoin:round; stroke-width:2; stroke-opacity:0.1; fill:none\" points=\"\n",
       "  153.359,115.179 3792.76,115.179 \n",
       "  \"/>\n",
       "<polyline clip-path=\"url(#clip670)\" style=\"stroke:#000000; stroke-linecap:butt; stroke-linejoin:round; stroke-width:4; stroke-opacity:1; fill:none\" points=\"\n",
       "  153.359,2046.25 153.359,47.2441 \n",
       "  \"/>\n",
       "<polyline clip-path=\"url(#clip670)\" style=\"stroke:#000000; stroke-linecap:butt; stroke-linejoin:round; stroke-width:4; stroke-opacity:1; fill:none\" points=\"\n",
       "  153.359,2046.25 172.257,2046.25 \n",
       "  \"/>\n",
       "<polyline clip-path=\"url(#clip670)\" style=\"stroke:#000000; stroke-linecap:butt; stroke-linejoin:round; stroke-width:4; stroke-opacity:1; fill:none\" points=\"\n",
       "  153.359,1402.56 172.257,1402.56 \n",
       "  \"/>\n",
       "<polyline clip-path=\"url(#clip670)\" style=\"stroke:#000000; stroke-linecap:butt; stroke-linejoin:round; stroke-width:4; stroke-opacity:1; fill:none\" points=\"\n",
       "  153.359,758.869 172.257,758.869 \n",
       "  \"/>\n",
       "<polyline clip-path=\"url(#clip670)\" style=\"stroke:#000000; stroke-linecap:butt; stroke-linejoin:round; stroke-width:4; stroke-opacity:1; fill:none\" points=\"\n",
       "  153.359,115.179 172.257,115.179 \n",
       "  \"/>\n",
       "<path clip-path=\"url(#clip670)\" d=\"M83.8151 2032.05 Q80.204 2032.05 78.3753 2035.61 Q76.5697 2039.15 76.5697 2046.28 Q76.5697 2053.39 78.3753 2056.95 Q80.204 2060.5 83.8151 2060.5 Q87.4493 2060.5 89.2548 2056.95 Q91.0835 2053.39 91.0835 2046.28 Q91.0835 2039.15 89.2548 2035.61 Q87.4493 2032.05 83.8151 2032.05 M83.8151 2028.34 Q89.6252 2028.34 92.6808 2032.95 Q95.7594 2037.53 95.7594 2046.28 Q95.7594 2055.01 92.6808 2059.62 Q89.6252 2064.2 83.8151 2064.2 Q78.0049 2064.2 74.9262 2059.62 Q71.8707 2055.01 71.8707 2046.28 Q71.8707 2037.53 74.9262 2032.95 Q78.0049 2028.34 83.8151 2028.34 Z\" fill=\"#000000\" fill-rule=\"evenodd\" fill-opacity=\"1\" /><path clip-path=\"url(#clip670)\" d=\"M74.8568 1385.28 L93.2132 1385.28 L93.2132 1389.21 L79.1392 1389.21 L79.1392 1397.69 Q80.1577 1397.34 81.1762 1397.18 Q82.1947 1396.99 83.2132 1396.99 Q89.0002 1396.99 92.3798 1400.16 Q95.7594 1403.33 95.7594 1408.75 Q95.7594 1414.33 92.2872 1417.43 Q88.815 1420.51 82.4956 1420.51 Q80.3197 1420.51 78.0512 1420.14 Q75.8058 1419.77 73.3984 1419.03 L73.3984 1414.33 Q75.4818 1415.46 77.704 1416.02 Q79.9262 1416.57 82.403 1416.57 Q86.4076 1416.57 88.7456 1414.47 Q91.0835 1412.36 91.0835 1408.75 Q91.0835 1405.14 88.7456 1403.03 Q86.4076 1400.93 82.403 1400.93 Q80.528 1400.93 78.6531 1401.34 Q76.8012 1401.76 74.8568 1402.64 L74.8568 1385.28 Z\" fill=\"#000000\" fill-rule=\"evenodd\" fill-opacity=\"1\" /><path clip-path=\"url(#clip670)\" d=\"M44.4634 772.214 L52.1023 772.214 L52.1023 745.848 L43.7921 747.515 L43.7921 743.255 L52.056 741.589 L56.7319 741.589 L56.7319 772.214 L64.3707 772.214 L64.3707 776.149 L44.4634 776.149 L44.4634 772.214 Z\" fill=\"#000000\" fill-rule=\"evenodd\" fill-opacity=\"1\" /><path clip-path=\"url(#clip670)\" d=\"M83.8151 744.668 Q80.204 744.668 78.3753 748.232 Q76.5697 751.774 76.5697 758.904 Q76.5697 766.01 78.3753 769.575 Q80.204 773.116 83.8151 773.116 Q87.4493 773.116 89.2548 769.575 Q91.0835 766.01 91.0835 758.904 Q91.0835 751.774 89.2548 748.232 Q87.4493 744.668 83.8151 744.668 M83.8151 740.964 Q89.6252 740.964 92.6808 745.57 Q95.7594 750.154 95.7594 758.904 Q95.7594 767.63 92.6808 772.237 Q89.6252 776.82 83.8151 776.82 Q78.0049 776.82 74.9262 772.237 Q71.8707 767.63 71.8707 758.904 Q71.8707 750.154 74.9262 745.57 Q78.0049 740.964 83.8151 740.964 Z\" fill=\"#000000\" fill-rule=\"evenodd\" fill-opacity=\"1\" /><path clip-path=\"url(#clip670)\" d=\"M45.4588 128.524 L53.0976 128.524 L53.0976 102.159 L44.7875 103.825 L44.7875 99.566 L53.0513 97.8993 L57.7272 97.8993 L57.7272 128.524 L65.3661 128.524 L65.3661 132.459 L45.4588 132.459 L45.4588 128.524 Z\" fill=\"#000000\" fill-rule=\"evenodd\" fill-opacity=\"1\" /><path clip-path=\"url(#clip670)\" d=\"M74.8568 97.8993 L93.2132 97.8993 L93.2132 101.834 L79.1392 101.834 L79.1392 110.307 Q80.1577 109.959 81.1762 109.797 Q82.1947 109.612 83.2132 109.612 Q89.0002 109.612 92.3798 112.783 Q95.7594 115.955 95.7594 121.371 Q95.7594 126.95 92.2872 130.052 Q88.815 133.131 82.4956 133.131 Q80.3197 133.131 78.0512 132.76 Q75.8058 132.39 73.3984 131.649 L73.3984 126.95 Q75.4818 128.084 77.704 128.64 Q79.9262 129.195 82.403 129.195 Q86.4076 129.195 88.7456 127.089 Q91.0835 124.982 91.0835 121.371 Q91.0835 117.76 88.7456 115.654 Q86.4076 113.547 82.403 113.547 Q80.528 113.547 78.6531 113.964 Q76.8012 114.381 74.8568 115.26 L74.8568 97.8993 Z\" fill=\"#000000\" fill-rule=\"evenodd\" fill-opacity=\"1\" /><polyline clip-path=\"url(#clip672)\" style=\"stroke:#000000; stroke-linecap:butt; stroke-linejoin:round; stroke-width:4; stroke-opacity:1; fill:none\" points=\"\n",
       "  446.859,2046.25 446.859,2042.21 564.259,2042.21 564.259,2046.25 \n",
       "  \"/>\n",
       "<polyline clip-path=\"url(#clip672)\" style=\"stroke:#000000; stroke-linecap:butt; stroke-linejoin:round; stroke-width:4; stroke-opacity:1; fill:none\" points=\"\n",
       "  681.659,2046.25 681.659,2038.18 799.059,2038.18 799.059,2046.25 \n",
       "  \"/>\n",
       "<polyline clip-path=\"url(#clip672)\" style=\"stroke:#000000; stroke-linecap:butt; stroke-linejoin:round; stroke-width:4; stroke-opacity:1; fill:none\" points=\"\n",
       "  2325.26,2046.25 2325.26,2035.78 2442.66,2035.78 2442.66,2046.25 \n",
       "  \"/>\n",
       "<polyline clip-path=\"url(#clip672)\" style=\"stroke:#000000; stroke-linecap:butt; stroke-linejoin:round; stroke-width:4; stroke-opacity:1; fill:none\" points=\"\n",
       "  505.559,2042.21 505.559,2034.24 740.359,2034.24 740.359,2038.18 \n",
       "  \"/>\n",
       "<polyline clip-path=\"url(#clip672)\" style=\"stroke:#000000; stroke-linecap:butt; stroke-linejoin:round; stroke-width:4; stroke-opacity:1; fill:none\" points=\"\n",
       "  329.459,2046.25 329.459,2020.92 622.959,2020.92 622.959,2034.24 \n",
       "  \"/>\n",
       "<polyline clip-path=\"url(#clip672)\" style=\"stroke:#000000; stroke-linecap:butt; stroke-linejoin:round; stroke-width:4; stroke-opacity:1; fill:none\" points=\"\n",
       "  1973.06,2046.25 1973.06,2005.25 2090.46,2005.25 2090.46,2046.25 \n",
       "  \"/>\n",
       "<polyline clip-path=\"url(#clip672)\" style=\"stroke:#000000; stroke-linecap:butt; stroke-linejoin:round; stroke-width:4; stroke-opacity:1; fill:none\" points=\"\n",
       "  1033.86,2046.25 1033.86,1995.64 1151.26,1995.64 1151.26,2046.25 \n",
       "  \"/>\n",
       "<polyline clip-path=\"url(#clip672)\" style=\"stroke:#000000; stroke-linecap:butt; stroke-linejoin:round; stroke-width:4; stroke-opacity:1; fill:none\" points=\"\n",
       "  916.459,2046.25 916.459,1992.69 1092.56,1992.69 1092.56,1995.64 \n",
       "  \"/>\n",
       "<polyline clip-path=\"url(#clip672)\" style=\"stroke:#000000; stroke-linecap:butt; stroke-linejoin:round; stroke-width:4; stroke-opacity:1; fill:none\" points=\"\n",
       "  1738.26,2046.25 1738.26,1938.3 1855.66,1938.3 1855.66,2046.25 \n",
       "  \"/>\n",
       "<polyline clip-path=\"url(#clip672)\" style=\"stroke:#000000; stroke-linecap:butt; stroke-linejoin:round; stroke-width:4; stroke-opacity:1; fill:none\" points=\"\n",
       "  476.209,2020.92 476.209,1908.43 1004.51,1908.43 1004.51,1992.69 \n",
       "  \"/>\n",
       "<polyline clip-path=\"url(#clip672)\" style=\"stroke:#000000; stroke-linecap:butt; stroke-linejoin:round; stroke-width:4; stroke-opacity:1; fill:none\" points=\"\n",
       "  3616.66,2046.25 3616.66,1890.13 3734.06,1890.13 3734.06,2046.25 \n",
       "  \"/>\n",
       "<polyline clip-path=\"url(#clip672)\" style=\"stroke:#000000; stroke-linecap:butt; stroke-linejoin:round; stroke-width:4; stroke-opacity:1; fill:none\" points=\"\n",
       "  3029.66,2046.25 3029.66,1885.11 3147.06,1885.11 3147.06,2046.25 \n",
       "  \"/>\n",
       "<polyline clip-path=\"url(#clip672)\" style=\"stroke:#000000; stroke-linecap:butt; stroke-linejoin:round; stroke-width:4; stroke-opacity:1; fill:none\" points=\"\n",
       "  1386.06,2046.25 1386.06,1881.7 1503.46,1881.7 1503.46,2046.25 \n",
       "  \"/>\n",
       "<polyline clip-path=\"url(#clip672)\" style=\"stroke:#000000; stroke-linecap:butt; stroke-linejoin:round; stroke-width:4; stroke-opacity:1; fill:none\" points=\"\n",
       "  1268.66,2046.25 1268.66,1839.04 1444.76,1839.04 1444.76,1881.7 \n",
       "  \"/>\n",
       "<polyline clip-path=\"url(#clip672)\" style=\"stroke:#000000; stroke-linecap:butt; stroke-linejoin:round; stroke-width:4; stroke-opacity:1; fill:none\" points=\"\n",
       "  2207.86,2046.25 2207.86,1810.25 2383.96,1810.25 2383.96,2035.78 \n",
       "  \"/>\n",
       "<polyline clip-path=\"url(#clip672)\" style=\"stroke:#000000; stroke-linecap:butt; stroke-linejoin:round; stroke-width:4; stroke-opacity:1; fill:none\" points=\"\n",
       "  2031.76,2005.25 2031.76,1773.45 2295.91,1773.45 2295.91,1810.25 \n",
       "  \"/>\n",
       "<polyline clip-path=\"url(#clip672)\" style=\"stroke:#000000; stroke-linecap:butt; stroke-linejoin:round; stroke-width:4; stroke-opacity:1; fill:none\" points=\"\n",
       "  740.359,1908.43 740.359,1756.45 1356.71,1756.45 1356.71,1839.04 \n",
       "  \"/>\n",
       "<polyline clip-path=\"url(#clip672)\" style=\"stroke:#000000; stroke-linecap:butt; stroke-linejoin:round; stroke-width:4; stroke-opacity:1; fill:none\" points=\"\n",
       "  212.059,2046.25 212.059,1748.25 1048.53,1748.25 1048.53,1756.45 \n",
       "  \"/>\n",
       "<polyline clip-path=\"url(#clip672)\" style=\"stroke:#000000; stroke-linecap:butt; stroke-linejoin:round; stroke-width:4; stroke-opacity:1; fill:none\" points=\"\n",
       "  3499.26,2046.25 3499.26,1729.89 3675.36,1729.89 3675.36,1890.13 \n",
       "  \"/>\n",
       "<polyline clip-path=\"url(#clip672)\" style=\"stroke:#000000; stroke-linecap:butt; stroke-linejoin:round; stroke-width:4; stroke-opacity:1; fill:none\" points=\"\n",
       "  1796.96,1938.3 1796.96,1708.76 2163.83,1708.76 2163.83,1773.45 \n",
       "  \"/>\n",
       "<polyline clip-path=\"url(#clip672)\" style=\"stroke:#000000; stroke-linecap:butt; stroke-linejoin:round; stroke-width:4; stroke-opacity:1; fill:none\" points=\"\n",
       "  2560.06,2046.25 2560.06,1622.97 2677.46,1622.97 2677.46,2046.25 \n",
       "  \"/>\n",
       "<polyline clip-path=\"url(#clip672)\" style=\"stroke:#000000; stroke-linecap:butt; stroke-linejoin:round; stroke-width:4; stroke-opacity:1; fill:none\" points=\"\n",
       "  2912.26,2046.25 2912.26,1549.53 3088.36,1549.53 3088.36,1885.11 \n",
       "  \"/>\n",
       "<polyline clip-path=\"url(#clip672)\" style=\"stroke:#000000; stroke-linecap:butt; stroke-linejoin:round; stroke-width:4; stroke-opacity:1; fill:none\" points=\"\n",
       "  2794.86,2046.25 2794.86,1518.33 3000.31,1518.33 3000.31,1549.53 \n",
       "  \"/>\n",
       "<polyline clip-path=\"url(#clip672)\" style=\"stroke:#000000; stroke-linecap:butt; stroke-linejoin:round; stroke-width:4; stroke-opacity:1; fill:none\" points=\"\n",
       "  3381.86,2046.25 3381.86,1217.43 3587.31,1217.43 3587.31,1729.89 \n",
       "  \"/>\n",
       "<polyline clip-path=\"url(#clip672)\" style=\"stroke:#000000; stroke-linecap:butt; stroke-linejoin:round; stroke-width:4; stroke-opacity:1; fill:none\" points=\"\n",
       "  3264.46,2046.25 3264.46,1205.01 3484.58,1205.01 3484.58,1217.43 \n",
       "  \"/>\n",
       "<polyline clip-path=\"url(#clip672)\" style=\"stroke:#000000; stroke-linecap:butt; stroke-linejoin:round; stroke-width:4; stroke-opacity:1; fill:none\" points=\"\n",
       "  2897.58,1518.33 2897.58,1200.89 3374.52,1200.89 3374.52,1205.01 \n",
       "  \"/>\n",
       "<polyline clip-path=\"url(#clip672)\" style=\"stroke:#000000; stroke-linecap:butt; stroke-linejoin:round; stroke-width:4; stroke-opacity:1; fill:none\" points=\"\n",
       "  2618.76,1622.97 2618.76,893.156 3136.05,893.156 3136.05,1200.89 \n",
       "  \"/>\n",
       "<polyline clip-path=\"url(#clip672)\" style=\"stroke:#000000; stroke-linecap:butt; stroke-linejoin:round; stroke-width:4; stroke-opacity:1; fill:none\" points=\"\n",
       "  1980.4,1708.76 1980.4,873.842 2877.4,873.842 2877.4,893.156 \n",
       "  \"/>\n",
       "<polyline clip-path=\"url(#clip672)\" style=\"stroke:#000000; stroke-linecap:butt; stroke-linejoin:round; stroke-width:4; stroke-opacity:1; fill:none\" points=\"\n",
       "  1620.86,2046.25 1620.86,483.435 2428.9,483.435 2428.9,873.842 \n",
       "  \"/>\n",
       "<polyline clip-path=\"url(#clip672)\" style=\"stroke:#000000; stroke-linecap:butt; stroke-linejoin:round; stroke-width:4; stroke-opacity:1; fill:none\" points=\"\n",
       "  630.296,1748.25 630.296,47.2441 2024.88,47.2441 2024.88,483.435 \n",
       "  \"/>\n",
       "</svg>\n"
      ]
     },
     "metadata": {},
     "output_type": "display_data"
    }
   ],
   "source": [
    "hc10 = hierarchical_clustering(reconstructed, 30, pos, labels)\n",
    "plot(hc10, size = (1920/2, 1080/2))"
   ]
  },
  {
   "cell_type": "code",
   "execution_count": 32,
   "metadata": {},
   "outputs": [],
   "source": [
    "plots_db = []\n",
    "ref = Plots.plot(data[\"target.cif\"], label = \"referencia\")\n",
    "ylabel!(L\"\\textrm{Transmitancia}\")\n",
    "xlabel!(L\"\\textrm{Nro de onda} (cm^-1)\")\n",
    "for label in labels[idx10masparecidos]\n",
    "    x,y = data[label]\n",
    "    pi = plot(ref)\n",
    "    title!(label)\n",
    "    push!(plots_db,plot!(pi,x,y./100, legend = false))\n",
    "end\n",
    "plot(plots_db..., size = (8000,3000))\n",
    "savefig(\"to2.png\")"
   ]
  },
  {
   "cell_type": "code",
   "execution_count": 33,
   "metadata": {},
   "outputs": [
    {
     "data": {
      "text/plain": [
       "10-element Vector{String}:\n",
       " \"REXFIL_freeONLY\"\n",
       " \"ja408959g_si_002_freeONLY\"\n",
       " \"XUYDIF_freeONLY\"\n",
       " \"MULXUO_freeONLY\"\n",
       " \"BALPAH_freeONLY\"\n",
       " \"AXOHIE_freeONLY\"\n",
       " \"CAJWIV_ion_b\"\n",
       " \"GEDTAM_freeONLY\"\n",
       " \"CAYDUD_freeONLY\"\n",
       " \"NEHZIK_freeONLY\""
      ]
     },
     "metadata": {},
     "output_type": "display_data"
    }
   ],
   "source": [
    "mtch = labels[idx10masparecidos] .|> x -> x[begin:end-4]"
   ]
  },
  {
   "cell_type": "code",
   "execution_count": 34,
   "metadata": {},
   "outputs": [
    {
     "data": {
      "text/plain": [
       "\"10masparecidos.csv\""
      ]
     },
     "metadata": {},
     "output_type": "display_data"
    }
   ],
   "source": [
    "diezmasparecidos = filter(:filename => filename -> filename ∈ mtch , df_fsr)\n",
    "CSV.write(\"10masparecidos.csv\", diezmasparecidos)"
   ]
  },
  {
   "cell_type": "code",
   "execution_count": 35,
   "metadata": {},
   "outputs": [
    {
     "data": {
      "text/plain": [
       "\"same_cluster.csv\""
      ]
     },
     "metadata": {},
     "output_type": "display_data"
    }
   ],
   "source": [
    "same_cluster = filter(:cluster_assignment =>  x -> x == 4, df_fsr)\n",
    "CSV.write(\"same_cluster.csv\", same_cluster)"
   ]
  }
 ],
 "metadata": {
  "kernelspec": {
   "display_name": "Julia 1.7.3",
   "language": "julia",
   "name": "julia-1.7"
  },
  "language_info": {
   "file_extension": ".jl",
   "mimetype": "application/julia",
   "name": "julia",
   "version": "1.7.2"
  }
 },
 "nbformat": 4,
 "nbformat_minor": 2
}
