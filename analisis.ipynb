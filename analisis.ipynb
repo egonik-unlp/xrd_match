{
 "cells": [
  {
   "cell_type": "code",
   "execution_count": 50,
   "metadata": {},
   "outputs": [
    {
     "data": {
      "text/plain": [
       "Plots.PGFPlotsXBackend()"
      ]
     },
     "execution_count": 50,
     "metadata": {},
     "output_type": "execute_result"
    }
   ],
   "source": [
    "using Plots, JSON, Peaks, OrderedCollections, DataFrames, StatsPlots, LaTeXStrings, StatsBase, MultivariateStats, Clustering, CSV, Distances, PGFPlotsX\n",
    "# gr()\n",
    "pgfplotsx()"
   ]
  },
  {
   "cell_type": "code",
   "execution_count": 3,
   "metadata": {},
   "outputs": [],
   "source": [
    "master_df = CSV.File(\"2019-07-01-FSR-public_7061.csv\") |> DataFrame;"
   ]
  },
  {
   "cell_type": "code",
   "execution_count": 4,
   "metadata": {},
   "outputs": [],
   "source": [
    "data = JSON.parsefile(\"patterns_540.json\", \n",
    "    dicttype=Dict,\n",
    "    inttype=Int64,\n",
    "    );"
   ]
  },
  {
   "cell_type": "code",
   "execution_count": 5,
   "metadata": {},
   "outputs": [
    {
     "data": {
      "text/plain": [
       "([4.03, 4.056, 4.082, 4.108, 4.134, 4.16, 4.186, 4.212, 4.238, 4.264  …  39.728, 39.754, 39.78, 39.806, 39.832, 39.858, 39.884, 39.91, 39.936, 39.962], [0.14756460269550806, 0.07593756420866207, 0.027872626154214694, 0.003647348112032414, -0.008179140405098737, -0.007941941816776639, -0.014447410095475977, -0.00993850187553682, -0.0038827067287750417, 0.0  …  -0.006898650506501704, -0.005080942691783007, -0.005544639228656973, -0.0067733170466287304, -0.005287326778580806, -0.0042312153720347224, -0.0030532485401810142, -0.002616568878948663, -0.003175041857728548, 0.0])"
      ]
     },
     "execution_count": 5,
     "metadata": {},
     "output_type": "execute_result"
    }
   ],
   "source": [
    "tgt = CSV.File(\"xe.dat\") |> DataFrame\n",
    "data[\"target.cif\"] = tgt.theta,tgt.int"
   ]
  },
  {
   "cell_type": "code",
   "execution_count": 6,
   "metadata": {},
   "outputs": [],
   "source": [
    "\n",
    "len = 20\n",
    "loc_valor = map(data |> values) do (x,y)\n",
    "    pks, vals = findmaxima(y)\n",
    "    pks, proms = peakproms(pks, y)\n",
    "    # rt = sort(vals, rev = :true) |> vals -> length(vals) > len ? vals[begin:len] : nothing\n",
    "    rt = sort(proms, rev = :true) |> proms -> length(proms) > len ? proms[begin:len] : nothing #Ordeno por promincencia\n",
    "    rtl = isnothing(rt) ? 0 : length(rt)\n",
    "    rtl > 0 ? (x[begin:rtl], rt) : nothing #Retorno nothing si no hay numero suficiente de picos\n",
    "end;"
   ]
  },
  {
   "cell_type": "code",
   "execution_count": 7,
   "metadata": {},
   "outputs": [],
   "source": [
    "idx = findall(!isnothing, loc_valor);\n",
    "loc_valor = loc_valor[idx];\n",
    "labels = (data |> keys |> collect)[idx];\n"
   ]
  },
  {
   "cell_type": "code",
   "execution_count": 8,
   "metadata": {},
   "outputs": [],
   "source": [
    "@assert \"target.cif\" ∈ labels"
   ]
  },
  {
   "cell_type": "code",
   "execution_count": 11,
   "metadata": {},
   "outputs": [
    {
     "data": {
      "text/plain": [
       "1743"
      ]
     },
     "execution_count": 11,
     "metadata": {},
     "output_type": "execute_result"
    }
   ],
   "source": [
    "key = keys(data) |> collect |> sample\n",
    "key = \"target.cif\" \n",
    "x,y = data[key]\n",
    "pos = findall(x -> x == key, data |> keys |> collect ) |> first\n",
    "# \n",
    "# df = DataFrame(x = x, y=y)\n",
    "# p = @df df Plots.plot(:x, :y,\n",
    "    # title=key,\n",
    "    # xlabel=L\"2\\theta\",\n",
    "    # ylabel=\"Intensity\",\n",
    "# ) \n",
    "# \n",
    "# locs = loc_valor[pos][1]\n",
    "# \n",
    "# for pk ∈ locs\n",
    "    # vline!([pk], label = :false, color = :green)\n",
    "# end\n",
    "# p"
   ]
  },
  {
   "cell_type": "code",
   "execution_count": 12,
   "metadata": {},
   "outputs": [
    {
     "data": {
      "text/plain": [
       "1743"
      ]
     },
     "execution_count": 12,
     "metadata": {},
     "output_type": "execute_result"
    }
   ],
   "source": [
    "pos"
   ]
  },
  {
   "cell_type": "code",
   "execution_count": 13,
   "metadata": {},
   "outputs": [],
   "source": [
    "data_pc = map(loc_valor) do (x,y)\n",
    "    vcat(x,y)' |> Array{Float64}\n",
    "end #|> x -> vcat(x...)\n",
    "pca_raw_data = vcat(data_pc...) ;\n"
   ]
  },
  {
   "cell_type": "code",
   "execution_count": 14,
   "metadata": {},
   "outputs": [
    {
     "data": {
      "text/plain": [
       "PCA(indim = 40, outdim = 3, principalratio = 0.9292336396370794)\n",
       "\n",
       "Pattern matrix (unstandardized loadings):\n",
       "───────────────────────────────────\n",
       "          PC1         PC2       PC3\n",
       "───────────────────────────────────\n",
       "1   -0.443819    0.224063  1.46657\n",
       "2   -0.695992    0.332199  1.92117\n",
       "3   -0.91069     0.338525  2.3269\n",
       "4   -1.04105     0.325462  2.64399\n",
       "5   -1.18257     0.310329  2.96274\n",
       "6   -1.27727     0.303681  3.18828\n",
       "7   -1.38525     0.305365  3.40739\n",
       "8   -1.46555     0.300327  3.61007\n",
       "9   -1.54491     0.315777  3.82677\n",
       "10  -1.60092     0.322833  4.01474\n",
       "11  -1.6861      0.335294  4.22443\n",
       "12  -1.76567     0.340852  4.40535\n",
       "13  -1.82644     0.332846  4.5806\n",
       "14  -1.89073     0.341935  4.73421\n",
       "15  -1.93312     0.34778   4.88288\n",
       "16  -1.99185     0.354174  5.0071\n",
       "17  -2.04117     0.339428  5.10525\n",
       "18  -2.0759      0.343451  5.20869\n",
       "19  -2.11864     0.344469  5.31299\n",
       "20  -2.15698     0.342662  5.45749\n",
       "21  32.9276    -11.9734    3.47252\n",
       "22  17.5626     10.798     0.18504\n",
       "23  10.0339      8.24257   0.333963\n",
       "24   6.86071     6.13154   0.372914\n",
       "25   5.23628     4.87428   0.354792\n",
       "26   4.15798     3.90177   0.403782\n",
       "27   3.38925     3.18472   0.354651\n",
       "28   2.86955     2.7009    0.315363\n",
       "29   2.46968     2.32491   0.28947\n",
       "30   2.19248     2.08611   0.256329\n",
       "31   1.96997     1.88138   0.233508\n",
       "32   1.78281     1.71378   0.201476\n",
       "33   1.62242     1.5608    0.185721\n",
       "34   1.49621     1.42501   0.162803\n",
       "35   1.3875      1.32024   0.149148\n",
       "36   1.28668     1.22655   0.140891\n",
       "37   1.20247     1.15309   0.127939\n",
       "38   1.12682     1.08187   0.118649\n",
       "39   1.06678     1.02447   0.108308\n",
       "40   1.00921     0.968972  0.100169\n",
       "───────────────────────────────────\n",
       "\n",
       "Importance of components:\n",
       "──────────────────────────────────────────────────────────────\n",
       "                                   PC1         PC2         PC3\n",
       "──────────────────────────────────────────────────────────────\n",
       "SS Loadings (Eigenvalues)  1688.97      452.481     346.62\n",
       "Variance explained            0.63079     0.16899     0.129454\n",
       "Cumulative variance           0.63079     0.79978     0.929234\n",
       "Proportion explained          0.678828    0.18186     0.139312\n",
       "Cumulative proportion         0.678828    0.860688    1.0\n",
       "──────────────────────────────────────────────────────────────"
      ]
     },
     "execution_count": 14,
     "metadata": {},
     "output_type": "execute_result"
    }
   ],
   "source": [
    "M = fit(PCA, pca_raw_data', maxoutdim = 3) "
   ]
  },
  {
   "cell_type": "code",
   "execution_count": 15,
   "metadata": {},
   "outputs": [
    {
     "data": {
      "text/plain": [
       "3×6784 Matrix{Float64}:\n",
       "  36.2266  -56.3375    60.8467    …  -22.2177  -60.366    -14.9414\n",
       " -26.0452  -21.6246     0.654174      37.199   -45.7548    44.5951\n",
       " -41.6134   -4.29709  -22.7682        18.2032   -2.41798    3.10503"
      ]
     },
     "execution_count": 15,
     "metadata": {},
     "output_type": "execute_result"
    }
   ],
   "source": [
    "reconstructed = predict(M, pca_raw_data')"
   ]
  },
  {
   "cell_type": "code",
   "execution_count": null,
   "metadata": {},
   "outputs": [],
   "source": [
    "reconstructed[1,:]"
   ]
  },
  {
   "cell_type": "code",
   "execution_count": 16,
   "metadata": {},
   "outputs": [
    {
     "name": "stdout",
     "output_type": "stream",
     "text": [
      "  Iters               objv        objv-change | affected \n",
      "-------------------------------------------------------------\n",
      "      0       3.793848e+06\n",
      "      1       2.563513e+06      -1.230334e+06 |       10\n",
      "      2       2.353971e+06      -2.095424e+05 |       10\n",
      "      3       2.293302e+06      -6.066913e+04 |       10\n",
      "      4       2.266561e+06      -2.674117e+04 |       10\n",
      "      5       2.250416e+06      -1.614443e+04 |       10\n",
      "      6       2.241403e+06      -9.013296e+03 |       10\n",
      "      7       2.236146e+06      -5.256692e+03 |        8\n",
      "      8       2.233032e+06      -3.114437e+03 |        9\n",
      "      9       2.230362e+06      -2.669596e+03 |        9\n",
      "     10       2.228747e+06      -1.615185e+03 |       10\n",
      "     11       2.227979e+06      -7.683235e+02 |        9\n",
      "     12       2.227618e+06      -3.602947e+02 |        8\n",
      "     13       2.227314e+06      -3.047155e+02 |        8\n",
      "     14       2.227153e+06      -1.611273e+02 |        8\n",
      "     15       2.227083e+06      -7.010572e+01 |        8\n",
      "     16       2.227024e+06      -5.807169e+01 |        8\n",
      "     17       2.226966e+06      -5.822784e+01 |        6\n",
      "     18       2.226947e+06      -1.910057e+01 |        6\n",
      "     19       2.226938e+06      -8.762040e+00 |        3\n",
      "     20       2.226932e+06      -6.113084e+00 |        2\n",
      "     21       2.226923e+06      -8.835694e+00 |        2\n",
      "     22       2.226918e+06      -5.244275e+00 |        0\n",
      "     23       2.226918e+06       0.000000e+00 |        0\n",
      "K-means converged with 23 iterations (objv = 2.226918182135963e6)\n"
     ]
    },
    {
     "data": {
      "text/plain": [
       "KmeansResult{Matrix{Float64}, Float64, Int64}([-17.553299974393074 53.88081771577861 … -45.07417366598277 -7.281401559170613; 23.889682344452165 -7.883940728203644 … -3.274866044226938 11.64042950276207; -12.450342070272246 -26.177701546403583 … 1.2382894669950542 -50.833220933511555], [2, 9, 2, 2, 4, 4, 4, 4, 3, 6  …  4, 1, 4, 8, 1, 1, 9, 8, 3, 8], [879.765154459762, 494.2157586466119, 133.04745561231175, 116.5849035367637, 997.1286933865854, 315.126157681397, 79.7025738756667, 17.247908473837697, 823.4717354472305, 46.79467977807053  …  94.07375932829234, 325.50427308769486, 926.5580212481443, 104.6446679644223, 431.80539185649263, 163.21956362536912, 90.86542700207974, 102.88468227556405, 149.18751628373502, 372.4068010832625], [809, 515, 441, 804, 640, 975, 450, 927, 1004, 219], [809, 515, 441, 804, 640, 975, 450, 927, 1004, 219], 2.226918182135963e6, 23, true)"
      ]
     },
     "execution_count": 16,
     "metadata": {},
     "output_type": "execute_result"
    }
   ],
   "source": [
    "R = kmeans(reconstructed, 10, display=:iter)"
   ]
  },
  {
   "cell_type": "code",
   "execution_count": 17,
   "metadata": {},
   "outputs": [
    {
     "data": {
      "text/plain": [
       "3×10 Matrix{Float64}:\n",
       " -17.5533   53.8808   -71.0148  15.7013   …  -21.5758  -45.0742    -7.2814\n",
       "  23.8897   -7.88394  -41.365   -4.22202      28.9778   -3.27487   11.6404\n",
       " -12.4503  -26.1777     1.6464   4.09549      12.2969    1.23829  -50.8332"
      ]
     },
     "execution_count": 17,
     "metadata": {},
     "output_type": "execute_result"
    }
   ],
   "source": [
    "R.centers"
   ]
  },
  {
   "cell_type": "code",
   "execution_count": 18,
   "metadata": {},
   "outputs": [
    {
     "name": "stderr",
     "output_type": "stream",
     "text": [
      "┌ Info: Precompiling GR_jll [d2c73de3-f751-5644-a686-071e5b155ba9]\n",
      "└ @ Base loading.jl:1423\n",
      "\u001b[33m\u001b[1m┌ \u001b[22m\u001b[39m\u001b[33m\u001b[1mWarning: \u001b[22m\u001b[39mThe call to compilecache failed to create a usable precompiled cache file for Xorg_xkeyboard_config_jll [33bec58e-1273-512f-9401-5d533626f822]\n",
      "\u001b[33m\u001b[1m│ \u001b[22m\u001b[39m  exception = Required dependency Xorg_libxkbfile_jll [cc61e674-0454-545c-8b26-ed2c68acab7a] failed to load from a cache file.\n",
      "\u001b[33m\u001b[1m└ \u001b[22m\u001b[39m\u001b[90m@ Base loading.jl:1132\u001b[39m\n",
      "\u001b[33m\u001b[1m┌ \u001b[22m\u001b[39m\u001b[33m\u001b[1mWarning: \u001b[22m\u001b[39mThe call to compilecache failed to create a usable precompiled cache file for xkbcommon_jll [d8fb68d0-12a3-5cfd-a85a-d49703b185fd]\n",
      "\u001b[33m\u001b[1m│ \u001b[22m\u001b[39m  exception = Required dependency Xorg_libxkbfile_jll [cc61e674-0454-545c-8b26-ed2c68acab7a] failed to load from a cache file.\n",
      "\u001b[33m\u001b[1m└ \u001b[22m\u001b[39m\u001b[90m@ Base loading.jl:1132\u001b[39m\n",
      "\u001b[33m\u001b[1m┌ \u001b[22m\u001b[39m\u001b[33m\u001b[1mWarning: \u001b[22m\u001b[39mThe call to compilecache failed to create a usable precompiled cache file for Xorg_xkeyboard_config_jll [33bec58e-1273-512f-9401-5d533626f822]\n",
      "\u001b[33m\u001b[1m│ \u001b[22m\u001b[39m  exception = Required dependency Xorg_libxkbfile_jll [cc61e674-0454-545c-8b26-ed2c68acab7a] failed to load from a cache file.\n",
      "\u001b[33m\u001b[1m└ \u001b[22m\u001b[39m\u001b[90m@ Base loading.jl:1132\u001b[39m\n",
      "\u001b[33m\u001b[1m┌ \u001b[22m\u001b[39m\u001b[33m\u001b[1mWarning: \u001b[22m\u001b[39mThe call to compilecache failed to create a usable precompiled cache file for Qt5Base_jll [ea2cea3b-5b76-57ae-a6ef-0a8af62496e1]\n",
      "\u001b[33m\u001b[1m│ \u001b[22m\u001b[39m  exception = Required dependency Xorg_libxkbfile_jll [cc61e674-0454-545c-8b26-ed2c68acab7a] failed to load from a cache file.\n",
      "\u001b[33m\u001b[1m└ \u001b[22m\u001b[39m\u001b[90m@ Base loading.jl:1132\u001b[39m\n",
      "\u001b[33m\u001b[1m┌ \u001b[22m\u001b[39m\u001b[33m\u001b[1mWarning: \u001b[22m\u001b[39mThe call to compilecache failed to create a usable precompiled cache file for Xorg_xkeyboard_config_jll [33bec58e-1273-512f-9401-5d533626f822]\n",
      "\u001b[33m\u001b[1m│ \u001b[22m\u001b[39m  exception = Required dependency Xorg_libxkbfile_jll [cc61e674-0454-545c-8b26-ed2c68acab7a] failed to load from a cache file.\n",
      "\u001b[33m\u001b[1m└ \u001b[22m\u001b[39m\u001b[90m@ Base loading.jl:1132\u001b[39m\n",
      "\u001b[33m\u001b[1m┌ \u001b[22m\u001b[39m\u001b[33m\u001b[1mWarning: \u001b[22m\u001b[39mThe call to compilecache failed to create a usable precompiled cache file for xkbcommon_jll [d8fb68d0-12a3-5cfd-a85a-d49703b185fd]\n",
      "\u001b[33m\u001b[1m│ \u001b[22m\u001b[39m  exception = Required dependency Xorg_libxkbfile_jll [cc61e674-0454-545c-8b26-ed2c68acab7a] failed to load from a cache file.\n",
      "\u001b[33m\u001b[1m└ \u001b[22m\u001b[39m\u001b[90m@ Base loading.jl:1132\u001b[39m\n",
      "\u001b[33m\u001b[1m┌ \u001b[22m\u001b[39m\u001b[33m\u001b[1mWarning: \u001b[22m\u001b[39mThe call to compilecache failed to create a usable precompiled cache file for Xorg_xkeyboard_config_jll [33bec58e-1273-512f-9401-5d533626f822]\n",
      "\u001b[33m\u001b[1m│ \u001b[22m\u001b[39m  exception = Required dependency Xorg_libxkbfile_jll [cc61e674-0454-545c-8b26-ed2c68acab7a] failed to load from a cache file.\n",
      "\u001b[33m\u001b[1m└ \u001b[22m\u001b[39m\u001b[90m@ Base loading.jl:1132\u001b[39m\n",
      "┌ Warning: The call to compilecache failed to create a usable precompiled cache file for GR_jll [d2c73de3-f751-5644-a686-071e5b155ba9]\n",
      "│   exception = ErrorException(\"Required dependency Xorg_libxkbfile_jll [cc61e674-0454-545c-8b26-ed2c68acab7a] failed to load from a cache file.\")\n",
      "└ @ Base loading.jl:1132\n",
      "┌ Info: Precompiling Qt5Base_jll [ea2cea3b-5b76-57ae-a6ef-0a8af62496e1]\n",
      "└ @ Base loading.jl:1423\n",
      "\u001b[33m\u001b[1m┌ \u001b[22m\u001b[39m\u001b[33m\u001b[1mWarning: \u001b[22m\u001b[39mThe call to compilecache failed to create a usable precompiled cache file for Xorg_xkeyboard_config_jll [33bec58e-1273-512f-9401-5d533626f822]\n",
      "\u001b[33m\u001b[1m│ \u001b[22m\u001b[39m  exception = Required dependency Xorg_libxkbfile_jll [cc61e674-0454-545c-8b26-ed2c68acab7a] failed to load from a cache file.\n",
      "\u001b[33m\u001b[1m└ \u001b[22m\u001b[39m\u001b[90m@ Base loading.jl:1132\u001b[39m\n",
      "\u001b[33m\u001b[1m┌ \u001b[22m\u001b[39m\u001b[33m\u001b[1mWarning: \u001b[22m\u001b[39mThe call to compilecache failed to create a usable precompiled cache file for xkbcommon_jll [d8fb68d0-12a3-5cfd-a85a-d49703b185fd]\n",
      "\u001b[33m\u001b[1m│ \u001b[22m\u001b[39m  exception = Required dependency Xorg_libxkbfile_jll [cc61e674-0454-545c-8b26-ed2c68acab7a] failed to load from a cache file.\n",
      "\u001b[33m\u001b[1m└ \u001b[22m\u001b[39m\u001b[90m@ Base loading.jl:1132\u001b[39m\n",
      "\u001b[33m\u001b[1m┌ \u001b[22m\u001b[39m\u001b[33m\u001b[1mWarning: \u001b[22m\u001b[39mThe call to compilecache failed to create a usable precompiled cache file for Xorg_xkeyboard_config_jll [33bec58e-1273-512f-9401-5d533626f822]\n",
      "\u001b[33m\u001b[1m│ \u001b[22m\u001b[39m  exception = Required dependency Xorg_libxkbfile_jll [cc61e674-0454-545c-8b26-ed2c68acab7a] failed to load from a cache file.\n",
      "\u001b[33m\u001b[1m└ \u001b[22m\u001b[39m\u001b[90m@ Base loading.jl:1132\u001b[39m\n",
      "┌ Warning: The call to compilecache failed to create a usable precompiled cache file for Qt5Base_jll [ea2cea3b-5b76-57ae-a6ef-0a8af62496e1]\n",
      "│   exception = ErrorException(\"Required dependency Xorg_libxkbfile_jll [cc61e674-0454-545c-8b26-ed2c68acab7a] failed to load from a cache file.\")\n",
      "└ @ Base loading.jl:1132\n",
      "┌ Info: Precompiling xkbcommon_jll [d8fb68d0-12a3-5cfd-a85a-d49703b185fd]\n",
      "└ @ Base loading.jl:1423\n",
      "\u001b[33m\u001b[1m┌ \u001b[22m\u001b[39m\u001b[33m\u001b[1mWarning: \u001b[22m\u001b[39mThe call to compilecache failed to create a usable precompiled cache file for Xorg_xkeyboard_config_jll [33bec58e-1273-512f-9401-5d533626f822]\n",
      "\u001b[33m\u001b[1m│ \u001b[22m\u001b[39m  exception = Required dependency Xorg_libxkbfile_jll [cc61e674-0454-545c-8b26-ed2c68acab7a] failed to load from a cache file.\n",
      "\u001b[33m\u001b[1m└ \u001b[22m\u001b[39m\u001b[90m@ Base loading.jl:1132\u001b[39m\n",
      "┌ Warning: The call to compilecache failed to create a usable precompiled cache file for xkbcommon_jll [d8fb68d0-12a3-5cfd-a85a-d49703b185fd]\n",
      "│   exception = ErrorException(\"Required dependency Xorg_libxkbfile_jll [cc61e674-0454-545c-8b26-ed2c68acab7a] failed to load from a cache file.\")\n",
      "└ @ Base loading.jl:1132\n",
      "┌ Info: Precompiling Xorg_xkeyboard_config_jll [33bec58e-1273-512f-9401-5d533626f822]\n",
      "└ @ Base loading.jl:1423\n",
      "┌ Warning: The call to compilecache failed to create a usable precompiled cache file for Xorg_xkeyboard_config_jll [33bec58e-1273-512f-9401-5d533626f822]\n",
      "│   exception = ErrorException(\"Required dependency Xorg_libxkbfile_jll [cc61e674-0454-545c-8b26-ed2c68acab7a] failed to load from a cache file.\")\n",
      "└ @ Base loading.jl:1132\n"
     ]
    }
   ],
   "source": [
    "p = scatter(reconstructed[1,:], reconstructed[2,:], reconstructed[3,:], marker_z = R.assignments, label = \"Instances\", size = (1920,1080))\n",
    "scatter!([reconstructed[1,pos]],[ reconstructed[2,pos]], [reconstructed[3,pos]], marker_z = R.assignments, markersize = 11, marker=:octagon,color=:blue, label = \"PerMOF\")\n",
    "scatter!(R.centers[1,:], R.centers[2,:], R.centers[3,:], marker = :diamond, markersize = 9, label = \"Centers\")\n",
    "savefig(\"clustels.png\")"
   ]
  },
  {
   "cell_type": "code",
   "execution_count": 19,
   "metadata": {},
   "outputs": [],
   "source": [
    "lbls = [ lbl[begin:end-4] for lbl in labels]\n",
    "mapping = Dict(k => v for (k,v) in zip(lbls,R.assignments));"
   ]
  },
  {
   "cell_type": "code",
   "execution_count": 91,
   "metadata": {},
   "outputs": [
    {
     "data": {
      "text/plain": [
       "4"
      ]
     },
     "execution_count": 91,
     "metadata": {},
     "output_type": "execute_result"
    }
   ],
   "source": [
    "R.assignments[pos]"
   ]
  },
  {
   "cell_type": "code",
   "execution_count": 20,
   "metadata": {},
   "outputs": [
    {
     "data": {
      "text/plain": [
       "6782-element Vector{Int64}:\n",
       " 1\n",
       " 9\n",
       " 9\n",
       " 6\n",
       " 7\n",
       " 7\n",
       " 8\n",
       " 7\n",
       " 5\n",
       " 7\n",
       " 7\n",
       " 7\n",
       " 7\n",
       " ⋮\n",
       " 8\n",
       " 8\n",
       " 7\n",
       " 5\n",
       " 9\n",
       " 1\n",
       " 7\n",
       " 1\n",
       " 1\n",
       " 6\n",
       " 6\n",
       " 1"
      ]
     },
     "execution_count": 20,
     "metadata": {},
     "output_type": "execute_result"
    }
   ],
   "source": [
    "df_fsr = filter(\n",
    "    x -> x.filename ∈ labels .|> label -> label[begin:end - 4] ,\n",
    "    master_df\n",
    ")\n",
    "df_fsr.\"cluster_assignment\" = map(filename -> mapping[filename], df_fsr.filename)"
   ]
  },
  {
   "cell_type": "code",
   "execution_count": 98,
   "metadata": {},
   "outputs": [
    {
     "data": {
      "text/plain": [
       "10-element view(::Vector{Int64}, 1:10) with eltype Int64:\n",
       " 1742\n",
       " 3480\n",
       " 1267\n",
       " 3679\n",
       "   11\n",
       "  414\n",
       "   18\n",
       " 5757\n",
       " 2938\n",
       " 1167"
      ]
     },
     "execution_count": 98,
     "metadata": {},
     "output_type": "execute_result"
    }
   ],
   "source": [
    "dist = Euclidean()\n",
    "pwdist = pairwise(dist,reconstructed, dims=2)\n",
    "idx10masparecidos = partialsortperm(pwdist[pos,2:end], 1:10) \n"
   ]
  },
  {
   "cell_type": "code",
   "execution_count": 110,
   "metadata": {},
   "outputs": [
    {
     "data": {
      "text/plain": [
       "100×100 Matrix{Float64}:\n",
       "  0.0     61.8925   70.9367   70.2022  …   72.1525   81.7851   98.2437\n",
       " 61.8925   0.0      45.3352   27.029       77.7589   25.9344   54.924\n",
       " 70.9367  45.3352    0.0      20.968       92.5812   45.011    35.7871\n",
       " 70.2022  27.029    20.968     0.0         84.3836   25.0187   32.1291\n",
       " 64.9123  53.9029   33.6205   37.878       64.9322   50.0288   44.6583\n",
       " 80.449   66.2775   22.7042   43.175   …  109.932    67.2295   50.7645\n",
       " 69.9786  91.968   107.945   101.219       24.5199   97.9934  116.226\n",
       " 70.8718  73.333    64.155    64.9414      44.2579   69.1346   68.7369\n",
       " 63.5924  92.7924  111.503   104.696       37.4404  102.743   123.368\n",
       " 75.8318  70.8308   74.2275   68.6945      27.8111   65.0951   72.8612\n",
       " 52.2314  80.6718   92.3503   87.9053  …   28.5073   88.9837  105.207\n",
       " 63.1569  73.1247   93.3117   83.9859      15.4007   78.5538   99.6288\n",
       " 20.6853  42.6671   60.4336   55.2153      72.4577   64.9777   85.5154\n",
       "  ⋮                                    ⋱                      \n",
       " 50.6076  53.0303   30.0989   39.4516      73.2612   58.17     56.3745\n",
       " 68.0632  65.2948   48.6359   52.2936      56.8848   60.8891   56.0851\n",
       " 50.4444  44.7785   49.8436   44.0569  …   43.1357   47.7108   60.3651\n",
       " 67.9669  83.5045  103.23     94.5844      19.94     89.4744  110.155\n",
       " 91.0327  83.3697   39.3709   60.1079     121.538    83.6879   63.2664\n",
       " 90.2745  43.7177   33.1291   23.2121      88.5846   24.5855   11.5537\n",
       " 69.9078  60.9142   30.2208   40.9765      76.1692   57.0297   44.7427\n",
       " 86.6145  76.4622   83.6331   75.9504  …   28.2159   68.1439   77.4272\n",
       " 78.6337  87.5445   95.6135   90.1356      15.1769   86.2808   97.7949\n",
       " 72.1525  77.7589   92.5812   84.3836       0.0      78.519    95.2928\n",
       " 81.7851  25.9344   45.011    25.0187      78.519     0.0      35.8623\n",
       " 98.2437  54.924    35.7871   32.1291      95.2928   35.8623    0.0"
      ]
     },
     "execution_count": 110,
     "metadata": {},
     "output_type": "execute_result"
    }
   ],
   "source": [
    "pw100"
   ]
  },
  {
   "cell_type": "code",
   "execution_count": 114,
   "metadata": {},
   "outputs": [],
   "source": [
    "idx100masparecidos = partialsortperm(pwdist[pos,2:end], 1:100) \n",
    "los100masconref = hcat(reconstructed[:,idx100masparecidos], reconstructed[:,pos])\n",
    "pw100 = pairwise(dist,los100masconref,dims=2)\n",
    "\n",
    "hc = hclust(pw100)\n",
    "plot(hc, size = (6000,3000))\n",
    "savefig(\"hclust.png\")"
   ]
  },
  {
   "cell_type": "code",
   "execution_count": 120,
   "metadata": {},
   "outputs": [
    {
     "data": {
      "text/plain": [
       "\"DEPXUS_freeONLY.cif\""
      ]
     },
     "execution_count": 120,
     "metadata": {},
     "output_type": "execute_result"
    }
   ],
   "source": [
    "labels[idx100masparecidos[75]]"
   ]
  },
  {
   "cell_type": "code",
   "execution_count": 65,
   "metadata": {},
   "outputs": [],
   "source": [
    "plots_db = []\n",
    "ref = Plots.plot(data[\"target.cif\"], label = \"referencia\")\n",
    "ylabel!(L\"\\textrm{Transmitancia}\")\n",
    "xlabel!(L\"\\textrm{Nro de onda} (cm^-1)\")\n",
    "for label in labels[idx10masparecidos]\n",
    "    x,y = data[label]\n",
    "    pi = plot(ref)\n",
    "    title!(label)\n",
    "    push!(plots_db,plot!(pi,x,y./100, legend = false))\n",
    "end\n",
    "plot(plots_db..., size = (8000,3000))\n",
    "savefig(\"to2.png\")"
   ]
  },
  {
   "cell_type": "code",
   "execution_count": 72,
   "metadata": {},
   "outputs": [
    {
     "ename": "InterruptException",
     "evalue": "InterruptException:",
     "output_type": "error",
     "traceback": [
      "InterruptException:",
      "",
      "Stacktrace:",
      "  [1] poptask(W::Base.InvasiveLinkedListSynchronized{Task})",
      "    @ Base ./task.jl:827",
      "  [2] wait()",
      "    @ Base ./task.jl:836",
      "  [3] wait(c::Base.GenericCondition{Base.Threads.SpinLock})",
      "    @ Base ./condition.jl:123",
      "  [4] wait(x::Base.Process)",
      "    @ Base ./process.jl:627",
      "  [5] success",
      "    @ ./process.jl:489 [inlined]",
      "  [6] success(cmd::Cmd)",
      "    @ Base ./process.jl:502",
      "  [7] #115",
      "    @ ~/.julia/packages/PGFPlotsX/1SEv2/src/build.jl:50 [inlined]",
      "  [8] cd(f::PGFPlotsX.var\"#115#116\"{Cmd}, dir::String)",
      "    @ Base.Filesystem ./file.jl:110",
      "  [9] run_latex_once(filename::String, eng::PGFPlotsX.LaTeXEngine, flags::Vector{String})",
      "    @ PGFPlotsX ~/.julia/packages/PGFPlotsX/1SEv2/src/build.jl:49",
      " [10] savepdf(filename::String, td::TikzDocument; latex_engine::PGFPlotsX.LaTeXEngine, buildflags::Vector{String}, run_count::Int64, tmp::String)",
      "    @ PGFPlotsX ~/.julia/packages/PGFPlotsX/1SEv2/src/tikzdocument.jl:164",
      " [11] savesvg(filename::String, td::TikzDocument; latex_engine::PGFPlotsX.LaTeXEngine, buildflags::Vector{String}, keep_pdf::Bool)",
      "    @ PGFPlotsX ~/.julia/packages/PGFPlotsX/1SEv2/src/tikzdocument.jl:267",
      " [12] save(filename::String, td::TikzDocument; include_preamble::Bool, latex_engine::PGFPlotsX.LaTeXEngine, buildflags::Vector{String}, dpi::Int64, showing_ide::Bool)",
      "    @ PGFPlotsX ~/.julia/packages/PGFPlotsX/1SEv2/src/tikzdocument.jl:84",
      " [13] show(f::IOBuffer, #unused#::MIME{Symbol(\"image/svg+xml\")}, td::TikzDocument)",
      "    @ PGFPlotsX ~/.julia/packages/PGFPlotsX/1SEv2/src/tikzdocument.jl:289",
      " [14] _show(io::IOBuffer, mime::MIME{Symbol(\"image/svg+xml\")}, plt::Plots.Plot{Plots.PGFPlotsXBackend})",
      "    @ Plots ~/.julia/packages/Plots/dNEbX/src/backends/pgfplotsx.jl:1491",
      " [15] show(io::IOBuffer, m::MIME{Symbol(\"image/svg+xml\")}, plt::Plots.Plot{Plots.PGFPlotsXBackend})",
      "    @ Plots ~/.julia/packages/Plots/dNEbX/src/output.jl:212",
      " [16] sprint(::Function, ::MIME{Symbol(\"image/svg+xml\")}, ::Vararg{Any}; context::Nothing, sizehint::Int64)",
      "    @ Base ./strings/io.jl:114",
      " [17] sprint",
      "    @ ./strings/io.jl:108 [inlined]",
      " [18] _ijulia_display_dict(plt::Plots.Plot{Plots.PGFPlotsXBackend})",
      "    @ Plots ~/.julia/packages/Plots/dNEbX/src/ijulia.jl:47",
      " [19] display_dict(plt::Plots.Plot{Plots.PGFPlotsXBackend})",
      "    @ Plots ~/.julia/packages/Plots/dNEbX/src/init.jl:92",
      " [20] #invokelatest#2",
      "    @ ./essentials.jl:716 [inlined]",
      " [21] invokelatest",
      "    @ ./essentials.jl:714 [inlined]",
      " [22] execute_request(socket::ZMQ.Socket, msg::IJulia.Msg)",
      "    @ IJulia ~/.julia/packages/IJulia/e8kqU/src/execute_request.jl:112",
      " [23] #invokelatest#2",
      "    @ ./essentials.jl:716 [inlined]",
      " [24] invokelatest",
      "    @ ./essentials.jl:714 [inlined]",
      " [25] eventloop(socket::ZMQ.Socket)",
      "    @ IJulia ~/.julia/packages/IJulia/e8kqU/src/eventloop.jl:8",
      " [26] (::IJulia.var\"#15#18\")()",
      "    @ IJulia ./task.jl:423"
     ]
    }
   ],
   "source": [
    "pwdist_s = pairwise(dist,reconstructed[:,begin:pos+10], dims=2)\n",
    "hc = hclust(pwdist_s)\n",
    "plot(hc, size = (6000,3000))"
   ]
  },
  {
   "cell_type": "code",
   "execution_count": null,
   "metadata": {},
   "outputs": [],
   "source": []
  },
  {
   "cell_type": "code",
   "execution_count": 86,
   "metadata": {},
   "outputs": [
    {
     "data": {
      "text/plain": [
       "10-element Vector{String}:\n",
       " \"NIWZIE10_freeONLY\"\n",
       " \"c5dt00281h_c5dt00281h2_freeONLY\"\n",
       " \"ETUWOG_freeONLY\"\n",
       " \"BASJUB_freeONLY\"\n",
       " \"cm303749m_si_001_freeONLY\"\n",
       " \"PUBSIP_freeONLY\"\n",
       " \"AHOKIR01_freeONLY\"\n",
       " \"FAVGER_freeONLY\"\n",
       " \"AWAREV_freeONLY\"\n",
       " \"QOSJUF_freeONLY\""
      ]
     },
     "execution_count": 86,
     "metadata": {},
     "output_type": "execute_result"
    }
   ],
   "source": [
    "mtch = labels[idx10masparecidos] .|> x -> x[begin:end-4]"
   ]
  },
  {
   "cell_type": "code",
   "execution_count": 88,
   "metadata": {},
   "outputs": [
    {
     "data": {
      "text/plain": [
       "\"10masparecidos.csv\""
      ]
     },
     "execution_count": 88,
     "metadata": {},
     "output_type": "execute_result"
    }
   ],
   "source": [
    "diezmasparecidos = filter(:filename => filename -> filename ∈ mtch , df_fsr)\n",
    "CSV.write(\"10masparecidos.csv\", diezmasparecidos)"
   ]
  },
  {
   "cell_type": "code",
   "execution_count": 94,
   "metadata": {},
   "outputs": [
    {
     "data": {
      "text/plain": [
       "\"same_cluster.csv\""
      ]
     },
     "execution_count": 94,
     "metadata": {},
     "output_type": "execute_result"
    }
   ],
   "source": [
    "same_cluster = filter(:cluster_assignment =>  x -> x == 4, df_fsr)\n",
    "CSV.write(\"same_cluster.csv\", same_cluster)"
   ]
  }
 ],
 "metadata": {
  "kernelspec": {
   "display_name": "Julia 1.7.1",
   "language": "julia",
   "name": "julia-1.7"
  },
  "language_info": {
   "file_extension": ".jl",
   "mimetype": "application/julia",
   "name": "julia",
   "version": "1.7.1"
  }
 },
 "nbformat": 4,
 "nbformat_minor": 2
}
