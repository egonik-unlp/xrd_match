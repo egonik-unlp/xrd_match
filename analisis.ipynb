{
 "cells": [
  {
   "cell_type": "code",
   "execution_count": 50,
   "metadata": {},
   "outputs": [
    {
     "data": {
      "text/plain": [
       "Plots.PGFPlotsXBackend()"
      ]
     },
     "execution_count": 50,
     "metadata": {},
     "output_type": "execute_result"
    }
   ],
   "source": [
    "using Plots, JSON, Peaks, OrderedCollections, DataFrames, StatsPlots, LaTeXStrings, StatsBase, MultivariateStats, Clustering, CSV, Distances, PGFPlotsX\n",
    "gr()\n",
    "# pgfplotsx()"
   ]
  },
  {
   "cell_type": "code",
   "execution_count": 3,
   "metadata": {},
   "outputs": [],
   "source": [
    "master_df = CSV.File(\"2019-07-01-FSR-public_7061.csv\") |> DataFrame;"
   ]
  },
  {
   "cell_type": "code",
   "execution_count": 4,
   "metadata": {},
   "outputs": [],
   "source": [
    "data = JSON.parsefile(\"patterns_540.json\", \n",
    "    dicttype=Dict,\n",
    "    inttype=Int64,\n",
    "    );"
   ]
  },
  {
   "cell_type": "code",
   "execution_count": 5,
   "metadata": {},
   "outputs": [
    {
     "data": {
      "text/plain": [
       "([4.03, 4.056, 4.082, 4.108, 4.134, 4.16, 4.186, 4.212, 4.238, 4.264  …  39.728, 39.754, 39.78, 39.806, 39.832, 39.858, 39.884, 39.91, 39.936, 39.962], [0.14756460269550806, 0.07593756420866207, 0.027872626154214694, 0.003647348112032414, -0.008179140405098737, -0.007941941816776639, -0.014447410095475977, -0.00993850187553682, -0.0038827067287750417, 0.0  …  -0.006898650506501704, -0.005080942691783007, -0.005544639228656973, -0.0067733170466287304, -0.005287326778580806, -0.0042312153720347224, -0.0030532485401810142, -0.002616568878948663, -0.003175041857728548, 0.0])"
      ]
     },
     "execution_count": 5,
     "metadata": {},
     "output_type": "execute_result"
    }
   ],
   "source": [
    "tgt = CSV.File(\"xe.dat\") |> DataFrame\n",
    "data[\"target.cif\"] = tgt.theta,tgt.int"
   ]
  },
  {
   "cell_type": "code",
   "execution_count": 6,
   "metadata": {},
   "outputs": [],
   "source": [
    "\n",
    "len = 20\n",
    "loc_valor = map(data |> values) do (x,y)\n",
    "    pks, vals = findmaxima(y)\n",
    "    pks, proms = peakproms(pks, y)\n",
    "    # rt = sort(vals, rev = :true) |> vals -> length(vals) > len ? vals[begin:len] : nothing\n",
    "    rt = sort(proms, rev = :true) |> proms -> length(proms) > len ? proms[begin:len] : nothing #Ordeno por promincencia\n",
    "    rtl = isnothing(rt) ? 0 : length(rt)\n",
    "    rtl > 0 ? (x[begin:rtl], rt) : nothing #Retorno nothing si no hay numero suficiente de picos\n",
    "end;"
   ]
  },
  {
   "cell_type": "code",
   "execution_count": 7,
   "metadata": {},
   "outputs": [],
   "source": [
    "idx = findall(!isnothing, loc_valor);\n",
    "loc_valor = loc_valor[idx];\n",
    "labels = (data |> keys |> collect)[idx];\n"
   ]
  },
  {
   "cell_type": "code",
   "execution_count": 8,
   "metadata": {},
   "outputs": [],
   "source": [
    "@assert \"target.cif\" ∈ labels"
   ]
  },
  {
   "cell_type": "code",
   "execution_count": 11,
   "metadata": {},
   "outputs": [
    {
     "data": {
      "text/plain": [
       "1743"
      ]
     },
     "execution_count": 11,
     "metadata": {},
     "output_type": "execute_result"
    }
   ],
   "source": [
    "key = keys(data) |> collect |> sample\n",
    "key = \"target.cif\" \n",
    "x,y = data[key]\n",
    "pos = findall(x -> x == key, data |> keys |> collect ) |> first\n",
    "# \n",
    "# df = DataFrame(x = x, y=y)\n",
    "# p = @df df Plots.plot(:x, :y,\n",
    "    # title=key,\n",
    "    # xlabel=L\"2\\theta\",\n",
    "    # ylabel=\"Intensity\",\n",
    "# ) \n",
    "# \n",
    "# locs = loc_valor[pos][1]\n",
    "# \n",
    "# for pk ∈ locs\n",
    "    # vline!([pk], label = :false, color = :green)\n",
    "# end\n",
    "# p"
   ]
  },
  {
   "cell_type": "code",
   "execution_count": 13,
   "metadata": {},
   "outputs": [],
   "source": [
    "data_pc = map(loc_valor) do (x,y)\n",
    "    vcat(x,y)' |> Array{Float64}\n",
    "end #|> x -> vcat(x...)\n",
    "pca_raw_data = vcat(data_pc...) ;\n"
   ]
  },
  {
   "cell_type": "code",
   "execution_count": 14,
   "metadata": {},
   "outputs": [
    {
     "data": {
      "text/plain": [
       "PCA(indim = 40, outdim = 3, principalratio = 0.9292336396370794)\n",
       "\n",
       "Pattern matrix (unstandardized loadings):\n",
       "───────────────────────────────────\n",
       "          PC1         PC2       PC3\n",
       "───────────────────────────────────\n",
       "1   -0.443819    0.224063  1.46657\n",
       "2   -0.695992    0.332199  1.92117\n",
       "3   -0.91069     0.338525  2.3269\n",
       "4   -1.04105     0.325462  2.64399\n",
       "5   -1.18257     0.310329  2.96274\n",
       "6   -1.27727     0.303681  3.18828\n",
       "7   -1.38525     0.305365  3.40739\n",
       "8   -1.46555     0.300327  3.61007\n",
       "9   -1.54491     0.315777  3.82677\n",
       "10  -1.60092     0.322833  4.01474\n",
       "11  -1.6861      0.335294  4.22443\n",
       "12  -1.76567     0.340852  4.40535\n",
       "13  -1.82644     0.332846  4.5806\n",
       "14  -1.89073     0.341935  4.73421\n",
       "15  -1.93312     0.34778   4.88288\n",
       "16  -1.99185     0.354174  5.0071\n",
       "17  -2.04117     0.339428  5.10525\n",
       "18  -2.0759      0.343451  5.20869\n",
       "19  -2.11864     0.344469  5.31299\n",
       "20  -2.15698     0.342662  5.45749\n",
       "21  32.9276    -11.9734    3.47252\n",
       "22  17.5626     10.798     0.18504\n",
       "23  10.0339      8.24257   0.333963\n",
       "24   6.86071     6.13154   0.372914\n",
       "25   5.23628     4.87428   0.354792\n",
       "26   4.15798     3.90177   0.403782\n",
       "27   3.38925     3.18472   0.354651\n",
       "28   2.86955     2.7009    0.315363\n",
       "29   2.46968     2.32491   0.28947\n",
       "30   2.19248     2.08611   0.256329\n",
       "31   1.96997     1.88138   0.233508\n",
       "32   1.78281     1.71378   0.201476\n",
       "33   1.62242     1.5608    0.185721\n",
       "34   1.49621     1.42501   0.162803\n",
       "35   1.3875      1.32024   0.149148\n",
       "36   1.28668     1.22655   0.140891\n",
       "37   1.20247     1.15309   0.127939\n",
       "38   1.12682     1.08187   0.118649\n",
       "39   1.06678     1.02447   0.108308\n",
       "40   1.00921     0.968972  0.100169\n",
       "───────────────────────────────────\n",
       "\n",
       "Importance of components:\n",
       "──────────────────────────────────────────────────────────────\n",
       "                                   PC1         PC2         PC3\n",
       "──────────────────────────────────────────────────────────────\n",
       "SS Loadings (Eigenvalues)  1688.97      452.481     346.62\n",
       "Variance explained            0.63079     0.16899     0.129454\n",
       "Cumulative variance           0.63079     0.79978     0.929234\n",
       "Proportion explained          0.678828    0.18186     0.139312\n",
       "Cumulative proportion         0.678828    0.860688    1.0\n",
       "──────────────────────────────────────────────────────────────"
      ]
     },
     "execution_count": 14,
     "metadata": {},
     "output_type": "execute_result"
    }
   ],
   "source": [
    "M = fit(PCA, pca_raw_data', maxoutdim = 3) "
   ]
  },
  {
   "cell_type": "code",
   "execution_count": 15,
   "metadata": {},
   "outputs": [
    {
     "data": {
      "text/plain": [
       "3×6784 Matrix{Float64}:\n",
       "  36.2266  -56.3375    60.8467    …  -22.2177  -60.366    -14.9414\n",
       " -26.0452  -21.6246     0.654174      37.199   -45.7548    44.5951\n",
       " -41.6134   -4.29709  -22.7682        18.2032   -2.41798    3.10503"
      ]
     },
     "execution_count": 15,
     "metadata": {},
     "output_type": "execute_result"
    }
   ],
   "source": [
    "reconstructed = predict(M, pca_raw_data')"
   ]
  },
  {
   "cell_type": "code",
   "execution_count": 16,
   "metadata": {},
   "outputs": [
    {
     "name": "stdout",
     "output_type": "stream",
     "text": [
      "  Iters               objv        objv-change | affected \n",
      "-------------------------------------------------------------\n",
      "      0       3.793848e+06\n",
      "      1       2.563513e+06      -1.230334e+06 |       10\n",
      "      2       2.353971e+06      -2.095424e+05 |       10\n",
      "      3       2.293302e+06      -6.066913e+04 |       10\n",
      "      4       2.266561e+06      -2.674117e+04 |       10\n",
      "      5       2.250416e+06      -1.614443e+04 |       10\n",
      "      6       2.241403e+06      -9.013296e+03 |       10\n",
      "      7       2.236146e+06      -5.256692e+03 |        8\n",
      "      8       2.233032e+06      -3.114437e+03 |        9\n",
      "      9       2.230362e+06      -2.669596e+03 |        9\n",
      "     10       2.228747e+06      -1.615185e+03 |       10\n",
      "     11       2.227979e+06      -7.683235e+02 |        9\n",
      "     12       2.227618e+06      -3.602947e+02 |        8\n",
      "     13       2.227314e+06      -3.047155e+02 |        8\n",
      "     14       2.227153e+06      -1.611273e+02 |        8\n",
      "     15       2.227083e+06      -7.010572e+01 |        8\n",
      "     16       2.227024e+06      -5.807169e+01 |        8\n",
      "     17       2.226966e+06      -5.822784e+01 |        6\n",
      "     18       2.226947e+06      -1.910057e+01 |        6\n",
      "     19       2.226938e+06      -8.762040e+00 |        3\n",
      "     20       2.226932e+06      -6.113084e+00 |        2\n",
      "     21       2.226923e+06      -8.835694e+00 |        2\n",
      "     22       2.226918e+06      -5.244275e+00 |        0\n",
      "     23       2.226918e+06       0.000000e+00 |        0\n",
      "K-means converged with 23 iterations (objv = 2.226918182135963e6)\n"
     ]
    },
    {
     "data": {
      "text/plain": [
       "KmeansResult{Matrix{Float64}, Float64, Int64}([-17.553299974393074 53.88081771577861 … -45.07417366598277 -7.281401559170613; 23.889682344452165 -7.883940728203644 … -3.274866044226938 11.64042950276207; -12.450342070272246 -26.177701546403583 … 1.2382894669950542 -50.833220933511555], [2, 9, 2, 2, 4, 4, 4, 4, 3, 6  …  4, 1, 4, 8, 1, 1, 9, 8, 3, 8], [879.765154459762, 494.2157586466119, 133.04745561231175, 116.5849035367637, 997.1286933865854, 315.126157681397, 79.7025738756667, 17.247908473837697, 823.4717354472305, 46.79467977807053  …  94.07375932829234, 325.50427308769486, 926.5580212481443, 104.6446679644223, 431.80539185649263, 163.21956362536912, 90.86542700207974, 102.88468227556405, 149.18751628373502, 372.4068010832625], [809, 515, 441, 804, 640, 975, 450, 927, 1004, 219], [809, 515, 441, 804, 640, 975, 450, 927, 1004, 219], 2.226918182135963e6, 23, true)"
      ]
     },
     "execution_count": 16,
     "metadata": {},
     "output_type": "execute_result"
    }
   ],
   "source": [
    "R = kmeans(reconstructed, 10, display=:iter)"
   ]
  },
  {
   "cell_type": "code",
   "execution_count": 17,
   "metadata": {},
   "outputs": [
    {
     "data": {
      "text/plain": [
       "3×10 Matrix{Float64}:\n",
       " -17.5533   53.8808   -71.0148  15.7013   …  -21.5758  -45.0742    -7.2814\n",
       "  23.8897   -7.88394  -41.365   -4.22202      28.9778   -3.27487   11.6404\n",
       " -12.4503  -26.1777     1.6464   4.09549      12.2969    1.23829  -50.8332"
      ]
     },
     "execution_count": 17,
     "metadata": {},
     "output_type": "execute_result"
    }
   ],
   "source": [
    "R.centers"
   ]
  },
  {
   "cell_type": "code",
   "execution_count": 18,
   "metadata": {},
   "outputs": [
    {
     "name": "stderr",
     "output_type": "stream",
     "text": [
      "┌ Info: Precompiling GR_jll [d2c73de3-f751-5644-a686-071e5b155ba9]\n",
      "└ @ Base loading.jl:1423\n",
      "\u001b[33m\u001b[1m┌ \u001b[22m\u001b[39m\u001b[33m\u001b[1mWarning: \u001b[22m\u001b[39mThe call to compilecache failed to create a usable precompiled cache file for Xorg_xkeyboard_config_jll [33bec58e-1273-512f-9401-5d533626f822]\n",
      "\u001b[33m\u001b[1m│ \u001b[22m\u001b[39m  exception = Required dependency Xorg_libxkbfile_jll [cc61e674-0454-545c-8b26-ed2c68acab7a] failed to load from a cache file.\n",
      "\u001b[33m\u001b[1m└ \u001b[22m\u001b[39m\u001b[90m@ Base loading.jl:1132\u001b[39m\n",
      "\u001b[33m\u001b[1m┌ \u001b[22m\u001b[39m\u001b[33m\u001b[1mWarning: \u001b[22m\u001b[39mThe call to compilecache failed to create a usable precompiled cache file for xkbcommon_jll [d8fb68d0-12a3-5cfd-a85a-d49703b185fd]\n",
      "\u001b[33m\u001b[1m│ \u001b[22m\u001b[39m  exception = Required dependency Xorg_libxkbfile_jll [cc61e674-0454-545c-8b26-ed2c68acab7a] failed to load from a cache file.\n",
      "\u001b[33m\u001b[1m└ \u001b[22m\u001b[39m\u001b[90m@ Base loading.jl:1132\u001b[39m\n",
      "\u001b[33m\u001b[1m┌ \u001b[22m\u001b[39m\u001b[33m\u001b[1mWarning: \u001b[22m\u001b[39mThe call to compilecache failed to create a usable precompiled cache file for Xorg_xkeyboard_config_jll [33bec58e-1273-512f-9401-5d533626f822]\n",
      "\u001b[33m\u001b[1m│ \u001b[22m\u001b[39m  exception = Required dependency Xorg_libxkbfile_jll [cc61e674-0454-545c-8b26-ed2c68acab7a] failed to load from a cache file.\n",
      "\u001b[33m\u001b[1m└ \u001b[22m\u001b[39m\u001b[90m@ Base loading.jl:1132\u001b[39m\n",
      "\u001b[33m\u001b[1m┌ \u001b[22m\u001b[39m\u001b[33m\u001b[1mWarning: \u001b[22m\u001b[39mThe call to compilecache failed to create a usable precompiled cache file for Qt5Base_jll [ea2cea3b-5b76-57ae-a6ef-0a8af62496e1]\n",
      "\u001b[33m\u001b[1m│ \u001b[22m\u001b[39m  exception = Required dependency Xorg_libxkbfile_jll [cc61e674-0454-545c-8b26-ed2c68acab7a] failed to load from a cache file.\n",
      "\u001b[33m\u001b[1m└ \u001b[22m\u001b[39m\u001b[90m@ Base loading.jl:1132\u001b[39m\n",
      "\u001b[33m\u001b[1m┌ \u001b[22m\u001b[39m\u001b[33m\u001b[1mWarning: \u001b[22m\u001b[39mThe call to compilecache failed to create a usable precompiled cache file for Xorg_xkeyboard_config_jll [33bec58e-1273-512f-9401-5d533626f822]\n",
      "\u001b[33m\u001b[1m│ \u001b[22m\u001b[39m  exception = Required dependency Xorg_libxkbfile_jll [cc61e674-0454-545c-8b26-ed2c68acab7a] failed to load from a cache file.\n",
      "\u001b[33m\u001b[1m└ \u001b[22m\u001b[39m\u001b[90m@ Base loading.jl:1132\u001b[39m\n",
      "\u001b[33m\u001b[1m┌ \u001b[22m\u001b[39m\u001b[33m\u001b[1mWarning: \u001b[22m\u001b[39mThe call to compilecache failed to create a usable precompiled cache file for xkbcommon_jll [d8fb68d0-12a3-5cfd-a85a-d49703b185fd]\n",
      "\u001b[33m\u001b[1m│ \u001b[22m\u001b[39m  exception = Required dependency Xorg_libxkbfile_jll [cc61e674-0454-545c-8b26-ed2c68acab7a] failed to load from a cache file.\n",
      "\u001b[33m\u001b[1m└ \u001b[22m\u001b[39m\u001b[90m@ Base loading.jl:1132\u001b[39m\n",
      "\u001b[33m\u001b[1m┌ \u001b[22m\u001b[39m\u001b[33m\u001b[1mWarning: \u001b[22m\u001b[39mThe call to compilecache failed to create a usable precompiled cache file for Xorg_xkeyboard_config_jll [33bec58e-1273-512f-9401-5d533626f822]\n",
      "\u001b[33m\u001b[1m│ \u001b[22m\u001b[39m  exception = Required dependency Xorg_libxkbfile_jll [cc61e674-0454-545c-8b26-ed2c68acab7a] failed to load from a cache file.\n",
      "\u001b[33m\u001b[1m└ \u001b[22m\u001b[39m\u001b[90m@ Base loading.jl:1132\u001b[39m\n",
      "┌ Warning: The call to compilecache failed to create a usable precompiled cache file for GR_jll [d2c73de3-f751-5644-a686-071e5b155ba9]\n",
      "│   exception = ErrorException(\"Required dependency Xorg_libxkbfile_jll [cc61e674-0454-545c-8b26-ed2c68acab7a] failed to load from a cache file.\")\n",
      "└ @ Base loading.jl:1132\n",
      "┌ Info: Precompiling Qt5Base_jll [ea2cea3b-5b76-57ae-a6ef-0a8af62496e1]\n",
      "└ @ Base loading.jl:1423\n",
      "\u001b[33m\u001b[1m┌ \u001b[22m\u001b[39m\u001b[33m\u001b[1mWarning: \u001b[22m\u001b[39mThe call to compilecache failed to create a usable precompiled cache file for Xorg_xkeyboard_config_jll [33bec58e-1273-512f-9401-5d533626f822]\n",
      "\u001b[33m\u001b[1m│ \u001b[22m\u001b[39m  exception = Required dependency Xorg_libxkbfile_jll [cc61e674-0454-545c-8b26-ed2c68acab7a] failed to load from a cache file.\n",
      "\u001b[33m\u001b[1m└ \u001b[22m\u001b[39m\u001b[90m@ Base loading.jl:1132\u001b[39m\n",
      "\u001b[33m\u001b[1m┌ \u001b[22m\u001b[39m\u001b[33m\u001b[1mWarning: \u001b[22m\u001b[39mThe call to compilecache failed to create a usable precompiled cache file for xkbcommon_jll [d8fb68d0-12a3-5cfd-a85a-d49703b185fd]\n",
      "\u001b[33m\u001b[1m│ \u001b[22m\u001b[39m  exception = Required dependency Xorg_libxkbfile_jll [cc61e674-0454-545c-8b26-ed2c68acab7a] failed to load from a cache file.\n",
      "\u001b[33m\u001b[1m└ \u001b[22m\u001b[39m\u001b[90m@ Base loading.jl:1132\u001b[39m\n",
      "\u001b[33m\u001b[1m┌ \u001b[22m\u001b[39m\u001b[33m\u001b[1mWarning: \u001b[22m\u001b[39mThe call to compilecache failed to create a usable precompiled cache file for Xorg_xkeyboard_config_jll [33bec58e-1273-512f-9401-5d533626f822]\n",
      "\u001b[33m\u001b[1m│ \u001b[22m\u001b[39m  exception = Required dependency Xorg_libxkbfile_jll [cc61e674-0454-545c-8b26-ed2c68acab7a] failed to load from a cache file.\n",
      "\u001b[33m\u001b[1m└ \u001b[22m\u001b[39m\u001b[90m@ Base loading.jl:1132\u001b[39m\n",
      "┌ Warning: The call to compilecache failed to create a usable precompiled cache file for Qt5Base_jll [ea2cea3b-5b76-57ae-a6ef-0a8af62496e1]\n",
      "│   exception = ErrorException(\"Required dependency Xorg_libxkbfile_jll [cc61e674-0454-545c-8b26-ed2c68acab7a] failed to load from a cache file.\")\n",
      "└ @ Base loading.jl:1132\n",
      "┌ Info: Precompiling xkbcommon_jll [d8fb68d0-12a3-5cfd-a85a-d49703b185fd]\n",
      "└ @ Base loading.jl:1423\n",
      "\u001b[33m\u001b[1m┌ \u001b[22m\u001b[39m\u001b[33m\u001b[1mWarning: \u001b[22m\u001b[39mThe call to compilecache failed to create a usable precompiled cache file for Xorg_xkeyboard_config_jll [33bec58e-1273-512f-9401-5d533626f822]\n",
      "\u001b[33m\u001b[1m│ \u001b[22m\u001b[39m  exception = Required dependency Xorg_libxkbfile_jll [cc61e674-0454-545c-8b26-ed2c68acab7a] failed to load from a cache file.\n",
      "\u001b[33m\u001b[1m└ \u001b[22m\u001b[39m\u001b[90m@ Base loading.jl:1132\u001b[39m\n",
      "┌ Warning: The call to compilecache failed to create a usable precompiled cache file for xkbcommon_jll [d8fb68d0-12a3-5cfd-a85a-d49703b185fd]\n",
      "│   exception = ErrorException(\"Required dependency Xorg_libxkbfile_jll [cc61e674-0454-545c-8b26-ed2c68acab7a] failed to load from a cache file.\")\n",
      "└ @ Base loading.jl:1132\n",
      "┌ Info: Precompiling Xorg_xkeyboard_config_jll [33bec58e-1273-512f-9401-5d533626f822]\n",
      "└ @ Base loading.jl:1423\n",
      "┌ Warning: The call to compilecache failed to create a usable precompiled cache file for Xorg_xkeyboard_config_jll [33bec58e-1273-512f-9401-5d533626f822]\n",
      "│   exception = ErrorException(\"Required dependency Xorg_libxkbfile_jll [cc61e674-0454-545c-8b26-ed2c68acab7a] failed to load from a cache file.\")\n",
      "└ @ Base loading.jl:1132\n"
     ]
    }
   ],
   "source": [
    "p = scatter(reconstructed[1,:], reconstructed[2,:], reconstructed[3,:], marker_z = R.assignments, label = \"Instances\", size = (1920,1080))\n",
    "scatter!([reconstructed[1,pos]],[ reconstructed[2,pos]], [reconstructed[3,pos]], marker_z = R.assignments, markersize = 11, marker=:octagon,color=:blue, label = \"PerMOF\")\n",
    "scatter!(R.centers[1,:], R.centers[2,:], R.centers[3,:], marker = :diamond, markersize = 9, label = \"Centers\")\n",
    "savefig(\"clustels.png\")"
   ]
  },
  {
   "cell_type": "code",
   "execution_count": 19,
   "metadata": {},
   "outputs": [],
   "source": [
    "lbls = [ lbl[begin:end-4] for lbl in labels]\n",
    "mapping = Dict(k => v for (k,v) in zip(lbls,R.assignments));"
   ]
  },
  {
   "cell_type": "code",
   "execution_count": 158,
   "metadata": {},
   "outputs": [
    {
     "name": "stdout",
     "output_type": "stream",
     "text": [
      "La referencia está en el cluster 4\n"
     ]
    }
   ],
   "source": [
    "println(\"La referencia está en el cluster $(R.assignments[pos])\")"
   ]
  },
  {
   "cell_type": "code",
   "execution_count": 121,
   "metadata": {},
   "outputs": [],
   "source": [
    "df_fsr = filter(\n",
    "    x -> x.filename ∈ labels .|> label -> label[begin:end - 4] ,\n",
    "    master_df\n",
    ")\n",
    "df_fsr.\"cluster_assignment\" = map(filename -> mapping[filename], df_fsr.filename);"
   ]
  },
  {
   "cell_type": "code",
   "execution_count": 122,
   "metadata": {},
   "outputs": [],
   "source": [
    "dist = Euclidean()\n",
    "pwdist = pairwise(dist,reconstructed, dims=2)\n",
    "idx10masparecidos = partialsortperm(pwdist[pos,2:end], 1:10); \n"
   ]
  },
  {
   "cell_type": "code",
   "execution_count": 114,
   "metadata": {},
   "outputs": [],
   "source": [
    "idx100masparecidos = partialsortperm(pwdist[pos,2:end], 1:100) \n",
    "los100masconref = hcat(reconstructed[:,idx100masparecidos], reconstructed[:,pos])\n",
    "pw100 = pairwise(dist,los100masconref,dims=2)\n",
    "\n",
    "hc = hclust(pw100)\n",
    "plot(hc, size = (6000,3000))\n",
    "savefig(\"hclust.png\")"
   ]
  },
  {
   "cell_type": "code",
   "execution_count": 152,
   "metadata": {},
   "outputs": [
    {
     "data": {
      "text/plain": [
       "hierarchical_clustering (generic function with 6 methods)"
      ]
     },
     "execution_count": 152,
     "metadata": {},
     "output_type": "execute_result"
    }
   ],
   "source": [
    "function hierarchical_clustering(pca_otp::Any, n::Union{Bool,T}, pos_ref::T, labels ) where {T <: Int, S}\n",
    "    dist = Euclidean()\n",
    "    pairwise_distance = pairwise(dist, pca_otp, dims = 2)\n",
    "    if n != :false\n",
    "        indeces = partialsortperm(pairwise_distance[pos_ref,2:end], 1:n)\n",
    "        ipt = hcat(pca_otp[:,indeces], pca_otp[:,pos_ref])\n",
    "        pairwise_distance = pairwise(dist, ipt, dims = 2)\n",
    "        for (n,idx) in enumerate(indeces)\n",
    "            println(\"Indice $n es $(labels[idx])\")\n",
    "        end\n",
    "    end\n",
    "    pos_ref = n + 1\n",
    "    println(\"Ref es el nro $pos_ref\")\n",
    "    hclust(pairwise_distance)\n",
    "end"
   ]
  },
  {
   "cell_type": "code",
   "execution_count": 156,
   "metadata": {},
   "outputs": [
    {
     "name": "stdout",
     "output_type": "stream",
     "text": [
      "Indice 1 es NIWZIE10_freeONLY.cif\n",
      "Indice 2 es c5dt00281h_c5dt00281h2_freeONLY.cif\n",
      "Indice 3 es ETUWOG_freeONLY.cif\n",
      "Indice 4 es BASJUB_freeONLY.cif\n",
      "Indice 5 es cm303749m_si_001_freeONLY.cif\n",
      "Indice 6 es PUBSIP_freeONLY.cif\n",
      "Indice 7 es AHOKIR01_freeONLY.cif\n",
      "Indice 8 es FAVGER_freeONLY.cif\n",
      "Indice 9 es AWAREV_freeONLY.cif\n",
      "Indice 10 es QOSJUF_freeONLY.cif\n",
      "Ref es el nro 11\n"
     ]
    },
    {
     "data": {
      "image/svg+xml": "<?xml version=\"1.0\" encoding=\"UTF-8\"?>\n<svg xmlns=\"http://www.w3.org/2000/svg\" xmlns:xlink=\"http://www.w3.org/1999/xlink\" width=\"665.093pt\" height=\"359.364pt\" viewBox=\"0 0 665.093 359.364\" version=\"1.2\">\n<defs>\n<g>\n<symbol overflow=\"visible\" id=\"glyph-1649445577806465-0-0\">\n<path style=\"stroke:none;\" d=\"\"/>\n</symbol>\n<symbol overflow=\"visible\" id=\"glyph-1649445577806465-0-1\">\n<path style=\"stroke:none;\" d=\"M 2.5 -5.0625 C 2.5 -5.28125 2.484375 -5.28125 2.265625 -5.28125 C 1.9375 -4.96875 1.515625 -4.78125 0.765625 -4.78125 L 0.765625 -4.515625 C 0.984375 -4.515625 1.40625 -4.515625 1.875 -4.734375 L 1.875 -0.65625 C 1.875 -0.359375 1.84375 -0.265625 1.09375 -0.265625 L 0.8125 -0.265625 L 0.8125 0 C 1.140625 -0.03125 1.828125 -0.03125 2.171875 -0.03125 C 2.53125 -0.03125 3.234375 -0.03125 3.5625 0 L 3.5625 -0.265625 L 3.28125 -0.265625 C 2.515625 -0.265625 2.5 -0.359375 2.5 -0.65625 Z M 2.5 -5.0625 \"/>\n</symbol>\n<symbol overflow=\"visible\" id=\"glyph-1649445577806465-0-2\">\n<path style=\"stroke:none;\" d=\"M 4.03125 -4.84375 C 4.09375 -4.9375 4.09375 -4.953125 4.09375 -5.125 L 2.078125 -5.125 C 1.875 -5.125 1.625 -5.125 1.4375 -5.140625 C 1.015625 -5.171875 1.015625 -5.25 0.984375 -5.375 L 0.734375 -5.375 L 0.46875 -3.703125 L 0.71875 -3.703125 C 0.734375 -3.8125 0.8125 -4.359375 0.9375 -4.4375 C 1.015625 -4.46875 1.609375 -4.46875 1.734375 -4.46875 L 3.421875 -4.46875 L 2.59375 -3.375 C 1.6875 -2.15625 1.5 -0.90625 1.5 -0.28125 C 1.5 -0.203125 1.5 0.171875 1.875 0.171875 C 2.25 0.171875 2.25 -0.1875 2.25 -0.28125 L 2.25 -0.671875 C 2.25 -1.8125 2.4375 -2.75 2.828125 -3.265625 Z M 4.03125 -4.84375 \"/>\n</symbol>\n<symbol overflow=\"visible\" id=\"glyph-1649445577806465-0-3\">\n<path style=\"stroke:none;\" d=\"M 3.125 -2.34375 C 3.125 -0.40625 2.1875 -0.078125 1.734375 -0.078125 C 1.5625 -0.078125 1.15625 -0.09375 0.9375 -0.34375 C 1.28125 -0.375 1.3125 -0.640625 1.3125 -0.71875 C 1.3125 -0.953125 1.125 -1.09375 0.9375 -1.09375 C 0.796875 -1.09375 0.5625 -1 0.5625 -0.703125 C 0.5625 -0.15625 1.015625 0.171875 1.734375 0.171875 C 2.828125 0.171875 3.859375 -0.921875 3.859375 -2.609375 C 3.859375 -4.6875 2.953125 -5.28125 2.125 -5.28125 C 1.1875 -5.28125 0.34375 -4.5625 0.34375 -3.515625 C 0.34375 -2.484375 1.125 -1.734375 2.015625 -1.734375 C 2.578125 -1.734375 2.921875 -2.09375 3.125 -2.5 Z M 2.046875 -1.96875 C 1.6875 -1.96875 1.453125 -2.125 1.28125 -2.421875 C 1.09375 -2.71875 1.09375 -3.109375 1.09375 -3.5 C 1.09375 -3.984375 1.09375 -4.3125 1.3125 -4.640625 C 1.515625 -4.921875 1.765625 -5.078125 2.140625 -5.078125 C 2.671875 -5.078125 2.90625 -4.5625 2.921875 -4.515625 C 3.09375 -4.125 3.109375 -3.5 3.109375 -3.34375 C 3.109375 -2.71875 2.765625 -1.96875 2.046875 -1.96875 Z M 2.046875 -1.96875 \"/>\n</symbol>\n<symbol overflow=\"visible\" id=\"glyph-1649445577806465-0-4\">\n<path style=\"stroke:none;\" d=\"M 2.25 -1.625 C 2.375 -1.734375 2.703125 -2 2.828125 -2.109375 C 3.328125 -2.5625 3.796875 -3 3.796875 -3.734375 C 3.796875 -4.671875 3 -5.28125 2 -5.28125 C 1.046875 -5.28125 0.421875 -4.5625 0.421875 -3.859375 C 0.421875 -3.46875 0.734375 -3.40625 0.84375 -3.40625 C 1.015625 -3.40625 1.25 -3.53125 1.25 -3.828125 C 1.25 -4.25 0.859375 -4.25 0.765625 -4.25 C 1 -4.828125 1.53125 -5.03125 1.921875 -5.03125 C 2.65625 -5.03125 3.03125 -4.390625 3.03125 -3.734375 C 3.03125 -2.90625 2.453125 -2.296875 1.515625 -1.34375 L 0.515625 -0.296875 C 0.421875 -0.21875 0.421875 -0.203125 0.421875 0 L 3.5625 0 L 3.796875 -1.421875 L 3.546875 -1.421875 C 3.515625 -1.265625 3.453125 -0.859375 3.359375 -0.71875 C 3.3125 -0.65625 2.71875 -0.65625 2.578125 -0.65625 L 1.171875 -0.65625 Z M 2.25 -1.625 \"/>\n</symbol>\n<symbol overflow=\"visible\" id=\"glyph-1649445577806465-0-5\">\n<path style=\"stroke:none;\" d=\"M 1.09375 -2.625 C 1.09375 -3.296875 1.15625 -3.875 1.4375 -4.359375 C 1.671875 -4.75 2.078125 -5.078125 2.578125 -5.078125 C 2.75 -5.078125 3.109375 -5.0625 3.296875 -4.78125 C 2.9375 -4.765625 2.90625 -4.5 2.90625 -4.40625 C 2.90625 -4.171875 3.078125 -4.03125 3.28125 -4.03125 C 3.421875 -4.03125 3.65625 -4.125 3.65625 -4.421875 C 3.65625 -4.90625 3.296875 -5.28125 2.578125 -5.28125 C 1.46875 -5.28125 0.34375 -4.234375 0.34375 -2.515625 C 0.34375 -0.359375 1.359375 0.171875 2.125 0.171875 C 2.5 0.171875 2.921875 0.0625 3.28125 -0.28125 C 3.59375 -0.59375 3.859375 -0.921875 3.859375 -1.609375 C 3.859375 -2.65625 3.078125 -3.390625 2.1875 -3.390625 C 1.625 -3.390625 1.28125 -3.015625 1.09375 -2.625 Z M 2.125 -0.078125 C 1.703125 -0.078125 1.4375 -0.359375 1.3125 -0.59375 C 1.140625 -0.953125 1.125 -1.484375 1.125 -1.796875 C 1.125 -2.578125 1.546875 -3.171875 2.15625 -3.171875 C 2.5625 -3.171875 2.796875 -2.953125 2.953125 -2.6875 C 3.125 -2.390625 3.125 -2.03125 3.125 -1.625 C 3.125 -1.21875 3.125 -0.859375 2.953125 -0.578125 C 2.75 -0.21875 2.46875 -0.078125 2.125 -0.078125 Z M 2.125 -0.078125 \"/>\n</symbol>\n<symbol overflow=\"visible\" id=\"glyph-1649445577806465-0-6\">\n<path style=\"stroke:none;\" d=\"M 2.015625 -2.65625 C 2.640625 -2.65625 3.03125 -2.1875 3.03125 -1.359375 C 3.03125 -0.359375 2.46875 -0.078125 2.046875 -0.078125 C 1.609375 -0.078125 1.015625 -0.234375 0.734375 -0.65625 C 1.03125 -0.65625 1.21875 -0.828125 1.21875 -1.09375 C 1.21875 -1.359375 1.046875 -1.53125 0.78125 -1.53125 C 0.578125 -1.53125 0.34375 -1.40625 0.34375 -1.078125 C 0.34375 -0.328125 1.15625 0.171875 2.0625 0.171875 C 3.125 0.171875 3.859375 -0.5625 3.859375 -1.359375 C 3.859375 -2.015625 3.34375 -2.625 2.53125 -2.796875 C 3.15625 -3.015625 3.625 -3.5625 3.625 -4.203125 C 3.625 -4.828125 2.90625 -5.28125 2.078125 -5.28125 C 1.234375 -5.28125 0.59375 -4.828125 0.59375 -4.21875 C 0.59375 -3.921875 0.78125 -3.796875 1 -3.796875 C 1.234375 -3.796875 1.40625 -3.984375 1.40625 -4.203125 C 1.40625 -4.5 1.140625 -4.609375 0.96875 -4.625 C 1.296875 -5.0625 1.921875 -5.078125 2.0625 -5.078125 C 2.265625 -5.078125 2.875 -5.015625 2.875 -4.203125 C 2.875 -3.640625 2.640625 -3.3125 2.53125 -3.1875 C 2.296875 -2.9375 2.109375 -2.921875 1.625 -2.890625 C 1.46875 -2.875 1.40625 -2.875 1.40625 -2.765625 C 1.40625 -2.65625 1.484375 -2.65625 1.609375 -2.65625 Z M 2.015625 -2.65625 \"/>\n</symbol>\n<symbol overflow=\"visible\" id=\"glyph-1649445577806465-0-7\">\n<path style=\"stroke:none;\" d=\"M 3.140625 -5.140625 C 3.140625 -5.3125 3.140625 -5.375 2.96875 -5.375 C 2.859375 -5.375 2.859375 -5.359375 2.78125 -5.25 L 0.234375 -1.5625 L 0.234375 -1.296875 L 2.484375 -1.296875 L 2.484375 -0.640625 C 2.484375 -0.34375 2.453125 -0.265625 1.84375 -0.265625 L 1.65625 -0.265625 L 1.65625 0 C 2.34375 -0.03125 2.359375 -0.03125 2.8125 -0.03125 C 3.265625 -0.03125 3.28125 -0.03125 3.953125 0 L 3.953125 -0.265625 L 3.765625 -0.265625 C 3.15625 -0.265625 3.140625 -0.34375 3.140625 -0.640625 L 3.140625 -1.296875 L 3.984375 -1.296875 L 3.984375 -1.5625 L 3.140625 -1.5625 Z M 2.53125 -4.5 L 2.53125 -1.5625 L 0.515625 -1.5625 Z M 2.53125 -4.5 \"/>\n</symbol>\n<symbol overflow=\"visible\" id=\"glyph-1649445577806465-0-8\">\n<path style=\"stroke:none;\" d=\"M 1.109375 -4.46875 C 1.21875 -4.4375 1.53125 -4.359375 1.875 -4.359375 C 2.859375 -4.359375 3.46875 -5.0625 3.46875 -5.171875 C 3.46875 -5.265625 3.40625 -5.28125 3.375 -5.28125 C 3.359375 -5.28125 3.34375 -5.28125 3.265625 -5.25 C 2.953125 -5.125 2.59375 -5.03125 2.15625 -5.03125 C 1.6875 -5.03125 1.296875 -5.15625 1.0625 -5.25 C 0.984375 -5.28125 0.96875 -5.28125 0.953125 -5.28125 C 0.84375 -5.28125 0.84375 -5.203125 0.84375 -5.0625 L 0.84375 -2.734375 C 0.84375 -2.578125 0.84375 -2.484375 0.984375 -2.484375 C 1.046875 -2.484375 1.0625 -2.515625 1.109375 -2.578125 C 1.203125 -2.703125 1.5 -3.109375 2.171875 -3.109375 C 2.625 -3.109375 2.84375 -2.75 2.90625 -2.59375 C 3.046875 -2.3125 3.0625 -1.9375 3.0625 -1.625 C 3.0625 -1.34375 3.046875 -0.90625 2.828125 -0.5625 C 2.6875 -0.3125 2.359375 -0.078125 1.9375 -0.078125 C 1.421875 -0.078125 0.921875 -0.390625 0.734375 -0.921875 C 0.75 -0.90625 0.796875 -0.90625 0.8125 -0.90625 C 1.03125 -0.90625 1.203125 -1.046875 1.203125 -1.296875 C 1.203125 -1.59375 0.984375 -1.6875 0.8125 -1.6875 C 0.671875 -1.6875 0.421875 -1.609375 0.421875 -1.265625 C 0.421875 -0.5625 1.046875 0.171875 1.953125 0.171875 C 2.953125 0.171875 3.796875 -0.609375 3.796875 -1.59375 C 3.796875 -2.515625 3.125 -3.328125 2.1875 -3.328125 C 1.796875 -3.328125 1.421875 -3.203125 1.109375 -2.9375 Z M 1.109375 -4.46875 \"/>\n</symbol>\n<symbol overflow=\"visible\" id=\"glyph-1649445577806465-0-9\">\n<path style=\"stroke:none;\" d=\"M 2.640625 -2.875 C 3.078125 -3.078125 3.625 -3.484375 3.625 -4.109375 C 3.625 -4.859375 2.859375 -5.28125 2.109375 -5.28125 C 1.265625 -5.28125 0.59375 -4.703125 0.59375 -3.953125 C 0.59375 -3.671875 0.6875 -3.390625 0.890625 -3.171875 C 1.03125 -3 1.0625 -2.984375 1.546875 -2.671875 C 0.5625 -2.234375 0.34375 -1.65625 0.34375 -1.203125 C 0.34375 -0.328125 1.234375 0.171875 2.09375 0.171875 C 3.078125 0.171875 3.859375 -0.5 3.859375 -1.34375 C 3.859375 -1.84375 3.59375 -2.171875 3.46875 -2.3125 C 3.328125 -2.4375 3.328125 -2.4375 2.640625 -2.875 Z M 1.40625 -3.625 C 1.171875 -3.75 0.984375 -3.984375 0.984375 -4.265625 C 0.984375 -4.765625 1.53125 -5.078125 2.09375 -5.078125 C 2.71875 -5.078125 3.234375 -4.65625 3.234375 -4.109375 C 3.234375 -3.640625 2.875 -3.25 2.40625 -3.015625 Z M 1.796875 -2.53125 C 1.828125 -2.515625 2.734375 -1.953125 2.875 -1.875 C 3 -1.796875 3.40625 -1.546875 3.40625 -1.0625 C 3.40625 -0.453125 2.765625 -0.078125 2.109375 -0.078125 C 1.40625 -0.078125 0.796875 -0.5625 0.796875 -1.203125 C 0.796875 -1.8125 1.25 -2.28125 1.796875 -2.53125 Z M 1.796875 -2.53125 \"/>\n</symbol>\n<symbol overflow=\"visible\" id=\"glyph-1649445577806465-0-10\">\n<path style=\"stroke:none;\" d=\"M 3.890625 -2.53125 C 3.890625 -3.390625 3.796875 -3.90625 3.546875 -4.40625 C 3.1875 -5.109375 2.546875 -5.28125 2.109375 -5.28125 C 1.109375 -5.28125 0.734375 -4.546875 0.625 -4.3125 C 0.34375 -3.734375 0.328125 -2.953125 0.328125 -2.53125 C 0.328125 -2.015625 0.34375 -1.203125 0.734375 -0.578125 C 1.09375 0.015625 1.6875 0.171875 2.109375 0.171875 C 2.484375 0.171875 3.171875 0.046875 3.578125 -0.734375 C 3.859375 -1.3125 3.890625 -2.015625 3.890625 -2.53125 Z M 2.109375 -0.0625 C 1.84375 -0.0625 1.28125 -0.1875 1.125 -1.015625 C 1.03125 -1.46875 1.03125 -2.21875 1.03125 -2.625 C 1.03125 -3.1875 1.03125 -3.734375 1.125 -4.171875 C 1.28125 -4.984375 1.90625 -5.0625 2.109375 -5.0625 C 2.375 -5.0625 2.921875 -4.9375 3.078125 -4.203125 C 3.1875 -3.765625 3.1875 -3.171875 3.1875 -2.625 C 3.1875 -2.15625 3.1875 -1.453125 3.078125 -1 C 2.921875 -0.171875 2.375 -0.0625 2.109375 -0.0625 Z M 2.109375 -0.0625 \"/>\n</symbol>\n</g>\n<clipPath id=\"clip-1649445577806465-1\">\n  <path d=\"M 0.136719 0 L 664.054688 0 L 664.054688 358.730469 L 0.136719 358.730469 Z M 0.136719 0 \"/>\n</clipPath>\n<clipPath id=\"clip-1649445577806465-2\">\n  <path d=\"M 455 271 L 515 271 L 515 342.488281 L 455 342.488281 Z M 455 271 \"/>\n</clipPath>\n<clipPath id=\"clip-1649445577806465-3\">\n  <path d=\"M 106 255 L 166 255 L 166 342.488281 L 106 342.488281 Z M 106 255 \"/>\n</clipPath>\n<clipPath id=\"clip-1649445577806465-4\">\n  <path d=\"M 338 227 L 399 227 L 399 342.488281 L 338 342.488281 Z M 338 227 \"/>\n</clipPath>\n<clipPath id=\"clip-1649445577806465-5\">\n  <path d=\"M 571 223 L 631 223 L 631 342.488281 L 571 342.488281 Z M 571 223 \"/>\n</clipPath>\n<clipPath id=\"clip-1649445577806465-6\">\n  <path d=\"M 280 218 L 370 218 L 370 342.488281 L 280 342.488281 Z M 280 218 \"/>\n</clipPath>\n<clipPath id=\"clip-1649445577806465-7\">\n  <path d=\"M 222 194 L 326 194 L 326 342.488281 L 222 342.488281 Z M 222 194 \"/>\n</clipPath>\n<clipPath id=\"clip-1649445577806465-8\">\n  <path d=\"M 48 4.78125 L 273 4.78125 L 273 342.488281 L 48 342.488281 Z M 48 4.78125 \"/>\n</clipPath>\n</defs>\n<g id=\"surface1\">\n<g clip-path=\"url(#clip-1649445577806465-1)\" clip-rule=\"nonzero\">\n<path style=\" stroke:none;fill-rule:nonzero;fill:rgb(100%,100%,100%);fill-opacity:1;\" d=\"M 0.136719 358.730469 L 664.054688 358.730469 L 664.054688 0 L 0.136719 0 Z M 0.136719 358.730469 \"/>\n<path style=\" stroke:none;fill-rule:nonzero;fill:rgb(100%,100%,100%);fill-opacity:1;\" d=\"M 0.132812 358.734375 L 0.132812 0 L 664.0625 0 L 664.0625 358.734375 Z M 0.132812 358.734375 \"/>\n</g>\n<path style=\" stroke:none;fill-rule:nonzero;fill:rgb(100%,100%,100%);fill-opacity:1;\" d=\"M 19.703125 342.488281 L 659.277344 342.488281 L 659.277344 4.78125 L 19.703125 4.78125 Z M 19.703125 342.488281 \"/>\n<path style=\"fill:none;stroke-width:0.49814;stroke-linecap:butt;stroke-linejoin:miter;stroke:rgb(0%,0%,0%);stroke-opacity:0.1;stroke-miterlimit:10;\" d=\"M -0.0000431095 -0.000414716 L 640.70609 -0.000414716 M -0.0000431095 54.65865 L 640.70609 54.65865 M -0.0000431095 109.321627 L 640.70609 109.321627 M -0.0000431095 163.980691 L 640.70609 163.980691 M -0.0000431095 218.639756 L 640.70609 218.639756 M -0.0000431095 273.302733 L 640.70609 273.302733 M -0.0000431095 327.961798 L 640.70609 327.961798 \" transform=\"matrix(0.998233,0,0,-0.998233,19.703168,342.487867)\"/>\n<path style=\"fill:none;stroke-width:0.19925;stroke-linecap:butt;stroke-linejoin:miter;stroke:rgb(100%,100%,100%);stroke-opacity:1;stroke-miterlimit:10;\" d=\"M 29.121718 -0.000414716 L 29.121718 4.253194 M 87.369153 -0.000414716 L 87.369153 4.253194 M 145.616588 -0.000414716 L 145.616588 4.253194 M 203.86011 -0.000414716 L 203.86011 4.253194 M 262.107545 -0.000414716 L 262.107545 4.253194 M 320.35498 -0.000414716 L 320.35498 4.253194 M 378.598502 -0.000414716 L 378.598502 4.253194 M 436.845937 -0.000414716 L 436.845937 4.253194 M 495.093372 -0.000414716 L 495.093372 4.253194 M 553.336894 -0.000414716 L 553.336894 4.253194 M 611.584329 -0.000414716 L 611.584329 4.253194 \" transform=\"matrix(0.998233,0,0,-0.998233,19.703168,342.487867)\"/>\n<path style=\"fill:none;stroke-width:0.19925;stroke-linecap:butt;stroke-linejoin:miter;stroke:rgb(0%,0%,0%);stroke-opacity:1;stroke-miterlimit:10;\" d=\"M -0.0000431095 -0.000414716 L 4.249652 -0.000414716 M -0.0000431095 54.65865 L 4.249652 54.65865 M -0.0000431095 109.321627 L 4.249652 109.321627 M -0.0000431095 163.980691 L 4.249652 163.980691 M -0.0000431095 218.639756 L 4.249652 218.639756 M -0.0000431095 273.302733 L 4.249652 273.302733 M -0.0000431095 327.961798 L 4.249652 327.961798 \" transform=\"matrix(0.998233,0,0,-0.998233,19.703168,342.487867)\"/>\n<path style=\"fill:none;stroke-width:0.99628;stroke-linecap:butt;stroke-linejoin:miter;stroke:rgb(0%,0%,0%);stroke-opacity:1;stroke-miterlimit:10;\" d=\"M -0.0000431095 -0.000414716 L 640.70609 -0.000414716 \" transform=\"matrix(0.998233,0,0,-0.998233,19.703168,342.487867)\"/>\n<path style=\"fill:none;stroke-width:0.99628;stroke-linecap:butt;stroke-linejoin:miter;stroke:rgb(0%,0%,0%);stroke-opacity:1;stroke-miterlimit:10;\" d=\"M -0.0000431095 -0.000414716 L -0.0000431095 338.304288 \" transform=\"matrix(0.998233,0,0,-0.998233,19.703168,342.487867)\"/>\n<g style=\"fill:rgb(0%,0%,0%);fill-opacity:1;\">\n  <use xlink:href=\"#glyph-1649445577806465-0-1\" x=\"46.660459\" y=\"351.128575\"/>\n</g>\n<g style=\"fill:rgb(0%,0%,0%);fill-opacity:1;\">\n  <use xlink:href=\"#glyph-1649445577806465-0-2\" x=\"104.80256\" y=\"351.128575\"/>\n</g>\n<g style=\"fill:rgb(0%,0%,0%);fill-opacity:1;\">\n  <use xlink:href=\"#glyph-1649445577806465-0-3\" x=\"162.945658\" y=\"351.128575\"/>\n</g>\n<g style=\"fill:rgb(0%,0%,0%);fill-opacity:1;\">\n  <use xlink:href=\"#glyph-1649445577806465-0-4\" x=\"221.087759\" y=\"351.128575\"/>\n</g>\n<g style=\"fill:rgb(0%,0%,0%);fill-opacity:1;\">\n  <use xlink:href=\"#glyph-1649445577806465-0-5\" x=\"279.229859\" y=\"351.128575\"/>\n</g>\n<g style=\"fill:rgb(0%,0%,0%);fill-opacity:1;\">\n  <use xlink:href=\"#glyph-1649445577806465-0-6\" x=\"337.372958\" y=\"351.128575\"/>\n</g>\n<g style=\"fill:rgb(0%,0%,0%);fill-opacity:1;\">\n  <use xlink:href=\"#glyph-1649445577806465-0-7\" x=\"395.515059\" y=\"351.128575\"/>\n</g>\n<g style=\"fill:rgb(0%,0%,0%);fill-opacity:1;\">\n  <use xlink:href=\"#glyph-1649445577806465-0-8\" x=\"453.657159\" y=\"351.128575\"/>\n</g>\n<g style=\"fill:rgb(0%,0%,0%);fill-opacity:1;\">\n  <use xlink:href=\"#glyph-1649445577806465-0-1\" x=\"509.686998\" y=\"351.128575\"/>\n  <use xlink:href=\"#glyph-1649445577806465-0-1\" x=\"513.914036\" y=\"351.128575\"/>\n</g>\n<g style=\"fill:rgb(0%,0%,0%);fill-opacity:1;\">\n  <use xlink:href=\"#glyph-1649445577806465-0-9\" x=\"569.942358\" y=\"351.128575\"/>\n</g>\n<g style=\"fill:rgb(0%,0%,0%);fill-opacity:1;\">\n  <use xlink:href=\"#glyph-1649445577806465-0-1\" x=\"625.971199\" y=\"351.128575\"/>\n  <use xlink:href=\"#glyph-1649445577806465-0-10\" x=\"630.198237\" y=\"351.128575\"/>\n</g>\n<g style=\"fill:rgb(0%,0%,0%);fill-opacity:1;\">\n  <use xlink:href=\"#glyph-1649445577806465-0-10\" x=\"11.962867\" y=\"345.05133\"/>\n</g>\n<g style=\"fill:rgb(0%,0%,0%);fill-opacity:1;\">\n  <use xlink:href=\"#glyph-1649445577806465-0-1\" x=\"7.735349\" y=\"290.487896\"/>\n  <use xlink:href=\"#glyph-1649445577806465-0-10\" x=\"11.962387\" y=\"290.487896\"/>\n</g>\n<g style=\"fill:rgb(0%,0%,0%);fill-opacity:1;\">\n  <use xlink:href=\"#glyph-1649445577806465-0-4\" x=\"7.735349\" y=\"235.925461\"/>\n  <use xlink:href=\"#glyph-1649445577806465-0-10\" x=\"11.962387\" y=\"235.925461\"/>\n</g>\n<g style=\"fill:rgb(0%,0%,0%);fill-opacity:1;\">\n  <use xlink:href=\"#glyph-1649445577806465-0-6\" x=\"7.735349\" y=\"181.362027\"/>\n  <use xlink:href=\"#glyph-1649445577806465-0-10\" x=\"11.962387\" y=\"181.362027\"/>\n</g>\n<g style=\"fill:rgb(0%,0%,0%);fill-opacity:1;\">\n  <use xlink:href=\"#glyph-1649445577806465-0-7\" x=\"7.735349\" y=\"126.799591\"/>\n  <use xlink:href=\"#glyph-1649445577806465-0-10\" x=\"11.962387\" y=\"126.799591\"/>\n</g>\n<g style=\"fill:rgb(0%,0%,0%);fill-opacity:1;\">\n  <use xlink:href=\"#glyph-1649445577806465-0-8\" x=\"7.735349\" y=\"72.236157\"/>\n  <use xlink:href=\"#glyph-1649445577806465-0-10\" x=\"11.962387\" y=\"72.236157\"/>\n</g>\n<g style=\"fill:rgb(0%,0%,0%);fill-opacity:1;\">\n  <use xlink:href=\"#glyph-1649445577806465-0-5\" x=\"7.735349\" y=\"17.672723\"/>\n  <use xlink:href=\"#glyph-1649445577806465-0-10\" x=\"11.962387\" y=\"17.672723\"/>\n</g>\n<g clip-path=\"url(#clip-1649445577806465-2)\" clip-rule=\"nonzero\">\n<path style=\"fill:none;stroke-width:0.99628;stroke-linecap:butt;stroke-linejoin:miter;stroke:rgb(0%,0%,0%);stroke-opacity:1;stroke-miterlimit:10;\" d=\"M 436.845937 -0.000414716 L 436.845937 70.690879 L 495.089459 70.690879 L 495.089459 -0.000414716 \" transform=\"matrix(0.998233,0,0,-0.998233,19.703168,342.487867)\"/>\n</g>\n<g clip-path=\"url(#clip-1649445577806465-3)\" clip-rule=\"nonzero\">\n<path style=\"fill:none;stroke-width:0.99628;stroke-linecap:butt;stroke-linejoin:miter;stroke:rgb(0%,0%,0%);stroke-opacity:1;stroke-miterlimit:10;\" d=\"M 87.369153 -0.000414716 L 87.369153 86.437448 L 145.616588 86.437448 L 145.616588 -0.000414716 \" transform=\"matrix(0.998233,0,0,-0.998233,19.703168,342.487867)\"/>\n</g>\n<g clip-path=\"url(#clip-1649445577806465-4)\" clip-rule=\"nonzero\">\n<path style=\"fill:none;stroke-width:0.99628;stroke-linecap:butt;stroke-linejoin:miter;stroke:rgb(0%,0%,0%);stroke-opacity:1;stroke-miterlimit:10;\" d=\"M 320.35498 -0.000414716 L 320.35498 114.612224 L 378.598502 114.612224 L 378.598502 -0.000414716 \" transform=\"matrix(0.998233,0,0,-0.998233,19.703168,342.487867)\"/>\n</g>\n<g clip-path=\"url(#clip-1649445577806465-5)\" clip-rule=\"nonzero\">\n<path style=\"fill:none;stroke-width:0.99628;stroke-linecap:butt;stroke-linejoin:miter;stroke:rgb(0%,0%,0%);stroke-opacity:1;stroke-miterlimit:10;\" d=\"M 553.336894 -0.000414716 L 553.336894 119.120188 L 611.584329 119.120188 L 611.584329 -0.000414716 \" transform=\"matrix(0.998233,0,0,-0.998233,19.703168,342.487867)\"/>\n</g>\n<g clip-path=\"url(#clip-1649445577806465-6)\" clip-rule=\"nonzero\">\n<path style=\"fill:none;stroke-width:0.99628;stroke-linecap:butt;stroke-linejoin:miter;stroke:rgb(0%,0%,0%);stroke-opacity:1;stroke-miterlimit:10;\" d=\"M 262.107545 -0.000414716 L 262.107545 124.101645 L 349.476741 124.101645 L 349.476741 114.612224 \" transform=\"matrix(0.998233,0,0,-0.998233,19.703168,342.487867)\"/>\n</g>\n<g clip-path=\"url(#clip-1649445577806465-7)\" clip-rule=\"nonzero\">\n<path style=\"fill:none;stroke-width:0.99628;stroke-linecap:butt;stroke-linejoin:miter;stroke:rgb(0%,0%,0%);stroke-opacity:1;stroke-miterlimit:10;\" d=\"M 203.86011 -0.000414716 L 203.86011 147.741064 L 305.790186 147.741064 L 305.790186 124.101645 \" transform=\"matrix(0.998233,0,0,-0.998233,19.703168,342.487867)\"/>\n</g>\n<path style=\"fill:none;stroke-width:0.99628;stroke-linecap:butt;stroke-linejoin:miter;stroke:rgb(0%,0%,0%);stroke-opacity:1;stroke-miterlimit:10;\" d=\"M 465.967698 70.690879 L 465.967698 167.475146 L 582.458655 167.475146 L 582.458655 119.120188 \" transform=\"matrix(0.998233,0,0,-0.998233,19.703168,342.487867)\"/>\n<path style=\"fill:none;stroke-width:0.99628;stroke-linecap:butt;stroke-linejoin:miter;stroke:rgb(0%,0%,0%);stroke-opacity:1;stroke-miterlimit:10;\" d=\"M 254.825148 147.741064 L 254.825148 183.773471 L 524.215133 183.773471 L 524.215133 167.475146 \" transform=\"matrix(0.998233,0,0,-0.998233,19.703168,342.487867)\"/>\n<path style=\"fill:none;stroke-width:0.99628;stroke-linecap:butt;stroke-linejoin:miter;stroke:rgb(0%,0%,0%);stroke-opacity:1;stroke-miterlimit:10;\" d=\"M 116.490914 86.437448 L 116.490914 271.397023 L 389.52014 271.397023 L 389.52014 183.773471 \" transform=\"matrix(0.998233,0,0,-0.998233,19.703168,342.487867)\"/>\n<g clip-path=\"url(#clip-1649445577806465-8)\" clip-rule=\"nonzero\">\n<path style=\"fill:none;stroke-width:0.99628;stroke-linecap:butt;stroke-linejoin:miter;stroke:rgb(0%,0%,0%);stroke-opacity:1;stroke-miterlimit:10;\" d=\"M 29.121718 -0.000414716 L 29.121718 338.308201 L 253.005527 338.308201 L 253.005527 271.397023 \" transform=\"matrix(0.998233,0,0,-0.998233,19.703168,342.487867)\"/>\n</g>\n</g>\n</svg>\n\n"
     },
     "execution_count": 156,
     "metadata": {},
     "output_type": "execute_result"
    }
   ],
   "source": [
    "hc10 = hierarchical_clustering(reconstructed, 10, pos, labels)\n",
    "plot(hc10, size = (1920/2, 1080/2))"
   ]
  },
  {
   "cell_type": "code",
   "execution_count": 65,
   "metadata": {},
   "outputs": [],
   "source": [
    "plots_db = []\n",
    "ref = Plots.plot(data[\"target.cif\"], label = \"referencia\")\n",
    "ylabel!(L\"\\textrm{Transmitancia}\")\n",
    "xlabel!(L\"\\textrm{Nro de onda} (cm^-1)\")\n",
    "for label in labels[idx10masparecidos]\n",
    "    x,y = data[label]\n",
    "    pi = plot(ref)\n",
    "    title!(label)\n",
    "    push!(plots_db,plot!(pi,x,y./100, legend = false))\n",
    "end\n",
    "plot(plots_db..., size = (8000,3000))\n",
    "savefig(\"to2.png\")"
   ]
  },
  {
   "cell_type": "code",
   "execution_count": 86,
   "metadata": {},
   "outputs": [
    {
     "data": {
      "text/plain": [
       "10-element Vector{String}:\n",
       " \"NIWZIE10_freeONLY\"\n",
       " \"c5dt00281h_c5dt00281h2_freeONLY\"\n",
       " \"ETUWOG_freeONLY\"\n",
       " \"BASJUB_freeONLY\"\n",
       " \"cm303749m_si_001_freeONLY\"\n",
       " \"PUBSIP_freeONLY\"\n",
       " \"AHOKIR01_freeONLY\"\n",
       " \"FAVGER_freeONLY\"\n",
       " \"AWAREV_freeONLY\"\n",
       " \"QOSJUF_freeONLY\""
      ]
     },
     "execution_count": 86,
     "metadata": {},
     "output_type": "execute_result"
    }
   ],
   "source": [
    "mtch = labels[idx10masparecidos] .|> x -> x[begin:end-4]"
   ]
  },
  {
   "cell_type": "code",
   "execution_count": 88,
   "metadata": {},
   "outputs": [
    {
     "data": {
      "text/plain": [
       "\"10masparecidos.csv\""
      ]
     },
     "execution_count": 88,
     "metadata": {},
     "output_type": "execute_result"
    }
   ],
   "source": [
    "diezmasparecidos = filter(:filename => filename -> filename ∈ mtch , df_fsr)\n",
    "CSV.write(\"10masparecidos.csv\", diezmasparecidos)"
   ]
  },
  {
   "cell_type": "code",
   "execution_count": 94,
   "metadata": {},
   "outputs": [
    {
     "data": {
      "text/plain": [
       "\"same_cluster.csv\""
      ]
     },
     "execution_count": 94,
     "metadata": {},
     "output_type": "execute_result"
    }
   ],
   "source": [
    "same_cluster = filter(:cluster_assignment =>  x -> x == 4, df_fsr)\n",
    "CSV.write(\"same_cluster.csv\", same_cluster)"
   ]
  }
 ],
 "metadata": {
  "kernelspec": {
   "display_name": "Julia 1.7.1",
   "language": "julia",
   "name": "julia-1.7"
  },
  "language_info": {
   "file_extension": ".jl",
   "mimetype": "application/julia",
   "name": "julia",
   "version": "1.7.1"
  }
 },
 "nbformat": 4,
 "nbformat_minor": 2
}
