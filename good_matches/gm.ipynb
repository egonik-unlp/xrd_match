{
 "cells": [
  {
   "cell_type": "code",
   "execution_count": 48,
   "metadata": {},
   "outputs": [],
   "source": [
    "using Plots, CSV, DataFrames, StatsPlots"
   ]
  },
  {
   "cell_type": "code",
   "execution_count": 86,
   "metadata": {},
   "outputs": [],
   "source": [
    "hno = CSV.File(\"COQJUP_freeONLY.int\", skipto = 3,header = false, delim = \"  \", drop = [3]) |> DataFrame\n",
    "mapcols!(col ->  parse.(Float64, col), hno )\n",
    "rename!(hno, [:theta, :int]);\n",
    "hno.int = hno.int / 100;"
   ]
  },
  {
   "cell_type": "code",
   "execution_count": 87,
   "metadata": {},
   "outputs": [],
   "source": [
    "primo = CSV.File(\"DEPXUS_freeONLY.int\", skipto = 3,header = false, delim = \"  \", drop = [3]) |> DataFrame\n",
    "mapcols!(col ->  parse.(Float64, col), primo )\n",
    "rename!(primo, [:theta, :int]);\n",
    "primo.int = primo.int / 100;"
   ]
  },
  {
   "cell_type": "code",
   "execution_count": 88,
   "metadata": {},
   "outputs": [],
   "source": [
    "ref = CSV.File(\"xe.dat\") |> DataFrame;"
   ]
  },
  {
   "cell_type": "code",
   "execution_count": 89,
   "metadata": {},
   "outputs": [],
   "source": [
    "@df ref Plots.plot(:theta, :int,\n",
    "     label = \"referencia\",\n",
    "     size = (1920/2,1080/2))\n",
    "@df hno plot!(:theta, :int, label = \"Hermano en hclust\")\n",
    "xlabel!(\"2θ\")\n",
    "ylabel!(\"Intensity\")\n",
    "xlims!(4,40)\n",
    "savefig(\"hno_en_hclust\")"
   ]
  },
  {
   "cell_type": "code",
   "execution_count": 90,
   "metadata": {},
   "outputs": [],
   "source": [
    "@df ref Plots.plot(:theta, :int,\n",
    "     label = \"referencia\",\n",
    "     size = (1920/2,1080/2))\n",
    "@df primo plot!(:theta, :int, label = \"Primo Cercano en hclust\")\n",
    "xlabel!(\"2θ\")\n",
    "ylabel!(\"Intensity\")\n",
    "xlims!(4,40)\n",
    "savefig(\"primo_en_hclust\")"
   ]
  },
  {
   "cell_type": "code",
   "execution_count": 91,
   "metadata": {},
   "outputs": [],
   "source": [
    "@df ref Plots.plot(:theta, :int,\n",
    "     label = \"referencia\",\n",
    "     size = (1920/2,1080/2))\n",
    "@df primo plot!(:theta, :int, label = \"Primo Cercano en hclust\")\n",
    "@df hno plot!(:theta, :int, label = \"Hermano en hclust\")\n",
    "xlabel!(\"2θ\")\n",
    "ylabel!(\"Intensity\")\n",
    "xlims!(4,40)\n",
    "savefig(\"hermano_primo_en_hclust\")"
   ]
  },
  {
   "cell_type": "code",
   "execution_count": null,
   "metadata": {},
   "outputs": [],
   "source": []
  }
 ],
 "metadata": {
  "kernelspec": {
   "display_name": "Julia 1.7.1",
   "language": "julia",
   "name": "julia-1.7"
  },
  "language_info": {
   "file_extension": ".jl",
   "mimetype": "application/julia",
   "name": "julia",
   "version": "1.7.1"
  },
  "orig_nbformat": 4
 },
 "nbformat": 4,
 "nbformat_minor": 2
}
